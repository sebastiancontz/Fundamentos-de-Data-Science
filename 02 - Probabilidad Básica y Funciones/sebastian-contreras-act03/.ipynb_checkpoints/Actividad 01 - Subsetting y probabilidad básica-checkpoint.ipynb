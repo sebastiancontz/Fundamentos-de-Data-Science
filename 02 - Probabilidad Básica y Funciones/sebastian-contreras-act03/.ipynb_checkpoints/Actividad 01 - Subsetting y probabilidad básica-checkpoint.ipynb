{
 "cells": [
  {
   "cell_type": "markdown",
   "metadata": {},
   "source": [
    "# Actividad 03 - Subsetting y probabilidad básica"
   ]
  },
  {
   "cell_type": "markdown",
   "metadata": {},
   "source": [
    "## Ejercicio 1: Lectura de archivos\n",
    "\n",
    "* Importe `pandas` y `numpy` siguiendo las convenciones.\n",
    "* Lea la base de datos `worldcup2014.csv` y asígnela a un objeto `df`.\n",
    "* Solicite las primeras 5 observaciones con `head`"
   ]
  },
  {
   "cell_type": "code",
   "execution_count": 1,
   "metadata": {},
   "outputs": [],
   "source": [
    "import pandas as pd\n",
    "import numpy as np"
   ]
  },
  {
   "cell_type": "code",
   "execution_count": 2,
   "metadata": {},
   "outputs": [
    {
     "data": {
      "text/html": [
       "<div>\n",
       "<style scoped>\n",
       "    .dataframe tbody tr th:only-of-type {\n",
       "        vertical-align: middle;\n",
       "    }\n",
       "\n",
       "    .dataframe tbody tr th {\n",
       "        vertical-align: top;\n",
       "    }\n",
       "\n",
       "    .dataframe thead th {\n",
       "        text-align: right;\n",
       "    }\n",
       "</style>\n",
       "<table border=\"1\" class=\"dataframe\">\n",
       "  <thead>\n",
       "    <tr style=\"text-align: right;\">\n",
       "      <th></th>\n",
       "      <th>team</th>\n",
       "      <th>continent</th>\n",
       "      <th>group</th>\n",
       "      <th>group_pos</th>\n",
       "      <th>cantidad_juegos</th>\n",
       "      <th>juegos_ganados</th>\n",
       "      <th>juegos_empatados</th>\n",
       "      <th>juegos_perdidos</th>\n",
       "      <th>goles_favor</th>\n",
       "      <th>goles_contra</th>\n",
       "      <th>goles_diferencia</th>\n",
       "      <th>puntos</th>\n",
       "      <th>clasificado</th>\n",
       "    </tr>\n",
       "  </thead>\n",
       "  <tbody>\n",
       "    <tr>\n",
       "      <th>0</th>\n",
       "      <td>Brazil</td>\n",
       "      <td>southamerica</td>\n",
       "      <td>A</td>\n",
       "      <td>1</td>\n",
       "      <td>3</td>\n",
       "      <td>2</td>\n",
       "      <td>1</td>\n",
       "      <td>0</td>\n",
       "      <td>7</td>\n",
       "      <td>2</td>\n",
       "      <td>5</td>\n",
       "      <td>7</td>\n",
       "      <td>1</td>\n",
       "    </tr>\n",
       "    <tr>\n",
       "      <th>1</th>\n",
       "      <td>Mexico</td>\n",
       "      <td>northamerica</td>\n",
       "      <td>A</td>\n",
       "      <td>2</td>\n",
       "      <td>3</td>\n",
       "      <td>2</td>\n",
       "      <td>1</td>\n",
       "      <td>0</td>\n",
       "      <td>4</td>\n",
       "      <td>1</td>\n",
       "      <td>3</td>\n",
       "      <td>7</td>\n",
       "      <td>1</td>\n",
       "    </tr>\n",
       "    <tr>\n",
       "      <th>2</th>\n",
       "      <td>Croatia</td>\n",
       "      <td>europe</td>\n",
       "      <td>A</td>\n",
       "      <td>3</td>\n",
       "      <td>3</td>\n",
       "      <td>1</td>\n",
       "      <td>0</td>\n",
       "      <td>2</td>\n",
       "      <td>6</td>\n",
       "      <td>6</td>\n",
       "      <td>0</td>\n",
       "      <td>3</td>\n",
       "      <td>0</td>\n",
       "    </tr>\n",
       "    <tr>\n",
       "      <th>3</th>\n",
       "      <td>Cameroon</td>\n",
       "      <td>africa</td>\n",
       "      <td>A</td>\n",
       "      <td>4</td>\n",
       "      <td>3</td>\n",
       "      <td>0</td>\n",
       "      <td>0</td>\n",
       "      <td>3</td>\n",
       "      <td>1</td>\n",
       "      <td>9</td>\n",
       "      <td>−8</td>\n",
       "      <td>0</td>\n",
       "      <td>0</td>\n",
       "    </tr>\n",
       "    <tr>\n",
       "      <th>4</th>\n",
       "      <td>Netherlands</td>\n",
       "      <td>europe</td>\n",
       "      <td>B</td>\n",
       "      <td>1</td>\n",
       "      <td>3</td>\n",
       "      <td>3</td>\n",
       "      <td>0</td>\n",
       "      <td>0</td>\n",
       "      <td>10</td>\n",
       "      <td>3</td>\n",
       "      <td>7</td>\n",
       "      <td>9</td>\n",
       "      <td>1</td>\n",
       "    </tr>\n",
       "  </tbody>\n",
       "</table>\n",
       "</div>"
      ],
      "text/plain": [
       "          team     continent group  group_pos  cantidad_juegos  \\\n",
       "0       Brazil  southamerica     A          1                3   \n",
       "1       Mexico  northamerica     A          2                3   \n",
       "2      Croatia        europe     A          3                3   \n",
       "3     Cameroon        africa     A          4                3   \n",
       "4  Netherlands        europe     B          1                3   \n",
       "\n",
       "   juegos_ganados  juegos_empatados  juegos_perdidos  goles_favor  \\\n",
       "0               2                 1                0            7   \n",
       "1               2                 1                0            4   \n",
       "2               1                 0                2            6   \n",
       "3               0                 0                3            1   \n",
       "4               3                 0                0           10   \n",
       "\n",
       "   goles_contra goles_diferencia  puntos  clasificado  \n",
       "0             2                5       7            1  \n",
       "1             1                3       7            1  \n",
       "2             6                0       3            0  \n",
       "3             9               −8       0            0  \n",
       "4             3                7       9            1  "
      ]
     },
     "execution_count": 2,
     "metadata": {},
     "output_type": "execute_result"
    }
   ],
   "source": [
    "df = pd.read_csv(\"worldcup2014.csv\")\n",
    "df.head(5)"
   ]
  },
  {
   "cell_type": "markdown",
   "metadata": {},
   "source": [
    "## Ejercicio 2: Estime las frecuencias de `continent`\n",
    "* Utilice `value_counts`. Responda lo siguiente:\n",
    "    - ¿Cuál es el continente con una mayor presencia en la muestra?\n",
    "    - ¿Cuál es la probabilidad de elegir un equipo asiático al azar?\n",
    "    - ¿Cuál es la probabilidad de elegir un equipo africano al azar?\n"
   ]
  },
  {
   "cell_type": "code",
   "execution_count": 3,
   "metadata": {},
   "outputs": [
    {
     "data": {
      "text/plain": [
       "europe          13\n",
       "southamerica     6\n",
       "africa           5\n",
       "asia             4\n",
       "northamerica     4\n",
       "Name: continent, dtype: int64"
      ]
     },
     "execution_count": 3,
     "metadata": {},
     "output_type": "execute_result"
    }
   ],
   "source": [
    "df['continent'].value_counts(sort=True)"
   ]
  },
  {
   "cell_type": "code",
   "execution_count": 6,
   "metadata": {},
   "outputs": [],
   "source": [
    "equipos_asiaticos = df['continent'].value_counts().get('asia')\n",
    "equipos_africanos = df['continent'].value_counts().get('africa')"
   ]
  },
  {
   "cell_type": "code",
   "execution_count": 7,
   "metadata": {},
   "outputs": [
    {
     "name": "stdout",
     "output_type": "stream",
     "text": [
      "Asiaticos: 4\n",
      "Africanos: 5\n"
     ]
    }
   ],
   "source": [
    "print(\"Asiaticos: {}\".format(equipos_asiaticos))\n",
    "print(\"Africanos: {}\".format(equipos_africanos))"
   ]
  },
  {
   "cell_type": "code",
   "execution_count": 14,
   "metadata": {},
   "outputs": [],
   "source": [
    "prob_asian_team = equipos_asiaticos / len(df)\n",
    "prob_african_team = equipos_africanos / len(df)"
   ]
  },
  {
   "cell_type": "code",
   "execution_count": 15,
   "metadata": {},
   "outputs": [],
   "source": [
    "df_val_counts = df['continent'].value_counts(sort=True)"
   ]
  },
  {
   "cell_type": "code",
   "execution_count": 111,
   "metadata": {},
   "outputs": [
    {
     "name": "stdout",
     "output_type": "stream",
     "text": [
      "europe 13\n",
      "0.125\n",
      "0.15625\n"
     ]
    }
   ],
   "source": [
    "print(df_val_counts.index[0],df_val_counts[0])\n",
    "print(prob_asian_team)\n",
    "print(prob_african_team)"
   ]
  },
  {
   "cell_type": "markdown",
   "metadata": {},
   "source": [
    "### ¿Cuál es el continente con una mayor presencia en la muestra?\n",
    "europe con 13 observaciones\n",
    "### ¿Cuál es la probabilidad de elegir un equipo asiático al azar?\n",
    "12,5%\n",
    "### ¿Cuál es la probabilidad de elegir un equipo africano al azar?\n",
    "15,625%"
   ]
  },
  {
   "cell_type": "markdown",
   "metadata": {},
   "source": [
    "## Ejercicio 3: Probabilidades por continente\n",
    "\n",
    "* Por cada continente, genere un nuevo objeto que almacene sólo las observaciones del continente.\n",
    "    - _tip_: Para ello puede utilizar la siguiente sintáxis: `df[df['variable'] == condicion]`.\n"
   ]
  },
  {
   "cell_type": "code",
   "execution_count": 36,
   "metadata": {},
   "outputs": [],
   "source": [
    "paises_eu = df[df['continent'] == \"europe\"]\n",
    "paises_sa = df[df['continent'] == \"southamerica\"]\n",
    "paises_na = df[df['continent'] == \"northamerica\"]\n",
    "paises_af = df[df['continent'] == \"africa\"]\n",
    "paises_as = df[df['continent'] == \"asia\"]       "
   ]
  },
  {
   "cell_type": "markdown",
   "metadata": {},
   "source": [
    "## Ejercicio 4: Calcule la probabilidad de clasificación a la siguiente ronda\n",
    "\n",
    "* Pase todos los objetos creados en un loop que imprima la probabilidad de pasar a la siguiente ronda por continente.\n",
    "    - _tip_: Genere un array que contenga los objetos a pasar en el loop.\n",
    "* ¿Cuál fue la probabilidad de que un país asiático pase a la siguiente ronda?\n",
    "* ¿Cuáles fueron los dos continentes que tuvieron la mayor probabilidad de clasificar?\n",
    "* ¿Cuál fue la probabilidad de no clasificar un país europeo?"
   ]
  },
  {
   "cell_type": "code",
   "execution_count": 104,
   "metadata": {},
   "outputs": [],
   "source": [
    "paises = [paises_eu,paises_sa,paises_na,paises_af,paises_as]"
   ]
  },
  {
   "cell_type": "code",
   "execution_count": 110,
   "metadata": {},
   "outputs": [
    {
     "name": "stdout",
     "output_type": "stream",
     "text": [
      "europe\n",
      "0    0.538462\n",
      "1    0.461538\n",
      "Name: clasificado, dtype: float64\n",
      "southamerica\n",
      "1    0.833333\n",
      "0    0.166667\n",
      "Name: clasificado, dtype: float64\n",
      "northamerica\n",
      "1    0.75\n",
      "0    0.25\n",
      "Name: clasificado, dtype: float64\n",
      "africa\n",
      "0    0.6\n",
      "1    0.4\n",
      "Name: clasificado, dtype: float64\n",
      "asia\n",
      "0    1.0\n",
      "Name: clasificado, dtype: float64\n"
     ]
    }
   ],
   "source": [
    "for n in paises:\n",
    "    print(n['continent'].unique()[0])\n",
    "    print (n['clasificado'].value_counts('%'))"
   ]
  },
  {
   "cell_type": "markdown",
   "metadata": {},
   "source": [
    "### ¿Cuál fue la probabilidad de que un país asiático pase a la siguiente ronda?\n",
    "0%\n",
    "\n",
    "### ¿Cuáles fueron los dos continentes que tuvieron la mayor probabilidad de clasificar?\n",
    "southamerica y northamerica\n",
    "\n",
    "### ¿Cuál fue la probabilidad de no clasificar un país europeo?\n",
    "53,8462%"
   ]
  },
  {
   "cell_type": "markdown",
   "metadata": {},
   "source": [
    "## Ejercicio 5: Refactorización\n",
    "\n",
    "* A continuación se presenta un loop que cuenta las probabilidades de juegos ganados. Se pide que `value_counts` cuente los juegos no ganados y ganados, ignorando de la cantidad de juegos.\n",
    "\n",
    "```python\n",
    "for i in [africa_df, europe_df, asia_df, northamerica_df, southamerica_df]:\n",
    "    print(i['juegos_ganados'].value_counts('%'))\n",
    "```\n",
    "\n",
    "* Para contar los juegos ganados puede utilizar `np.where`, que devuelve un array con valores imputados cuando se satisface una condición. En este caso debemos clasificar como 0 cuando los juegos ganados sean igual a 0, y 1 cuando sean igual o mayor a 1.\n",
    "* El array que devuelve `np.where` es difícil de trabajar, por lo que pueden transformarlo con `pd.Series` para utilizar `value_counts`.\n",
    "* En base a la refactorización del código, responda lo siguiente:\n",
    "    - ¿Qué continente tuvo una mayor probabilidad de ganar juegos?\n",
    "    - ¿Qué continente presentó un nivel similar entre juegos ganados y perdidos?\n",
    "* Utilize el código para el caso de juegos perdidos y analize el continente con una mayor probabilidad de perder.\n",
    "\n",
    "### En base a la información generada, responda lo siguiente\n",
    "* ¿Qué continente tiene una mayor probabilidad de clasificar?\n",
    "* ¿Qué continente tiene una menor probabilidad de clasificar?\n",
    "* ¿Cuál es la probabilidad de no clasificar de un país africano?\n"
   ]
  },
  {
   "cell_type": "code",
   "execution_count": 132,
   "metadata": {},
   "outputs": [
    {
     "name": "stdout",
     "output_type": "stream",
     "text": [
      "europe\n",
      "1    0.846154\n",
      "0    0.153846\n",
      "Name: win_games, dtype: float64\n",
      "southamerica\n",
      "1    1.0\n",
      "Name: win_games, dtype: float64\n",
      "northamerica\n",
      "1    0.75\n",
      "0    0.25\n",
      "Name: win_games, dtype: float64\n",
      "africa\n",
      "1    0.6\n",
      "0    0.4\n",
      "Name: win_games, dtype: float64\n",
      "asia\n",
      "0    1.0\n",
      "Name: win_games, dtype: float64\n"
     ]
    },
    {
     "name": "stderr",
     "output_type": "stream",
     "text": [
      "C:\\ProgramData\\Anaconda3\\lib\\site-packages\\ipykernel_launcher.py:3: SettingWithCopyWarning: \n",
      "A value is trying to be set on a copy of a slice from a DataFrame.\n",
      "Try using .loc[row_indexer,col_indexer] = value instead\n",
      "\n",
      "See the caveats in the documentation: http://pandas.pydata.org/pandas-docs/stable/indexing.html#indexing-view-versus-copy\n",
      "  This is separate from the ipykernel package so we can avoid doing imports until\n"
     ]
    }
   ],
   "source": [
    "for n in paises:\n",
    "    print(n['continent'].unique()[0])\n",
    "    n['win_games']= np.where(n['juegos_ganados'] > 0,1,0)\n",
    "    print (n['win_games'].value_counts('%'))\n"
   ]
  },
  {
   "cell_type": "markdown",
   "metadata": {},
   "source": [
    "### ¿Qué continente tuvo una mayor probabilidad de ganar juegos?\n",
    "southamerica\n",
    "### ¿Qué continente presentó un nivel similar entre juegos ganados y perdidos?\n",
    "africa"
   ]
  },
  {
   "cell_type": "code",
   "execution_count": 131,
   "metadata": {},
   "outputs": [
    {
     "name": "stdout",
     "output_type": "stream",
     "text": [
      "europe\n",
      "1    0.692308\n",
      "0    0.307692\n",
      "Name: lose_games, dtype: float64\n",
      "southamerica\n",
      "1    0.5\n",
      "0    0.5\n",
      "Name: lose_games, dtype: float64\n",
      "northamerica\n",
      "1    0.5\n",
      "0    0.5\n",
      "Name: lose_games, dtype: float64\n",
      "africa\n",
      "1    1.0\n",
      "Name: lose_games, dtype: float64\n",
      "asia\n",
      "1    1.0\n",
      "Name: lose_games, dtype: float64\n"
     ]
    },
    {
     "name": "stderr",
     "output_type": "stream",
     "text": [
      "C:\\ProgramData\\Anaconda3\\lib\\site-packages\\ipykernel_launcher.py:3: SettingWithCopyWarning: \n",
      "A value is trying to be set on a copy of a slice from a DataFrame.\n",
      "Try using .loc[row_indexer,col_indexer] = value instead\n",
      "\n",
      "See the caveats in the documentation: http://pandas.pydata.org/pandas-docs/stable/indexing.html#indexing-view-versus-copy\n",
      "  This is separate from the ipykernel package so we can avoid doing imports until\n"
     ]
    }
   ],
   "source": [
    "for n in paises:\n",
    "    print(n['continent'].unique()[0])\n",
    "    n['lose_games']= np.where(n['juegos_perdidos'] > 0,1,0)\n",
    "    print (n['lose_games'].value_counts('%'))"
   ]
  },
  {
   "cell_type": "markdown",
   "metadata": {},
   "source": [
    "### analize el continente con una mayor probabilidad de perder\n",
    "asia y africa"
   ]
  },
  {
   "cell_type": "markdown",
   "metadata": {},
   "source": [
    "### ¿Qué continente tiene una mayor probabilidad de clasificar?\n",
    "southamerica\n",
    "### ¿Qué continente tiene una menor probabilidad de clasificar?\n",
    "asia\n",
    "### ¿Cuál es la probabilidad de no clasificar de un país africano?\n",
    "40%"
   ]
  }
 ],
 "metadata": {
  "kernelspec": {
   "display_name": "Python 3",
   "language": "python",
   "name": "python3"
  },
  "language_info": {
   "codemirror_mode": {
    "name": "ipython",
    "version": 3
   },
   "file_extension": ".py",
   "mimetype": "text/x-python",
   "name": "python",
   "nbconvert_exporter": "python",
   "pygments_lexer": "ipython3",
   "version": "3.6.6"
  }
 },
 "nbformat": 4,
 "nbformat_minor": 2
}
