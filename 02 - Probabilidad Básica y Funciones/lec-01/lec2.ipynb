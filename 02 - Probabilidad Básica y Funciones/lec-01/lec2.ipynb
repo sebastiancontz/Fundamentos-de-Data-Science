{
 "cells": [
  {
   "cell_type": "markdown",
   "metadata": {},
   "source": [
    "# Segunda Lectura: Calculando Probabilidades\n",
    "\n",
    "> __Alcance de la lectura:__ En esta segunda lectura, el alumno:\n",
    "> * Utilizar funciones para reutilizar código. (Principio D.R.Y)\n",
    "> * Convertir una formula matemática a una función en python\n",
    "> * Construir y utilizar funciones orientadas al análisis de datos.\n",
    "> * Optimizar funciones remplazandolas por funciones vectorizadas.\n",
    "> * Utilizar conceptos básicos de probabilidad.\n",
    "> * Generar segmentaciones de un `pd.DataFrame` en base a indexación y selección.\n",
    "\n",
    "# Glosario\n",
    "\n",
    "- Probabilidad\n",
    "- Probabilidad condicional\n",
    "- Función\n",
    "  - parámetros\n",
    "  - valores por defecto\n",
    "  - retorno\n",
    "- DRY\n",
    "- tuplas\n",
    "\n",
    "\n",
    "# Probabilidad Básica\n",
    "\n",
    "* En esta sesión trabajaremos con una base de datos que registró todas las batallas de la Guerra de los Cinco Reyes, parte de la saga _A Song of Fire and Ice_ de George R.R. Martin. La base de datos la creó Chris Albon, un científico de datos con background en ciencias sociales.\n",
    "* La base de datos y el libro de códigos asociado se encuentran en el siguiente repositorio de Github [https://github.com/chrisalbon/war_of_the_five_kings_dataset](https://github.com/chrisalbon/war_of_the_five_kings_dataset)\n",
    "* Partamos por incluir los módulos con los cuales trabajamos la semana pasada"
   ]
  },
  {
   "cell_type": "code",
   "execution_count": 11,
   "metadata": {},
   "outputs": [],
   "source": [
    "import pandas as pd\n",
    "import numpy as np\n",
    "import lec2_graphs as gfx\n",
    "import matplotlib.pyplot as plt\n",
    "import scipy.stats as stats\n",
    "\n",
    "plt.style.use('seaborn-whitegrid') # Gráficos estilo seaborn\n",
    "plt.rcParams[\"figure.figsize\"] = (10, 6) # Tamaño gráficos\n",
    "plt.rcParams[\"figure.dpi\"] = 200 # resolución gráficos"
   ]
  },
  {
   "cell_type": "code",
   "execution_count": 36,
   "metadata": {},
   "outputs": [],
   "source": [
    "df = pd.read_csv('got_battles.csv')"
   ]
  },
  {
   "cell_type": "markdown",
   "metadata": {},
   "source": [
    "* Revisemos las primeras observaciones con `head`.\n",
    "* Cada observación ingresada en las filas representa una batalla dentro de la Guerra de los Cinco Reyes.\n",
    "* Las columnas registran información sobre los participantes de la batalla, el tipo de batalla, resultados relevantes como la tasa de victorias del atacante, el tipo de batalla y muertes relevantes.\n"
   ]
  },
  {
   "cell_type": "code",
   "execution_count": 37,
   "metadata": {},
   "outputs": [
    {
     "data": {
      "text/plain": [
       "Index(['me', 'year', 'battle_number', 'attacker_king', 'defender_king',\n",
       "       'attacker_1', 'attacker_2', 'attacker_3', 'attacker_4', 'defender_1',\n",
       "       'defender_2', 'defender_3', 'defender_4', 'attacker_outcome',\n",
       "       'battle_type', 'major_death', 'major_capture', 'attacker_size',\n",
       "       'defender_size', 'attacker_commander', 'defender_commander', 'summer',\n",
       "       'location', 'region', 'note'],\n",
       "      dtype='object')"
      ]
     },
     "execution_count": 37,
     "metadata": {},
     "output_type": "execute_result"
    }
   ],
   "source": [
    "df.columns"
   ]
  },
  {
   "cell_type": "markdown",
   "metadata": {},
   "source": [
    "* `shape` nos dice que tenemos una tabla de datos con 38 observaciones y 25 columnas."
   ]
  },
  {
   "cell_type": "code",
   "execution_count": 38,
   "metadata": {},
   "outputs": [
    {
     "data": {
      "text/plain": [
       "(38, 25)"
      ]
     },
     "execution_count": 38,
     "metadata": {},
     "output_type": "execute_result"
    }
   ],
   "source": [
    "df.shape"
   ]
  },
  {
   "cell_type": "markdown",
   "metadata": {},
   "source": [
    "* Analicemos los principales iniciadores de batallas. Para eso utilizamos la función `value_counts()` de `pandas` que devuelte una lista de la cantidad de objetos únicos en una Serie.\n",
    "\n",
    "> Recuerden que cuando hablamos de Series, nos referimos a una lista unidimensional.\n",
    "\n",
    "* Observamos que los Baratheon concentran 14 de 38 batallas, seguidos por los Starks. Stannis Baratheon, el \"tío\" de Joffrey, se posición como el que generó menos batallas con 5 de 35."
   ]
  },
  {
   "cell_type": "code",
   "execution_count": 39,
   "metadata": {},
   "outputs": [
    {
     "data": {
      "text/plain": [
       "Joffrey/Tommen Baratheon    14\n",
       "Robb Stark                  10\n",
       "Balon/Euron Greyjoy          7\n",
       "Stannis Baratheon            5\n",
       "Name: attacker_king, dtype: int64"
      ]
     },
     "execution_count": 39,
     "metadata": {},
     "output_type": "execute_result"
    }
   ],
   "source": [
    "df['attacker_king'].value_counts()"
   ]
  },
  {
   "cell_type": "markdown",
   "metadata": {},
   "source": [
    "* Estas cifras se conocen como frecuencias, que son la cantidad de eventos sobre el total muestral.\n",
    "* Para obtener una panorámica más clara sobre los atacantes, podemos dividir cada cifra por el total de casos:\n",
    "\n",
    "$$\n",
    "\\text{Pr(Evento)}=\\frac{\\text{Número de elementos del evento}}{\\text{Posibles resultados en $\\Omega$}}\n",
    "$$"
   ]
  },
  {
   "cell_type": "code",
   "execution_count": 40,
   "metadata": {},
   "outputs": [
    {
     "data": {
      "text/plain": [
       "Joffrey/Tommen Baratheon    0.368421\n",
       "Robb Stark                  0.263158\n",
       "Balon/Euron Greyjoy         0.184211\n",
       "Stannis Baratheon           0.131579\n",
       "Name: attacker_king, dtype: float64"
      ]
     },
     "execution_count": 40,
     "metadata": {},
     "output_type": "execute_result"
    }
   ],
   "source": [
    "df['attacker_king'].value_counts() / len(df)"
   ]
  },
  {
   "cell_type": "markdown",
   "metadata": {},
   "source": [
    "* Para obtener las frecuencias en términos porcentuales, podemos aplicar una división a nuestra operación con `value_counts`. Esto se conoce con __operación vectorizada__ y es un principio imporante en la programación orientada al análisis de datos.\n",
    "* La operación vectorizada se puede resumir en la máxima: \"_procurar utilizar operaciones en listas por sobre operaciones con iteradores_\". \n",
    "* Esto suena complejo, pero simplemente es un principio rector para utilizar funciones que acepten vectores (listas como las `Series`) por sobre procesar cada elemento de una lista.\n",
    "* Se observa que entre Joffrey y Tomen Baratheon se concentra el 37% de las batallas, seguidas por un 26% de Robb Stark.\n",
    "\n",
    "## Definición clásica de probabilidad\n",
    "\n",
    "* Estos porcentajes nos permite hablar de juicios de probabilidad.\n",
    "* Acorde a los registros de las batallas, la probabilidad que una sea iniciada por un Baratheon (sumando Joffrey/Tommen y Stannis) es del 50%.\n",
    "* Cuando realizamos una declaración probabilística como ésta, _generamos juicios sobre experimentos __aleatorios__ que producen una serie de resultados_.\n",
    "* Cuando decimos que la probabilidad que un Baratheon inicie una batalla es del 50%, generamos un modelo de probabilidad con dos elementos:\n",
    "    - Un _espacio muestral_ ($\\Omega$) que hace referencia a todos los posibles resultados. En este caso, las 38 observaciones son el espacio muestral.\n",
    "    - Una _función de probabilidad_ donde un elemento $A$ se le asigna un número no-negativo $\\text{Pr}(A)$ que representa la verosimilitud de ocurrencia. En este caso, las 19 observaciones son el elemento $A$ que se convierten en $\\text{Pr(AtaqueBaratheon)} = 19/38  \\rightarrow .50$.\n",
    "    \n",
    "> __Digresión:__ Axiomas de Probabilidad.\n",
    ">\n",
    "> Toda probabilidad debe seguir conjunto de reglas que definen su comportamiento.\n",
    "Dado un espacio muestral $\\Omega$ para un experimento específico, la función de probabilidad asociada a éste debe satisfacer tres axiomas:\n",
    "> 1. __Nonegatividad:__ $\\text{Pr}(A) \\geq 0 \\forall A \\subset \\Omega$. Toda probabilidad dentro del espacio muestral será mayor a 0.\n",
    "> 2. __Aditividad:__ Para eventos mutuamente excluyentes $a_{1}, a_{2}, \\ldots$\n",
    "> $$\n",
    "\\text{Pr}\\left(\\bigcup_{i = 1}^{\\infty} a_i\\right) = \\sum_{i = 1}^{\\infty} \\text{Pr}(E_i)\n",
    "$$\n",
    "> 3. __Normalización:__ $\\text{Pr}(\\Omega) = 1$. La probabilidad del espacio muestral será 1.\n",
    "> * En base a estos tres principios, se pueden derivar una serie de reglas generales sobre la probabilidad.\n",
    "\n",
    "\n",
    "### Casos Independientes\n",
    "\n",
    "* Por casos independientes hacemos referencia a eventos aislados que no están condicionados por otro.\n",
    "* Un ejemplo de ésto es la probabilidad que se produzca una muerte importante (medida con la variable `major_death`)"
   ]
  },
  {
   "cell_type": "code",
   "execution_count": 1,
   "metadata": {},
   "outputs": [
    {
     "ename": "NameError",
     "evalue": "name 'df' is not defined",
     "output_type": "error",
     "traceback": [
      "\u001b[1;31m---------------------------------------------------------------------------\u001b[0m",
      "\u001b[1;31mNameError\u001b[0m                                 Traceback (most recent call last)",
      "\u001b[1;32m<ipython-input-1-19db3a5002f0>\u001b[0m in \u001b[0;36m<module>\u001b[1;34m()\u001b[0m\n\u001b[1;32m----> 1\u001b[1;33m \u001b[0mdf\u001b[0m\u001b[1;33m[\u001b[0m\u001b[1;34m'major_death'\u001b[0m\u001b[1;33m]\u001b[0m\u001b[1;33m.\u001b[0m\u001b[0mvalue_counts\u001b[0m\u001b[1;33m(\u001b[0m\u001b[1;33m)\u001b[0m \u001b[1;33m/\u001b[0m \u001b[0mlen\u001b[0m\u001b[1;33m(\u001b[0m\u001b[0mdf\u001b[0m\u001b[1;33m)\u001b[0m\u001b[1;33m\u001b[0m\u001b[0m\n\u001b[0m",
      "\u001b[1;31mNameError\u001b[0m: name 'df' is not defined"
     ]
    }
   ],
   "source": [
    "df['major_death'].value_counts() / len(df)"
   ]
  },
  {
   "cell_type": "markdown",
   "metadata": {},
   "source": [
    "* La variable está codificada como _dummy_, y toma dos valores: 1 para aquellas batallas que presentaron la muerte de un personaje importante; 0 para aquellas batallas que no.\n",
    "* La información solicitada es que hay un 34% de probabilidad que en una batalla cualquiera muera un personaje importante.\n",
    "* Decimos que es un evento independiente dado que si observamos dos batallas, el resultado de la primera no nos da información sobre la probabilidad de muerte de la segunda batalla.\n",
    "\n",
    "### Casos Dependientes\n",
    "\n",
    "* De forma lógica, un caso dependiente se refiere donde la ocurrencia de un evento depende de la ocurrencia de otro. \n",
    "* Siguiendo con el ejemplo de la probabilidad de muerte, un evento dependiente sería la probabilidad que el personaje haya estado enfermo antes o durante la batalla.\n",
    "* El estar enfermo tiene una repercusión en la probabilidad de muerte, dado que afecta a su nivel de energía y preparación en la batalla.\n"
   ]
  },
  {
   "cell_type": "markdown",
   "metadata": {},
   "source": [
    "### Probabilidad Condicional\n",
    "\n",
    "* Imaginen que un ñoñazo adicto a George R.R Martin les pregunta por la probabilidad que muera un personaje importante cuando la batalla fue iniciada por un Baratheon.\n",
    "* Para ello nos basamos en la __probabilidad condicional__. Ésta busca responder la verosimilitud de un evento $A$ sabiendo que sucede en $B$.\n",
    "* Para obtener esta verosimilitud, debemos buscar la probabilidad $\\text{Pr}(A|B)$ .\n",
    "\n",
    "$$\n",
    "\\text{Pr}(A|B) = \\frac{\\text{Pr}(A \\cap B )}{\\text{Pr}(B)}\n",
    "$$\n",
    "\n",
    "\n",
    "* Partamos por definir los componentes del problema:\n",
    "\n",
    "    * Evento A ($\\text{Pr}(A)$): Probabilidad que la batalla haya presenciado una muerte importante.\n",
    "    * Evento B ($\\text{Pr}(B)$): Probabilidad que la batalla se haya originado por Joffrey o Tommen Baratheon.\n",
    "    * Evento A __y__ B ($\\text{Pr}(A \\cap B)$): Probabilidad que se haya producido una muerte importante __en__ un batalla la originó Joffrey o Tommen Baratheon.\n",
    "\n",
    "\n",
    "* El evento $\\text{Pr}(A \\cap B)$ se conoce como _intersección_, porque sólo cuenta aquellos casos donde las condiciones $A$ y $B$ están presentes. \n",
    "* También existe el operador $\\text{Pr}(A \\cap B)$, que se conoce como _unión_, que busca contar todos los casos donde __por lo menos una de las condiciones $A$ o $B$ esté presente__.\n",
    "\n",
    "* Estimemos la probabilidad de ocurrencia de la muerte en batallas originadas por Baratheon ($\\text{Pr}(A\\vert B)$). Reemplazando valores en la ecuación de arriba, nuestro problema se reformula como.\n",
    "\n",
    "$$\n",
    "\\text{Pr(Muerte | Baratheon)} = \\frac{\\text{Pr(Muerte y Baratheon)}}{\\text{Pr(Baratheon)}}\n",
    "$$\n"
   ]
  },
  {
   "cell_type": "code",
   "execution_count": 14,
   "metadata": {},
   "outputs": [],
   "source": [
    "# iniciemos un contador \n",
    "muerte_baratheon = 0"
   ]
  },
  {
   "cell_type": "markdown",
   "metadata": {},
   "source": [
    "* Para iterar en `DataFrames`, `pandas` presenta el método `iterrows` que define un iterador para `Indices` de nuestra tabla (señalados con `i` en el loop) y `Series` (señalados con `r` en el loop)."
   ]
  },
  {
   "cell_type": "code",
   "execution_count": 20,
   "metadata": {},
   "outputs": [
    {
     "name": "stdout",
     "output_type": "stream",
     "text": [
      "5\n"
     ]
    }
   ],
   "source": [
    "muerte_baratheon = 0\n",
    "# por cada fila en nuestra tabla\n",
    "for i, r in df.iterrows():\n",
    "    # si la batalla la inicio un Baratheon y hubo una muerte importante\n",
    "    if (r['attacker_king'] == 'Joffrey/Tommen Baratheon' and r['major_death'] == 1):\n",
    "        # agregar uno a nuestro contador\n",
    "        muerte_baratheon += 1\n",
    "print(muerte_baratheon)"
   ]
  },
  {
   "cell_type": "markdown",
   "metadata": {},
   "source": [
    "* Ahora podemos solicitar la información de nuestro contador. En total, hay 5 eventos que satisfacen esta condición, que representan el 13% de la muestra.\n",
    "* La probabilidad de observar este evento es del 13%"
   ]
  },
  {
   "cell_type": "code",
   "execution_count": 21,
   "metadata": {},
   "outputs": [
    {
     "name": "stdout",
     "output_type": "stream",
     "text": [
      "Cantidad de muertes importantes en batallas Baratheon:  5\n",
      "Pr(Muerte | Baratheon):  0.13157894736842105\n"
     ]
    }
   ],
   "source": [
    "print(\"Cantidad de muertes importantes en batallas Baratheon: \", muerte_baratheon)\n",
    "print(\"Pr(Muerte | Baratheon): \", muerte_baratheon / len(df))"
   ]
  },
  {
   "cell_type": "markdown",
   "metadata": {},
   "source": [
    "* La intersección de cantidad de muertes importantes en batallas Baratheon también se puede representar de forma gráfica con un diagrama de Venn:"
   ]
  },
  {
   "cell_type": "code",
   "execution_count": 22,
   "metadata": {},
   "outputs": [
    {
     "data": {
      "image/png": "[encoded data removed]",
      "text/plain": [
       "<Figure size 2000x1200 with 1 Axes>"
      ]
     },
     "metadata": {},
     "output_type": "display_data"
    }
   ],
   "source": [
    "gfx.graph_venn()"
   ]
  },
  {
   "cell_type": "code",
   "execution_count": 21,
   "metadata": {},
   "outputs": [
    {
     "name": "stdout",
     "output_type": "stream",
     "text": [
      "Cantidad de muertes importantes en batallas Baratheon:  5\n",
      "Pr(Muerte | Baratheon):  0.13157894736842105\n"
     ]
    }
   ],
   "source": [
    "print(\"Cantidad de muertes importantes en batallas Baratheon: \", muerte_baratheon)\n",
    "print(\"Pr(Muerte | Baratheon): \", muerte_baratheon / len(df))"
   ]
  },
  {
   "cell_type": "markdown",
   "metadata": {},
   "source": [
    "* Podríamos estar tentados a interpretar este 13% como la probabilidad condicional del evento, pero hay que considerar que ésta cifra se calcula en comparación a la muestra, no con la muestra de las batallas iniciadas por Baratheons. Por eso es que ajustamos (i.e: dividimos) por las batallas Baratheon."
   ]
  },
  {
   "cell_type": "code",
   "execution_count": 14,
   "metadata": {},
   "outputs": [
    {
     "name": "stdout",
     "output_type": "stream",
     "text": [
      "Pr(Muerte|Baratheon): 0.35714285714285715\n"
     ]
    }
   ],
   "source": [
    "batallas_baratheon = df['attacker_king'].value_counts()[0]\n",
    "print(\"Pr(Muerte|Baratheon):\", muerte_baratheon / batallas_baratheon)"
   ]
  },
  {
   "cell_type": "markdown",
   "metadata": {},
   "source": [
    "* Así, observamos que _dentro de todas las batallas iniciadas por un Baratheon, la probabilidad que un personaje importante muera es del 35%_."
   ]
  },
  {
   "cell_type": "markdown",
   "metadata": {},
   "source": [
    "# Funciones\n",
    "\n",
    "\n",
    "Las funciones nos permiten abstraernos del código para resolver un problema. Una vez que tenemos definida un función podemos simplemente llamarla cuando la necesitemos. Las definiremos y/o ocuparemos funciones definidas por otros todo el tiempo, es muy importante que aprendamos bien su uso y sintaxis.\n",
    "\n",
    "Por ejemplo podemos crear una función para calcular la hipotenusa."
   ]
  },
  {
   "cell_type": "code",
   "execution_count": 58,
   "metadata": {},
   "outputs": [],
   "source": [
    "import math\n",
    "\n",
    "def hipotenusa(x, y):\n",
    "    tmp = (x ** 2 + y ** 2)\n",
    "    tmp = math.sqrt(tmp)\n",
    "    return(tmp)\n",
    "  "
   ]
  },
  {
   "cell_type": "markdown",
   "metadata": {},
   "source": [
    "y luego podemos calcular la hipotenusa de cualquier conjunto de catetos utilizando:\n"
   ]
  },
  {
   "cell_type": "code",
   "execution_count": 44,
   "metadata": {},
   "outputs": [
    {
     "data": {
      "text/plain": [
       "5.0"
      ]
     },
     "execution_count": 44,
     "metadata": {},
     "output_type": "execute_result"
    }
   ],
   "source": [
    "hipotenusa(3,4)"
   ]
  },
  {
   "cell_type": "markdown",
   "metadata": {},
   "source": [
    "Este principio de abstracción es muy importante para crear código ordenado y que podamos reutilizar cada vez que tengamos una situación similar.\n",
    "\n",
    "## El principio DRY\n",
    "* Uno de los principios básicos de la programación es el __DRY:__ __D__on't __R__epeat __Y__ourself. Si vamos a utilizar una expresión más de 2 veces, es mejor generar una función a partir de ella. No solo es una práctica inteligente, también evita problemas en el código al compartir definiciones y procedimientos\n",
    "\n",
    "* Dada la amable naturaleza sintáctica de Python, generarlas es muy fácil.\n",
    "* Generemos nuestra primera función. Lo que deseamos es que la función nos salude cuando la invoquemos.\n",
    "\n",
    "## Creando nuestra primera función"
   ]
  },
  {
   "cell_type": "code",
   "execution_count": 16,
   "metadata": {},
   "outputs": [
    {
     "name": "stdout",
     "output_type": "stream",
     "text": [
      "Hola Mundo!\n"
     ]
    }
   ],
   "source": [
    "def saludar():\n",
    "    print('Hola Mundo!')\n",
    "\n",
    "saludar()"
   ]
  },
  {
   "cell_type": "markdown",
   "metadata": {},
   "source": [
    "## Anatomía mínima de una función\n",
    "\n",
    "La definición de una función se compone de los siguientes elementos:\n",
    "\n",
    "1. Declaración `def`: Mediante ella señalamos que todo lo escrito será considerado como una función.\n",
    "- Nombre de la función `saludar()`: Este es el identificador que utilizaremos para llamarla posteriormente. Cabe destacar que los paréntesis y el doble punto al final de la función son obligatorias.\n",
    "- La indentación (sangrado) es parte importante, le permite a python saber que parte del código escrito pertenece a la función.\n",
    "- Expresiones a ejecutar `print('Hola Mundo!')` estas expresiones tienne que estar correctamente indentadas, el estándar es de __4 espacios__."
   ]
  },
  {
   "cell_type": "markdown",
   "metadata": {},
   "source": [
    "### ¿Qué sucede si no indentamos?\n",
    "\n",
    "hay dos situaciones posibles, la primera es que la función no tenga ningún bloque identado, esto mostrará un error.\n"
   ]
  },
  {
   "cell_type": "code",
   "execution_count": 52,
   "metadata": {},
   "outputs": [
    {
     "ename": "IndentationError",
     "evalue": "expected an indented block (<ipython-input-52-9e079350a778>, line 2)",
     "output_type": "error",
     "traceback": [
      "\u001b[0;36m  File \u001b[0;32m\"<ipython-input-52-9e079350a778>\"\u001b[0;36m, line \u001b[0;32m2\u001b[0m\n\u001b[0;31m    print(\"esto no se imprimirá porque hay un error\")\u001b[0m\n\u001b[0m        ^\u001b[0m\n\u001b[0;31mIndentationError\u001b[0m\u001b[0;31m:\u001b[0m expected an indented block\n"
     ]
    }
   ],
   "source": [
    "def saludar():\n",
    "print(\"esto no se imprimirá porque hay un error\")\n",
    "\n",
    "saludar()"
   ]
  },
  {
   "cell_type": "markdown",
   "metadata": {},
   "source": [
    "La segunda opción es que parte de la función quede fuera de la función."
   ]
  },
  {
   "cell_type": "code",
   "execution_count": 59,
   "metadata": {},
   "outputs": [
    {
     "name": "stdout",
     "output_type": "stream",
     "text": [
      "este código no pertenece a la función\n",
      "este código si pertenece a la función\n",
      "este código si pertenece a la función\n",
      "este código si pertenece a la función\n",
      "este código si pertenece a la función\n",
      "este código si pertenece a la función\n",
      "este código si pertenece a la función\n"
     ]
    }
   ],
   "source": [
    "def saludar():\n",
    "    print(\"este código si pertenece a la función\")\n",
    "    print(\"este código si pertenece a la función\")\n",
    "print(\"este código no pertenece a la función\")\n",
    "saludar()\n",
    "saludar()\n",
    "saludar()\n"
   ]
  },
  {
   "cell_type": "markdown",
   "metadata": {},
   "source": [
    "## Parámetros\n",
    "\n",
    "Para que las funciones sean flexibles pueden recibir parámetros.\n",
    "\n",
    "Por ejemplo podríamos hacer mucho mas flexible la función de saludar si le pasamos como parámetro el saludo."
   ]
  },
  {
   "cell_type": "code",
   "execution_count": 46,
   "metadata": {},
   "outputs": [
    {
     "name": "stdout",
     "output_type": "stream",
     "text": [
      "hola\n",
      "hola mundo\n"
     ]
    }
   ],
   "source": [
    "def saludar(saludo):\n",
    "    print(saludo)\n",
    "\n",
    "saludar(\"hola\")\n",
    "saludar(\"hola mundo\")"
   ]
  },
  {
   "cell_type": "markdown",
   "metadata": {},
   "source": [
    "Una función puede recibir múltiples parámetros separados por una `,` cada uno."
   ]
  },
  {
   "cell_type": "code",
   "execution_count": 60,
   "metadata": {},
   "outputs": [
    {
     "name": "stdout",
     "output_type": "stream",
     "text": [
      "hola\n",
      "mundo\n"
     ]
    }
   ],
   "source": [
    "def saludar(saludo1, saludo2):\n",
    "    print(saludo1)\n",
    "    print(saludo2)\n",
    "\n",
    "saludar(\"hola\", \"mundo\")"
   ]
  },
  {
   "cell_type": "markdown",
   "metadata": {},
   "source": [
    "### Los parámetros son obligatorios\n",
    "\n",
    "Si una función recibe parámetros y nos los especificamos obtendremos un error.\n"
   ]
  },
  {
   "cell_type": "code",
   "execution_count": 86,
   "metadata": {},
   "outputs": [
    {
     "ename": "TypeError",
     "evalue": "saludar() missing 1 required positional argument: 'saludo2'",
     "output_type": "error",
     "traceback": [
      "\u001b[0;31m---------------------------------------------------------------------------\u001b[0m",
      "\u001b[0;31mTypeError\u001b[0m                                 Traceback (most recent call last)",
      "\u001b[0;32m<ipython-input-86-a9e63139a8a4>\u001b[0m in \u001b[0;36m<module>\u001b[0;34m()\u001b[0m\n\u001b[1;32m      3\u001b[0m     \u001b[0mprint\u001b[0m\u001b[0;34m(\u001b[0m\u001b[0msaludo2\u001b[0m\u001b[0;34m)\u001b[0m\u001b[0;34m\u001b[0m\u001b[0m\n\u001b[1;32m      4\u001b[0m \u001b[0;34m\u001b[0m\u001b[0m\n\u001b[0;32m----> 5\u001b[0;31m \u001b[0msaludar\u001b[0m\u001b[0;34m(\u001b[0m\u001b[0;34m\"hola\"\u001b[0m\u001b[0;34m)\u001b[0m\u001b[0;34m\u001b[0m\u001b[0m\n\u001b[0m",
      "\u001b[0;31mTypeError\u001b[0m: saludar() missing 1 required positional argument: 'saludo2'"
     ]
    }
   ],
   "source": [
    "def saludar(saludo1, saludo2):\n",
    "    print(saludo1)\n",
    "    print(saludo2)\n",
    "\n",
    "saludar(\"hola\")"
   ]
  },
  {
   "cell_type": "markdown",
   "metadata": {},
   "source": [
    "### Parámetros con valores por defecto\n",
    "\n",
    "En algunos casos es muy útil que una función reciba un valor por defecto."
   ]
  },
  {
   "cell_type": "code",
   "execution_count": 81,
   "metadata": {},
   "outputs": [
    {
     "name": "stdout",
     "output_type": "stream",
     "text": [
      "hola valor por defecto\n",
      "hola valor ingresado manualmente\n"
     ]
    }
   ],
   "source": [
    "def saludar(saludo1, saludo2=\"valor por defecto\"):\n",
    "    print(saludo1, saludo2)\n",
    "    \n",
    "saludar(\"hola\")\n",
    "saludar(\"hola\", \"valor ingresado manualmente\")"
   ]
  },
  {
   "cell_type": "markdown",
   "metadata": {},
   "source": [
    "## El retorno\n",
    "\n",
    "Las funciones pueden devolver valores con los que podemos seguir trabajando, veamos un ejemplo muy sencillo."
   ]
  },
  {
   "cell_type": "code",
   "execution_count": 1,
   "metadata": {},
   "outputs": [
    {
     "name": "stdout",
     "output_type": "stream",
     "text": [
      "3\n",
      "9\n"
     ]
    }
   ],
   "source": [
    "def incrementar(a, b = 1):\n",
    "  return a + b\n",
    "\n",
    "\n",
    "print(incrementar(2))\n",
    "print(incrementar(5, 4))"
   ]
  },
  {
   "cell_type": "markdown",
   "metadata": {},
   "source": [
    "Las funciones normalmente devuelven un valor o lo muestran en pantalla. Son muy poco frecuentes los casos distintos.\n"
   ]
  },
  {
   "cell_type": "markdown",
   "metadata": {},
   "source": [
    "# De la fórmula a python\n",
    "\n",
    "Es importante que aprendamos a convertir una ecuación matemática a una función de python.\n",
    "Para empezar recalculemos la hipotenusa.\n",
    "\n",
    "$$\n",
    "\\text{Hipotenusa} = \\sqrt{x^{2} + y^{2}}\n",
    "$$"
   ]
  },
  {
   "cell_type": "markdown",
   "metadata": {},
   "source": [
    "Escribir el código para resolver el problema es sencillo, elevamos dos números al cuadrado y luego sacamos la raíz de la suma. Por ejemplo para los catetos de tamaño 3 y 4 lo calcularíamos como: "
   ]
  },
  {
   "cell_type": "code",
   "execution_count": 80,
   "metadata": {},
   "outputs": [
    {
     "data": {
      "text/plain": [
       "5.0"
      ]
     },
     "execution_count": 80,
     "metadata": {},
     "output_type": "execute_result"
    }
   ],
   "source": [
    "np.sqrt((3 **2 + 4 ** 2))"
   ]
  },
  {
   "cell_type": "markdown",
   "metadata": {},
   "source": [
    "Para poder reutilizar el código necesitamos entender, cualos son los valores de ingreso, y los de salida. \n",
    "Si queremos calcular la hipotenusa a partir de los catetos entonces los catetos son la entrada y la hipotenusa la salida.\n"
   ]
  },
  {
   "cell_type": "code",
   "execution_count": 85,
   "metadata": {},
   "outputs": [
    {
     "name": "stdout",
     "output_type": "stream",
     "text": [
      "5.0\n"
     ]
    }
   ],
   "source": [
    "import math as np\n",
    "def hypotenuse(x, y):\n",
    "    return np.sqrt((x **2 + y ** 2))\n",
    "print(hypotenuse(3, 4))"
   ]
  },
  {
   "cell_type": "markdown",
   "metadata": {},
   "source": [
    "## Aplicando funciones\n",
    "\n",
    "* Ahora vamos a generar una serie de funciones para sistematizar nuestro análisis de las batallas.\n",
    "* Consideremos los siguientes objetivos:\n",
    "    - Deseamos una función que nos entregue las medidas de dispersión para las variables contínuas, y que entregue una excepción en las strings.\n",
    "    - Generar una función para calcular las probabilidades condicionales en base a dos atributos.\n",
    "    \n",
    "### Función descriptiva\n",
    "\n",
    "#### Primer Intento: llamando funciones\n",
    "\n",
    "* Nuestro primer intento para esta función es incluír dentro del cuerpo de la función todas las llamadas a las funciones que aprendimos en la primera semana: `np.mean` para estimar la media, `stats.mode` para la moda y `np.std` para la desviación.\n",
    "* Con estos valores podemos tener una visión general del cómo se comporta la variable en cuanto a tendencia y dispersión."
   ]
  },
  {
   "cell_type": "code",
   "execution_count": 23,
   "metadata": {},
   "outputs": [],
   "source": [
    "def fetch_descriptives(x):\n",
    "    np.mean(x)\n",
    "    stats.mode(x)\n",
    "    np.std(x)\n",
    "    \n",
    "fetch_descriptives(df['attacker_size'])"
   ]
  },
  {
   "cell_type": "markdown",
   "metadata": {},
   "source": [
    "* Si llamamos a `fetch_descriptives`, no obtendremos respuesta alguna dado que olvidamos incluír `print` o `return`. Refactorizemos en un segundo intento.\n",
    "* Una salvedad, esto no implica que el cuerpo de la función no se haya ejecutado.\n",
    "\n",
    "#### Segundo intento: incluir prints\n",
    "\n",
    "* Nuestra función falla en reportar cualquier cálculo. Para ello utilizaremos `prints` en cada llamada para devolver el valor de cada función."
   ]
  },
  {
   "cell_type": "code",
   "execution_count": 24,
   "metadata": {},
   "outputs": [
    {
     "name": "stdout",
     "output_type": "stream",
     "text": [
      "9942.541666666666\n",
      "ModeResult(mode=array([6000.]), count=array([3]))\n",
      "19856.031772442948\n"
     ]
    }
   ],
   "source": [
    "def fetch_descriptives(x):\n",
    "    print(np.mean(x))\n",
    "    print(stats.mode(x))\n",
    "    print(np.std(x))\n",
    "    \n",
    "fetch_descriptives(df['attacker_size'])"
   ]
  },
  {
   "cell_type": "markdown",
   "metadata": {},
   "source": [
    "* Ahora si obtenemos resultados sobre la variable `attacker_size`. Un percance es que los datos se retornan en strings. ¿Qué pasa si deseamos que la función retorne valores asignables a objetos?\n",
    "\n",
    "#### Tercer intento: generando objetos dentro de la función\n",
    "\n",
    "* Para resolver el problema descrito, podemos asignar un objeto a cada función ejecutada en el cuerpo de la función. De esta forma obtenemos resultados más flexibles.\n",
    "* Para que nuestra función retorne las variables, es necesario utilizar `return`."
   ]
  },
  {
   "cell_type": "code",
   "execution_count": 29,
   "metadata": {},
   "outputs": [],
   "source": [
    "def fetch_descriptives(x):\n",
    "    mu = np.mean(x)\n",
    "    mode = stats.mode(x)\n",
    "    sigma = np.std(x)\n",
    "    return mu, mode, sigma"
   ]
  },
  {
   "cell_type": "code",
   "execution_count": 30,
   "metadata": {},
   "outputs": [
    {
     "data": {
      "text/plain": [
       "(9942.541666666666,\n",
       " ModeResult(mode=array([6000.]), count=array([3])),\n",
       " 19856.031772442948)"
      ]
     },
     "execution_count": 30,
     "metadata": {},
     "output_type": "execute_result"
    }
   ],
   "source": [
    "fetch_descriptives(df['attacker_size'])"
   ]
  },
  {
   "cell_type": "markdown",
   "metadata": {},
   "source": [
    "* Si ejecutamos la función y no asignamos su resultado a una variable, obtendremos exactamente lo mismo."
   ]
  },
  {
   "cell_type": "code",
   "execution_count": 31,
   "metadata": {},
   "outputs": [
    {
     "data": {
      "text/plain": [
       "(9942.541666666666,\n",
       " ModeResult(mode=array([6000.]), count=array([3])),\n",
       " 19856.031772442948)"
      ]
     },
     "execution_count": 31,
     "metadata": {},
     "output_type": "execute_result"
    }
   ],
   "source": [
    "resultado = fetch_descriptives(df['attacker_size'])\n",
    "resultado"
   ]
  },
  {
   "cell_type": "markdown",
   "metadata": {},
   "source": [
    "* Pero si asignamos la misma cantidad de variables que de resultados de la función, obtendremos algo mucho más trabajable"
   ]
  },
  {
   "cell_type": "code",
   "execution_count": 32,
   "metadata": {},
   "outputs": [
    {
     "name": "stdout",
     "output_type": "stream",
     "text": [
      "9942.541666666666\n",
      "ModeResult(mode=array([6000.]), count=array([3]))\n",
      "19856.031772442948\n"
     ]
    }
   ],
   "source": [
    "media, moda, varianza = fetch_descriptives(df['attacker_size'])\n",
    "print(media)\n",
    "print(moda)\n",
    "print(varianza)"
   ]
  },
  {
   "cell_type": "markdown",
   "metadata": {},
   "source": [
    "#### Cuarto intento:\n",
    "\n",
    "* Ya estamos un poco más encaminados con nuestra función, pero hay una serie de detalles:\n",
    "1. Los números se presentan en formatos incomprensibles: Para ello redondearemos la media y la varianza, y selecionaremos el valor correspondiente a la moda.\n",
    "2. Nuestra función todavía no genera el mensaje para los strings.\n",
    "\n",
    "##### Reordenando números"
   ]
  },
  {
   "cell_type": "code",
   "execution_count": 33,
   "metadata": {},
   "outputs": [
    {
     "name": "stdout",
     "output_type": "stream",
     "text": [
      "9942.542\n",
      "6000.0\n",
      "19856.032\n"
     ]
    }
   ],
   "source": [
    "def fetch_descriptives(x):\n",
    "    # utilizamos round para redondear al tercer decimal\n",
    "    mu = round(np.mean(x), 3)\n",
    "    # solicitamos primer elemento (6000) dentro del primer resultado de la moda\n",
    "    mode = stats.mode(x)[0][0]\n",
    "    # utilizamos round para redondear al tercer decimal\n",
    "    sigma = round(np.std(x), 3)\n",
    "    return mu, mode, sigma\n",
    "\n",
    "media, moda, varianza = fetch_descriptives(df['attacker_size'])\n",
    "print(media)\n",
    "print(moda)\n",
    "print(varianza)"
   ]
  },
  {
   "cell_type": "markdown",
   "metadata": {},
   "source": [
    "##### Generando el mensaje para los strings\n",
    "\n",
    "* Para establecer un método diferenciador entre strings y no strings, debemos encontrar un método que difiera entre dato numérico y no numérico.\n",
    "* `pandas` ofrece una serie de métodos dentro de `pd.api.types`. Dentro de ésta, está el método `is_numeric_dtype` que entrega un booleano."
   ]
  },
  {
   "cell_type": "code",
   "execution_count": 72,
   "metadata": {},
   "outputs": [
    {
     "data": {
      "text/plain": [
       "True"
      ]
     },
     "execution_count": 72,
     "metadata": {},
     "output_type": "execute_result"
    }
   ],
   "source": [
    "pd.api.types.is_numeric_dtype(df['attacker_size'])"
   ]
  },
  {
   "cell_type": "markdown",
   "metadata": {},
   "source": [
    "* El método mencionado arriba se encapsulará en un `if` para discriminar entre datos numéricos y no numéricos."
   ]
  },
  {
   "cell_type": "code",
   "execution_count": 73,
   "metadata": {},
   "outputs": [],
   "source": [
    "def fetch_descriptives(x):\n",
    "    if pd.api.types.is_numeric_dtype(x) is True:\n",
    "        mu = round(np.mean(x), 3)\n",
    "        mode = stats.mode(x)[0][0]\n",
    "        sigma = round(np.std(x), 3)\n",
    "        return mu, mode, sigma\n",
    "    else:\n",
    "        print(\"No se puede operar en strings\")"
   ]
  },
  {
   "cell_type": "code",
   "execution_count": 74,
   "metadata": {},
   "outputs": [
    {
     "name": "stdout",
     "output_type": "stream",
     "text": [
      "No se puede operar en strings\n"
     ]
    }
   ],
   "source": [
    "fetch_descriptives(df['attacker_king'])"
   ]
  },
  {
   "cell_type": "code",
   "execution_count": 75,
   "metadata": {},
   "outputs": [
    {
     "data": {
      "text/plain": [
       "(9942.542, 6000.0, 19856.032)"
      ]
     },
     "execution_count": 75,
     "metadata": {},
     "output_type": "execute_result"
    }
   ],
   "source": [
    "fetch_descriptives(df['attacker_size'])"
   ]
  },
  {
   "cell_type": "code",
   "execution_count": 82,
   "metadata": {},
   "outputs": [],
   "source": [
    "def fetch_descriptives(x, pretty_print=False):\n",
    "    if pd.api.types.is_numeric_dtype(x) is True:\n",
    "        mu = round(np.mean(x), 3)\n",
    "        mode = stats.mode(x)[0][0]\n",
    "        sigma = round(np.std(x), 3)\n",
    "    else:\n",
    "        print(\"No se puede operar en strings\")\n",
    "        \n",
    "    if pretty_print is True:\n",
    "        print(\"La media para \", x.name, \" es de \", mu )\n",
    "        print(\"La moda para \", x.name, \" es de \", mode)\n",
    "        print(\"La desviación estandar para \", x.name, \" es de \", sigma)\n",
    "    else:\n",
    "        return mu, mode, sigma"
   ]
  },
  {
   "cell_type": "code",
   "execution_count": 83,
   "metadata": {},
   "outputs": [
    {
     "name": "stdout",
     "output_type": "stream",
     "text": [
      "La media para  attacker_size  es de  9942.542\n",
      "La moda para  attacker_size  es de  6000.0\n",
      "La desviación estandar para  attacker_size  es de  19856.032\n"
     ]
    }
   ],
   "source": [
    "fetch_descriptives(df['attacker_size'], pretty_print=True)"
   ]
  },
  {
   "cell_type": "code",
   "execution_count": 86,
   "metadata": {},
   "outputs": [
    {
     "name": "stdout",
     "output_type": "stream",
     "text": [
      "9942.542\n",
      "6000.0\n",
      "19856.032\n"
     ]
    }
   ],
   "source": [
    "m, mod, s = fetch_descriptives(df['attacker_size'])\n",
    "print(m)\n",
    "print(mod)\n",
    "print(s)"
   ]
  },
  {
   "cell_type": "markdown",
   "metadata": {},
   "source": [
    "### Función para estimar probabilidades condicionales\n",
    "\n",
    "* Nuestro segundo objetivo es el refactorizar el procedimiento para obtener probabilidades condicionales. Sabemos que para obtener la probabilidad condicional de $A$ en $B$ necesitamos dos cifras:\n",
    "\n",
    "- $\\text{Pr}(A \\cup B)$: La probabilidad de ambos eventos sucedan en el espacio muestral. Eso lo obteníamos con el siguiente flujo:\n",
    "    \n",
    "```python\n",
    "muerte_baratheon = 0\n",
    "for i, r in df.iterrows():\n",
    "        if (r['attacker_king'] == 'Joffrey/Tommen Baratheon' and r['major_death'] == 1):\n",
    "        muerte_baratheon += 1\n",
    "```\n",
    "- $\\text{Pr}(B)$: La probabilidad de ocurrencia específica en B:\n",
    "\n",
    "```python\n",
    "batallas_baratheon = df['attacker_king'].value_counts()[0]\n",
    "```\n",
    "\n",
    "- $\\text{Pr}(A | B) = \\frac{\\text{Pr}(A \\cup B)}{\\text{Pr}(B)}$: La razón entre ambos eventos:\n",
    "    \n",
    "```python\n",
    "print(\"Pr(Muerte|Baratheon):\", muerte_baratheon / batallas_baratheon)\n",
    "```\n",
    "\n",
    "* Para generar nuestra función debemos establecer todos los parámetros necesarios. Cabe destacar que _todos los eventos son ocurrencias __específicas__ dentro de las variables_. De esta manera, nuestra función necesita de cinco parámetros:\n",
    "    \n",
    "    1. El evento específico A. `A_var`\n",
    "    2. La variable donde A pertenece. `A_condition`\n",
    "    3. El evento específico B. `B_var`\n",
    "    4. La variable donde B pertenece. `B_condition`\n",
    "    5. La tabla de datos donde todos los datos se encuentran localizados. `df`"
   ]
  },
  {
   "cell_type": "code",
   "execution_count": 44,
   "metadata": {},
   "outputs": [],
   "source": [
    "def conditional_pr(df, A_var, A_condition, B_var, B_condition):\n",
    "    \n",
    "    get_a_and_b = 0\n",
    "    \n",
    "    for i, r in df.iterrows():\n",
    "        if (r[A_var] == A_condition and r[B_var] == B_condition):\n",
    "            get_a_and_b += 1\n",
    "    \n",
    "    get_b_pr = df[B_var].value_counts().loc[B_condition]\n",
    "    \n",
    "    print(\"Pr(\", A_condition, \"|\", B_condition, \")\", (get_a_and_b / get_b_pr))"
   ]
  },
  {
   "cell_type": "markdown",
   "metadata": {},
   "source": [
    "* La prueba de fuego de la función es que estime la misma probabilidad que en nuestro código a mano:"
   ]
  },
  {
   "cell_type": "code",
   "execution_count": 46,
   "metadata": {},
   "outputs": [
    {
     "name": "stdout",
     "output_type": "stream",
     "text": [
      "Pr( 1 | Joffrey/Tommen Baratheon ) 0.35714285714285715\n",
      "Hardcoded:  0.35714285714285715\n"
     ]
    }
   ],
   "source": [
    "refactor_pr = conditional_pr(df, A_condition=1, \n",
    "               A_var='major_death', \n",
    "               B_condition='Joffrey/Tommen Baratheon', \n",
    "               B_var='attacker_king')\n",
    "original_pr = muerte_baratheon / batallas_baratheon\n",
    "print(\"Hardcoded: \",original_pr)"
   ]
  },
  {
   "cell_type": "markdown",
   "metadata": {},
   "source": [
    "* Una buena práctica es el agregar `docstring` a nuestras funciones. Esto permite insertar documentación dentro de la misma para explicar y definir los parámetros y su uso.\n",
    "* Los `docstring` se incluyen _después de la declaración de función y antes del cuerpo de la función_. Se deliminan mediante `\"\"\"` y se cierran con otros `\"\"\"`"
   ]
  },
  {
   "cell_type": "code",
   "execution_count": 3,
   "metadata": {},
   "outputs": [],
   "source": [
    "def conditional_pr(df, A_var, A_condition, B_var, B_condition):\n",
    "    \"\"\"\n",
    "    conditional_pr: retrieve conditional probability given the following formula:\n",
    "    \n",
    "                                Pr(A and B)\n",
    "                    Pr(A|B) = --------------\n",
    "                                    Pr(B)\n",
    "    \n",
    "    parameters:\n",
    "        `df`: dataframe.\n",
    "        `A_var`: event to be conditioned by B.\n",
    "        `A_condition`: specific outcome on A.\n",
    "        `B_var`: conditioning event on A.\n",
    "        `B_condition`: specific conditioning event on B.\n",
    "        \n",
    "    \"\"\"\n",
    "    \n",
    "    get_a_and_b = 0\n",
    "    \n",
    "    for i, r in df.iterrows():\n",
    "        if (r[A_var] == A_condition and r[B_var] == B_condition):\n",
    "            get_a_and_b += 1\n",
    "    \n",
    "    get_b_pr = df[B_var].value_counts().loc[B_condition]\n",
    "    \n",
    "    print(\"Pr(\", A_condition, \"|\", B_condition, \")\", (get_a_and_b / get_b_pr))"
   ]
  },
  {
   "cell_type": "code",
   "execution_count": 4,
   "metadata": {},
   "outputs": [
    {
     "name": "stdout",
     "output_type": "stream",
     "text": [
      "\n",
      "    conditional_pr: retrieve conditional probability given the following formula:\n",
      "    \n",
      "                                Pr(A and B)\n",
      "                    Pr(A|B) = --------------\n",
      "                                    Pr(B)\n",
      "    \n",
      "    parameters:\n",
      "        `df`: dataframe.\n",
      "        `A_var`: event to be conditioned by B.\n",
      "        `A_condition`: specific outcome on A.\n",
      "        `B_var`: conditioning event on A.\n",
      "        `B_condition`: specific conditioning event on B.\n",
      "        \n",
      "    \n"
     ]
    }
   ],
   "source": [
    "print(conditional_pr.__doc__)"
   ]
  },
  {
   "cell_type": "markdown",
   "metadata": {},
   "source": [
    "* Esto es análogo a nuestro método `Shift + Tab` con Jupyter"
   ]
  },
  {
   "cell_type": "code",
   "execution_count": 87,
   "metadata": {},
   "outputs": [
    {
     "name": "stdout",
     "output_type": "stream",
     "text": [
      "Pr( 1 | Joffrey/Tommen Baratheon ) 0.35714285714285715\n"
     ]
    }
   ],
   "source": [
    "refactor_pr = conditional_pr(df, A_condition=1, \n",
    "               A_var='major_death', \n",
    "               B_condition='Joffrey/Tommen Baratheon', \n",
    "               B_var='attacker_king')"
   ]
  },
  {
   "cell_type": "code",
   "execution_count": null,
   "metadata": {},
   "outputs": [],
   "source": []
  }
 ],
 "metadata": {
  "kernelspec": {
   "display_name": "Python 3",
   "language": "python",
   "name": "python3"
  },
  "language_info": {
   "codemirror_mode": {
    "name": "ipython",
    "version": 3
   },
   "file_extension": ".py",
   "mimetype": "text/x-python",
   "name": "python",
   "nbconvert_exporter": "python",
   "pygments_lexer": "ipython3",
   "version": "3.6.5"
  }
 },
 "nbformat": 4,
 "nbformat_minor": 2
}
