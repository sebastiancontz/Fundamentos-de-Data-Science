{
 "cells": [
  {
   "cell_type": "markdown",
   "metadata": {},
   "source": [
    "# Actividad 04 - Funciones y probabilidad básica"
   ]
  },
  {
   "cell_type": "markdown",
   "metadata": {},
   "source": [
    "## Ejercicio 1: Generación de funciones\n",
    "\n",
    "* Genere dos funciones para calcular la media y varianza de un vector. Debe cumplir con los siguientes requistos:\n",
    "    - Ambas funciones deben ingresar el vector a analizar como un argumento `x`.\n",
    "    - Las funciones deben contener `docstrings` con la documentación asociada a la variable.\n",
    "    - Deben __retornar__ el resultado (_tip_: utilice `return`).\n",
    "    - La función de la varianza debe llamar a la función de la media.\n",
    "* Utilice las funciones para reportar la información sobre `goles_favor`, `goles_contra`, `puntos` en la base de datos."
   ]
  },
  {
   "cell_type": "code",
   "execution_count": 1,
   "metadata": {},
   "outputs": [],
   "source": [
    "import pandas as pd\n",
    "import numpy as np"
   ]
  },
  {
   "cell_type": "code",
   "execution_count": 2,
   "metadata": {},
   "outputs": [],
   "source": [
    "df = pd.read_csv('worldcup2014.csv')"
   ]
  },
  {
   "cell_type": "code",
   "execution_count": 3,
   "metadata": {},
   "outputs": [],
   "source": [
    "def calc_media(x):\n",
    "    \n",
    "    \"\"\" \n",
    "    Función que calcula la media donde el parametro 'x' es la serie de un dataframe de pandas \n",
    "    \"\"\"    \n",
    "    \n",
    "    suma = 0\n",
    "    for i in x:\n",
    "        suma += i\n",
    "    media = suma/len(x)\n",
    "    return media   \n",
    "\n",
    "def calc_varianza(y):\n",
    "    \n",
    "    \"\"\" \n",
    "    Función que calcula la varianza donde el parametro 'x' es la serie de un dataframe de pandas \n",
    "    \"\"\"  \n",
    "    \n",
    "    suma = 0\n",
    "    for i in y:\n",
    "        suma += (i-calc_media(y))**2\n",
    "    varianza = suma/len(y)\n",
    "    return varianza\n",
    "    "
   ]
  },
  {
   "cell_type": "code",
   "execution_count": 4,
   "metadata": {},
   "outputs": [
    {
     "name": "stdout",
     "output_type": "stream",
     "text": [
      "4.25\n",
      "4.25\n",
      "4.21875\n",
      "5.1875\n",
      "4.8125\n",
      "8.0458984375\n"
     ]
    }
   ],
   "source": [
    "print (calc_media(df['goles_favor']))\n",
    "print (calc_media(df['goles_contra']))\n",
    "print (calc_media(df['puntos']))\n",
    "\n",
    "print (calc_varianza(df['goles_favor']))\n",
    "print (calc_varianza(df['goles_contra']))\n",
    "print (calc_varianza(df['puntos']))"
   ]
  },
  {
   "cell_type": "markdown",
   "metadata": {},
   "source": [
    "Media de:\n",
    "* goles_favor: **4.25**\n",
    "* goles_contra: **4.25**\n",
    "* puntos: **4.21875**\n",
    "\n",
    "Varianza de:\n",
    "* goles_favor: **5.1875**\n",
    "* goles_contra: **4.8125**\n",
    "* puntos: **8.0458984375**"
   ]
  },
  {
   "cell_type": "markdown",
   "metadata": {},
   "source": [
    "## Ejercicio 2: A continuación se presenta el siguiente código para obtener la media y varianza de una variable para distintos continentes\n",
    "\n",
    "\n",
    "```python\n",
    "continent = []\n",
    "store_mean = []\n",
    "store_std = []\n",
    "\n",
    "for d in [africa_df, europe_df, asia_df, northamerica_df, southamerica_df]:\n",
    "    continent.append(d.iloc[0,1])\n",
    "    store_mean.append(media(d['goles_favor']))\n",
    "    store_std.append(varianza(d['goles_favor']))\n",
    "    \n",
    "tmp = pd.DataFrame({'continente': continent,\n",
    "                   'media_goles': store_mean,\n",
    "                   'std_goles': store_std})\n",
    "\n",
    "tmp\n",
    "```\n",
    "\n",
    "* En base al código presentado, refactorízelo en una función con los argumentos `dataframe`, `group_by` y `var` para ingresar una base de datos, una variable para segmentar y una variable a analizar, respectivamente.\n",
    "* Se debe ingresar la base de datos completa, para que la segmentación se realize __dentro__ de la función.\n",
    "* La función debe retornar un `DataFrame`.\n",
    "* Implemente la función para extraer la información sobre la cantidad de goles a favor, en contra y la cantidad de puntos.\n",
    "* Reporte en qué continente se encuentra la mayor cantidad de goles a favor, en contra y cantidad de puntos.\n"
   ]
  },
  {
   "cell_type": "code",
   "execution_count": 5,
   "metadata": {},
   "outputs": [],
   "source": [
    "def calc_media_var(dataframe, group_by, var):\n",
    "    \n",
    "    \"\"\"\n",
    "    Función que calcula la media y varianza donde el parametro 'group_by' es la serie de un dataframe y 'var' es la variable a evaluar\n",
    "    \"\"\"\n",
    "    \n",
    "    continent = []\n",
    "    store_mean  = []\n",
    "    store_std = []\n",
    "    \n",
    "    for i in dataframe[group_by].unique():\n",
    "        tmp_df = dataframe[dataframe[group_by] == i]\n",
    "        store_mean .append(calc_media(tmp_df[var]))\n",
    "        store_std.append(calc_varianza(tmp_df[var]))\n",
    "        continent.append(i)\n",
    "        \n",
    "    tmp = pd.DataFrame({'{}'.format(group_by): continent,\n",
    "            'media_{}'.format(var): store_mean,\n",
    "            'std_{}'.format(var): store_std})\n",
    "    \n",
    "    return tmp"
   ]
  },
  {
   "cell_type": "code",
   "execution_count": 6,
   "metadata": {
    "scrolled": false
   },
   "outputs": [
    {
     "data": {
      "text/html": [
       "<div>\n",
       "<style scoped>\n",
       "    .dataframe tbody tr th:only-of-type {\n",
       "        vertical-align: middle;\n",
       "    }\n",
       "\n",
       "    .dataframe tbody tr th {\n",
       "        vertical-align: top;\n",
       "    }\n",
       "\n",
       "    .dataframe thead th {\n",
       "        text-align: right;\n",
       "    }\n",
       "</style>\n",
       "<table border=\"1\" class=\"dataframe\">\n",
       "  <thead>\n",
       "    <tr style=\"text-align: right;\">\n",
       "      <th></th>\n",
       "      <th>continent</th>\n",
       "      <th>media_goles_favor</th>\n",
       "      <th>std_goles_favor</th>\n",
       "    </tr>\n",
       "  </thead>\n",
       "  <tbody>\n",
       "    <tr>\n",
       "      <th>0</th>\n",
       "      <td>southamerica</td>\n",
       "      <td>5.666667</td>\n",
       "      <td>3.888889</td>\n",
       "    </tr>\n",
       "    <tr>\n",
       "      <th>1</th>\n",
       "      <td>northamerica</td>\n",
       "      <td>3.250000</td>\n",
       "      <td>1.687500</td>\n",
       "    </tr>\n",
       "    <tr>\n",
       "      <th>2</th>\n",
       "      <td>europe</td>\n",
       "      <td>4.769231</td>\n",
       "      <td>6.331361</td>\n",
       "    </tr>\n",
       "    <tr>\n",
       "      <th>3</th>\n",
       "      <td>africa</td>\n",
       "      <td>3.600000</td>\n",
       "      <td>2.640000</td>\n",
       "    </tr>\n",
       "    <tr>\n",
       "      <th>4</th>\n",
       "      <td>asia</td>\n",
       "      <td>2.250000</td>\n",
       "      <td>0.687500</td>\n",
       "    </tr>\n",
       "  </tbody>\n",
       "</table>\n",
       "</div>"
      ],
      "text/plain": [
       "      continent  media_goles_favor  std_goles_favor\n",
       "0  southamerica           5.666667         3.888889\n",
       "1  northamerica           3.250000         1.687500\n",
       "2        europe           4.769231         6.331361\n",
       "3        africa           3.600000         2.640000\n",
       "4          asia           2.250000         0.687500"
      ]
     },
     "execution_count": 6,
     "metadata": {},
     "output_type": "execute_result"
    }
   ],
   "source": [
    "calc_media_var(df,'continent','goles_favor')"
   ]
  },
  {
   "cell_type": "code",
   "execution_count": 7,
   "metadata": {},
   "outputs": [
    {
     "data": {
      "text/html": [
       "<div>\n",
       "<style scoped>\n",
       "    .dataframe tbody tr th:only-of-type {\n",
       "        vertical-align: middle;\n",
       "    }\n",
       "\n",
       "    .dataframe tbody tr th {\n",
       "        vertical-align: top;\n",
       "    }\n",
       "\n",
       "    .dataframe thead th {\n",
       "        text-align: right;\n",
       "    }\n",
       "</style>\n",
       "<table border=\"1\" class=\"dataframe\">\n",
       "  <thead>\n",
       "    <tr style=\"text-align: right;\">\n",
       "      <th></th>\n",
       "      <th>continent</th>\n",
       "      <th>media_goles_contra</th>\n",
       "      <th>std_goles_contra</th>\n",
       "    </tr>\n",
       "  </thead>\n",
       "  <tbody>\n",
       "    <tr>\n",
       "      <th>0</th>\n",
       "      <td>southamerica</td>\n",
       "      <td>2.833333</td>\n",
       "      <td>0.472222</td>\n",
       "    </tr>\n",
       "    <tr>\n",
       "      <th>1</th>\n",
       "      <td>northamerica</td>\n",
       "      <td>3.500000</td>\n",
       "      <td>8.250000</td>\n",
       "    </tr>\n",
       "    <tr>\n",
       "      <th>2</th>\n",
       "      <td>europe</td>\n",
       "      <td>4.000000</td>\n",
       "      <td>3.538462</td>\n",
       "    </tr>\n",
       "    <tr>\n",
       "      <th>3</th>\n",
       "      <td>africa</td>\n",
       "      <td>5.600000</td>\n",
       "      <td>3.840000</td>\n",
       "    </tr>\n",
       "    <tr>\n",
       "      <th>4</th>\n",
       "      <td>asia</td>\n",
       "      <td>6.250000</td>\n",
       "      <td>3.187500</td>\n",
       "    </tr>\n",
       "  </tbody>\n",
       "</table>\n",
       "</div>"
      ],
      "text/plain": [
       "      continent  media_goles_contra  std_goles_contra\n",
       "0  southamerica            2.833333          0.472222\n",
       "1  northamerica            3.500000          8.250000\n",
       "2        europe            4.000000          3.538462\n",
       "3        africa            5.600000          3.840000\n",
       "4          asia            6.250000          3.187500"
      ]
     },
     "execution_count": 7,
     "metadata": {},
     "output_type": "execute_result"
    }
   ],
   "source": [
    "calc_media_var(df,'continent','goles_contra')"
   ]
  },
  {
   "cell_type": "code",
   "execution_count": 8,
   "metadata": {},
   "outputs": [
    {
     "data": {
      "text/html": [
       "<div>\n",
       "<style scoped>\n",
       "    .dataframe tbody tr th:only-of-type {\n",
       "        vertical-align: middle;\n",
       "    }\n",
       "\n",
       "    .dataframe tbody tr th {\n",
       "        vertical-align: top;\n",
       "    }\n",
       "\n",
       "    .dataframe thead th {\n",
       "        text-align: right;\n",
       "    }\n",
       "</style>\n",
       "<table border=\"1\" class=\"dataframe\">\n",
       "  <thead>\n",
       "    <tr style=\"text-align: right;\">\n",
       "      <th></th>\n",
       "      <th>continent</th>\n",
       "      <th>media_puntos</th>\n",
       "      <th>std_puntos</th>\n",
       "    </tr>\n",
       "  </thead>\n",
       "  <tbody>\n",
       "    <tr>\n",
       "      <th>0</th>\n",
       "      <td>southamerica</td>\n",
       "      <td>6.833333</td>\n",
       "      <td>3.138889</td>\n",
       "    </tr>\n",
       "    <tr>\n",
       "      <th>1</th>\n",
       "      <td>northamerica</td>\n",
       "      <td>4.500000</td>\n",
       "      <td>8.250000</td>\n",
       "    </tr>\n",
       "    <tr>\n",
       "      <th>2</th>\n",
       "      <td>europe</td>\n",
       "      <td>4.692308</td>\n",
       "      <td>6.366864</td>\n",
       "    </tr>\n",
       "    <tr>\n",
       "      <th>3</th>\n",
       "      <td>africa</td>\n",
       "      <td>2.400000</td>\n",
       "      <td>2.640000</td>\n",
       "    </tr>\n",
       "    <tr>\n",
       "      <th>4</th>\n",
       "      <td>asia</td>\n",
       "      <td>0.750000</td>\n",
       "      <td>0.187500</td>\n",
       "    </tr>\n",
       "  </tbody>\n",
       "</table>\n",
       "</div>"
      ],
      "text/plain": [
       "      continent  media_puntos  std_puntos\n",
       "0  southamerica      6.833333    3.138889\n",
       "1  northamerica      4.500000    8.250000\n",
       "2        europe      4.692308    6.366864\n",
       "3        africa      2.400000    2.640000\n",
       "4          asia      0.750000    0.187500"
      ]
     },
     "execution_count": 8,
     "metadata": {},
     "output_type": "execute_result"
    }
   ],
   "source": [
    "calc_media_var(df,'continent','puntos')"
   ]
  },
  {
   "cell_type": "markdown",
   "metadata": {},
   "source": [
    "## Mundial awards:\n",
    " * Continente con mayor media de goles a favor: **southamerica**\n",
    " * Continente con mayor media de goles en contra: **asia**\n",
    " * Continente con mayor media de puntos: **southamerica**"
   ]
  },
  {
   "cell_type": "markdown",
   "metadata": {},
   "source": [
    "## Ejercicio 3: Simulaciones\n",
    "\n",
    "* Genere una función `generate_pet` que devuelva de forma aleatoria un string `'perro'` o `'gato'`. Ejecútela un par de veces.\n",
    "    - _tip:_ Puede utilizar la función `np.random.choice` para retornar elementos al azar.\n",
    "\n",
    "* Aplique la función `generate_pet` 20 veces mediante un loop y guarde los resultados en una lista.\n",
    "    - _tip:_ Puede generar una lista vacía con `[ ]` y asignarla a un objeto. Puede añadir elementos a la lista con `.append`.\n",
    "    - _tip:_ Puede generar loops `for _ in <rango>`, donde la declaración de `_` permite ejecutar las expresiones n veces.\n",
    "* ¿Cuál es la probabilidad de elegir un perro al azar? ¿Y un gato?\n",
    "\n",
    "* Agrege `np.random.seed(2)` al inicio del chunk. ¿Qué hace éste método en la simulación?"
   ]
  },
  {
   "cell_type": "code",
   "execution_count": 9,
   "metadata": {},
   "outputs": [],
   "source": [
    "def generate_pet():\n",
    "    \"\"\"\n",
    "    Función que genera aletoriamente un gato o un perro\n",
    "    \"\"\"\n",
    "    mascotas = {'animal':['perro','gato']}\n",
    "    random_pet = np.random.choice(mascotas['animal'])\n",
    "    return random_pet"
   ]
  },
  {
   "cell_type": "code",
   "execution_count": 10,
   "metadata": {},
   "outputs": [],
   "source": [
    "mascotas_array = []\n",
    "for i in range(20):\n",
    "    mascotas_array.append(generate_pet())"
   ]
  },
  {
   "cell_type": "code",
   "execution_count": 11,
   "metadata": {},
   "outputs": [
    {
     "data": {
      "text/plain": [
       "['perro',\n",
       " 'perro',\n",
       " 'gato',\n",
       " 'perro',\n",
       " 'perro',\n",
       " 'gato',\n",
       " 'gato',\n",
       " 'perro',\n",
       " 'perro',\n",
       " 'perro',\n",
       " 'gato',\n",
       " 'gato',\n",
       " 'gato',\n",
       " 'gato',\n",
       " 'perro',\n",
       " 'perro',\n",
       " 'gato',\n",
       " 'gato',\n",
       " 'perro',\n",
       " 'gato']"
      ]
     },
     "execution_count": 11,
     "metadata": {},
     "output_type": "execute_result"
    }
   ],
   "source": [
    "mascotas_array"
   ]
  },
  {
   "cell_type": "code",
   "execution_count": 12,
   "metadata": {},
   "outputs": [
    {
     "data": {
      "text/plain": [
       "perro    10\n",
       "gato     10\n",
       "dtype: int64"
      ]
     },
     "execution_count": 12,
     "metadata": {},
     "output_type": "execute_result"
    }
   ],
   "source": [
    "pd.Series(mascotas_array).value_counts()"
   ]
  },
  {
   "cell_type": "code",
   "execution_count": 13,
   "metadata": {},
   "outputs": [],
   "source": [
    "perros = pd.Series(mascotas_array).value_counts().get('perro')\n",
    "gatos = pd.Series(mascotas_array).value_counts().get('gato')"
   ]
  },
  {
   "cell_type": "code",
   "execution_count": 14,
   "metadata": {},
   "outputs": [],
   "source": [
    "prob_perro = perros/len(pd.Series(mascotas_array))\n",
    "prob_gatos = gatos/len(pd.Series(mascotas_array))"
   ]
  },
  {
   "cell_type": "code",
   "execution_count": 15,
   "metadata": {},
   "outputs": [
    {
     "name": "stdout",
     "output_type": "stream",
     "text": [
      "0.5\n",
      "0.5\n"
     ]
    }
   ],
   "source": [
    "print (prob_perro)\n",
    "print (prob_gatos)"
   ]
  },
  {
   "cell_type": "markdown",
   "metadata": {},
   "source": [
    "Probabilididad de elegir un perro al azar: **55%**\n",
    "\n",
    "Probabilididad de elegir un gato al azar: **45%**"
   ]
  },
  {
   "cell_type": "code",
   "execution_count": 16,
   "metadata": {},
   "outputs": [],
   "source": [
    "mascotas_array_seed = []\n",
    "np.random.seed(2)\n",
    "\n",
    "for i in range(20):\n",
    "    mascotas_array_seed.append(generate_pet())"
   ]
  },
  {
   "cell_type": "code",
   "execution_count": 17,
   "metadata": {},
   "outputs": [
    {
     "data": {
      "text/plain": [
       "['perro',\n",
       " 'gato',\n",
       " 'gato',\n",
       " 'perro',\n",
       " 'perro',\n",
       " 'gato',\n",
       " 'perro',\n",
       " 'gato',\n",
       " 'perro',\n",
       " 'gato',\n",
       " 'perro',\n",
       " 'gato',\n",
       " 'gato',\n",
       " 'gato',\n",
       " 'gato',\n",
       " 'gato',\n",
       " 'gato',\n",
       " 'gato',\n",
       " 'perro',\n",
       " 'perro']"
      ]
     },
     "execution_count": 17,
     "metadata": {},
     "output_type": "execute_result"
    }
   ],
   "source": [
    "mascotas_array_seed"
   ]
  },
  {
   "cell_type": "markdown",
   "metadata": {},
   "source": [
    "El método `random.seed()` establece un inicio para dar origen al algoritmo que calcula el resultado aletorio, por lo cual, independiente cuantas veces se ejecute la selección random con la semilla establecida en 2 o x valor, siempre dará el mismo resultado, es decir, obtendremos la misma cantidad de perros y de gatos"
   ]
  },
  {
   "cell_type": "markdown",
   "metadata": {},
   "source": [
    "## Ejercicio 4: Función simuladora\n",
    "\n",
    "* Genere un método llamado `simulate_pets_prob` que tome como argumento un número finito de simulaciones a generar.\n",
    "* El método debe simular dos situaciones, `young_pet` y `old_pet`, y contar la ocurrencia de los siguientes escenarios:\n",
    "    1. De los dos animales simulados, contar las ocasiones donde por lo menos uno de los animales sea un perro.\n",
    "    - De los dos animales simulados, contar las ocasiones donde por lo menos uno sea un perro viejo.\n",
    "    - De los dos animales simulados, contar las ocasiones donde los dos sean perros\n",
    "* El método debe tener una semilla pseudoaleatoria de 1.\n",
    "* De los tres escenarios, ¿Cuál es el menos probable? ¿Cuál es el más probable?"
   ]
  },
  {
   "cell_type": "code",
   "execution_count": 18,
   "metadata": {},
   "outputs": [],
   "source": [
    "def simulate_pets_prob(num_sim):\n",
    "    \n",
    "    \"\"\"\n",
    "    Función que genera n simulaciones para elegir animales de manera pseudo-aleatorias a partir del método generate_pet(), retorna lista con los resultados del número de simulaciones solicitadas\n",
    "    \"\"\"\n",
    "    \n",
    "    un_perro = 0\n",
    "    perro_viejo = 0\n",
    "    dos_perros = 0\n",
    "    \n",
    "    np.random.seed(1)\n",
    "    \n",
    "    for _ in range(num_sim):\n",
    "        young_pet = generate_pet()\n",
    "        old_pet = generate_pet()\n",
    "        \n",
    "        if young_pet == \"perro\" or old_pet == \"perro\":\n",
    "            un_perro += 1\n",
    "        if old_pet == \"perro\":\n",
    "            perro_viejo += 1\n",
    "        if old_pet == \"perro\" and young_pet == \"perro\":\n",
    "            dos_perros += 1\n",
    "\n",
    "    return un_perro, perro_viejo, dos_perros"
   ]
  },
  {
   "cell_type": "code",
   "execution_count": 22,
   "metadata": {},
   "outputs": [],
   "source": [
    "sim = simulate_pets_prob(1000)"
   ]
  },
  {
   "cell_type": "code",
   "execution_count": 32,
   "metadata": {},
   "outputs": [
    {
     "name": "stdout",
     "output_type": "stream",
     "text": [
      "Veces que se generó un perro:  746\n",
      "Veces que se generó un perro viejo:  514\n",
      "Veces que se generó dos perros:  279\n",
      "generar dos perros sobre perro viejo 0.5428015564202334\n",
      "generar dos perros sobre al menos un perro 0.3739946380697051\n"
     ]
    }
   ],
   "source": [
    "print (\"Veces que se generó un perro: \", sim[0])\n",
    "print (\"Veces que se generó un perro viejo: \", sim[1])\n",
    "print (\"Veces que se generó dos perros: \", sim[2])\n",
    "\n",
    "print (\"generar dos perros sobre perro viejo\", sim[2]/sim[1])\n",
    "print (\"generar dos perros sobre al menos un perro\", sim[2]/sim[0])"
   ]
  },
  {
   "cell_type": "markdown",
   "metadata": {},
   "source": [
    "* El escenario más probable en 1000 casos simulados es generar al menos un perro en la simulación\n",
    "\n",
    "* El escenario menos probable en 1000 casos simulados es generar dos perros"
   ]
  }
 ],
 "metadata": {
  "kernelspec": {
   "display_name": "Python 3",
   "language": "python",
   "name": "python3"
  },
  "language_info": {
   "codemirror_mode": {
    "name": "ipython",
    "version": 3
   },
   "file_extension": ".py",
   "mimetype": "text/x-python",
   "name": "python",
   "nbconvert_exporter": "python",
   "pygments_lexer": "ipython3",
   "version": "3.6.6"
  }
 },
 "nbformat": 4,
 "nbformat_minor": 2
}
