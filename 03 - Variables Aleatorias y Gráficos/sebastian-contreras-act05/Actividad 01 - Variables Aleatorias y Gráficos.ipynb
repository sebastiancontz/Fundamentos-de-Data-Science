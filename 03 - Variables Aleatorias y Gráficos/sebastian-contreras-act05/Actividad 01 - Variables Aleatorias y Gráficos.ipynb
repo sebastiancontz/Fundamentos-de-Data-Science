{
 "cells": [
  {
   "cell_type": "markdown",
   "metadata": {},
   "source": [
    "## Unidad 3: Variables Aleatorias y Gráficos\n",
    "### Actividad 05"
   ]
  },
  {
   "cell_type": "markdown",
   "metadata": {},
   "source": [
    "### Genere una submuestra de casos acorde a lo siguiente:\n",
    "1. Utilice los últimos 4 dígitos de su rut como semilla pseudoaleatoria. Seleccione el 50% de los casos. Cada base generada debe contener los siguientes elementos:\n",
    "    - El índice de desarrollo humano (`undp_hdi`)\n",
    "    - El nombre del país (`ccodealp`)\n",
    "    - La región a la que pertenece (`ht_region`)\n",
    "    - El PIB per capita. (`gle_cgdpc`)\n",
    "    - El total de la población (`imf_pop`).\n",
    "    \n",
    "- Si su apellido está entre la A y la M, escoja las siguientes variables del módulo Educación:\n",
    "    - `ffp_hf`: Human Flight and Brain Drain.\n",
    "    - `wef_qes`: Quality of the educational system.\n",
    "    - `wdi_expedu`: Government expenditure on education, total (% of GDP)\n",
    "    - `wdi_ners`: School enrollment, secondary (% net)\n",
    "- Si su apellido está entre la N y la Z, escoja las siguientes variables del módulo Salud:\n",
    "    - `wef_imort`: Infant mortality, deaths/1000 live births.\n",
    "    - `who_alc2000`: Alcohol consumption per capita (2000-).\n",
    "    - `who_tobt`: Current smoking of any tobacco product (Total).\n",
    "    - `wdi_exph`: Government expenditure on health, total (% of GDP).\n",
    "- Guarde esta tabla procesada en un nuevo objeto. \n",
    "- Renombre las categorías de la variable `ht_region` de números a regiones."
   ]
  },
  {
   "cell_type": "code",
   "execution_count": 1,
   "metadata": {},
   "outputs": [],
   "source": [
    "import pandas as pd\n",
    "import numpy as np\n",
    "import matplotlib.pyplot as plt"
   ]
  },
  {
   "cell_type": "code",
   "execution_count": 2,
   "metadata": {},
   "outputs": [],
   "source": [
    "df = pd.read_csv('qog_std_cs_jan18.csv')"
   ]
  },
  {
   "cell_type": "code",
   "execution_count": 3,
   "metadata": {},
   "outputs": [
    {
     "data": {
      "text/html": [
       "<div>\n",
       "<style scoped>\n",
       "    .dataframe tbody tr th:only-of-type {\n",
       "        vertical-align: middle;\n",
       "    }\n",
       "\n",
       "    .dataframe tbody tr th {\n",
       "        vertical-align: top;\n",
       "    }\n",
       "\n",
       "    .dataframe thead th {\n",
       "        text-align: right;\n",
       "    }\n",
       "</style>\n",
       "<table border=\"1\" class=\"dataframe\">\n",
       "  <thead>\n",
       "    <tr style=\"text-align: right;\">\n",
       "      <th></th>\n",
       "      <th>ccode</th>\n",
       "      <th>cname</th>\n",
       "      <th>ccodealp</th>\n",
       "      <th>ccodecow</th>\n",
       "      <th>ccodewb</th>\n",
       "      <th>version</th>\n",
       "      <th>aid_cpnc</th>\n",
       "      <th>aid_cpsc</th>\n",
       "      <th>aid_crnc</th>\n",
       "      <th>aid_crnio</th>\n",
       "      <th>...</th>\n",
       "      <th>wvs_relacc</th>\n",
       "      <th>wvs_relsch</th>\n",
       "      <th>wvs_relsci</th>\n",
       "      <th>wvs_satfin</th>\n",
       "      <th>wvs_satlif</th>\n",
       "      <th>wvs_screl</th>\n",
       "      <th>wvs_subh</th>\n",
       "      <th>wvs_survself</th>\n",
       "      <th>wvs_tradrat</th>\n",
       "      <th>wvs_trust</th>\n",
       "    </tr>\n",
       "  </thead>\n",
       "  <tbody>\n",
       "    <tr>\n",
       "      <th>154</th>\n",
       "      <td>694</td>\n",
       "      <td>Sierra Leone</td>\n",
       "      <td>SLE</td>\n",
       "      <td>451.0</td>\n",
       "      <td>694.0</td>\n",
       "      <td>QoGStdCSJan18</td>\n",
       "      <td>NaN</td>\n",
       "      <td>NaN</td>\n",
       "      <td>21.0</td>\n",
       "      <td>18.0</td>\n",
       "      <td>...</td>\n",
       "      <td>NaN</td>\n",
       "      <td>NaN</td>\n",
       "      <td>NaN</td>\n",
       "      <td>NaN</td>\n",
       "      <td>NaN</td>\n",
       "      <td>NaN</td>\n",
       "      <td>NaN</td>\n",
       "      <td>NaN</td>\n",
       "      <td>NaN</td>\n",
       "      <td>NaN</td>\n",
       "    </tr>\n",
       "    <tr>\n",
       "      <th>103</th>\n",
       "      <td>454</td>\n",
       "      <td>Malawi</td>\n",
       "      <td>MWI</td>\n",
       "      <td>553.0</td>\n",
       "      <td>454.0</td>\n",
       "      <td>QoGStdCSJan18</td>\n",
       "      <td>NaN</td>\n",
       "      <td>NaN</td>\n",
       "      <td>21.0</td>\n",
       "      <td>17.0</td>\n",
       "      <td>...</td>\n",
       "      <td>NaN</td>\n",
       "      <td>NaN</td>\n",
       "      <td>NaN</td>\n",
       "      <td>NaN</td>\n",
       "      <td>NaN</td>\n",
       "      <td>NaN</td>\n",
       "      <td>NaN</td>\n",
       "      <td>NaN</td>\n",
       "      <td>NaN</td>\n",
       "      <td>NaN</td>\n",
       "    </tr>\n",
       "    <tr>\n",
       "      <th>40</th>\n",
       "      <td>178</td>\n",
       "      <td>Congo</td>\n",
       "      <td>COG</td>\n",
       "      <td>484.0</td>\n",
       "      <td>178.0</td>\n",
       "      <td>QoGStdCSJan18</td>\n",
       "      <td>NaN</td>\n",
       "      <td>NaN</td>\n",
       "      <td>17.0</td>\n",
       "      <td>13.0</td>\n",
       "      <td>...</td>\n",
       "      <td>NaN</td>\n",
       "      <td>NaN</td>\n",
       "      <td>NaN</td>\n",
       "      <td>NaN</td>\n",
       "      <td>NaN</td>\n",
       "      <td>NaN</td>\n",
       "      <td>NaN</td>\n",
       "      <td>NaN</td>\n",
       "      <td>NaN</td>\n",
       "      <td>NaN</td>\n",
       "    </tr>\n",
       "    <tr>\n",
       "      <th>149</th>\n",
       "      <td>678</td>\n",
       "      <td>Sao Tome and Principe</td>\n",
       "      <td>STP</td>\n",
       "      <td>403.0</td>\n",
       "      <td>678.0</td>\n",
       "      <td>QoGStdCSJan18</td>\n",
       "      <td>NaN</td>\n",
       "      <td>NaN</td>\n",
       "      <td>7.0</td>\n",
       "      <td>11.0</td>\n",
       "      <td>...</td>\n",
       "      <td>NaN</td>\n",
       "      <td>NaN</td>\n",
       "      <td>NaN</td>\n",
       "      <td>NaN</td>\n",
       "      <td>NaN</td>\n",
       "      <td>NaN</td>\n",
       "      <td>NaN</td>\n",
       "      <td>NaN</td>\n",
       "      <td>NaN</td>\n",
       "      <td>NaN</td>\n",
       "    </tr>\n",
       "    <tr>\n",
       "      <th>73</th>\n",
       "      <td>340</td>\n",
       "      <td>Honduras</td>\n",
       "      <td>HND</td>\n",
       "      <td>91.0</td>\n",
       "      <td>340.0</td>\n",
       "      <td>QoGStdCSJan18</td>\n",
       "      <td>NaN</td>\n",
       "      <td>NaN</td>\n",
       "      <td>20.0</td>\n",
       "      <td>13.0</td>\n",
       "      <td>...</td>\n",
       "      <td>NaN</td>\n",
       "      <td>NaN</td>\n",
       "      <td>NaN</td>\n",
       "      <td>NaN</td>\n",
       "      <td>NaN</td>\n",
       "      <td>NaN</td>\n",
       "      <td>NaN</td>\n",
       "      <td>NaN</td>\n",
       "      <td>NaN</td>\n",
       "      <td>NaN</td>\n",
       "    </tr>\n",
       "  </tbody>\n",
       "</table>\n",
       "<p>5 rows × 1882 columns</p>\n",
       "</div>"
      ],
      "text/plain": [
       "     ccode                  cname ccodealp  ccodecow  ccodewb        version  \\\n",
       "154    694           Sierra Leone      SLE     451.0    694.0  QoGStdCSJan18   \n",
       "103    454                 Malawi      MWI     553.0    454.0  QoGStdCSJan18   \n",
       "40     178                  Congo      COG     484.0    178.0  QoGStdCSJan18   \n",
       "149    678  Sao Tome and Principe      STP     403.0    678.0  QoGStdCSJan18   \n",
       "73     340               Honduras      HND      91.0    340.0  QoGStdCSJan18   \n",
       "\n",
       "     aid_cpnc  aid_cpsc  aid_crnc  aid_crnio    ...      wvs_relacc  \\\n",
       "154       NaN       NaN      21.0       18.0    ...             NaN   \n",
       "103       NaN       NaN      21.0       17.0    ...             NaN   \n",
       "40        NaN       NaN      17.0       13.0    ...             NaN   \n",
       "149       NaN       NaN       7.0       11.0    ...             NaN   \n",
       "73        NaN       NaN      20.0       13.0    ...             NaN   \n",
       "\n",
       "     wvs_relsch  wvs_relsci  wvs_satfin  wvs_satlif  wvs_screl  wvs_subh  \\\n",
       "154         NaN         NaN         NaN         NaN        NaN       NaN   \n",
       "103         NaN         NaN         NaN         NaN        NaN       NaN   \n",
       "40          NaN         NaN         NaN         NaN        NaN       NaN   \n",
       "149         NaN         NaN         NaN         NaN        NaN       NaN   \n",
       "73          NaN         NaN         NaN         NaN        NaN       NaN   \n",
       "\n",
       "     wvs_survself  wvs_tradrat  wvs_trust  \n",
       "154           NaN          NaN        NaN  \n",
       "103           NaN          NaN        NaN  \n",
       "40            NaN          NaN        NaN  \n",
       "149           NaN          NaN        NaN  \n",
       "73            NaN          NaN        NaN  \n",
       "\n",
       "[5 rows x 1882 columns]"
      ]
     },
     "execution_count": 3,
     "metadata": {},
     "output_type": "execute_result"
    }
   ],
   "source": [
    "df.sample(5)"
   ]
  },
  {
   "cell_type": "code",
   "execution_count": 4,
   "metadata": {},
   "outputs": [],
   "source": [
    "df_subsample = df.sample(frac=0.5, random_state = 6793)"
   ]
  },
  {
   "cell_type": "code",
   "execution_count": 5,
   "metadata": {},
   "outputs": [],
   "source": [
    "df_subsample2 = df_subsample.loc[:,['undp_hdi','ccodealp','ht_region','gle_cgdpc','imf_pop','ffp_hf','wef_qes','wdi_expedu', 'wdi_ners']]"
   ]
  },
  {
   "cell_type": "code",
   "execution_count": 6,
   "metadata": {},
   "outputs": [],
   "source": [
    "df_subsample2['region_recod'] = df_subsample2['ht_region'].replace([1, 2, 3, 4, 5, 6, 7, 8, 9, 10],\n",
    "                                                           ['EastEurope', 'LatAm', 'NorthAfrica',\n",
    "                                                            'SubSaharian', 'WesternDem', 'EastAsia',\n",
    "                                                            'SouthEastAsia','SouthAsia','Pacific', 'Caribbean'])"
   ]
  },
  {
   "cell_type": "code",
   "execution_count": 7,
   "metadata": {
    "scrolled": true
   },
   "outputs": [
    {
     "data": {
      "text/html": [
       "<div>\n",
       "<style scoped>\n",
       "    .dataframe tbody tr th:only-of-type {\n",
       "        vertical-align: middle;\n",
       "    }\n",
       "\n",
       "    .dataframe tbody tr th {\n",
       "        vertical-align: top;\n",
       "    }\n",
       "\n",
       "    .dataframe thead th {\n",
       "        text-align: right;\n",
       "    }\n",
       "</style>\n",
       "<table border=\"1\" class=\"dataframe\">\n",
       "  <thead>\n",
       "    <tr style=\"text-align: right;\">\n",
       "      <th></th>\n",
       "      <th>undp_hdi</th>\n",
       "      <th>ccodealp</th>\n",
       "      <th>ht_region</th>\n",
       "      <th>gle_cgdpc</th>\n",
       "      <th>imf_pop</th>\n",
       "      <th>ffp_hf</th>\n",
       "      <th>wef_qes</th>\n",
       "      <th>wdi_expedu</th>\n",
       "      <th>wdi_ners</th>\n",
       "      <th>region_recod</th>\n",
       "    </tr>\n",
       "  </thead>\n",
       "  <tbody>\n",
       "    <tr>\n",
       "      <th>78</th>\n",
       "      <td>0.774</td>\n",
       "      <td>IRN</td>\n",
       "      <td>3</td>\n",
       "      <td>12889.28000</td>\n",
       "      <td>75.150002</td>\n",
       "      <td>6.2</td>\n",
       "      <td>3.012431</td>\n",
       "      <td>2.95419</td>\n",
       "      <td>80.731201</td>\n",
       "      <td>NorthAfrica</td>\n",
       "    </tr>\n",
       "    <tr>\n",
       "      <th>32</th>\n",
       "      <td>0.347</td>\n",
       "      <td>CAF</td>\n",
       "      <td>4</td>\n",
       "      <td>690.03998</td>\n",
       "      <td>NaN</td>\n",
       "      <td>6.9</td>\n",
       "      <td>NaN</td>\n",
       "      <td>1.22393</td>\n",
       "      <td>13.600750</td>\n",
       "      <td>SubSaharian</td>\n",
       "    </tr>\n",
       "    <tr>\n",
       "      <th>50</th>\n",
       "      <td>0.718</td>\n",
       "      <td>DOM</td>\n",
       "      <td>2</td>\n",
       "      <td>10376.63000</td>\n",
       "      <td>NaN</td>\n",
       "      <td>7.6</td>\n",
       "      <td>2.636395</td>\n",
       "      <td>NaN</td>\n",
       "      <td>65.457611</td>\n",
       "      <td>LatAm</td>\n",
       "    </tr>\n",
       "    <tr>\n",
       "      <th>191</th>\n",
       "      <td>0.702</td>\n",
       "      <td>WSM</td>\n",
       "      <td>9</td>\n",
       "      <td>3167.75000</td>\n",
       "      <td>0.192000</td>\n",
       "      <td>8.9</td>\n",
       "      <td>NaN</td>\n",
       "      <td>NaN</td>\n",
       "      <td>79.545982</td>\n",
       "      <td>Pacific</td>\n",
       "    </tr>\n",
       "    <tr>\n",
       "      <th>181</th>\n",
       "      <td>0.748</td>\n",
       "      <td>UKR</td>\n",
       "      <td>1</td>\n",
       "      <td>9326.71970</td>\n",
       "      <td>42.759998</td>\n",
       "      <td>5.5</td>\n",
       "      <td>3.673649</td>\n",
       "      <td>5.86354</td>\n",
       "      <td>88.565857</td>\n",
       "      <td>EastEurope</td>\n",
       "    </tr>\n",
       "  </tbody>\n",
       "</table>\n",
       "</div>"
      ],
      "text/plain": [
       "     undp_hdi ccodealp  ht_region    gle_cgdpc    imf_pop  ffp_hf   wef_qes  \\\n",
       "78      0.774      IRN          3  12889.28000  75.150002     6.2  3.012431   \n",
       "32      0.347      CAF          4    690.03998        NaN     6.9       NaN   \n",
       "50      0.718      DOM          2  10376.63000        NaN     7.6  2.636395   \n",
       "191     0.702      WSM          9   3167.75000   0.192000     8.9       NaN   \n",
       "181     0.748      UKR          1   9326.71970  42.759998     5.5  3.673649   \n",
       "\n",
       "     wdi_expedu   wdi_ners region_recod  \n",
       "78      2.95419  80.731201  NorthAfrica  \n",
       "32      1.22393  13.600750  SubSaharian  \n",
       "50          NaN  65.457611        LatAm  \n",
       "191         NaN  79.545982      Pacific  \n",
       "181     5.86354  88.565857   EastEurope  "
      ]
     },
     "execution_count": 7,
     "metadata": {},
     "output_type": "execute_result"
    }
   ],
   "source": [
    "df_subsample2.head()"
   ]
  },
  {
   "cell_type": "markdown",
   "metadata": {},
   "source": [
    "## Genere una función que ingrese su objeto y devuelva lo siguiente\n",
    "1. Por cada variable existente en su objeto, calcule las medidas descriptivas para los casos contínuos\n",
    "- Para cada variable discreta, que calcule la frecuencia.\n",
    "- Reporte las estadísticas descriptivas para `gle_cgdpc`, `undp_hdi`, `imf_pop`. Compare las estadísticas con algún compañero. ¿Ve alguna diferencia substancial en alguna de ellas?"
   ]
  },
  {
   "cell_type": "code",
   "execution_count": 8,
   "metadata": {},
   "outputs": [],
   "source": [
    "def med_descriptivas(dataframe):\n",
    "    \n",
    "    \"\"\"\n",
    "    Función que retorna las medidas descriptivas para atributos continuos y la frecuencia para atributos de discretas\n",
    "    \"\"\"\n",
    "    \n",
    "    for colname, serie in dataframe.iteritems():\n",
    "        if pd.api.types.is_numeric_dtype(serie):\n",
    "            print(dataframe[colname].describe())\n",
    "        else:\n",
    "            print(dataframe[colname].value_counts())"
   ]
  },
  {
   "cell_type": "code",
   "execution_count": 9,
   "metadata": {},
   "outputs": [
    {
     "name": "stdout",
     "output_type": "stream",
     "text": [
      "count    94.000000\n",
      "mean      0.685947\n",
      "std       0.162429\n",
      "min       0.347000\n",
      "25%       0.551250\n",
      "50%       0.718500\n",
      "75%       0.798750\n",
      "max       0.924000\n",
      "Name: undp_hdi, dtype: float64\n",
      "CZE    1\n",
      "CPV    1\n",
      "FIN    1\n",
      "DJI    1\n",
      "KOR    1\n",
      "WSM    1\n",
      "NZL    1\n",
      "JPN    1\n",
      "NAM    1\n",
      "HND    1\n",
      "LVA    1\n",
      "IDN    1\n",
      "GHA    1\n",
      "TCD    1\n",
      "DNK    1\n",
      "NLD    1\n",
      "RWA    1\n",
      "IRN    1\n",
      "CIV    1\n",
      "TWN    1\n",
      "SEN    1\n",
      "AUT    1\n",
      "MOZ    1\n",
      "KAZ    1\n",
      "EGY    1\n",
      "SSD    1\n",
      "SYC    1\n",
      "CMR    1\n",
      "ARM    1\n",
      "ESP    1\n",
      "      ..\n",
      "BDI    1\n",
      "LSO    1\n",
      "LUX    1\n",
      "VUT    1\n",
      "AND    1\n",
      "GMB    1\n",
      "LKA    1\n",
      "MWI    1\n",
      "GRC    1\n",
      "KEN    1\n",
      "MNG    1\n",
      "GRD    1\n",
      "PER    1\n",
      "LBR    1\n",
      "BRN    1\n",
      "SLE    1\n",
      "FJI    1\n",
      "IRL    1\n",
      "PRY    1\n",
      "VEN    1\n",
      "KHM    1\n",
      "ZAF    1\n",
      "SOM    1\n",
      "PRK    1\n",
      "CAF    1\n",
      "HTI    1\n",
      "MRT    1\n",
      "GNB    1\n",
      "BIH    1\n",
      "LAO    1\n",
      "Name: ccodealp, Length: 97, dtype: int64\n",
      "count    97.000000\n",
      "mean      4.474227\n",
      "std       2.367720\n",
      "min       1.000000\n",
      "25%       3.000000\n",
      "50%       4.000000\n",
      "75%       5.000000\n",
      "max      10.000000\n",
      "Name: ht_region, dtype: float64\n",
      "count       96.000000\n",
      "mean     13076.593275\n",
      "std      15195.108070\n",
      "min        332.269990\n",
      "25%       2141.177525\n",
      "50%       5938.079850\n",
      "75%      17614.972750\n",
      "max      64342.711000\n",
      "Name: gle_cgdpc, dtype: float64\n",
      "count     67.000000\n",
      "mean      27.593239\n",
      "std       44.632132\n",
      "min        0.018000\n",
      "25%        2.956000\n",
      "50%        8.544000\n",
      "75%       31.994000\n",
      "max      252.164993\n",
      "Name: imf_pop, dtype: float64\n",
      "count    92.000000\n",
      "mean      5.666304\n",
      "std       2.111157\n",
      "min       1.500000\n",
      "25%       3.700000\n",
      "50%       6.300000\n",
      "75%       7.425000\n",
      "max       9.300000\n",
      "Name: ffp_hf, dtype: float64\n",
      "count    78.000000\n",
      "mean      3.679192\n",
      "std       0.923308\n",
      "min       1.874972\n",
      "25%       2.989380\n",
      "50%       3.603522\n",
      "75%       4.311662\n",
      "max       5.859115\n",
      "Name: wef_qes, dtype: float64\n",
      "count    71.000000\n",
      "mean      4.414727\n",
      "std       1.625242\n",
      "min       1.223930\n",
      "25%       2.976000\n",
      "50%       4.599870\n",
      "75%       5.457985\n",
      "max       8.627110\n",
      "Name: wdi_expedu, dtype: float64\n",
      "count    65.000000\n",
      "mean     71.809629\n",
      "std      23.298258\n",
      "min      13.600750\n",
      "25%      57.239899\n",
      "50%      78.586067\n",
      "75%      88.165810\n",
      "max      99.573357\n",
      "Name: wdi_ners, dtype: float64\n",
      "SubSaharian      31\n",
      "WesternDem       14\n",
      "LatAm            10\n",
      "EastEurope       10\n",
      "NorthAfrica       9\n",
      "Pacific           6\n",
      "EastAsia          5\n",
      "SouthEastAsia     5\n",
      "Caribbean         4\n",
      "SouthAsia         3\n",
      "Name: region_recod, dtype: int64\n"
     ]
    }
   ],
   "source": [
    "med_descriptivas(df_subsample2)"
   ]
  },
  {
   "cell_type": "code",
   "execution_count": 10,
   "metadata": {},
   "outputs": [],
   "source": [
    "df_subsample2.to_csv('sebastian-contreras-act05.csv') #exportar csv"
   ]
  },
  {
   "cell_type": "markdown",
   "metadata": {},
   "source": [
    "### Comparar estadísticas son csv generado por Ayleen Vasquez"
   ]
  },
  {
   "cell_type": "code",
   "execution_count": 11,
   "metadata": {},
   "outputs": [],
   "source": [
    "df_classmate = pd.read_csv('Subsample_Ayleen.csv') #cargar dataframe compañero de clases"
   ]
  },
  {
   "cell_type": "code",
   "execution_count": 12,
   "metadata": {},
   "outputs": [],
   "source": [
    "#quitar columna Unnamed:0\n",
    "df_classmate = df_classmate.drop(columns=\"Unnamed: 0\")"
   ]
  },
  {
   "cell_type": "code",
   "execution_count": 13,
   "metadata": {
    "scrolled": true
   },
   "outputs": [
    {
     "name": "stdout",
     "output_type": "stream",
     "text": [
      "count    94.000000\n",
      "mean      0.708787\n",
      "std       0.149437\n",
      "min       0.347000\n",
      "25%       0.606750\n",
      "50%       0.733500\n",
      "75%       0.798000\n",
      "max       0.937000\n",
      "Name: undp_hdi, dtype: float64\n",
      "CZE    1\n",
      "KHM    1\n",
      "MOZ    1\n",
      "ARM    1\n",
      "CUB    1\n",
      "ATG    1\n",
      "KOR    1\n",
      "ETH    1\n",
      "NLD    1\n",
      "JPN    1\n",
      "DOM    1\n",
      "KIR    1\n",
      "DMA    1\n",
      "GUY    1\n",
      "BTN    1\n",
      "LAO    1\n",
      "MYS    1\n",
      "CAN    1\n",
      "COL    1\n",
      "IRN    1\n",
      "MCO    1\n",
      "SEN    1\n",
      "GBR    1\n",
      "SDN    1\n",
      "BEN    1\n",
      "AFG    1\n",
      "HRV    1\n",
      "CAF    1\n",
      "TJK    1\n",
      "LIE    1\n",
      "      ..\n",
      "AUS    1\n",
      "LCA    1\n",
      "PAN    1\n",
      "FRA    1\n",
      "BWA    1\n",
      "TUN    1\n",
      "BIH    1\n",
      "SAU    1\n",
      "TKM    1\n",
      "KGZ    1\n",
      "KWT    1\n",
      "UKR    1\n",
      "ALB    1\n",
      "BOL    1\n",
      "SWZ    1\n",
      "MDV    1\n",
      "DEU    1\n",
      "USA    1\n",
      "CHL    1\n",
      "MDG    1\n",
      "FJI    1\n",
      "IRL    1\n",
      "SWE    1\n",
      "GRC    1\n",
      "MWI    1\n",
      "SOM    1\n",
      "IND    1\n",
      "NZL    1\n",
      "AZE    1\n",
      "RWA    1\n",
      "Name: ccodealp, Length: 97, dtype: int64\n",
      "count    97.000000\n",
      "mean      4.793814\n",
      "std       2.824514\n",
      "min       1.000000\n",
      "25%       3.000000\n",
      "50%       4.000000\n",
      "75%       7.000000\n",
      "max      10.000000\n",
      "Name: ht_region, dtype: float64\n",
      "count        95.000000\n",
      "mean      15441.763673\n",
      "std       18991.602824\n",
      "min         690.039980\n",
      "25%        3720.684950\n",
      "50%        8761.139600\n",
      "75%       21272.370000\n",
      "max      108481.130000\n",
      "Name: gle_cgdpc, dtype: float64\n",
      "count     76.000000\n",
      "mean      24.813592\n",
      "std       43.575050\n",
      "min        0.011000\n",
      "25%        3.532750\n",
      "50%        9.861500\n",
      "75%       29.765750\n",
      "max      318.789001\n",
      "Name: imf_pop, dtype: float64\n"
     ]
    }
   ],
   "source": [
    "med_descriptivas(df_classmate)"
   ]
  },
  {
   "cell_type": "markdown",
   "metadata": {},
   "source": [
    "El dataframe generado de manera aleatoria por el compañero de clases, incluyó paises que en promedio tienen un mayor indice de los atributos `undp_hdi`, `gle_cgdpc` y `imf_pop`, en base a esta información, se podría inferir que el dataframe del compañero de clases está compuesto con países con mejor calidad de desarrollo humano."
   ]
  },
  {
   "cell_type": "markdown",
   "metadata": {},
   "source": [
    "## Genere una función que liste las observaciones perdidas de una variable\n",
    "1. La función debe contener los siguientes argumentos:\n",
    "    - `dataframe`: La función debe ingresar un objeto DataFrame.\n",
    "    - `var`: Variable a inspeccionar.\n",
    "    - `print_list`: Opción para imprimir la lista de observaciones perdidas en la variable. Debe ser `False` por defecto.\n",
    "- La función debe retornar la cantidad de casos perdidos y el porcentaje correspondiente.\n",
    "- Cuando `print_list = True`, debe retornar la lista de casos.\n",
    "- Analice todas las variables y sus casos perdidos. Para las 3 variables con un mayor porcentaje de casos perdidos, solicite la lista de países con ausencia de datos."
   ]
  },
  {
   "cell_type": "code",
   "execution_count": 14,
   "metadata": {},
   "outputs": [],
   "source": [
    "def print_miss_values(dataframe,var,print_list = False):\n",
    "    \n",
    "    \"\"\"\n",
    "    Función que retorna la cantidad de casos perdidos y el porcentaje correspondiente, con el argumento opcional \"print_list\", el cual lista los casos con datos perdidos\n",
    "    \"\"\"\n",
    "    \n",
    "    print(dataframe[var].isna().value_counts('%'))\n",
    "    print(dataframe[var].isna().value_counts())\n",
    "    print(\"\")\n",
    "    tmp_na = dataframe[dataframe[var].isna()]['ccodealp']\n",
    "    if print_list is True:\n",
    "        print(tmp_na)"
   ]
  },
  {
   "cell_type": "code",
   "execution_count": 15,
   "metadata": {},
   "outputs": [
    {
     "name": "stdout",
     "output_type": "stream",
     "text": [
      "False    0.690722\n",
      "True     0.309278\n",
      "Name: imf_pop, dtype: float64\n",
      "False    67\n",
      "True     30\n",
      "Name: imf_pop, dtype: int64\n",
      "\n"
     ]
    }
   ],
   "source": [
    "print_miss_values(df_subsample2,'imf_pop') #probando la función"
   ]
  },
  {
   "cell_type": "code",
   "execution_count": 16,
   "metadata": {
    "scrolled": true
   },
   "outputs": [
    {
     "name": "stdout",
     "output_type": "stream",
     "text": [
      "False    0.969072\n",
      "True     0.030928\n",
      "Name: undp_hdi, dtype: float64\n",
      "False    94\n",
      "True      3\n",
      "Name: undp_hdi, dtype: int64\n",
      "\n",
      "False    1.0\n",
      "Name: ccodealp, dtype: float64\n",
      "False    97\n",
      "Name: ccodealp, dtype: int64\n",
      "\n",
      "False    1.0\n",
      "Name: ht_region, dtype: float64\n",
      "False    97\n",
      "Name: ht_region, dtype: int64\n",
      "\n",
      "False    0.989691\n",
      "True     0.010309\n",
      "Name: gle_cgdpc, dtype: float64\n",
      "False    96\n",
      "True      1\n",
      "Name: gle_cgdpc, dtype: int64\n",
      "\n",
      "False    0.690722\n",
      "True     0.309278\n",
      "Name: imf_pop, dtype: float64\n",
      "False    67\n",
      "True     30\n",
      "Name: imf_pop, dtype: int64\n",
      "\n",
      "False    0.948454\n",
      "True     0.051546\n",
      "Name: ffp_hf, dtype: float64\n",
      "False    92\n",
      "True      5\n",
      "Name: ffp_hf, dtype: int64\n",
      "\n",
      "False    0.804124\n",
      "True     0.195876\n",
      "Name: wef_qes, dtype: float64\n",
      "False    78\n",
      "True     19\n",
      "Name: wef_qes, dtype: int64\n",
      "\n",
      "False    0.731959\n",
      "True     0.268041\n",
      "Name: wdi_expedu, dtype: float64\n",
      "False    71\n",
      "True     26\n",
      "Name: wdi_expedu, dtype: int64\n",
      "\n",
      "False    0.670103\n",
      "True     0.329897\n",
      "Name: wdi_ners, dtype: float64\n",
      "False    65\n",
      "True     32\n",
      "Name: wdi_ners, dtype: int64\n",
      "\n",
      "False    1.0\n",
      "Name: region_recod, dtype: float64\n",
      "False    97\n",
      "Name: region_recod, dtype: int64\n",
      "\n"
     ]
    }
   ],
   "source": [
    "for colname, serie in df_subsample2.iteritems():\n",
    "    print_miss_values(df_subsample2,colname)"
   ]
  },
  {
   "cell_type": "code",
   "execution_count": 17,
   "metadata": {},
   "outputs": [],
   "source": [
    "na_columns = []\n",
    "na_columns = df_subsample2.isna().sum()"
   ]
  },
  {
   "cell_type": "code",
   "execution_count": 18,
   "metadata": {
    "scrolled": true
   },
   "outputs": [
    {
     "data": {
      "text/plain": [
       "wdi_ners        32\n",
       "imf_pop         30\n",
       "wdi_expedu      26\n",
       "wef_qes         19\n",
       "ffp_hf           5\n",
       "undp_hdi         3\n",
       "gle_cgdpc        1\n",
       "region_recod     0\n",
       "ht_region        0\n",
       "ccodealp         0\n",
       "dtype: int64"
      ]
     },
     "execution_count": 18,
     "metadata": {},
     "output_type": "execute_result"
    }
   ],
   "source": [
    "na_columns.sort_values(ascending=False) #sort nan desc"
   ]
  },
  {
   "cell_type": "markdown",
   "metadata": {},
   "source": [
    "### Listar los países para las variables que tienen mayor ausencia de datos"
   ]
  },
  {
   "cell_type": "code",
   "execution_count": 19,
   "metadata": {},
   "outputs": [
    {
     "data": {
      "text/plain": [
       "32     CAF\n",
       "50     DOM\n",
       "29     CMR\n",
       "159    SOM\n",
       "73     HND\n",
       "53     GNQ\n",
       "163    SSD\n",
       "55     ERI\n",
       "145    KNA\n",
       "65     GHA\n",
       "42     CRI\n",
       "175    ARE\n",
       "34     TCD\n",
       "139    GNB\n",
       "72     HTI\n",
       "89     PRK\n",
       "118    NAM\n",
       "69     GTM\n",
       "151    SEN\n",
       "97     LBR\n",
       "60     DJI\n",
       "68     GRD\n",
       "95     LSO\n",
       "190    VEN\n",
       "61     GAB\n",
       "52     SLV\n",
       "63     GMB\n",
       "149    STP\n",
       "3      AND\n",
       "26     BDI\n",
       "Name: ccodealp, dtype: object"
      ]
     },
     "execution_count": 19,
     "metadata": {},
     "output_type": "execute_result"
    }
   ],
   "source": [
    "df_subsample2[df_subsample2['imf_pop'].isna()]['ccodealp']"
   ]
  },
  {
   "cell_type": "code",
   "execution_count": 20,
   "metadata": {},
   "outputs": [
    {
     "data": {
      "text/plain": [
       "50     DOM\n",
       "191    WSM\n",
       "159    SOM\n",
       "53     GNQ\n",
       "55     ERI\n",
       "126    NGA\n",
       "130    PLW\n",
       "175    ARE\n",
       "22     SLB\n",
       "72     HTI\n",
       "37     TWN\n",
       "89     PRK\n",
       "67     GRC\n",
       "118    NAM\n",
       "91     KWT\n",
       "60     DJI\n",
       "18     BIH\n",
       "98     LBY\n",
       "150    SAU\n",
       "68     GRD\n",
       "95     LSO\n",
       "190    VEN\n",
       "115    MAR\n",
       "183    EGY\n",
       "2      DZA\n",
       "133    PNG\n",
       "Name: ccodealp, dtype: object"
      ]
     },
     "execution_count": 20,
     "metadata": {},
     "output_type": "execute_result"
    }
   ],
   "source": [
    "df_subsample2[df_subsample2['wdi_expedu'].isna()]['ccodealp']"
   ]
  },
  {
   "cell_type": "code",
   "execution_count": 21,
   "metadata": {},
   "outputs": [
    {
     "data": {
      "text/plain": [
       "32     CAF\n",
       "191    WSM\n",
       "159    SOM\n",
       "53     GNQ\n",
       "163    SSD\n",
       "55     ERI\n",
       "145    KNA\n",
       "130    PLW\n",
       "139    GNB\n",
       "22     SLB\n",
       "27     BLR\n",
       "89     PRK\n",
       "60     DJI\n",
       "68     GRD\n",
       "122    VUT\n",
       "149    STP\n",
       "57     FJI\n",
       "3      AND\n",
       "133    PNG\n",
       "Name: ccodealp, dtype: object"
      ]
     },
     "execution_count": 21,
     "metadata": {},
     "output_type": "execute_result"
    }
   ],
   "source": [
    "df_subsample2[df_subsample2['wef_qes'].isna()]['ccodealp']"
   ]
  },
  {
   "cell_type": "markdown",
   "metadata": {},
   "source": [
    "## Grafique los histogramas\n",
    "\n",
    "* Genere una función que grafique un histograma en conjunto y señale las medias.\n",
    "* La función debe incluír los siguientes argumentos:\n",
    "    - `dataframe`: La base de datos donde se encuentran los datos específicos.\n",
    "    - `var`: La variable a graficar.\n",
    "    - `sample_mean`: Booleano. Si es verdadero, debe generar una recta vertical indicando la media de la variable en la selección muestral. Por defecto debe ser `False`.\n",
    "    - `true_mean`: Booleano. Si es verdadero, debe generar una recta vertical indicando la media de variable en la base de datos completa.\n",
    "    \n",
    "* Implemente las funciones para las 4 variables seleccionadas según su grupo. ¿En qué variables la media de la submuestra es mayor a la de la muestra completa?"
   ]
  },
  {
   "cell_type": "code",
   "execution_count": 22,
   "metadata": {},
   "outputs": [],
   "source": [
    "%matplotlib inline\n",
    "import matplotlib.pyplot as plt"
   ]
  },
  {
   "cell_type": "code",
   "execution_count": 23,
   "metadata": {},
   "outputs": [],
   "source": [
    "def plot_hist(dataframe, var, sample_mean=False, true_mean=False):\n",
    "    \n",
    "    \"\"\"\n",
    "    Función que gráfica histograma de una variable a partir de un dataframe. Los argumentos opcionales sample_mean y true_mean agregarán una línea vertical indicando la media del dataframe de la submuestra y el original correspondiente. \n",
    "    \"\"\"\n",
    "    \n",
    "    tmp_var = dataframe[var].dropna()\n",
    "    plt.hist(tmp_var, color='slategrey',alpha=.4)\n",
    "    if sample_mean is True:\n",
    "        plt.axvline(tmp_var.mean(), color='tomato', lw=3, linestyle='--')\n",
    "    if true_mean is True:\n",
    "        plt.axvline(df[var].mean(), color='dodgerblue', lw=3, linestyle='--')"
   ]
  },
  {
   "cell_type": "code",
   "execution_count": 24,
   "metadata": {},
   "outputs": [
    {
     "data": {
      "image/png": "[encoded data removed]",
      "text/plain": [
       "<Figure size 432x288 with 1 Axes>"
      ]
     },
     "metadata": {
      "needs_background": "light"
     },
     "output_type": "display_data"
    }
   ],
   "source": [
    "plot_hist(df_subsample2, 'ffp_hf', sample_mean=True, true_mean=True )"
   ]
  },
  {
   "cell_type": "code",
   "execution_count": 25,
   "metadata": {},
   "outputs": [
    {
     "data": {
      "image/png": "[encoded data removed]",
      "text/plain": [
       "<Figure size 432x288 with 1 Axes>"
      ]
     },
     "metadata": {
      "needs_background": "light"
     },
     "output_type": "display_data"
    }
   ],
   "source": [
    "plot_hist(df_subsample2, 'wef_qes', sample_mean=True, true_mean=True ) "
   ]
  },
  {
   "cell_type": "code",
   "execution_count": 26,
   "metadata": {},
   "outputs": [
    {
     "data": {
      "image/png": "[encoded data removed]",
      "text/plain": [
       "<Figure size 432x288 with 1 Axes>"
      ]
     },
     "metadata": {
      "needs_background": "light"
     },
     "output_type": "display_data"
    }
   ],
   "source": [
    "plot_hist(df_subsample2, 'wdi_expedu', sample_mean=True, true_mean=True ) "
   ]
  },
  {
   "cell_type": "code",
   "execution_count": 27,
   "metadata": {},
   "outputs": [
    {
     "data": {
      "image/png": "[encoded data removed]",
      "text/plain": [
       "<Figure size 432x288 with 1 Axes>"
      ]
     },
     "metadata": {
      "needs_background": "light"
     },
     "output_type": "display_data"
    }
   ],
   "source": [
    "plot_hist(df_subsample2, 'wdi_ners', sample_mean=True, true_mean=True )"
   ]
  },
  {
   "cell_type": "markdown",
   "metadata": {},
   "source": [
    "Para el atributo `ffp_hs` la media de la submuestra es mayor a la media del dataset completo."
   ]
  },
  {
   "cell_type": "markdown",
   "metadata": {},
   "source": [
    "### Genere una función que devuelva un dotplot\n",
    "\n",
    "* La función debe contener los siguientes argumentos como argumentos:\n",
    "     - `dataframe`: La tabla de datos donde buscar las variables.\n",
    "     - `plot_var`: La variable a analizar y extraer las medias.\n",
    "     - `plot_by`: La variable agrupadora.\n",
    "     - `global_stat`: Booleano. Si es `True` debe graficar la media global de la variable. Por defecto debe ser `False`.\n",
    "     - statistic: Debe presentar dos opciones. `mean` para la media y `median` para la mediana. Por defecto debe ser `mean`.\n",
    "     \n",
    " * Implemente la función en las 3 variables con una menor cantidad de datos perdidos."
   ]
  },
  {
   "cell_type": "code",
   "execution_count": 28,
   "metadata": {},
   "outputs": [],
   "source": [
    "def dotplot(dataframe, plot_var, plot_by, global_stat=False, statistic='mean'):\n",
    "    \"\"\"\n",
    "    Función que genera un dotplot de una variable agrupada por un atributo. El argumento opcional global_stat grafica la media global de la variable, mientras que el argumento statistic indica la medida estadística con que agrupa los datos\n",
    "    \"\"\"\n",
    "    \n",
    "    if statistic is 'mean':\n",
    "        tmp_group_stat = dataframe.groupby(plot_by)[plot_var].mean()\n",
    "        plt.plot(tmp_group_stat.values, tmp_group_stat.index, 'o', color = 'grey')\n",
    "    if statistic is 'median':\n",
    "        tmp_group_stat = dataframe.groupby(plot_by)[plot_var].median()\n",
    "        plt.plot(tmp_group_stat.values, tmp_group_stat.index, 'o', color = 'grey')\n",
    "    if global_stat == True:\n",
    "        plt.axvline(df[plot_var].mean(), color = 'tomato', linestyle = '--')\n",
    "    plt.legend();"
   ]
  },
  {
   "cell_type": "code",
   "execution_count": 29,
   "metadata": {},
   "outputs": [
    {
     "data": {
      "text/plain": [
       "ccodealp         0\n",
       "ht_region        0\n",
       "region_recod     0\n",
       "gle_cgdpc        1\n",
       "undp_hdi         3\n",
       "ffp_hf           5\n",
       "wef_qes         19\n",
       "wdi_expedu      26\n",
       "imf_pop         30\n",
       "wdi_ners        32\n",
       "dtype: int64"
      ]
     },
     "execution_count": 29,
     "metadata": {},
     "output_type": "execute_result"
    }
   ],
   "source": [
    "na_columns.sort_values(ascending=True) #sort nan asc"
   ]
  },
  {
   "cell_type": "code",
   "execution_count": 30,
   "metadata": {},
   "outputs": [
    {
     "data": {
      "image/png": "[encoded data removed]",
      "text/plain": [
       "<Figure size 432x288 with 1 Axes>"
      ]
     },
     "metadata": {
      "needs_background": "light"
     },
     "output_type": "display_data"
    }
   ],
   "source": [
    "dotplot(df_subsample2,'gle_cgdpc', 'ht_region', global_stat=True, statistic='mean')"
   ]
  },
  {
   "cell_type": "code",
   "execution_count": 31,
   "metadata": {},
   "outputs": [
    {
     "data": {
      "image/png": "[encoded data removed]",
      "text/plain": [
       "<Figure size 432x288 with 1 Axes>"
      ]
     },
     "metadata": {
      "needs_background": "light"
     },
     "output_type": "display_data"
    }
   ],
   "source": [
    "dotplot(df_subsample2,'gle_cgdpc', 'ht_region', global_stat=True, statistic='median')"
   ]
  },
  {
   "cell_type": "code",
   "execution_count": 32,
   "metadata": {
    "scrolled": false
   },
   "outputs": [
    {
     "data": {
      "image/png": "[encoded data removed]",
      "text/plain": [
       "<Figure size 432x288 with 1 Axes>"
      ]
     },
     "metadata": {
      "needs_background": "light"
     },
     "output_type": "display_data"
    }
   ],
   "source": [
    "dotplot(df_subsample2,'undp_hdi', 'ht_region', global_stat=True, statistic='mean')"
   ]
  },
  {
   "cell_type": "code",
   "execution_count": 33,
   "metadata": {},
   "outputs": [
    {
     "data": {
      "image/png": "[encoded data removed]",
      "text/plain": [
       "<Figure size 432x288 with 1 Axes>"
      ]
     },
     "metadata": {
      "needs_background": "light"
     },
     "output_type": "display_data"
    }
   ],
   "source": [
    "dotplot(df_subsample2,'undp_hdi', 'ht_region', global_stat=True, statistic='median')"
   ]
  },
  {
   "cell_type": "code",
   "execution_count": 34,
   "metadata": {},
   "outputs": [
    {
     "data": {
      "image/png": "[encoded data removed]",
      "text/plain": [
       "<Figure size 432x288 with 1 Axes>"
      ]
     },
     "metadata": {
      "needs_background": "light"
     },
     "output_type": "display_data"
    }
   ],
   "source": [
    "dotplot(df_subsample2,'ffp_hf', 'ht_region', global_stat=True, statistic='mean')"
   ]
  },
  {
   "cell_type": "code",
   "execution_count": 35,
   "metadata": {},
   "outputs": [
    {
     "data": {
      "image/png": "[encoded data removed]",
      "text/plain": [
       "<Figure size 432x288 with 1 Axes>"
      ]
     },
     "metadata": {
      "needs_background": "light"
     },
     "output_type": "display_data"
    }
   ],
   "source": [
    "dotplot(df_subsample2,'ffp_hf', 'ht_region', global_stat=True, statistic='median')"
   ]
  }
 ],
 "metadata": {
  "kernelspec": {
   "display_name": "Python 3",
   "language": "python",
   "name": "python3"
  },
  "language_info": {
   "codemirror_mode": {
    "name": "ipython",
    "version": 3
   },
   "file_extension": ".py",
   "mimetype": "text/x-python",
   "name": "python",
   "nbconvert_exporter": "python",
   "pygments_lexer": "ipython3",
   "version": "3.6.6"
  }
 },
 "nbformat": 4,
 "nbformat_minor": 2
}
