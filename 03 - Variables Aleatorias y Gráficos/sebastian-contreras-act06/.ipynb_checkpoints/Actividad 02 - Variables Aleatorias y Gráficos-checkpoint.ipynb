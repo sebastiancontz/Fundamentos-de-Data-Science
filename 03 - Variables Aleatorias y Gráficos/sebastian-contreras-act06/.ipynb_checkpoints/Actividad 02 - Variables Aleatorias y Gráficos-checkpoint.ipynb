{
 "cells": [
  {
   "cell_type": "markdown",
   "metadata": {},
   "source": [
    "## Unidad 3: Variables Aleatorias y Gráficos\n",
    "### Actividad 06"
   ]
  },
  {
   "cell_type": "markdown",
   "metadata": {},
   "source": [
    "## Ejercicio 1: Importe un csv de su compañero\n",
    "\n",
    "* Utilice la base de datos de un compañero creada en la sesión pasada."
   ]
  },
  {
   "cell_type": "code",
   "execution_count": 1,
   "metadata": {},
   "outputs": [],
   "source": [
    "%matplotlib inline\n",
    "import pandas as pd\n",
    "import numpy as np\n",
    "import matplotlib.pyplot as plt"
   ]
  },
  {
   "cell_type": "code",
   "execution_count": 2,
   "metadata": {},
   "outputs": [],
   "source": [
    "df_classmate = pd.read_csv('Subsample_Ayleen.csv') #Dataset de Ayleen Vasquez"
   ]
  },
  {
   "cell_type": "code",
   "execution_count": 3,
   "metadata": {},
   "outputs": [
    {
     "data": {
      "text/plain": [
       "(97, 6)"
      ]
     },
     "execution_count": 3,
     "metadata": {},
     "output_type": "execute_result"
    }
   ],
   "source": [
    "df_classmate.shape"
   ]
  },
  {
   "cell_type": "code",
   "execution_count": 4,
   "metadata": {},
   "outputs": [
    {
     "data": {
      "text/html": [
       "<div>\n",
       "<style scoped>\n",
       "    .dataframe tbody tr th:only-of-type {\n",
       "        vertical-align: middle;\n",
       "    }\n",
       "\n",
       "    .dataframe tbody tr th {\n",
       "        vertical-align: top;\n",
       "    }\n",
       "\n",
       "    .dataframe thead th {\n",
       "        text-align: right;\n",
       "    }\n",
       "</style>\n",
       "<table border=\"1\" class=\"dataframe\">\n",
       "  <thead>\n",
       "    <tr style=\"text-align: right;\">\n",
       "      <th></th>\n",
       "      <th>Unnamed: 0</th>\n",
       "      <th>undp_hdi</th>\n",
       "      <th>ccodealp</th>\n",
       "      <th>ht_region</th>\n",
       "      <th>gle_cgdpc</th>\n",
       "      <th>imf_pop</th>\n",
       "    </tr>\n",
       "  </thead>\n",
       "  <tbody>\n",
       "    <tr>\n",
       "      <th>0</th>\n",
       "      <td>120</td>\n",
       "      <td>0.555</td>\n",
       "      <td>NPL</td>\n",
       "      <td>8</td>\n",
       "      <td>1462.08000</td>\n",
       "      <td>28.174999</td>\n",
       "    </tr>\n",
       "    <tr>\n",
       "      <th>1</th>\n",
       "      <td>144</td>\n",
       "      <td>0.493</td>\n",
       "      <td>RWA</td>\n",
       "      <td>4</td>\n",
       "      <td>1440.39000</td>\n",
       "      <td>10.200000</td>\n",
       "    </tr>\n",
       "    <tr>\n",
       "      <th>2</th>\n",
       "      <td>105</td>\n",
       "      <td>0.701</td>\n",
       "      <td>MDV</td>\n",
       "      <td>8</td>\n",
       "      <td>13349.76000</td>\n",
       "      <td>0.336000</td>\n",
       "    </tr>\n",
       "    <tr>\n",
       "      <th>3</th>\n",
       "      <td>103</td>\n",
       "      <td>0.473</td>\n",
       "      <td>MWI</td>\n",
       "      <td>4</td>\n",
       "      <td>938.34998</td>\n",
       "      <td>17.604000</td>\n",
       "    </tr>\n",
       "    <tr>\n",
       "      <th>4</th>\n",
       "      <td>9</td>\n",
       "      <td>0.892</td>\n",
       "      <td>AUT</td>\n",
       "      <td>5</td>\n",
       "      <td>38868.03900</td>\n",
       "      <td>8.544000</td>\n",
       "    </tr>\n",
       "  </tbody>\n",
       "</table>\n",
       "</div>"
      ],
      "text/plain": [
       "   Unnamed: 0  undp_hdi ccodealp  ht_region    gle_cgdpc    imf_pop\n",
       "0         120     0.555      NPL          8   1462.08000  28.174999\n",
       "1         144     0.493      RWA          4   1440.39000  10.200000\n",
       "2         105     0.701      MDV          8  13349.76000   0.336000\n",
       "3         103     0.473      MWI          4    938.34998  17.604000\n",
       "4           9     0.892      AUT          5  38868.03900   8.544000"
      ]
     },
     "execution_count": 4,
     "metadata": {},
     "output_type": "execute_result"
    }
   ],
   "source": [
    "df_classmate.head()"
   ]
  },
  {
   "cell_type": "code",
   "execution_count": 5,
   "metadata": {},
   "outputs": [],
   "source": [
    "#quitar columna Unnamed:0\n",
    "df_classmate = df_classmate.drop(columns=\"Unnamed: 0\")"
   ]
  },
  {
   "cell_type": "code",
   "execution_count": 6,
   "metadata": {
    "scrolled": true
   },
   "outputs": [
    {
     "data": {
      "text/html": [
       "<div>\n",
       "<style scoped>\n",
       "    .dataframe tbody tr th:only-of-type {\n",
       "        vertical-align: middle;\n",
       "    }\n",
       "\n",
       "    .dataframe tbody tr th {\n",
       "        vertical-align: top;\n",
       "    }\n",
       "\n",
       "    .dataframe thead th {\n",
       "        text-align: right;\n",
       "    }\n",
       "</style>\n",
       "<table border=\"1\" class=\"dataframe\">\n",
       "  <thead>\n",
       "    <tr style=\"text-align: right;\">\n",
       "      <th></th>\n",
       "      <th>undp_hdi</th>\n",
       "      <th>ccodealp</th>\n",
       "      <th>ht_region</th>\n",
       "      <th>gle_cgdpc</th>\n",
       "      <th>imf_pop</th>\n",
       "    </tr>\n",
       "  </thead>\n",
       "  <tbody>\n",
       "    <tr>\n",
       "      <th>0</th>\n",
       "      <td>0.555</td>\n",
       "      <td>NPL</td>\n",
       "      <td>8</td>\n",
       "      <td>1462.08000</td>\n",
       "      <td>28.174999</td>\n",
       "    </tr>\n",
       "    <tr>\n",
       "      <th>1</th>\n",
       "      <td>0.493</td>\n",
       "      <td>RWA</td>\n",
       "      <td>4</td>\n",
       "      <td>1440.39000</td>\n",
       "      <td>10.200000</td>\n",
       "    </tr>\n",
       "    <tr>\n",
       "      <th>2</th>\n",
       "      <td>0.701</td>\n",
       "      <td>MDV</td>\n",
       "      <td>8</td>\n",
       "      <td>13349.76000</td>\n",
       "      <td>0.336000</td>\n",
       "    </tr>\n",
       "    <tr>\n",
       "      <th>3</th>\n",
       "      <td>0.473</td>\n",
       "      <td>MWI</td>\n",
       "      <td>4</td>\n",
       "      <td>938.34998</td>\n",
       "      <td>17.604000</td>\n",
       "    </tr>\n",
       "    <tr>\n",
       "      <th>4</th>\n",
       "      <td>0.892</td>\n",
       "      <td>AUT</td>\n",
       "      <td>5</td>\n",
       "      <td>38868.03900</td>\n",
       "      <td>8.544000</td>\n",
       "    </tr>\n",
       "  </tbody>\n",
       "</table>\n",
       "</div>"
      ],
      "text/plain": [
       "   undp_hdi ccodealp  ht_region    gle_cgdpc    imf_pop\n",
       "0     0.555      NPL          8   1462.08000  28.174999\n",
       "1     0.493      RWA          4   1440.39000  10.200000\n",
       "2     0.701      MDV          8  13349.76000   0.336000\n",
       "3     0.473      MWI          4    938.34998  17.604000\n",
       "4     0.892      AUT          5  38868.03900   8.544000"
      ]
     },
     "execution_count": 6,
     "metadata": {},
     "output_type": "execute_result"
    }
   ],
   "source": [
    "df_classmate.head()"
   ]
  },
  {
   "cell_type": "markdown",
   "metadata": {},
   "source": [
    "## Ejercicio 2: Importe su conjunto de funciones\n",
    "\n",
    "* Genere un archivo `ancilliary_funcs.py` para guardar las funciones creadas en la sesión pasada e impórtelo.\n",
    "* Utilice las funciones creadas para inspeccionar la cantidad de casos perdidos de la muestra de su compañero."
   ]
  },
  {
   "cell_type": "code",
   "execution_count": 7,
   "metadata": {},
   "outputs": [],
   "source": [
    "import ancilliary_funcs as fnc"
   ]
  },
  {
   "cell_type": "code",
   "execution_count": 8,
   "metadata": {},
   "outputs": [
    {
     "name": "stdout",
     "output_type": "stream",
     "text": [
      "False    0.969072\n",
      "True     0.030928\n",
      "Name: undp_hdi, dtype: float64\n",
      "False    94\n",
      "True      3\n",
      "Name: undp_hdi, dtype: int64\n",
      "\n",
      "False    1.0\n",
      "Name: ccodealp, dtype: float64\n",
      "False    97\n",
      "Name: ccodealp, dtype: int64\n",
      "\n",
      "False    1.0\n",
      "Name: ht_region, dtype: float64\n",
      "False    97\n",
      "Name: ht_region, dtype: int64\n",
      "\n",
      "False    0.979381\n",
      "True     0.020619\n",
      "Name: gle_cgdpc, dtype: float64\n",
      "False    95\n",
      "True      2\n",
      "Name: gle_cgdpc, dtype: int64\n",
      "\n",
      "False    0.783505\n",
      "True     0.216495\n",
      "Name: imf_pop, dtype: float64\n",
      "False    76\n",
      "True     21\n",
      "Name: imf_pop, dtype: int64\n",
      "\n"
     ]
    }
   ],
   "source": [
    "for colname, serie in df_classmate.iteritems():\n",
    "    fnc.print_miss_values(df_classmate,colname)"
   ]
  },
  {
   "cell_type": "code",
   "execution_count": 9,
   "metadata": {},
   "outputs": [],
   "source": [
    "#10 primeros con 3 var que sean númericas con menos missing data \n",
    "df_top_and_last_ten = df_classmate[['ht_region','undp_hdi','gle_cgdpc','imf_pop']].head(10)"
   ]
  },
  {
   "cell_type": "code",
   "execution_count": 10,
   "metadata": {},
   "outputs": [
    {
     "data": {
      "text/html": [
       "<div>\n",
       "<style scoped>\n",
       "    .dataframe tbody tr th:only-of-type {\n",
       "        vertical-align: middle;\n",
       "    }\n",
       "\n",
       "    .dataframe tbody tr th {\n",
       "        vertical-align: top;\n",
       "    }\n",
       "\n",
       "    .dataframe thead th {\n",
       "        text-align: right;\n",
       "    }\n",
       "</style>\n",
       "<table border=\"1\" class=\"dataframe\">\n",
       "  <thead>\n",
       "    <tr style=\"text-align: right;\">\n",
       "      <th></th>\n",
       "      <th>ht_region</th>\n",
       "      <th>undp_hdi</th>\n",
       "      <th>gle_cgdpc</th>\n",
       "      <th>imf_pop</th>\n",
       "    </tr>\n",
       "  </thead>\n",
       "  <tbody>\n",
       "    <tr>\n",
       "      <th>0</th>\n",
       "      <td>8</td>\n",
       "      <td>0.555</td>\n",
       "      <td>1462.08000</td>\n",
       "      <td>28.174999</td>\n",
       "    </tr>\n",
       "    <tr>\n",
       "      <th>1</th>\n",
       "      <td>4</td>\n",
       "      <td>0.493</td>\n",
       "      <td>1440.39000</td>\n",
       "      <td>10.200000</td>\n",
       "    </tr>\n",
       "    <tr>\n",
       "      <th>2</th>\n",
       "      <td>8</td>\n",
       "      <td>0.701</td>\n",
       "      <td>13349.76000</td>\n",
       "      <td>0.336000</td>\n",
       "    </tr>\n",
       "    <tr>\n",
       "      <th>3</th>\n",
       "      <td>4</td>\n",
       "      <td>0.473</td>\n",
       "      <td>938.34998</td>\n",
       "      <td>17.604000</td>\n",
       "    </tr>\n",
       "    <tr>\n",
       "      <th>4</th>\n",
       "      <td>5</td>\n",
       "      <td>0.892</td>\n",
       "      <td>38868.03900</td>\n",
       "      <td>8.544000</td>\n",
       "    </tr>\n",
       "    <tr>\n",
       "      <th>5</th>\n",
       "      <td>4</td>\n",
       "      <td>0.441</td>\n",
       "      <td>900.77002</td>\n",
       "      <td>88.347000</td>\n",
       "    </tr>\n",
       "    <tr>\n",
       "      <th>6</th>\n",
       "      <td>1</td>\n",
       "      <td>0.758</td>\n",
       "      <td>9793.30960</td>\n",
       "      <td>9.342000</td>\n",
       "    </tr>\n",
       "    <tr>\n",
       "      <th>7</th>\n",
       "      <td>1</td>\n",
       "      <td>0.875</td>\n",
       "      <td>23847.08000</td>\n",
       "      <td>10.512000</td>\n",
       "    </tr>\n",
       "    <tr>\n",
       "      <th>8</th>\n",
       "      <td>9</td>\n",
       "      <td>0.783</td>\n",
       "      <td>9392.59960</td>\n",
       "      <td>0.018000</td>\n",
       "    </tr>\n",
       "    <tr>\n",
       "      <th>9</th>\n",
       "      <td>4</td>\n",
       "      <td>0.481</td>\n",
       "      <td>1413.05000</td>\n",
       "      <td>10.320000</td>\n",
       "    </tr>\n",
       "  </tbody>\n",
       "</table>\n",
       "</div>"
      ],
      "text/plain": [
       "   ht_region  undp_hdi    gle_cgdpc    imf_pop\n",
       "0          8     0.555   1462.08000  28.174999\n",
       "1          4     0.493   1440.39000  10.200000\n",
       "2          8     0.701  13349.76000   0.336000\n",
       "3          4     0.473    938.34998  17.604000\n",
       "4          5     0.892  38868.03900   8.544000\n",
       "5          4     0.441    900.77002  88.347000\n",
       "6          1     0.758   9793.30960   9.342000\n",
       "7          1     0.875  23847.08000  10.512000\n",
       "8          9     0.783   9392.59960   0.018000\n",
       "9          4     0.481   1413.05000  10.320000"
      ]
     },
     "execution_count": 10,
     "metadata": {},
     "output_type": "execute_result"
    }
   ],
   "source": [
    "df_top_and_last_ten"
   ]
  },
  {
   "cell_type": "code",
   "execution_count": 11,
   "metadata": {},
   "outputs": [],
   "source": [
    "#10 ultimos con 3 var que sean númericas con menos missing data\n",
    "df_top_and_last_ten = df_top_and_last_ten.append(df_classmate[['ht_region','undp_hdi','gle_cgdpc','imf_pop']].tail(10))"
   ]
  },
  {
   "cell_type": "markdown",
   "metadata": {},
   "source": [
    "## Ejercicio 3: Estime el puntaje z para las 10 primeras y últimas observaciones de las variables con una menor cantidad de datos perdidos\n",
    "\n",
    "* Genere una nueva columna en la tabla de datos mediante funciones vectorizadas. Recuerde que para calcular el puntaje z de una observación se utiliza la fórmula: ![alttext](eq1.gif).\n",
    "* Para ordenar los valores pueden utilzar la función `sort_values` del `DataFrame` analizado. Lean la documentación asociada al argumento `by`. Para evitar conflictos en la sobreescritura \n",
    "* Asegúrense de eliminar las observaciones que tengan valores perdidos con `dropna`. Lean la documentación asociada al método `subset`.\n",
    "* Seleccionen las primeras y últimas 10 observaciones de la base reordenada. ¿Qué características en común se encuentran?"
   ]
  },
  {
   "cell_type": "code",
   "execution_count": 12,
   "metadata": {},
   "outputs": [],
   "source": [
    "df_top_and_last_ten['zscore_undp_hdi'] = (df_top_and_last_ten['undp_hdi'] - df_top_and_last_ten['undp_hdi'].mean()) / np.std(df_top_and_last_ten['undp_hdi'])"
   ]
  },
  {
   "cell_type": "code",
   "execution_count": 13,
   "metadata": {},
   "outputs": [],
   "source": [
    "df_top_and_last_ten['zscore_gle_cgdpc'] = (df_top_and_last_ten['gle_cgdpc'] - df_top_and_last_ten['gle_cgdpc'].mean()) / np.std(df_top_and_last_ten['gle_cgdpc'])"
   ]
  },
  {
   "cell_type": "code",
   "execution_count": 14,
   "metadata": {},
   "outputs": [],
   "source": [
    "df_top_and_last_ten['zscore_imf_pop'] = (df_top_and_last_ten['imf_pop'] - df_top_and_last_ten['imf_pop'].mean()) / np.std(df_top_and_last_ten['imf_pop'])"
   ]
  },
  {
   "cell_type": "code",
   "execution_count": 15,
   "metadata": {},
   "outputs": [
    {
     "data": {
      "text/plain": [
       "(20, 7)"
      ]
     },
     "execution_count": 15,
     "metadata": {},
     "output_type": "execute_result"
    }
   ],
   "source": [
    "df_top_and_last_ten.shape #df con nan"
   ]
  },
  {
   "cell_type": "code",
   "execution_count": 16,
   "metadata": {},
   "outputs": [],
   "source": [
    "df_top_and_last_ten = df_top_and_last_ten[df_top_and_last_ten['imf_pop'].isna() == False]"
   ]
  },
  {
   "cell_type": "code",
   "execution_count": 17,
   "metadata": {},
   "outputs": [
    {
     "data": {
      "text/plain": [
       "(19, 7)"
      ]
     },
     "execution_count": 17,
     "metadata": {},
     "output_type": "execute_result"
    }
   ],
   "source": [
    "df_top_and_last_ten.shape #borrar nan"
   ]
  },
  {
   "cell_type": "code",
   "execution_count": 18,
   "metadata": {},
   "outputs": [
    {
     "data": {
      "text/html": [
       "<div>\n",
       "<style scoped>\n",
       "    .dataframe tbody tr th:only-of-type {\n",
       "        vertical-align: middle;\n",
       "    }\n",
       "\n",
       "    .dataframe tbody tr th {\n",
       "        vertical-align: top;\n",
       "    }\n",
       "\n",
       "    .dataframe thead th {\n",
       "        text-align: right;\n",
       "    }\n",
       "</style>\n",
       "<table border=\"1\" class=\"dataframe\">\n",
       "  <thead>\n",
       "    <tr style=\"text-align: right;\">\n",
       "      <th></th>\n",
       "      <th>ht_region</th>\n",
       "      <th>undp_hdi</th>\n",
       "      <th>gle_cgdpc</th>\n",
       "      <th>imf_pop</th>\n",
       "      <th>zscore_undp_hdi</th>\n",
       "      <th>zscore_gle_cgdpc</th>\n",
       "      <th>zscore_imf_pop</th>\n",
       "    </tr>\n",
       "  </thead>\n",
       "  <tbody>\n",
       "    <tr>\n",
       "      <th>91</th>\n",
       "      <td>4</td>\n",
       "      <td>0.414</td>\n",
       "      <td>852.39001</td>\n",
       "      <td>25.733000</td>\n",
       "      <td>-1.746303</td>\n",
       "      <td>-0.859210</td>\n",
       "      <td>-0.035912</td>\n",
       "    </tr>\n",
       "    <tr>\n",
       "      <th>5</th>\n",
       "      <td>4</td>\n",
       "      <td>0.441</td>\n",
       "      <td>900.77002</td>\n",
       "      <td>88.347000</td>\n",
       "      <td>-1.577548</td>\n",
       "      <td>-0.856230</td>\n",
       "      <td>2.089543</td>\n",
       "    </tr>\n",
       "    <tr>\n",
       "      <th>3</th>\n",
       "      <td>4</td>\n",
       "      <td>0.473</td>\n",
       "      <td>938.34998</td>\n",
       "      <td>17.604000</td>\n",
       "      <td>-1.377542</td>\n",
       "      <td>-0.853916</td>\n",
       "      <td>-0.311854</td>\n",
       "    </tr>\n",
       "    <tr>\n",
       "      <th>9</th>\n",
       "      <td>4</td>\n",
       "      <td>0.481</td>\n",
       "      <td>1413.05000</td>\n",
       "      <td>10.320000</td>\n",
       "      <td>-1.327540</td>\n",
       "      <td>-0.824679</td>\n",
       "      <td>-0.559113</td>\n",
       "    </tr>\n",
       "    <tr>\n",
       "      <th>1</th>\n",
       "      <td>4</td>\n",
       "      <td>0.493</td>\n",
       "      <td>1440.39000</td>\n",
       "      <td>10.200000</td>\n",
       "      <td>-1.252538</td>\n",
       "      <td>-0.822995</td>\n",
       "      <td>-0.563186</td>\n",
       "    </tr>\n",
       "    <tr>\n",
       "      <th>0</th>\n",
       "      <td>8</td>\n",
       "      <td>0.555</td>\n",
       "      <td>1462.08000</td>\n",
       "      <td>28.174999</td>\n",
       "      <td>-0.865026</td>\n",
       "      <td>-0.821659</td>\n",
       "      <td>0.046982</td>\n",
       "    </tr>\n",
       "    <tr>\n",
       "      <th>93</th>\n",
       "      <td>3</td>\n",
       "      <td>0.688</td>\n",
       "      <td>5598.25980</td>\n",
       "      <td>86.699997</td>\n",
       "      <td>-0.033751</td>\n",
       "      <td>-0.566907</td>\n",
       "      <td>2.033635</td>\n",
       "    </tr>\n",
       "    <tr>\n",
       "      <th>2</th>\n",
       "      <td>8</td>\n",
       "      <td>0.701</td>\n",
       "      <td>13349.76000</td>\n",
       "      <td>0.336000</td>\n",
       "      <td>0.047501</td>\n",
       "      <td>-0.089485</td>\n",
       "      <td>-0.898023</td>\n",
       "    </tr>\n",
       "    <tr>\n",
       "      <th>95</th>\n",
       "      <td>1</td>\n",
       "      <td>0.746</td>\n",
       "      <td>9610.59960</td>\n",
       "      <td>2.069000</td>\n",
       "      <td>0.328760</td>\n",
       "      <td>-0.319783</td>\n",
       "      <td>-0.839196</td>\n",
       "    </tr>\n",
       "    <tr>\n",
       "      <th>6</th>\n",
       "      <td>1</td>\n",
       "      <td>0.758</td>\n",
       "      <td>9793.30960</td>\n",
       "      <td>9.342000</td>\n",
       "      <td>0.403762</td>\n",
       "      <td>-0.308530</td>\n",
       "      <td>-0.592311</td>\n",
       "    </tr>\n",
       "    <tr>\n",
       "      <th>94</th>\n",
       "      <td>3</td>\n",
       "      <td>0.774</td>\n",
       "      <td>12889.28000</td>\n",
       "      <td>75.150002</td>\n",
       "      <td>0.503765</td>\n",
       "      <td>-0.117846</td>\n",
       "      <td>1.641566</td>\n",
       "    </tr>\n",
       "    <tr>\n",
       "      <th>87</th>\n",
       "      <td>1</td>\n",
       "      <td>0.775</td>\n",
       "      <td>11343.92000</td>\n",
       "      <td>7.167000</td>\n",
       "      <td>0.510015</td>\n",
       "      <td>-0.213026</td>\n",
       "      <td>-0.666142</td>\n",
       "    </tr>\n",
       "    <tr>\n",
       "      <th>8</th>\n",
       "      <td>9</td>\n",
       "      <td>0.783</td>\n",
       "      <td>9392.59960</td>\n",
       "      <td>0.018000</td>\n",
       "      <td>0.560017</td>\n",
       "      <td>-0.333210</td>\n",
       "      <td>-0.908818</td>\n",
       "    </tr>\n",
       "    <tr>\n",
       "      <th>90</th>\n",
       "      <td>1</td>\n",
       "      <td>0.798</td>\n",
       "      <td>17780.64100</td>\n",
       "      <td>9.468000</td>\n",
       "      <td>0.653770</td>\n",
       "      <td>0.183418</td>\n",
       "      <td>-0.588034</td>\n",
       "    </tr>\n",
       "    <tr>\n",
       "      <th>89</th>\n",
       "      <td>3</td>\n",
       "      <td>0.799</td>\n",
       "      <td>64342.71100</td>\n",
       "      <td>3.999000</td>\n",
       "      <td>0.660020</td>\n",
       "      <td>3.051221</td>\n",
       "      <td>-0.773681</td>\n",
       "    </tr>\n",
       "    <tr>\n",
       "      <th>7</th>\n",
       "      <td>1</td>\n",
       "      <td>0.875</td>\n",
       "      <td>23847.08000</td>\n",
       "      <td>10.512000</td>\n",
       "      <td>1.135035</td>\n",
       "      <td>0.557055</td>\n",
       "      <td>-0.552595</td>\n",
       "    </tr>\n",
       "    <tr>\n",
       "      <th>4</th>\n",
       "      <td>5</td>\n",
       "      <td>0.892</td>\n",
       "      <td>38868.03900</td>\n",
       "      <td>8.544000</td>\n",
       "      <td>1.241288</td>\n",
       "      <td>1.482211</td>\n",
       "      <td>-0.619400</td>\n",
       "    </tr>\n",
       "    <tr>\n",
       "      <th>88</th>\n",
       "      <td>6</td>\n",
       "      <td>0.899</td>\n",
       "      <td>33181.89100</td>\n",
       "      <td>50.747002</td>\n",
       "      <td>1.285039</td>\n",
       "      <td>1.131996</td>\n",
       "      <td>0.813197</td>\n",
       "    </tr>\n",
       "    <tr>\n",
       "      <th>96</th>\n",
       "      <td>5</td>\n",
       "      <td>0.908</td>\n",
       "      <td>34791.05100</td>\n",
       "      <td>64.597000</td>\n",
       "      <td>1.341291</td>\n",
       "      <td>1.231105</td>\n",
       "      <td>1.283341</td>\n",
       "    </tr>\n",
       "  </tbody>\n",
       "</table>\n",
       "</div>"
      ],
      "text/plain": [
       "    ht_region  undp_hdi    gle_cgdpc    imf_pop  zscore_undp_hdi  \\\n",
       "91          4     0.414    852.39001  25.733000        -1.746303   \n",
       "5           4     0.441    900.77002  88.347000        -1.577548   \n",
       "3           4     0.473    938.34998  17.604000        -1.377542   \n",
       "9           4     0.481   1413.05000  10.320000        -1.327540   \n",
       "1           4     0.493   1440.39000  10.200000        -1.252538   \n",
       "0           8     0.555   1462.08000  28.174999        -0.865026   \n",
       "93          3     0.688   5598.25980  86.699997        -0.033751   \n",
       "2           8     0.701  13349.76000   0.336000         0.047501   \n",
       "95          1     0.746   9610.59960   2.069000         0.328760   \n",
       "6           1     0.758   9793.30960   9.342000         0.403762   \n",
       "94          3     0.774  12889.28000  75.150002         0.503765   \n",
       "87          1     0.775  11343.92000   7.167000         0.510015   \n",
       "8           9     0.783   9392.59960   0.018000         0.560017   \n",
       "90          1     0.798  17780.64100   9.468000         0.653770   \n",
       "89          3     0.799  64342.71100   3.999000         0.660020   \n",
       "7           1     0.875  23847.08000  10.512000         1.135035   \n",
       "4           5     0.892  38868.03900   8.544000         1.241288   \n",
       "88          6     0.899  33181.89100  50.747002         1.285039   \n",
       "96          5     0.908  34791.05100  64.597000         1.341291   \n",
       "\n",
       "    zscore_gle_cgdpc  zscore_imf_pop  \n",
       "91         -0.859210       -0.035912  \n",
       "5          -0.856230        2.089543  \n",
       "3          -0.853916       -0.311854  \n",
       "9          -0.824679       -0.559113  \n",
       "1          -0.822995       -0.563186  \n",
       "0          -0.821659        0.046982  \n",
       "93         -0.566907        2.033635  \n",
       "2          -0.089485       -0.898023  \n",
       "95         -0.319783       -0.839196  \n",
       "6          -0.308530       -0.592311  \n",
       "94         -0.117846        1.641566  \n",
       "87         -0.213026       -0.666142  \n",
       "8          -0.333210       -0.908818  \n",
       "90          0.183418       -0.588034  \n",
       "89          3.051221       -0.773681  \n",
       "7           0.557055       -0.552595  \n",
       "4           1.482211       -0.619400  \n",
       "88          1.131996        0.813197  \n",
       "96          1.231105        1.283341  "
      ]
     },
     "execution_count": 18,
     "metadata": {},
     "output_type": "execute_result"
    }
   ],
   "source": [
    "df_top_and_last_ten.sort_values(['zscore_undp_hdi', \n",
    "                                 'zscore_gle_cgdpc',\n",
    "                                 'zscore_imf_pop'],\n",
    "                                ascending=True)"
   ]
  },
  {
   "cell_type": "markdown",
   "metadata": {},
   "source": [
    "### ¿Qué características en común se encuentran?\n",
    "* Al ordenar de menor a mayor por puntaje z de undp_hdi, para los atributos que tienen un menor undp_hdi el puntaje se aleja más de 0, y así inversamente para los países con mayor undp_hdi"
   ]
  },
  {
   "cell_type": "markdown",
   "metadata": {},
   "source": [
    "## Ejercicio 4: Estime el puntaje z de las regiones\n",
    "\n",
    "* Para ello, modifique la función para generar dotplots de la semana pasada, donde deberá agregar una opción al argumento `statistic` para calcular el puntaje z."
   ]
  },
  {
   "cell_type": "code",
   "execution_count": 19,
   "metadata": {
    "scrolled": false
   },
   "outputs": [
    {
     "data": {
      "image/png": "[encoded data removed]",
      "text/plain": [
       "<Figure size 432x288 with 1 Axes>"
      ]
     },
     "metadata": {
      "needs_background": "light"
     },
     "output_type": "display_data"
    }
   ],
   "source": [
    "fnc.dotplot(df_top_and_last_ten, 'zscore_undp_hdi', 'ht_region')"
   ]
  },
  {
   "cell_type": "code",
   "execution_count": 88,
   "metadata": {},
   "outputs": [],
   "source": [
    "df_my_subsample = pd.read_csv('sebastian-contreras-act05.csv') # cargar mi segmentación de datos\n",
    "df_my_subsample = df_my_subsample[df_my_subsample['imf_pop'].isna() == False]\n",
    "df_my_subsample = df_my_subsample[['ht_region','undp_hdi','gle_cgdpc','imf_pop']].head(10)\n",
    "df_my_subsample = df_my_subsample.append(df_my_subsample[['ht_region','undp_hdi','gle_cgdpc','imf_pop']].tail(9))"
   ]
  },
  {
   "cell_type": "markdown",
   "metadata": {},
   "source": [
    "## Ejercicio 5: Genere un método que devuelva un gráfico comparando dos curvas de densidad\n",
    "\n",
    "* El método debe contener los siguientes argumentos:\n",
    "    - `df1`: Su base de datos segmentada.\n",
    "    - `df2`: Base segmentada de su compañero.\n",
    "    - `variable`: Variable a contrastar.\n",
    "    - `log`: Booleano. Si es `True` transformar la variable al logaritmo. Por defecto debe ser `False`.\n",
    "* Grafique las curvas para `imf_pop`, `gle_cgdpc` y `undp_hdi`. ¿En qué casos es necesario utilizar logaritmos? ¿Por qué?"
   ]
  },
  {
   "cell_type": "code",
   "execution_count": 164,
   "metadata": {},
   "outputs": [],
   "source": [
    "def curvas_densidad(df_propio, df_classmate, plot_var, log=False):\n",
    "    \n",
    "    \"\"\"\n",
    "    Función que gráfica comparación de la densidad de una variable entre dos dataframes \n",
    "    \"\"\"\n",
    "    \n",
    "    if log == True:\n",
    "        tmp_df = pd.DataFrame({\n",
    "        'df_propio' : tuple(np.log(df_propio[plot_var].values)),\n",
    "        'df_classmate' : tuple(np.log(df_classmate[plot_var].values))\n",
    "        })\n",
    "    else:\n",
    "        tmp_df = pd.DataFrame({\n",
    "        'df_propio' : tuple(df_propio[plot_var].values),\n",
    "        'df_classmate' : tuple(df_classmate[plot_var].values)\n",
    "        })\n",
    "\n",
    "    colors = [\"tomato\",\"dodgerblue\"]\n",
    "    titulo = \"Comparación variable {} en dos datasets\".format(plot_var)\n",
    "\n",
    "    plot = tmp_df.plot(kind='kde',use_index=True, legend=True, loglog=False,title= titulo,color = colors, figsize=(8,8))\n",
    "    plot.set_xlabel(plot_var)\n",
    "    \n",
    "    "
   ]
  },
  {
   "cell_type": "code",
   "execution_count": 157,
   "metadata": {},
   "outputs": [
    {
     "data": {
      "image/png": "[encoded data removed]",
      "text/plain": [
       "<Figure size 576x576 with 1 Axes>"
      ]
     },
     "metadata": {
      "needs_background": "light"
     },
     "output_type": "display_data"
    }
   ],
   "source": [
    "curvas_densidad(df_my_subsample,df_top_and_last_ten,'imf_pop', False)"
   ]
  },
  {
   "cell_type": "code",
   "execution_count": 163,
   "metadata": {},
   "outputs": [
    {
     "data": {
      "image/png": "[encoded data removed]",
      "text/plain": [
       "<Figure size 576x576 with 1 Axes>"
      ]
     },
     "metadata": {
      "needs_background": "light"
     },
     "output_type": "display_data"
    }
   ],
   "source": [
    "curvas_densidad(df_my_subsample,df_top_and_last_ten,'gle_cgdpc', False)"
   ]
  },
  {
   "cell_type": "code",
   "execution_count": 161,
   "metadata": {},
   "outputs": [
    {
     "data": {
      "image/png": "[encoded data removed]",
      "text/plain": [
       "<Figure size 576x576 with 1 Axes>"
      ]
     },
     "metadata": {
      "needs_background": "light"
     },
     "output_type": "display_data"
    }
   ],
   "source": [
    "curvas_densidad(df_my_subsample,df_top_and_last_ten,'undp_hdi', False)"
   ]
  },
  {
   "cell_type": "markdown",
   "metadata": {},
   "source": [
    "Cuando las existe poca variación entre los datos de las variables, se recomienda utilizar log"
   ]
  }
 ],
 "metadata": {
  "kernelspec": {
   "display_name": "Python 3",
   "language": "python",
   "name": "python3"
  },
  "language_info": {
   "codemirror_mode": {
    "name": "ipython",
    "version": 3
   },
   "file_extension": ".py",
   "mimetype": "text/x-python",
   "name": "python",
   "nbconvert_exporter": "python",
   "pygments_lexer": "ipython3",
   "version": "3.6.6"
  }
 },
 "nbformat": 4,
 "nbformat_minor": 2
}
