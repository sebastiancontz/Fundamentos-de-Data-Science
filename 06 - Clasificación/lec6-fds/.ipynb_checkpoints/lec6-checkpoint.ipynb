{
 "cells": [
  {
   "cell_type": "code",
   "execution_count": null,
   "metadata": {},
   "outputs": [],
   "source": [
    "<img src=\"logo.png\",width=200,height=200>"
   ]
  },
  {
   "cell_type": "markdown",
   "metadata": {},
   "source": [
    "# Clasificación \n",
    "#### Clasificando observaciones en base a atributos exógenos\n",
    "\n",
    "> __Alcance de la sesión__:\n",
    ">\n",
    "> * Conocer la regresión logística y sus fundamentos.\n",
    "> * Conocer y ser capaz de interpretar estadísticos de bondad de ajuste y coeficientes.\n",
    "> * Reconocer los supuestos en que tiene sustento teórico.\n",
    "> * Implementar un modelo de regresión con `statsmodels`.\n",
    "> * Implementar un modelo predictivo con `scikit-learn`.\n",
    "> * Conocer los conceptos de validación cruzada y medidas de desempeño.\n",
    "\n",
    "\n",
    "* En esta semana estudiaremos el problema de clasificación en Data Science, que busca esclarecer sobre los efectos que tienen los atributos en una variable categórica.\n",
    "* Siguiendo la taxonomía de Hastie, Tibshinari y Friedman (2009), los problemas de clasificación corresponden a un ejemplo de aprendizaje supervisado donde el vector objetivo responde a un atributo discreto. Ejemplos de ello:\n",
    "    - Movimientos del mercado: _¿Bajará o subirá la bolsa?_ $\\leadsto Y_{i} \\in \\{0: Baja, 1: Sube\\}$.\n",
    "    - Clasificación de Spam: _¿Es este mail Spam o No?_ $\\leadsto Y_{i} \\in \\{0: No, 1: Sí\\}$.\n",
    "    - Optimización de Preferencias: _¿Es más probable votar o no?_ $\\leadsto Y_{i} \\in \\{0: No Vota, 1: Vota \\}$\n",
    "* Los ejemplos mencionados hacen referencia a un problema de clasificación binario, donde observamos la presencia o ausencia de un atributo. La aproximación de este fenómeno toma forma en un ensayo de Bernoulli."
   ]
  },
  {
   "cell_type": "code",
   "execution_count": 92,
   "metadata": {},
   "outputs": [],
   "source": [
    "# Imporatamos la triada clásica \n",
    "import numpy as np\n",
    "import pandas as pd\n",
    "import matplotlib.pyplot as plt\n",
    "%matplotlib inline\n",
    "# seaborn\n",
    "import seaborn as sns\n",
    "# scipy stats para simular\n",
    "import scipy.stats as stats\n",
    "# statsmodels para modelación\n",
    "import statsmodels.api as sm\n",
    "import statsmodels.formula.api as smf\n",
    "\n",
    "import warnings\n",
    "warnings.filterwarnings(\"ignore\")\n",
    "\n",
    "import lec6_graphs as gfx\n",
    "\n",
    "plt.style.use('seaborn') # Gráficos estilo seaborn\n",
    "# plt.rcParams[\"figure.figsize\"] = (6, 3) # Tamaño gráficos\n",
    "# plt.rcParams[\"figure.dpi\"] = 200 # resolución gráficos"
   ]
  },
  {
   "cell_type": "markdown",
   "metadata": {},
   "source": [
    "## Estimado probabilidades de éxito y fracaso\n",
    "\n",
    "* La tarea de esta lectura es el uso de pozos de agua en Bangladesh. Resulta que el agua en Bangladesh y otros países del Sudeste Asiático está contaminada con [arsénico natural](https://www.nytimes.com/2005/07/17/us/the-lethal-water-wells-of-bangladesh.html). El riesgo del arsénico como cancerígeno y catalizador de otras enfermedades aumenta con la exposición prolongada. El gobierno de Bangladesh inició una estrategia nacional para la mitigación de riesgos asociados al arsénico. Una de las estrategias era el incentivar el uso compartido de pozos de napa subterránea, dado que presentan tasas de arsénico susbtancialmente menores.\n",
    "* Usaremos una base de datos donde se registró si un hogar comenzó a utilizar un nuevo pozo de napa subterránea o no. Así, clasificaremos como 1 si el hogar se cambió a un pozo nuevo, 0 de lo contrario. Analizaremos la probabilidad de cambiarse o no en función a las siguientes variables:\n",
    "    1. La distancia del hogar al pozo más cercano (medida en 100 metros) (`dist100`).\n",
    "    - El nivel de arsénico del actual pozo en uso del hogar (`arsenic`).\n",
    "    - El nivel educacional de el/la jefe/a de hogar (`educ4`).\n",
    "    - Si algún miembro de la familia participa o no en asociaciones comunitarias (`assoc`).\n",
    "\n",
    "* Importemos la base de datos con `pandas`."
   ]
  },
  {
   "cell_type": "code",
   "execution_count": 93,
   "metadata": {},
   "outputs": [],
   "source": [
    "# ingresamos la base de datos\n",
    "df = pd.read_csv('wells.csv')\n",
    "# La base de datos incluye una columna de índice. Eliminemosla para evitar futuros conflictos\n",
    "df = df.drop(\"index\", axis =1)"
   ]
  },
  {
   "cell_type": "markdown",
   "metadata": {},
   "source": [
    "### Análisis exploratorio\n",
    "\n",
    "* La base de datos se compone de 3020 observaciones y cinco columnas"
   ]
  },
  {
   "cell_type": "code",
   "execution_count": 94,
   "metadata": {},
   "outputs": [
    {
     "name": "stdout",
     "output_type": "stream",
     "text": [
      "La base de datos tiene  3020 observaciones y  5  columnas\n",
      "Las variables de la base de datos son  Index(['y', 'dist100', 'arsenic', 'educ4', 'assoc'], dtype='object')\n"
     ]
    }
   ],
   "source": [
    "print(\"La base de datos tiene \", df.shape[0], \"observaciones y \", df.shape[1], \" columnas\")\n",
    "print(\"Las variables de la base de datos son \", df.columns)"
   ]
  },
  {
   "cell_type": "markdown",
   "metadata": {},
   "source": [
    "* Solicitemos las medidas descriptivas de los datos con los que vamos a trabajar. Como ya sabemos que el método `describe` de pandas funciona sólo con las columnas numéricas, utilizaremos `value_counts` para las columnas con atributos discretos. \n",
    "* Esto lo implementamos en un `for` con un `if` para diferenciar si los atributos tiene más de dos niveles."
   ]
  },
  {
   "cell_type": "code",
   "execution_count": 95,
   "metadata": {
    "scrolled": false
   },
   "outputs": [
    {
     "name": "stdout",
     "output_type": "stream",
     "text": [
      "1    0.575166\n",
      "0    0.424834\n",
      "Name: y, dtype: float64 \n",
      "\n",
      "count    3020.000000\n",
      "mean        0.483319\n",
      "std         0.384787\n",
      "min         0.003870\n",
      "25%         0.211172\n",
      "50%         0.367615\n",
      "75%         0.640410\n",
      "max         3.395310\n",
      "Name: dist100, dtype: float64 \n",
      "\n",
      "count    3020.000000\n",
      "mean        1.656930\n",
      "std         1.107387\n",
      "min         0.510000\n",
      "25%         0.820000\n",
      "50%         1.300000\n",
      "75%         2.200000\n",
      "max         9.650000\n",
      "Name: arsenic, dtype: float64 \n",
      "\n",
      "count    3020.000000\n",
      "mean        1.207119\n",
      "std         1.004329\n",
      "min         0.000000\n",
      "25%         0.000000\n",
      "50%         1.250000\n",
      "75%         2.000000\n",
      "max         4.250000\n",
      "Name: educ4, dtype: float64 \n",
      "\n",
      "0    0.577152\n",
      "1    0.422848\n",
      "Name: assoc, dtype: float64 \n",
      "\n"
     ]
    }
   ],
   "source": [
    "for i in df:\n",
    "    if len(df[i].value_counts()) > 2:\n",
    "        print(df[i].describe(), \"\\n\")\n",
    "    else:\n",
    "        print(df[i].value_counts('%'), \"\\n\")"
   ]
  },
  {
   "cell_type": "code",
   "execution_count": 96,
   "metadata": {},
   "outputs": [
    {
     "data": {
      "text/html": [
       "<div>\n",
       "<style scoped>\n",
       "    .dataframe tbody tr th:only-of-type {\n",
       "        vertical-align: middle;\n",
       "    }\n",
       "\n",
       "    .dataframe tbody tr th {\n",
       "        vertical-align: top;\n",
       "    }\n",
       "\n",
       "    .dataframe thead th {\n",
       "        text-align: right;\n",
       "    }\n",
       "</style>\n",
       "<table border=\"1\" class=\"dataframe\">\n",
       "  <thead>\n",
       "    <tr style=\"text-align: right;\">\n",
       "      <th></th>\n",
       "      <th>y</th>\n",
       "      <th>dist100</th>\n",
       "      <th>arsenic</th>\n",
       "      <th>educ4</th>\n",
       "      <th>assoc</th>\n",
       "    </tr>\n",
       "  </thead>\n",
       "  <tbody>\n",
       "    <tr>\n",
       "      <th>count</th>\n",
       "      <td>3020.000000</td>\n",
       "      <td>3020.000000</td>\n",
       "      <td>3020.000000</td>\n",
       "      <td>3020.000000</td>\n",
       "      <td>3020.000000</td>\n",
       "    </tr>\n",
       "    <tr>\n",
       "      <th>mean</th>\n",
       "      <td>0.575166</td>\n",
       "      <td>0.483319</td>\n",
       "      <td>1.656930</td>\n",
       "      <td>1.207119</td>\n",
       "      <td>0.422848</td>\n",
       "    </tr>\n",
       "    <tr>\n",
       "      <th>std</th>\n",
       "      <td>0.494400</td>\n",
       "      <td>0.384787</td>\n",
       "      <td>1.107387</td>\n",
       "      <td>1.004329</td>\n",
       "      <td>0.494093</td>\n",
       "    </tr>\n",
       "    <tr>\n",
       "      <th>min</th>\n",
       "      <td>0.000000</td>\n",
       "      <td>0.003870</td>\n",
       "      <td>0.510000</td>\n",
       "      <td>0.000000</td>\n",
       "      <td>0.000000</td>\n",
       "    </tr>\n",
       "    <tr>\n",
       "      <th>25%</th>\n",
       "      <td>0.000000</td>\n",
       "      <td>0.211172</td>\n",
       "      <td>0.820000</td>\n",
       "      <td>0.000000</td>\n",
       "      <td>0.000000</td>\n",
       "    </tr>\n",
       "    <tr>\n",
       "      <th>50%</th>\n",
       "      <td>1.000000</td>\n",
       "      <td>0.367615</td>\n",
       "      <td>1.300000</td>\n",
       "      <td>1.250000</td>\n",
       "      <td>0.000000</td>\n",
       "    </tr>\n",
       "    <tr>\n",
       "      <th>75%</th>\n",
       "      <td>1.000000</td>\n",
       "      <td>0.640410</td>\n",
       "      <td>2.200000</td>\n",
       "      <td>2.000000</td>\n",
       "      <td>1.000000</td>\n",
       "    </tr>\n",
       "    <tr>\n",
       "      <th>max</th>\n",
       "      <td>1.000000</td>\n",
       "      <td>3.395310</td>\n",
       "      <td>9.650000</td>\n",
       "      <td>4.250000</td>\n",
       "      <td>1.000000</td>\n",
       "    </tr>\n",
       "  </tbody>\n",
       "</table>\n",
       "</div>"
      ],
      "text/plain": [
       "                 y      dist100      arsenic        educ4        assoc\n",
       "count  3020.000000  3020.000000  3020.000000  3020.000000  3020.000000\n",
       "mean      0.575166     0.483319     1.656930     1.207119     0.422848\n",
       "std       0.494400     0.384787     1.107387     1.004329     0.494093\n",
       "min       0.000000     0.003870     0.510000     0.000000     0.000000\n",
       "25%       0.000000     0.211172     0.820000     0.000000     0.000000\n",
       "50%       1.000000     0.367615     1.300000     1.250000     0.000000\n",
       "75%       1.000000     0.640410     2.200000     2.000000     1.000000\n",
       "max       1.000000     3.395310     9.650000     4.250000     1.000000"
      ]
     },
     "execution_count": 96,
     "metadata": {},
     "output_type": "execute_result"
    }
   ],
   "source": [
    "df.describe()"
   ]
  },
  {
   "cell_type": "markdown",
   "metadata": {},
   "source": [
    "* Respecto a las variables con atributos discretos (nuestra variable dependiente `y`, y `assoc`), observamos que alrededor del 58% de las familias componentes de la muestra se cambiaron de pozo a uno más seguro. Encontramos lo opuesto con `assoc`, cerca del 58% de los jefe de hogar en la familia no participan en asociaciones comunitarias. El nivel educacional de los encuestados se mide en el máximo grado académico desde 0 (Sin educación formal) a 4 (Secundaria completa). La media reportada sugiere que gran parte de la población posee niveles bajos de educación.\n",
    "* La mayoría de las familias se sitúan en una distancia de 48 metros de un pozo seguro, y el nivel de arsénico promedio en el agua es de 1.65, entre el rango de .51 y 9.65, lo cual es relativamente bajo.\n",
    "* Para tener una mejor perspectiva del comportamiento de las columnas, vamos a graficarlas con histogramas para las contínuas y gráficos de barra las discretas."
   ]
  },
  {
   "cell_type": "code",
   "execution_count": 97,
   "metadata": {
    "scrolled": false
   },
   "outputs": [
    {
     "data": {
      "image/png": "[encoded data removed]",
      "text/plain": [
       "<matplotlib.figure.Figure at 0x1c1eb73400>"
      ]
     },
     "metadata": {},
     "output_type": "display_data"
    }
   ],
   "source": [
    "for n, i in enumerate(df):\n",
    "    plt.subplot(2, 3, n+1)\n",
    "    if len(df[i].value_counts()) > 2:\n",
    "        sns.distplot(df[i])\n",
    "        plt.title(i)\n",
    "        plt.xlabel(\"\")\n",
    "    else:\n",
    "        sns.countplot(y=df[i])\n",
    "        plt.title(i)\n",
    "        plt.xlabel(\"\")\n",
    "    plt.tight_layout()"
   ]
  },
  {
   "cell_type": "markdown",
   "metadata": {},
   "source": [
    "* Observamos que para `dist100`, `arsenic` y `educ4` existe un sesgo hacia los valores bajos, lo cual sugiere que los casos donde la distancia y el nivel de arsénico son substancialmente grandes son relativamente anómalos.\n",
    "* Respecto a las variables discretas, observamos que las clases están relativamente bien equilibradas, lo cual facilita nuestra modelación.\n",
    "> __Digresión__: ¿Qué hacer ante clases desbalanceadas?\n",
    ">\n",
    "> Existe una serie de mecanismos alternativos para mitigar el efecto del desbalance en las clases:\n",
    "> 1. Asumir que el componente estocástico del modelo se puede representar de mejor manera mediante una distribución Poisson, Binomial Negativa o Cero Dispersa.\n",
    "> - Utilizar errores robustos (Huber-White sandwich) para fortalecer la matriz de varianza-covarianza.\n",
    "> - Estimar el modelo con robit (regresión logística t-distribuída) por sobre logit.\n",
    "> - Recolectar más datos en la medida que sea posible.\n",
    "> - Remuestrear sobre la muestra para disminuir el desbalance:\n",
    ">> - __Over-sampling:__ Remuestrear copias de la clase sub-representada a la muestra original.\n",
    ">> - __Under-sampling:__ Eliminar instancias de la clase sobrerepresentada.\n",
    "\n",
    "* Ahora visualizemos las correlaciones mediante una matriz. Seaborn presenta el método `sns.heatmap()` para generar un gráfico sobre la intensidad de las asociaciones entre las variables de una base de datos. Los parámetros ingresados son:\n",
    "    1. `df.corr()` ingresamos las correlaciones calculadas mediante `pandas`.\n",
    "    - `cmap='Blues'` define el rango de colores. En este caso utilizaremos una gama de azules.\n",
    "    - `annot=True` añadirá el puntaje de la correlación sobre cada celda."
   ]
  },
  {
   "cell_type": "code",
   "execution_count": 98,
   "metadata": {},
   "outputs": [
    {
     "data": {
      "image/png": "[encoded data removed]",
      "text/plain": [
       "<matplotlib.figure.Figure at 0x1c1ef64b38>"
      ]
     },
     "metadata": {},
     "output_type": "display_data"
    }
   ],
   "source": [
    "sns.heatmap(df.corr(), cmap='Blues', annot=True);"
   ]
  },
  {
   "cell_type": "markdown",
   "metadata": {},
   "source": [
    "* Los resultados de la matriz de correlación pueden ser desalentadores, dado que no hay asociaciones fuertes entre las variables. Por defecto utilizamos la correlación de pearson, que no tiene un buen desempeño con variables que no sean estrictamente normales. Como ya se ha mencionado antes, ésto no es un impedimiento para seguir con la modelación ya que muchas relaciones no son estrictamente lineales.\n",
    "\n",
    "\n",
    "## El modelo de probabilidad lineal\n",
    "\n",
    "* Una primera aproximación al problema de clasificación binario es utilizar una regresión lineal, asumiendo que en nuestra variable dependiente estaremos midiendo la __probabilidad__ del suceso.\n",
    "\n",
    "$$\n",
    "\\texttt{y}_{i} = \\beta_{0} + \\beta_{1}\\times\\texttt{dist100} + \\varepsilon_{i}\n",
    "$$\n",
    "\n",
    "* Este modelo se conoce como __modelo de probabilidad lineal__, donde implementamos una regresión lineal con nuestra variable dependiente binaria. Los parámetros estimados afectan la _probabilidad que el evento suceda_. Con nuestro $\\hat{Y}$ predicho podemos clasificar una observación como 1 si $\\hat{Y} > 0.5$, de lo contrario 0."
   ]
  },
  {
   "cell_type": "code",
   "execution_count": 99,
   "metadata": {},
   "outputs": [],
   "source": [
    "# ejecutemos nuestro modelo\n",
    "m1_ols = smf.ols('y ~ dist100', df).fit()"
   ]
  },
  {
   "cell_type": "markdown",
   "metadata": {},
   "source": [
    "* Ahora vamos a generar una función para obtener sólo los parámetros necesarios en nuestro modelo. La función `concise_summary()` necesita como argumento el modelo estimado con `statsmodels` y devolverá sólo algunas características esenciales del modelo."
   ]
  },
  {
   "cell_type": "code",
   "execution_count": 100,
   "metadata": {
    "scrolled": true
   },
   "outputs": [
    {
     "name": "stdout",
     "output_type": "stream",
     "text": [
      "\n",
      "Goodness of Fit statistics\n",
      "             Statistics      Value\n",
      "2                 BIC:  4288.4686\n",
      "3      Log-Likelihood:    -2136.2\n",
      "4         F-statistic:      42.57\n",
      "5  Prob (F-statistic):   7.95e-11\n",
      "6               Scale:    0.24111\n",
      "\n",
      "Point Estimates\n",
      "\n",
      "               Coef.  Std.Err.\n",
      "Intercept  0.648407  0.014347\n",
      "dist100   -0.151539  0.023225\n"
     ]
    }
   ],
   "source": [
    "def concise_summary(mod, print_fit=True):\n",
    "    #guardamos los parámetros asociados a estadísticas de ajuste\n",
    "    fit = pd.DataFrame({'Statistics': mod.summary2().tables[0][2][2:],\n",
    "                       'Value': mod.summary2().tables[0][3][2:]})\n",
    "    # guardamos los parámetros estimados por cada regresor.\n",
    "    estimates = pd.DataFrame(mod.summary2().tables[1].loc[:, 'Coef.': 'Std.Err.'])\n",
    "    # imprimir fit es opcional\n",
    "    if print_fit is True:\n",
    "        print(\"\\nGoodness of Fit statistics\\n\", fit)\n",
    "    \n",
    "    print(\"\\nPoint Estimates\\n\\n\", estimates)\n",
    "\n",
    "# solicitemos las características del modelo\n",
    "concise_summary(m1_ols)"
   ]
  },
  {
   "cell_type": "markdown",
   "metadata": {},
   "source": [
    "* Una de las primeras preguntas que nos hacemos es __¿dónde está nuestro R-cuadrado?__ Resulta que no es tan relevante para nuestro modelo, dado que mide simplemente la capacidad explicativa de la variabilidad de $Y$ dado un conjunto de variables explicativas. Preferimos concentrarnos en aspectos menos triviales como si por lo menos uno de nuestros parámetros es distinto a cero, que se mide con `Prob (F-statistic)`. Aspectos como el BIC (Bayesian Information Criteria) y el Log-Likelihood son más informativos sobre la optimización de nuestro método que el R-cuadrado. \n",
    "* Respecto a los puntos estimados, nuestra función reporta sólo el coeficiente y su error estandar asociado. La interpretación de los coeficientes en este modelo son:\n",
    "\n",
    "- El intercepto ($\\beta_{0}$) se puede interpretar al considerar `dist100=0`. Una familia que esté a 0 metros de distancia de un pozo tendrá una probabilidad del 65% de cambiarse de pozo (asumiendo que está limpio).\n",
    "    \n",
    "    - El tema es que la función `concise_summary` no devuelve nuestra significancia estadística. Para obtener el puntaje z, simplemente dividimos el parámetro estimado por su desviación estandar. En este caso $z= 0.648 /0.014 = 46.28$. Al ser superior a los puntajes de corte, existe evidencia para rechazar la hipótesis nula al 95%.\n",
    "    \n",
    "- `dist100` ($\\beta_{1}$) se puede interpretar como la diferencia entre dos individuos que tienen similares características pero difieren _en 100 metros de distancia de un pozo seguro_, conlleva a una disminución de un 15% en la probabilidad de cambiarse de pozo. El parámetro es significativo con un z de  $z= -0.151 /0.023 = -6.56$ es superior a los puntos críticos por lo que existe evidencia para rechazar la hipótesis nula.\n",
    "\n"
   ]
  },
  {
   "cell_type": "code",
   "execution_count": 101,
   "metadata": {},
   "outputs": [
    {
     "data": {
      "image/png": "[encoded data removed]",
      "text/plain": [
       "<matplotlib.figure.Figure at 0x1c13238c50>"
      ]
     },
     "metadata": {},
     "output_type": "display_data"
    }
   ],
   "source": [
    "sns.lmplot('dist100','y', df, \n",
    "           line_kws={'color':'tomato'},\n",
    "           scatter_kws={'color': 'grey', 'alpha': .5});"
   ]
  },
  {
   "cell_type": "markdown",
   "metadata": {},
   "source": [
    "* Podemos visualizar la relación entre ambas variables con `sns.lmplot`, que solicita el eje x `dist100` y la dependiente `y`. Los argumentos `line_kws` y `scatter_kws` gobiernan los elementos visuales de los puntos y la recta. De forma intuitiva se demuestra que en la medida que la probabilidad de cambiarse de pozo disminuye en la medida que la familia se encuentra más alejada de un pozo.\n",
    "\n",
    "* Una de las ventajas del modelo de probabilidad lineal es la facilidad de su interpretación, dado que los coeficientes hacen referencia al cambio en una unidad de X afecta a la probabilidad $\\text{Pr}(y=1)$. Lamentablemente, no está exento de problemas. Alguno de estos:\n",
    "    1. Los parámetros estimados $x_{i}\\beta$ pueden tomar valores mayores que 1 y menores que 0, lo cual va más allá de los límites razonables de la probabilidad.\n",
    "    - Los errores no siguen una distribución normal, dado que pueden tomar sólo dos valores. Los errores nunca podrán estar normalmente distribuídos.\n",
    "    - La forma funcional impuesta por el modelo lineal restringe las nolinealidades en los extremos de la distribución de la muestra.\n",
    "\n",
    "## Regresión Logística al rescate\n",
    "\n",
    "* Si bien nuestro estimador LPM es intuitivo, presenta fallas severas en la estimación. La regresión logística permite generar estimaciones mediante el __método de máxima verosimilitud__ y toma en consideración los problemas anteriormente vistos. Los detalles sobre el método de máxima verosimilitud se los dejaremos a Python :).\n",
    "* Resulta que nuestro objetivo es desarrollar un modelo predictivo para la probabilidad de ocurrencia de Y ($\\text{Pr}(x)=\\text{Pr}(Y =1 \\vert X = x)$).\n",
    "\n",
    "$$\n",
    "\\log\\left(\\frac{p(x)}{1 - p(x)}\\right) = \\beta_0 + \\beta_{1}\\times\\texttt{dist100}\n",
    "$$\n",
    "\n",
    "* Implementar la regresión logística con `statsmodels` es similar a la implementación del modelo de regresión lineal. Necesitamos declarar la ecuación como un string y definir el objeto donde `statsmodels` buscará las variables.\n",
    "* El método requiere que nuestra variable dependiente sea binaria. Los regresores independientes pueden ser contínuos y/o categóricos."
   ]
  },
  {
   "cell_type": "code",
   "execution_count": 102,
   "metadata": {},
   "outputs": [
    {
     "name": "stdout",
     "output_type": "stream",
     "text": [
      "Optimization terminated successfully.\n",
      "         Current function value: 0.674874\n",
      "         Iterations 4\n",
      "\n",
      "Goodness of Fit statistics\n",
      "         Statistics      Value\n",
      "2             AIC:  4080.2378\n",
      "3             BIC:  4092.2639\n",
      "4  Log-Likelihood:    -2038.1\n",
      "5         LL-Null:    -2059.0\n",
      "6           Scale:     1.0000\n",
      "\n",
      "Point Estimates\n",
      "\n",
      "               Coef.  Std.Err.\n",
      "Intercept  0.605959  0.060310\n",
      "dist100   -0.621882  0.097426\n"
     ]
    }
   ],
   "source": [
    "m1_logit = smf.logit('y ~ dist100', df).fit()\n",
    "concise_summary(m1_logit)"
   ]
  },
  {
   "cell_type": "markdown",
   "metadata": {},
   "source": [
    "### ¿Y qué significa todo esto para nosotros?\n",
    "\n",
    "* Podríamos estar tentados a interpretar los coeficientes como:\n",
    "\n",
    "> \"La diferencia entre dos individuos que tienen similares características pero difieren _en 100 metros de distancia de un pozo seguro_, conlleva a una disminución de un .62 en la probabilidad de cambiarse de pozo.\n",
    "\n",
    "* Esto esta mal, dado que los parámetros estimados mediante la regresión logística se conocen como _log-odds_, que representan el logaritmo de la chance de ocurrencia de un evento en específico. Esto obliga a tomar con cautela el cómo se deben interpretar. La intepretación de arriba tiene sentido cuando hablamos del _logaritmo de la chance de ocurrencia_, lo cual resulta difícil de entender.\n",
    "\n",
    "> __Digresión:__ Chance de ocurrencia es distinto a probabilidad.\n",
    ">\n",
    "> Aunque en el ámbito cotidiano se utiliza *'chance de ocurrencia'* (Odds) y *'probabildad'*(probability) como sinónimos, en estadística (y en especial en teoría de juegos) estos dos conceptos son distintos, aunque están fuertemente relacionados entre si:\n",
    ">\n",
    "> La __probabilidad__ de que ocurra un suceso se define (clásicamente) de manera empírica, es decir:\n",
    ">\n",
    "> $$\n",
    "p(x) = \\frac{\\text{Nº de ocurrencias de x}}{\\text{Casos totales medidos}}\n",
    "$$\n",
    ">\n",
    "> La __chance__ de que ocurra ese mismo suceso es:\n",
    ">$$\n",
    "Odd(x) = \\frac{p(x)}{1-p(x)}\n",
    "$$\n",
    "> La diferencia entre __chance de ocurrencia__ y __probabilidad__ es que la chance de ocurrencia nos dice qué tanto del espacio de eventos posibles está siendo utilizado por el evento de interés, mientras que la probabilidad nos dice qué tan \"seguros\" podemos estar el resultado final. Por ejemplo, imaginemos que vamos a una casa de apuestas de caballos y nos enteramos que al caballo _'Lucky Luke'_ ha ganado 30 de las 100 carreras que ha corrido, luego, la probabilidad de que _'Lucky Luke'_ gane la siguiente carrera es de $30/100 = 0.30$, mientras que las chances de que gane son de $0.30/(1-0.30) = 0.43$, o dicho más cotidianamente, 3 victorias a 7 derrotas. Finalmente, notar que las chances de ganar pueden ser un número en todo el intervalo $[0,∞+]$, lo cuál es justo lo que necesitamos para poder utilizar la regresión lineal en este caso donde nuestra recta de separación entre las clases debe poder extenderse más allá del rango $[0, 1]$ que nos entrega la medída de probabilidad.\n",
    ">\n",
    "> Esta última relación matemática nos da la razón de existencias de ese logaritmo en la expresión presentada al inicio de esta sección: __Aplicar la función _´logit´_ a la probabilidad nos entrega el logaritmo de las chances (odds)__.\n",
    "\n",
    "* El objetivo es traducir los valores del log odds en una declaración de probabilidad entre 0 y 1. Así se genera una explicación intuitiva sobre el efecto de una variable _en la probabilidad de ocurrencia_ (por sobre el efecto de una variable _en el logaritmo de la chance de ocurrencia_). Para ello utilizamos la función _logística inversa_ (presentada como $\\text{logit}^{-1}(x)=\\frac{exp(x)}{1+exp(-x)}$).\n"
   ]
  },
  {
   "cell_type": "markdown",
   "metadata": {},
   "source": [
    "* Supongamos que deseamos saber la probabilidad de cambiarse a un pozo seguro _para toda la muestra_. En base a nuestro modelo estimado, podemos obtener la probabilidad con los siguientes pasos:\n",
    "\n",
    "__1. Calcular el log odds promedio cuando dist100 es igual al promedio__\n",
    "\n",
    "* Primero debemos reemplazar valores en nuestra ecuación para interpolar el punto predicho cuando `dist100` toma el promedio:\n",
    "\n",
    "$$\n",
    "\\text{Pr}(\\text{CambioPozo} =1 \\vert X) = \\text{log}\\left(\\frac{exp(\\beta_0 + \\beta_1)}{1-exp(\\beta_0 + \\beta_1)}\\right)\n",
    "$$\n",
    "\n",
    "Esto lo podemos aplicar de la siguiente manera:"
   ]
  },
  {
   "cell_type": "code",
   "execution_count": 103,
   "metadata": {},
   "outputs": [
    {
     "name": "stdout",
     "output_type": "stream",
     "text": [
      "La media es de  0.48\n",
      "El log odds estimado es de  0.31\n"
     ]
    }
   ],
   "source": [
    "# guardamos la media en un objeto\n",
    "dist100_mean = df['dist100'].mean()\n",
    "print(\"La media es de \", round(dist100_mean, 2))\n",
    "\n",
    "# accedemos a los parámetros con la sintáxis modelo.params['parametro]\n",
    "estimate_y = m1_logit.params['Intercept'] + (m1_logit.params['dist100'] * dist100_mean)\n",
    "print(\"El log odds estimado es de \", round(estimate_y, 2))"
   ]
  },
  {
   "cell_type": "markdown",
   "metadata": {},
   "source": [
    "__2. Convertir nuestro log odds estimado en una probabilidad__\n",
    "\n",
    "* Este punto estimado debemos traducirlo a una probabilidad por medio de la función logística inversa, que definimos en Python como una función:"
   ]
  },
  {
   "cell_type": "code",
   "execution_count": 104,
   "metadata": {},
   "outputs": [
    {
     "name": "stdout",
     "output_type": "stream",
     "text": [
      "La probabilidad promedio de cambiarse de pozo cuando tenemos una distancia de 48 metros es:  0.58\n"
     ]
    }
   ],
   "source": [
    "def invlogit(x):\n",
    "    return 1 / (1+np.exp(-x))\n",
    "\n",
    "print(\"La probabilidad promedio de cambiarse de pozo cuando tenemos una distancia de 48 metros es: \", \n",
    "      round(invlogit(estimate_y), 2))"
   ]
  },
  {
   "cell_type": "markdown",
   "metadata": {},
   "source": [
    "* Realizar el mapeo de log odds a probabilidades puede ser tedioso, pero le damos mucho más sentido a nuestro modelo.\n",
    "\n",
    "### Calculando el efecto diferencial \n",
    "\n",
    "* También podemos estar interesados en el cambio en la probabilidad cuando nuestro $x$ aumenta en 1 unidad. Esto se asemeja a nuestra conceptualización clásica del coeficiente estimado en la regresión lineal.\n",
    "* De manera similar a como lo hicimos con el efecto promedio, debemos generar las funciones logísticas inversas para estimar la probabilidad de __dos eventos__, mediante los cuales simularemos el cambio en la probabilidad cuando nuestro $x$ cambia en una unidad.\n",
    "* Vamos a generar cuatro escenarios donde se estimará la probabilidad de cambio para 100, 200, 300 y 400 metros."
   ]
  },
  {
   "cell_type": "code",
   "execution_count": 105,
   "metadata": {},
   "outputs": [],
   "source": [
    "pr_dist_100 = invlogit(m1_logit.params['Intercept'] + (m1_logit.params['dist100'] * 1))\n",
    "pr_dist_200 = invlogit(m1_logit.params['Intercept'] + (m1_logit.params['dist100'] * 2))\n",
    "pr_dist_300 = invlogit(m1_logit.params['Intercept'] + (m1_logit.params['dist100'] * 3))\n",
    "pr_dist_400 = invlogit(m1_logit.params['Intercept'] + (m1_logit.params['dist100'] * 4))"
   ]
  },
  {
   "cell_type": "markdown",
   "metadata": {},
   "source": [
    "* Si deseamos ver cuál es el cambio de la probabilidad en una unidad, restamos dos unidades estimadas. Las líneas de abajo "
   ]
  },
  {
   "cell_type": "code",
   "execution_count": 106,
   "metadata": {},
   "outputs": [
    {
     "name": "stdout",
     "output_type": "stream",
     "text": [
      "La probabilidad de cambiar de pozo entre 100 y 200 metros:  0.15\n",
      "La probabilidad de cambiar de pozo entre 200 y 300 metros:  0.125\n",
      "La probabilidad de cambiar de pozo entre 300 y 400 metros:  0.089\n"
     ]
    }
   ],
   "source": [
    "print(\"La probabilidad de cambiar de pozo entre 100 y 200 metros: \", round(pr_dist_100 - pr_dist_200, 3))\n",
    "print(\"La probabilidad de cambiar de pozo entre 200 y 300 metros: \", round(pr_dist_200 - pr_dist_300, 3))\n",
    "print(\"La probabilidad de cambiar de pozo entre 300 y 400 metros: \", round(pr_dist_300 - pr_dist_400, 3))"
   ]
  },
  {
   "cell_type": "markdown",
   "metadata": {},
   "source": [
    "* Se observa que el tránsito entre distintos valores conlleva a distintos cambios en las probabilidades. Este es uno de los principales motivos de esta cautela en la interpretación del modelo logístico: __No se puede asumir monotonicidad estricta en los parámetros__. La probabilidad de un cambio entre 200 y 300 ($\\text{Pr}(x)=.124$) es distinta a la probabilidad entre 300 y 400 ($\\text{Pr}(x)=.088$).\n",
    "\n",
    "* Podemos visualizar la estimación logística mediante el método `sns.lmplot`, incluyendo un argumento `logistic=True` que estimará la recta de ajuste en función a los log-odds.\n",
    "* La línea azul vertical se conoce como el límite de decisión, situación hipotética donde una observación tiene iguales chances del evento en cuestion. \n",
    "* En este este caso, cuando una familia se encuentre aproximadamente a 97 metros de un pozo seguro, tendrán iguales chances de cambiarse o no. Para estimar el límite de decisión, se utiliza la siguiente fórmula:\n",
    "\n",
    "$$\n",
    "x_1 = \\frac{-\\hat{\\beta}_0}{\\hat{\\beta}_1}.\n",
    "$$"
   ]
  },
  {
   "cell_type": "code",
   "execution_count": 107,
   "metadata": {},
   "outputs": [
    {
     "name": "stdout",
     "output_type": "stream",
     "text": [
      "Una observación tiene igual probabilidad en ambos sucesos cuando x =  0.974\n"
     ]
    },
    {
     "data": {
      "image/png": "[encoded data removed]",
      "text/plain": [
       "<matplotlib.figure.Figure at 0x1c1c084b00>"
      ]
     },
     "metadata": {},
     "output_type": "display_data"
    }
   ],
   "source": [
    "sns.lmplot('dist100', 'y', df,\n",
    "           logistic=True,\n",
    "           line_kws={'color':'tomato', 'lw': 3},\n",
    "           scatter_kws={'color': 'lightgrey', 'alpha': .5})\n",
    "\n",
    "decision_boundary = - m1_logit.params['Intercept'] / m1_logit.params['dist100']\n",
    "plt.axvline(decision_boundary, lw=1, color='dodgerblue')\n",
    "plt.axhline(.5, linestyle='--', color='grey', lw=1)\n",
    "plt.text(decision_boundary+.2, .5+.05, r'Caso donde $\\hat{p}=.5$', color='forestgreen')\n",
    "plt.plot(decision_boundary, .5, 'o', color='forestgreen')\n",
    "\n",
    "\n",
    "print(\"Una observación tiene igual probabilidad en ambos sucesos cuando x = \", round(decision_boundary, 3));"
   ]
  },
  {
   "cell_type": "markdown",
   "metadata": {},
   "source": [
    "### Relación entre LPM y Logit\n",
    "\n",
    "* Dado que sabemos la ideonidad del modelo logístico para los casos binarios, ¿Por qué utilizamos el modelo de probabilidad lineal?\n",
    "* Resulta que podemos tomar los log-odds de un modelo logístico y dividirlos por cuatro para obtener un intervalo superior de la contribución de x en y cuando cambia en una medida. Este punto es una aproximación al comportamiento estimado en el medio de la curva logística donde las probabilidades son cercanas la .5.\n",
    "\n",
    ">__Digresión:__ Aspectos formales de la regla _dividir en 4_\n",
    ">\n",
    "> * Resulta que la curva logística es más pronunciada en el centro, donde $\\beta_{0}+\\beta_{1}x = 0$, y su función logística inversa es $\\text{logit}^{-1}(\\beta_{0}+\\beta_{1}x)=0.5$.\n",
    "> * La derivada de la función lineal se maximiza en este punto con un valor de $\\beta_{1}\\text{exp}(0)/(1 + \\text{exp}(0))^{2} = \\beta_{1}/4$.\n",
    "* Así $\\beta_{1}/4$ es la diferencia máxima de $Pr(y=1|x)$. \n",
    "\n",
    "* Tomemos los coeficientes de nuestro modelo $\\texttt{y} = \\beta_{0} + \\beta_{1}\\times\\texttt{dist100}$ para ambos modelos."
   ]
  },
  {
   "cell_type": "code",
   "execution_count": 108,
   "metadata": {},
   "outputs": [
    {
     "name": "stdout",
     "output_type": "stream",
     "text": [
      "\n",
      "OLS\n",
      "\n",
      "Point Estimates\n",
      "\n",
      "               Coef.  Std.Err.\n",
      "Intercept  0.648407  0.014347\n",
      "dist100   -0.151539  0.023225\n",
      "\n",
      "Logit\n",
      "\n",
      "Point Estimates\n",
      "\n",
      "               Coef.  Std.Err.\n",
      "Intercept  0.605959  0.060310\n",
      "dist100   -0.621882  0.097426\n"
     ]
    }
   ],
   "source": [
    "print(\"\\nOLS\")\n",
    "concise_summary(m1_ols, print_fit=False)\n",
    "print(\"\\nLogit\")\n",
    "concise_summary(m1_logit, print_fit=False)"
   ]
  },
  {
   "cell_type": "markdown",
   "metadata": {},
   "source": [
    "* Si dividimos el coeficiente estimado de nuestra regresión logística $-.62 / 4 = .15$, veremos que es una aproximación razonable del coeficiente estimado en nuestro modelo LPM.\n",
    "* Este coeficiente corresponde a la máxima diferencia contribuída por x en $Pr(y=1|x)$. Si revisamos nuestros efectos estimados, observaremos que el .15 estimado corresponde a la diferencia en un 15% de probabilidad entre una familia que está a 100 metros de distancia y otra que está a 200 metros de distancia de un pozo seguro."
   ]
  },
  {
   "cell_type": "code",
   "execution_count": 109,
   "metadata": {},
   "outputs": [
    {
     "name": "stdout",
     "output_type": "stream",
     "text": [
      "La probabilidad de cambiar de pozo entre 100 y 200 metros:  0.15\n"
     ]
    }
   ],
   "source": [
    "print(\"La probabilidad de cambiar de pozo entre 100 y 200 metros: \", round(pr_dist_100 - pr_dist_200, 3))"
   ]
  },
  {
   "cell_type": "markdown",
   "metadata": {},
   "source": [
    "# El problema de clasificación desde Machine Learning\n",
    "\n",
    "* El objetivo de la clasificación es enseñarle a la máquina a discriminar entre un número finito de clases en base a una serie de atributos. Para aproximarnos a este problema diseñamos una serie de __aproximaciones funcionales__ candidatas para facilitar la discriminación entre las clases.\n",
    "* El objetivo es realizar predicciones en nuevas observaciones en base a la función candidata que presente el mejor desempeño predictivo. Mientras que en los problemas de regresión el desempeño se medía mediante la reducción del error cuadrático, en la clasificación se busca aumentar la tasa de clases predichas correctamente y reducir los __falsos positivos__ (situaciones donde se clasifica de forma errónea) y __falsos negativos__ (situaciones donde el clasificador ignora clasificaciones exitosas).\n",
    "\n",
    "## Implementando un modelo logístico con `sklearn`\n",
    "\n",
    "* Utilizaremos la clase `LogisticRegression` dentro del módulo `linear_model` de `sklearn`. Como todo modelo candidato de `sklearn`, seguimos los pasos de inicializarlo al ingresar datos y posteriormente ejecutarlo.\n",
    "* Partamos por segmentar nuestra base de datos en entrenamiento y validación siguiendo la nomenclatura clásica, guardando el 33% de la muestra como validación. Recuerden especificar una semilla pseudoaleatoria con `random_state` para asegurar replicabilidad de los resultados."
   ]
  },
  {
   "cell_type": "code",
   "execution_count": 110,
   "metadata": {},
   "outputs": [],
   "source": [
    "from sklearn.linear_model import LogisticRegression\n",
    "from sklearn.model_selection import train_test_split\n",
    "\n",
    "X_train, X_test, y_train, y_test = train_test_split(df.loc[:, 'dist100':'assoc'],\n",
    "                                                   df['y'],\n",
    "                                                   test_size=.33,\n",
    "                                                   random_state=11238)"
   ]
  },
  {
   "cell_type": "markdown",
   "metadata": {},
   "source": [
    "* De forma adicional estandarizaremos cada atributo en nuestras muestras mediante `StandardScaler` en el módulo `sklearn.preprocessing`. Mediante la estandarización transformamos las variables al restarle la media y dividirla por la varianza de la variable.\n",
    "* Con esto logramos homogeneizar las variables y facilitar la comparación entre atributos en el modelo logístico.\n",
    "* Generamos nuevos objetos llamados `X_train_std` y `X_test_std` que guardaran las nuevas matrices. Estos objetos alojarán el resultado de `StandardScaler().fit_transform()`."
   ]
  },
  {
   "cell_type": "code",
   "execution_count": 111,
   "metadata": {},
   "outputs": [],
   "source": [
    "from sklearn.preprocessing import StandardScaler\n",
    "\n",
    "# estandarizamos la matriz de entrenamiento\n",
    "X_train_std = StandardScaler().fit_transform(X_train)\n",
    "# estandarizamos la matriz de validación\n",
    "X_test_std = StandardScaler().fit_transform(X_test)\n",
    "\n",
    "# iniciamos el modelo con la clase LogisticRegression y pasamos los datos en fit.\n",
    "default_model = LogisticRegression().fit(X_train_std, y_train)"
   ]
  },
  {
   "cell_type": "markdown",
   "metadata": {},
   "source": [
    "* Al solicitar los coeficientes del modelo, observamos que son distintos a los estimados con nuestro modelo econométrico dado que no están estandarizados."
   ]
  },
  {
   "cell_type": "code",
   "execution_count": 112,
   "metadata": {},
   "outputs": [
    {
     "data": {
      "text/plain": [
       "array([[-0.33263063,  0.59061437,  0.14254114, -0.05194878]])"
      ]
     },
     "execution_count": 112,
     "metadata": {},
     "output_type": "execute_result"
    }
   ],
   "source": [
    "default_model.coef_"
   ]
  },
  {
   "cell_type": "markdown",
   "metadata": {},
   "source": [
    "* Procedemos por generar las predicciones en base a nuestro modelo mediante `predict(X_test_std)`. Cabe destacar que los modelos de clasificación presentan fórmulas alternativas de predicción.\n",
    "* Mientras que con la opción `predict` solicitamos las clases en las nuevas observaciones, si solicitamos `predict_proba` obtendremos el mapeo $\\text{Pr}(y^{*})\\mapsto[0, 1]$, lo cual nos será útil cuando midamos tasas de falsos positivos y negativos en el modelo. Por último también está la opción `predict_log_proba` que devuelve el logaritmo de la probabilidad generada con `predict_proba`."
   ]
  },
  {
   "cell_type": "code",
   "execution_count": 113,
   "metadata": {},
   "outputs": [
    {
     "data": {
      "text/plain": [
       "array([0, 1, 1, 0, 1, 1, 1, 1, 1, 1, 1, 1, 1, 0, 0, 0, 0, 1, 1, 1])"
      ]
     },
     "execution_count": 113,
     "metadata": {},
     "output_type": "execute_result"
    }
   ],
   "source": [
    "yhat = default_model.predict(X_test_std)\n",
    "# solicitemos las primeras 20 observaciones del vector predicho.\n",
    "yhat[:20]"
   ]
  },
  {
   "cell_type": "markdown",
   "metadata": {},
   "source": [
    "* Hasta el momento nuestro flujo de trabajo es idéntico al problema de regresión. Resulta que la principal diferencia entre ambas aproximaciones es cómo evaluarmos su desempeño.\n",
    "\n",
    "## Métricas de desempeño para las tareas de clasificación\n",
    "\n",
    "* Ya sabemos que parte importante de nuestro flujo de trabajo desde Machine Learning busca analizar el desempeño del modelo en la predicción con nuevas observaciones. Para el caso de los modelos donde nuestro vector objetivo era contínuo utilizabamos el Promedio del Error Cuadrático, que cuantificaba qué tan separados están los datos de nuestra recta de ajuste predictivo.\n",
    "* Resulta que para los casos donde nuestro vector objetivo presenta atributos discretos las métricas conocidas fallan en capturar el fenómeno. Los modelos predictivos generan dos tipos de predicciones de utilidad:\n",
    "    1. Una predicción de probabilidad contínua entre los límites de cero y uno.\n",
    "    - Una predicción de clase, que establece cuál es la clase más adecuada para una nueva observación.\n",
    "* Para medir el desempeño de éstos modelos, nos centramos en la predicción de clase.\n",
    "\n",
    "### Matriz de Confusión\n",
    "\n",
    "* Una de las maneras más comunes de evaluar desempeño es el cruzar la información de la predicción con las etiquetas reales de nuestra muestra de validación. Esto se conoce como _matriz de confusión_, y permite observar la cantidad de observaciones predichas de forma correcta.\n",
    "* `sklearn` tiene el método `confusion_matrix` en su módulo `metrics` que permite desarrollar este cruce de información. Este procedimiento se puede realizar de forma alternativa con `pd.crosstab()`. El método pide como argumentos el vector objetivo de prueba (`y_test`) y el vector de etiquetas predichas (`yhat`)."
   ]
  },
  {
   "cell_type": "code",
   "execution_count": 114,
   "metadata": {},
   "outputs": [
    {
     "data": {
      "text/plain": [
       "array([[171, 251],\n",
       "       [117, 458]])"
      ]
     },
     "execution_count": 114,
     "metadata": {},
     "output_type": "execute_result"
    }
   ],
   "source": [
    "from sklearn.metrics import confusion_matrix\n",
    "\n",
    "m1_confusion = confusion_matrix(y_test, yhat)\n",
    "m1_confusion"
   ]
  },
  {
   "cell_type": "code",
   "execution_count": 115,
   "metadata": {},
   "outputs": [
    {
     "data": {
      "text/html": [
       "<div>\n",
       "<style scoped>\n",
       "    .dataframe tbody tr th:only-of-type {\n",
       "        vertical-align: middle;\n",
       "    }\n",
       "\n",
       "    .dataframe tbody tr th {\n",
       "        vertical-align: top;\n",
       "    }\n",
       "\n",
       "    .dataframe thead th {\n",
       "        text-align: right;\n",
       "    }\n",
       "</style>\n",
       "<table border=\"1\" class=\"dataframe\">\n",
       "  <thead>\n",
       "    <tr style=\"text-align: right;\">\n",
       "      <th>col_0</th>\n",
       "      <th>0</th>\n",
       "      <th>1</th>\n",
       "    </tr>\n",
       "    <tr>\n",
       "      <th>y</th>\n",
       "      <th></th>\n",
       "      <th></th>\n",
       "    </tr>\n",
       "  </thead>\n",
       "  <tbody>\n",
       "    <tr>\n",
       "      <th>0</th>\n",
       "      <td>171</td>\n",
       "      <td>251</td>\n",
       "    </tr>\n",
       "    <tr>\n",
       "      <th>1</th>\n",
       "      <td>117</td>\n",
       "      <td>458</td>\n",
       "    </tr>\n",
       "  </tbody>\n",
       "</table>\n",
       "</div>"
      ],
      "text/plain": [
       "col_0    0    1\n",
       "y              \n",
       "0      171  251\n",
       "1      117  458"
      ]
     },
     "execution_count": 115,
     "metadata": {},
     "output_type": "execute_result"
    }
   ],
   "source": [
    "# comparemos con pd.crosstab\n",
    "m1_conf_pd = pd.crosstab(y_test, yhat)\n",
    "m1_conf_pd"
   ]
  },
  {
   "cell_type": "markdown",
   "metadata": {},
   "source": [
    "* La tabla resultante permite observar las categorías predichas con las observadas. La diagonal principal reporta los casos exitosamente predichos. Una de las primeras medidas de desempeño es medir el porcentaje de casos predichos correctamente por sobre el total de casos.\n",
    "* Esta medida se conoce como __Accuracy (Exactitud)__:\n",
    "\n",
    "|   | Categoría| Verdadera|\n",
    "|---|----------|----------|\n",
    "|**Predicción** | Verdadero | Falso |\n",
    "|Verdadero | **Verdadero Positivo** | _Falso Positivo_ |\n",
    "| Falso | _Falso Negativo_ | ** Verdadero Negativo **|\n",
    "\n",
    "\n",
    "$$\n",
    "\\text{Exactitud} = \\frac{\\text{Verdadero Positivo + Verdadero Negativo}}{\\text{Verdadero Positivo + Verdadero Negativo + Falso Positivo + Falso Negativo}}\n",
    "$$\n",
    "\n",
    "* `sklearn` implementa el método `accuracy_score` en el módulo `metrics`. El método pide como argumentos el vector objetivo de prueba (`y_test`) y el vector de etiquetas predichas (`yhat`) y devuelve un valor entre 0 y 1, donde valores más altos reflejan mayores niveles de concordancia entre ambos vectores."
   ]
  },
  {
   "cell_type": "code",
   "execution_count": 116,
   "metadata": {},
   "outputs": [
    {
     "data": {
      "text/plain": [
       "0.6308926780341023"
      ]
     },
     "execution_count": 116,
     "metadata": {},
     "output_type": "execute_result"
    }
   ],
   "source": [
    "from sklearn.metrics import accuracy_score\n",
    "m1_acc = accuracy_score(y_test, yhat)\n",
    "m1_acc"
   ]
  },
  {
   "cell_type": "markdown",
   "metadata": {},
   "source": [
    "* La métrica reportada de _.631_ sugiere cierta exactitud de nuestro modelo. El problema es que no sabemos frente a qué criterio nuestro modelo es eficiente. Para evaluar su desempeño necesitamos encontrar un _benchmark_ (punto de referencia) que refleje capacidad de predicción _al azar_, sin la necesidad de un modelo.\n",
    "* La manera más simple de calcular un benchmark es dividir 1 por la cantidad de categorías en nuestro vector objetivo. De esta manera obtenemos un aproximado de la predicción correcta al azar.\n",
    "* Para nuestro caso con la variable binaria, el benchmark es de $1/2=.5$. Nuestra medida de exactitud informa que el modelo tiene un desempeño de un 13% superior que una predicción azarosa.\n",
    "\n",
    "* Resulta que la medida de exactitud por sí sola es engañosa, dado que no hace distinción alguna frente a los tipos de errores (_Falso Negativo_ y _Falso Positivo_). Para ello utilizamos dos medidas extras:\n",
    "\n",
    "* Precision: Mide la fracción de predicciones correctas entre las etiquetas positivas. Valores altos significan que el algoritmo predice más resultados relevantes que irrelevantes. Responde a la pregunta: __¿Qué proporción de indentificaciones positivas fue correcta?__.\n",
    "\n",
    "$$\n",
    "\\text{Precision} = \\frac{\\text{Verdadero Positivo}}{\\text{Verdadero Positivo + Falso Positivo}}\n",
    "$$\n",
    "\n",
    "\n",
    "* Recall (o sensibilidad): Mide la fraccion de verdaderos positivos predichos por el modelo. Valores altos significan que el algoritmo logra predecir la mayoría de los resultados relevantes. Responde a la pregunta: __¿Qué proporción de positivos reales se identificó correctamente?__.\n",
    "\n",
    "$$\n",
    "\\text{Recall} = \\frac{\\text{Verdadero Positivo}}{\\text{Verdadero Positivo + Falso Negativo}}\n",
    "$$"
   ]
  },
  {
   "cell_type": "code",
   "execution_count": 117,
   "metadata": {},
   "outputs": [
    {
     "name": "stdout",
     "output_type": "stream",
     "text": [
      "Precision:  0.6459802538787024 \n",
      "Recall:  0.7965217391304348\n"
     ]
    }
   ],
   "source": [
    "from sklearn.metrics import precision_score, recall_score\n",
    "m1_prec = precision_score(y_test, yhat)\n",
    "m1_rec = recall_score(y_test, yhat)\n",
    "print(\"Precision: \", m1_prec, \"\\nRecall: \", m1_rec)"
   ]
  },
  {
   "cell_type": "markdown",
   "metadata": {},
   "source": [
    "* Los puntajes de precision y recall para el modelo sugieren que el modelo tiene un desempeño aceptable, pero que se puede mejorar de forma substancial. Un punto a destacar es la alta tasa de recall que tiene, rescatando gran parte de los valores etiquetados como 1.\n",
    "\n",
    "* Existe un trueque entre Precision y Recall, en la medida que ambos puntajes se pueden promediar para obtener una medida ponderada de ambos fenómenos. \n",
    "* Esta medida se conoce como F1, y representa la media armónica entre Precision y Recall. Se prefiere la media armónica dado que penaliza de mayor manera los valores bajos.\n",
    "* F1 alcanza un máximo de 1 cuando Precision y Recall son 1, y 0 cuando Precision o Recall son 0, aún cuando una de las dos medidas sea 1.\n",
    "Se utiliza ésta dado que pondera de mayor manera a los valores bajos. Esto genera el F1 sea alto sólo cuando precision y recall lo sean. \n",
    "$$\n",
    "\\text{F1} = \\frac{2 \\times \\text{Precision} \\times \\text{Recall}}{\\text{Precision + Recall}}\n",
    "$$\n",
    "* Resulta que en el módulo `metrics` de `sklearn` presenta el método `classification_report` que reporta las medidas de precision, recall y f1 para cada categoría en el modelo estimado. Cabe mencionar que las métricas reportadas anteriormente con los métodos `precision_score` y `recall_score` calculan __sólo las predicciones cuando $\\hat{y_{i}} =1$.__ El método `classification_report` reporta las métricas para $\\hat{y_{i}} =0$, $\\hat{y_{i}} =1$ y el promedio."
   ]
  },
  {
   "cell_type": "code",
   "execution_count": 118,
   "metadata": {},
   "outputs": [
    {
     "name": "stdout",
     "output_type": "stream",
     "text": [
      "             precision    recall  f1-score   support\n",
      "\n",
      "          0       0.59      0.41      0.48       422\n",
      "          1       0.65      0.80      0.71       575\n",
      "\n",
      "avg / total       0.62      0.63      0.62       997\n",
      "\n"
     ]
    }
   ],
   "source": [
    "from sklearn.metrics import classification_report\n",
    "print(classification_report(y_test, yhat))"
   ]
  },
  {
   "cell_type": "markdown",
   "metadata": {},
   "source": [
    "* Resulta que nuestro modelo tiene problemas para clasificar correctectamente los casos donde $y_{i}=0$, donde sus métricas presentan tasas bajas cercanas al 50%. Esto sugiere que el modelo debe ser refactorizado y encontrar predictores que estén asociados con los casos donde $y_{i}=0$."
   ]
  },
  {
   "cell_type": "markdown",
   "metadata": {},
   "source": [
    "### Receiving Operating Characteristics (Curva ROC)\n",
    "\n",
    "* Con _Precision_, _Recall_ y _F1_ logramos caracterizar las tasas de predicción exitosa del modelo. En nuestra matriz de confusión se reportan dos tipos de errores que todo problema de clasificación debe tomar en cuenta: un __falso positivo__ que surge cuando el modelo estima $\\hat{y}=1$ pero la clasificación verdadera es $y=0$, y un __falso negativo__ que surge cuando el modelo estima $\\hat{y}=0$ pero la clasificación verdadera es $y=1$.\n",
    "* Un buen modelo de clasificación también debe considerar cuál es el rango de errores en el modelo con el que se trabaja. Para ello utilizamos la curva ROC (_Receiving Operating Characteristics_), que evalúa la relación entre ambos errores condicional en todo el rango del clasificador.\n",
    "* El gráfico tienen las siguientes convenciones:\n",
    "    1. En el eje Y va tasa de _falsos positivos_, aquella que resume las falsas alarmas en nuestro modelo clasificador.\n",
    "    - En el eje X va la tasa de _verdaderos positivos_, aquella que resume las observaciones correctamente clasificadas por nuestro modelo.\n",
    "    - La línea bisectriz representa el _benchmark_ predictivo del modelo: esto es lo que esperamos si es que un clasificador asignara etiquetas de forma aleatoria, sin mayor información ingresada por el sistema.\n",
    "* Para generar un gráfico de curva ROC con `sklearn`, utilizamos el método `roc_curve` dentro del módulo `metrics`. El método devuelve tres objetos: Un array con la tasa de falsos positivos, un array con la tasa de verdaderos positivos y un array con los umbrales de decisión entre 0 y 1."
   ]
  },
  {
   "cell_type": "code",
   "execution_count": 119,
   "metadata": {},
   "outputs": [],
   "source": [
    "from sklearn.metrics import roc_curve\n",
    "\n",
    "# reestimamos los valores predichos de nuestro modelo para obtener la probabilidad entre 0 y 1.\n",
    "yhat = default_model.predict_proba(X_test)[:, 1]\n",
    "\n",
    "# generamos los objetos de roc_cruve\n",
    "false_positive, true_positive, threshold = roc_curve(y_test, yhat)"
   ]
  },
  {
   "cell_type": "code",
   "execution_count": 120,
   "metadata": {},
   "outputs": [
    {
     "data": {
      "image/png": "[encoded data removed]",
      "text/plain": [
       "<matplotlib.figure.Figure at 0x1c18bc81d0>"
      ]
     },
     "metadata": {},
     "output_type": "display_data"
    }
   ],
   "source": [
    "# Plot ROC curve\n",
    "plt.title('Curva ROC')\n",
    "plt.plot(false_positive, true_positive, lw=1)\n",
    "plt.plot([0, 1], ls=\"--\", lw=1)\n",
    "plt.plot([0, 0], [1, 0] , c='limegreen', lw=3), plt.plot([1, 1] , c='limegreen', lw=3)\n",
    "plt.ylabel('Verdaderos Positivos')\n",
    "plt.xlabel('Falsos Positivos');"
   ]
  },
  {
   "cell_type": "markdown",
   "metadata": {},
   "source": [
    "* A primera vista un modelo con una capacidad predictiva adecuada debe tener una curva por sobre la bisectriz, la cual indica la tasa de clasificación aleatoria. Un modelo con desempeño deficiente presentará curvas ROC bajo la bisectriz.\n",
    "* Una curva ROC con capacidad predictiva adecuada siempre se posicionará por sobre la bisectriz, dado que la tasa de verdaderos positivos será mayor que la tasa de falsos positivos. El comportamiento deseado de la curva ROC es que tienda a acercarse a la esquina superior izquierda del gráfico, señalada con verde. \n",
    "* La calidad de una curva ROC también se puede resumir con una métrica simple llamada la __área debajo de la curva__. Valores mayores de ésta cifra van a estar asociados con un mejor desempeño del modelo en predecir más verdaderos positivos que falsos positivos.\n",
    "* Para estimar el área debajo de la curva utilizamos el método `roc_auc_score` en el módulo `metrics` de `sklearn`. De manera similar a las implementaciones de métricas previas con `sklearn`, el método solicita el vector objetivo verdadero (`y_test`) y nuestras predicciones en base al modelo (`yhat`)."
   ]
  },
  {
   "cell_type": "code",
   "execution_count": 121,
   "metadata": {},
   "outputs": [
    {
     "data": {
      "text/plain": [
       "0.6267010096847311"
      ]
     },
     "execution_count": 121,
     "metadata": {},
     "output_type": "execute_result"
    }
   ],
   "source": [
    "from sklearn.metrics import roc_auc_score\n",
    "roc_auc_score(y_test, yhat)"
   ]
  },
  {
   "cell_type": "markdown",
   "metadata": {},
   "source": [
    "* Con un valor de .64,  nuestro modelo tiene un desempeño de 14% superior a un mecanismo de clasificación aleatoria. Es aceptable, pero se puede mejorar."
   ]
  },
  {
   "cell_type": "markdown",
   "metadata": {},
   "source": [
    "## Métodos de resampling (remuestreo)\n",
    "\n",
    "* En la semana pasada hablamos de los errores en las muestras de entrenamiento y validación medidos mediante el _Promedio del Error Cuadrático_. El error de validación es el costo asociado de un método de aprendizaje estadístico para predecir el objetivo en una nueva observación.\n",
    "* De esta forma, nuestro criterio para escoger el mejor modelo es aquél que presente un Promedio del Error Cuadrático menor.\n",
    "* Resulta que muchas veces no tendremos suficientes observaciones en la muestra de validación como para generar un estadístico de error robusto. Para ello aplicamos una estrategia similar, donde separamos de forma repetida en múltiples muestras de entrenamiento y validación.\n",
    "* Por cada muestra se calcula una métrica de desempeño y posteriormente son promediadas para tener una aproximación al costo asociado de implementar un modelo.\n",
    "\n",
    "### k-Fold Cross Validation (Validación Cruzada repetida _k_ veces)\n",
    "\n",
    "* Una de las estrategias más comunes es la segmentación de muestras de tamaño similar _k_ veces, donde _k_ representa la cantidad de segmentaciones a realizar. El procedimiento sigue el siguiente flujo:\n",
    "    1. Entrenar un modelo con todas las muestras, excluyendo la primera.\n",
    "    - El modelo entrenado busca predecir el vector objetivo de la primera submuestra, y se calcula algún estadístico de desempeño. Éste se guarda como estadístico de prueba 1.\n",
    "    - Se vuelve a entrenar el modelo con todas las muestras, volviendo a ingresar la primera muestra y excluyendo la segunda. Se computa el estadístico de desempeño y se guarda como estadístico de prueba 2.\n",
    "    - Se repite el procedimiento hasta que toda submuestra sea considerada como muestra de validación.\n",
    "    - Se promedian los estadísticos en una media y desviación estandar.\n",
    "    \n",
    "* En la figura generada con `gfx.crossvalidation_schema()` se ejemplifica el procedimiento cuando establecemos $k=5$."
   ]
  },
  {
   "cell_type": "code",
   "execution_count": 122,
   "metadata": {},
   "outputs": [
    {
     "data": {
      "image/png": "[encoded data removed]",
      "text/plain": [
       "<matplotlib.figure.Figure at 0x1c1eef1390>"
      ]
     },
     "metadata": {},
     "output_type": "display_data"
    }
   ],
   "source": [
    "fig=plt.figure()\n",
    "ax=fig.add_axes([0,0,1,1])\n",
    "ax.axis('off')\n",
    "\n",
    "def crossvalidation_schema(cv_folds=5,ax= ax, textprop={}):\n",
    "    \"\"\"docstring for crossvalidation_schema\"\"\"\n",
    "    for i in range(cv_folds):\n",
    "        ax.add_patch(plt.Rectangle((0, i), 5, 0.7, fc='lightgrey'))\n",
    "        ax.add_patch(plt.Rectangle((5. * i /cv_folds, i), 5. / cv_folds, 0.7, fc='skyblue'))\n",
    "        ax.text(5. * (i + .5) / cv_folds, i + .45, \"Val.\", ha='center', va='center', **textprop)\n",
    "        ax.text(5, i + .15, r'Ensayo {0}$\\in${1}    '.format(cv_folds - i, cv_folds), ha = 'right', va='bottom', **textprop)\n",
    "        ax.text(5.5, i + .35, r'Error testing $\\hat\\theta_{{0}}$'.format(i))\n",
    "        ax.text(7, 2.3, 'Error')\n",
    "        ax.set_xlim(-1, 6)\n",
    "        ax.set_ylim(-0.2, cv_folds + 0.2)\n",
    "        \n",
    "        \n",
    "crossvalidation_schema()"
   ]
  },
  {
   "cell_type": "markdown",
   "metadata": {},
   "source": [
    "* Para implementar una validación cruzada con `sklearn` importamos el método `cross_val_score` en el módulo `model_selection`. A diferencia de la segmentación de muestras clásica realizada con el método `train_test_split` donde se define el porcentaje a asignar en la muestra de validación, con este método se define la cantidad de submuestras a considerar.\n",
    "* El método pide los siguientes parámetros:\n",
    "    1. El primer parámetro corresponde al estimador a utilizar. En este caso utilizaremos `LogisticRegression()`. Cabe destacar que el estimador debe ingresarse como una clase no inicializada.\n",
    "    - El segundo parámetro es la matriz de atributos. En este caso utilizaremos las cuatro variables definidas en el estudio como `df.loc[:, 'dist100':'assoc']`. Se debe ingresar __toda la matriz de datos__ para realizar la segmentación de forma interna en el modelo.\n",
    "    - El tercer parámetro es el vector objetivo. En este caso utilizaremos el vector definido en el estudio como `df.loc[:, 'y']`.\n",
    "    - El cuarto parámetro corresponde a la cantidad de segmentaciones a realizar. En este ejemplo utilizaremos el mínimo posible de segmentaciones con `cv=3`. Si no se define este parámetro, el método asume que son tres segmentaciones.\n",
    "    - El quinto parámetro corresponde a la métrica de desempeño a evaluar. Si no se define este parámetro, el método asume por defecto que la métrica es `f1` en los modelos de clasificacion y es `mse` (Promedio del Error Cuadrático) en los modelos de regresión. En este caso haremos de forma explícita el uso de `f1`. Para más información sobre los métodos de `scoring` asociados, visiten [http://scikit-learn.org/stable/modules/model_evaluation.html](http://scikit-learn.org/stable/modules/model_evaluation.html).  "
   ]
  },
  {
   "cell_type": "code",
   "execution_count": 123,
   "metadata": {},
   "outputs": [
    {
     "data": {
      "text/plain": [
       "array([0.70499244, 0.68932806, 0.69954476])"
      ]
     },
     "execution_count": 123,
     "metadata": {},
     "output_type": "execute_result"
    }
   ],
   "source": [
    "from sklearn.model_selection import cross_val_score\n",
    "\n",
    "m1_cv = cross_val_score(LogisticRegression(), \n",
    "                        X=df.loc[:,'dist100':'assoc'],\n",
    "                        y=df.loc[:, 'y'],\n",
    "                        cv=3, \n",
    "                        scoring='f1')\n",
    "m1_cv"
   ]
  },
  {
   "cell_type": "markdown",
   "metadata": {},
   "source": [
    "* El método `cross_val_score` devuelve un array con el F1 para cada submuestra."
   ]
  },
  {
   "cell_type": "code",
   "execution_count": 124,
   "metadata": {},
   "outputs": [
    {
     "name": "stdout",
     "output_type": "stream",
     "text": [
      "El puntaje F1 para la muestra 1 es 0.7\n",
      "El puntaje F1 para la muestra 2 es 0.69\n",
      "El puntaje F1 para la muestra 3 es 0.7\n"
     ]
    }
   ],
   "source": [
    "for i, n in enumerate(m1_cv):\n",
    "    print(\"El puntaje F1 para la muestra {0} es {1}\".format(i+1, round(n, 2)))"
   ]
  },
  {
   "cell_type": "code",
   "execution_count": 125,
   "metadata": {},
   "outputs": [
    {
     "name": "stdout",
     "output_type": "stream",
     "text": [
      "El puntaje F1 promedio para el modelo es de:  0.7\n",
      "La desviación estandar F1 promedio para el modelo es de:  0.01\n"
     ]
    }
   ],
   "source": [
    "print(\"El puntaje F1 promedio para el modelo es de: \", round(np.mean(m1_cv), 2))\n",
    "print(\"La desviación estandar F1 promedio para el modelo es de: \", round(np.std(m1_cv),2))"
   ]
  },
  {
   "cell_type": "markdown",
   "metadata": {},
   "source": [
    "* Cuando promediamos los puntajes, la evaluación del modelo se mantiene relativamente estable alrededor de un 70% con una desviación estandar baja. En comparación a nuestro F1 original del modelo sin validación cruzada, observamos un incremento de 8% aproximadamente.\n",
    "\n",
    "### Leave-one-out Crossvalidation (deja-una-afuera)\n",
    "\n",
    "* De forma opuesta a la _k-Fold_ Cross-Validation encontramos a _Leave-One-Out_ Cross-Validation, caso donde existen tantas muestras como observaciones en una base de datos.\n",
    "* Bajo este modelo de validación cruzada, se separa una observación a la vez y con las observaciones restantes se entrena un modelo con (n-1) observaciones para predecir su valor. De manera similar a como lo hicimos con _k-Fold_, se genera una métrica de desempeño por cada iteración y posteriormente se promedian.\n",
    "* La validación _Leave-One-Out_ se implementa dentro del módulo `cross_val_score` en el parámetro `cv` llamando a la clase `LeaveOneOut()`. Si implementamos la validación cruzada con `scoring='f1'`, Python arrojará un error `UndefinedMetricWarning: F-score is ill-defined and being set to 0.0 due to no predicted samples.`, dado que la media harmónica necesita que los valores de Precision y Recall sean mayores a 0. Para este ejemplo utilizaremos `scoring='accuracy'`.\n",
    "* Otro aspecto a considerar sobre la validación _Leave-one-out_ es el tiempo de ejecución. Jupyter tiene el método `%time` que estima el tiempo en ejecución. El método tiene un tiempo de ejecución de 12.3 segundos, dado que tiene que recorrer por cada observación. Esto es relativamente lento dado el pequeño tamaño muestral.\n",
    "* __Obs:__ El método `%time` calcula el tiempo de ejecución de toda la celda en la que se encuentra, por lo tanto, si en una celda tenemos, por ejemplo el siguiente código:\n",
    "\n",
    "```python\n",
    "%time\n",
    "myMethod_1(args_1)\n",
    "print(...)\n",
    "myMethod_2(args_2)\n",
    "print(...)\n",
    "```\n",
    "El tiempo de ejecución que nos arrojará la celda corresponde al tiempo de ejecución de ambos métodos y de las dos llamadas a la función `print()`."
   ]
  },
  {
   "cell_type": "code",
   "execution_count": 126,
   "metadata": {},
   "outputs": [
    {
     "name": "stdout",
     "output_type": "stream",
     "text": [
      "CPU times: user 12.9 s, sys: 52.9 ms, total: 12.9 s\n",
      "Wall time: 13 s\n"
     ]
    }
   ],
   "source": [
    "%%time\n",
    "from sklearn.model_selection import LeaveOneOut\n",
    "m1_loocv = cross_val_score(LogisticRegression(), \n",
    "                           df.loc[:, 'dist100': 'assoc'], \n",
    "                           df.loc[:,'y'], \n",
    "                           cv=LeaveOneOut(), # acá asignamos la clase LeaveOneOut()\n",
    "                           scoring='accuracy')"
   ]
  },
  {
   "cell_type": "code",
   "execution_count": 127,
   "metadata": {},
   "outputs": [
    {
     "data": {
      "text/plain": [
       "array([1., 0., 0., 1., 1., 1., 1., 1., 1., 1., 1., 1., 1., 1., 0., 1., 1.,\n",
       "       1., 1., 1.])"
      ]
     },
     "execution_count": 127,
     "metadata": {},
     "output_type": "execute_result"
    }
   ],
   "source": [
    "# pidamos las primeras 20 observaciones del array\n",
    "m1_loocv[:20]"
   ]
  },
  {
   "cell_type": "markdown",
   "metadata": {},
   "source": [
    "* Resulta que el array arroja valores binarios. Esto se debe a que el método de accuracy cuando se aplica a una observación a la vez, etiqueta como 1 cuando la observación fue predicha de forma exitosa, 0 de lo contrario."
   ]
  },
  {
   "cell_type": "code",
   "execution_count": 128,
   "metadata": {},
   "outputs": [
    {
     "name": "stdout",
     "output_type": "stream",
     "text": [
      "El puntaje de accuracy promedio para el modelo es de:  0.61\n",
      "La desviación estandar de accuracy promedio para el modelo es de:  0.49\n"
     ]
    }
   ],
   "source": [
    "print(\"El puntaje de accuracy promedio para el modelo es de: \", round(np.mean(m1_loocv), 2))\n",
    "print(\"La desviación estandar de accuracy promedio para el modelo es de: \", round(np.std(m1_loocv),2))"
   ]
  },
  {
   "cell_type": "markdown",
   "metadata": {},
   "source": [
    "* Si comparamos la accuracy promedio estimada con loo (.61) en comparación a la estimada con nuestra estimación original (.63), observamos que disminuyó en 2 puntos aproximadamente. Esto indica cierta inestabilidad de la métrica, punto que ve apoyado por la alta varianza presentada (con una desviación estandar de .49).\n",
    "\n",
    "\n",
    "### ¿Y qué es mejor?\n",
    "\n",
    "* Ambos métodos representan extremos sobre cómo realizar segmentaciones para la validación cruzada. La elección del criterio repercute en qué tanto el modelo se acerca a los parámetros verdaderos (sesgo) y qué tan generalizable es nuestro modelo a otras muestras (varianza). Mientras que el número de segmentaciones a realizar aumenta, la diferencia entre los tamaños de las muestras de entrenamiento y validación se reducen. En la medida que ésta diferencia disminuye, el sesgo del modelo disminuye.\n",
    "* Ya sabemos que en la medida que disminuímos nuestro sesgo, las chances de tener un modelo con alta varianza aumentan substancialmente. Un modelo con alta varianza implica que su replicación en otras muestras puede producir parámetros estimados distintos entre replicaciones.\n",
    "* Retomando nuestro conocimiento en las leyes asintóticas como el Teorema del Límite Central y la Ley de los Grandes Números, sabemos que en la medida que nuestra muestra (para este caso, la muestra de entrenamiento) aumenta su tamaño, el estimador tenderá a converger con el parámetro verdadero.\n",
    "* Pongamos a prueba la estimación del puntaje F1 en la medida que aumentamos la cantidad de segmentaciones a realizar. Para este experimento generaremos cuatro validaciones cruzadas con 3, 5, 10 y 20 divisiones, y posteriormente las graficaremos en diagramas de cajas."
   ]
  },
  {
   "cell_type": "code",
   "execution_count": 129,
   "metadata": {},
   "outputs": [
    {
     "data": {
      "image/png": "[encoded data removed]",
      "text/plain": [
       "<matplotlib.figure.Figure at 0x1c1edc6080>"
      ]
     },
     "metadata": {},
     "output_type": "display_data"
    }
   ],
   "source": [
    "# definimos los criterios en un array\n",
    "k_fold = [3, 5, 10, 20]\n",
    "# generamos un gráfico vacío que contenga los gráficos \n",
    "fig, ax = plt.subplots(1, len(k_fold), sharey='row')\n",
    "# por cada elemento y su posición en el array\n",
    "for n, i in enumerate(k_fold):\n",
    "    # estimar la validación cruzada con el elemento\n",
    "    tmp = cross_val_score(LogisticRegression(),\n",
    "                          df.loc[:, 'dist100':'assoc'],\n",
    "                          df.loc[:,'y'], cv = i, scoring = 'f1')\n",
    "    # guardar el gráfico en la posición declarada\n",
    "    ax[n].boxplot(tmp)\n",
    "    ax[n].set_title('k={0}'.format(i))\n",
    "\n",
    "fig.suptitle('Desempeño del modelo logístico (Puntaje F1) condicional a la cantidad de validaciones cruzadas');"
   ]
  },
  {
   "cell_type": "markdown",
   "metadata": {},
   "source": [
    "* En el gráfico creado se visualiza que el riesgo de utilizar un número alto de segmentaciones (k=20) implica aumentar la variablidad de nuestra métrica de desempeño y levanta dudas sobre la utilidad del modelo para desarrollar nuevas predicciones.\n",
    "* Cuando el número de validaciones es bajo (k=3), el riesgo es en considerar que la métrica promediada es la óptima. Disminuímos la variabilidad de la predicción a expensas de aumentar el sesgo y obtener un parámetro que dista del óptimo empírico.\n",
    "* Las situaciones graficadas con k=5 y k=10 se consideran como norma en la cantidad de validaciones a generar. Investigaciones sugieren que se generan resultados similares entre una validación con k=10 y una validación _Leave-one-out_.\n",
    "\n",
    "\n",
    "# Refactorizando nuestro modelo\n",
    "\n",
    "* Ahora apliquemos nuestro conocimiento sobre métricas de evaluación para clasificación.\n",
    "* Nuestro objetivo es desarrollar una serie de aproximaciones funcionales para medir la probabilidad de cambiarse de pozo a uno con menores tasas de arsénico.\n",
    "* Vamos a generar tres modelos candidatos:\n",
    "\n",
    "    1. Modelo lineal aditivo: Este es el modelo que desarrollamos anteriormente. Se dice que es _aditivo_ dado que los 4 atributos ingresados no interactúan entre sí.\n",
    "    - Modelo lineal con interacciones de 2-orden: De forma adicional a los parámetros asignados en el modelo lineal aditivo, agregamos 6 términos que representan interacciones entre dos variables.\n",
    "    - Modelo lineal con interacciones de 3-orden: Al modelo anterior se le agregan 4 interacciones entre tres variables, resultando en 14 parámetros a estimar.\n",
    "    \n",
    "\n",
    "## Generando interacciones\n",
    "\n",
    "* Para generar las interacciones utilizaremos la clase `PolynomialFeatures()` dentro del módulo `preprocessing` de `sklearn`. Dentro de los parámetros de la clase declaramos las siguientes especificaciones:\n",
    "\n",
    "    * `degree=2`: Restringimos que el orden de las interacciones no debe superar 2.\n",
    "    * `interaction_only=True`: Con esta opción ignoramos los términos cuadráticos que se generan por defecto, en adición a las interacciones.\n",
    "    * `include_bias=False`: Para conservar grados de libertad, ignoramos la estimación del intercepto.\n",
    "    \n",
    "* Posteriormente, concatenamos la función `fit_transform` a la clase. Dentro de ella pasamos __las matrices de atributos estandarizadas para entrenamiento y validación__.\n",
    "\n",
    "### Comparaciones de múltiples métricas\n",
    "\n",
    "* Ahora implementaremos un flujo para graficar el comporamiento de las métricas _F1_, _Precission_, _Recall_ y _Accuracy_ en los tres modelos mediante validación cruzada. Separaremos el proceso en varios pasos:\n",
    "\n",
    "#### Generando las matrices a comparar\n",
    "\n",
    "* Dado que los modelos expanden la cantidad de atributos a incluír, debemos generar las matrices a utilizar. Como utilizaremos la función `cross_val_score`, la matriz de atributos se debe ingresar completa. \n"
   ]
  },
  {
   "cell_type": "code",
   "execution_count": 130,
   "metadata": {},
   "outputs": [],
   "source": [
    "# estandarizamos la matriz de atributos\n",
    "std_matrix = StandardScaler().fit_transform(df.loc[:, 'dist100':'assoc'])\n",
    "\n",
    "# Con la clase PolynomialFeature preparamos las otras dos matrices candidatas\n",
    "from sklearn.preprocessing import PolynomialFeatures\n",
    "\n",
    "# interacción de 2do orden\n",
    "df_int_2 = PolynomialFeatures(degree=2, \n",
    "                              interaction_only=True, \n",
    "                              include_bias=False).fit_transform(std_matrix)\n",
    "# interacción de 3er orden\n",
    "df_int_3 = PolynomialFeatures(degree=3, \n",
    "                              interaction_only=True, \n",
    "                              include_bias=False).fit_transform(std_matrix)"
   ]
  },
  {
   "cell_type": "markdown",
   "metadata": {},
   "source": [
    "#### Definiendo las métricas\n",
    "\n",
    "* Para esta evaluación nos enfocaremos en _F1_, _Precision_, _Recall_ y _Accuracy_. Estas las guardaremos en un array (`eval_metrics`) el cual determinará el loop a realizar.\n",
    "* Generaremos 4 gráficos de caja, uno por cada métrica. Así definimos con `plt.subplots` el rango.\n",
    "* `plt.xticks` permite rotar las etiquetas del eje X."
   ]
  },
  {
   "cell_type": "code",
   "execution_count": 131,
   "metadata": {},
   "outputs": [
    {
     "data": {
      "image/png": "[encoded data removed]",
      "text/plain": [
       "<matplotlib.figure.Figure at 0x1c1f0d8c18>"
      ]
     },
     "metadata": {},
     "output_type": "display_data"
    }
   ],
   "source": [
    "eval_metrics = ['f1', 'precision', 'recall', 'accuracy']\n",
    "plt.subplots(1, len(eval_metrics))\n",
    "plt.xticks(rotation=70);"
   ]
  },
  {
   "cell_type": "markdown",
   "metadata": {},
   "source": [
    "#### Iniciando el loop\n",
    "\n",
    "* Por cada métrica de `eval_metrics`, solicitaremos lo siguiente:\n",
    "    1. Calcula los puntajes de validación cruzada con `k=10` para cada modelo candidato.\n",
    "    - Genera un objeto `DataFrame` para guardar las métricas de forma _larga_ mediante `.unstack()`.\n",
    "    - Por cada objeto `DataFrame`, graficamos el diagrama de caja.\n",
    "    - Finiquitamos con detalles estéticos de presentación."
   ]
  },
  {
   "cell_type": "code",
   "execution_count": 132,
   "metadata": {},
   "outputs": [
    {
     "data": {
      "image/png": "[encoded data removed]",
      "text/plain": [
       "<matplotlib.figure.Figure at 0x1c1f0d89e8>"
      ]
     },
     "metadata": {},
     "output_type": "display_data"
    }
   ],
   "source": [
    "for n, i in enumerate(eval_metrics):\n",
    "    tmp_1 = cross_val_score(LogisticRegression(),\n",
    "                          df.loc[:, 'dist100':'assoc'],\n",
    "                          df.loc[:,'y'], cv = 10, scoring = i)\n",
    "    tmp_2 = cross_val_score(LogisticRegression(),\n",
    "                           df_int_2, df.loc[:, 'y'], cv=10, scoring=i)\n",
    "    tmp_3 = cross_val_score(LogisticRegression(),\n",
    "                           df_int_3, df.loc[:, 'y'], cv=10, scoring=i)\n",
    "    \n",
    "    tmp = pd.DataFrame({'Additive': tmp_1,\n",
    "                        '2-order Interaction': tmp_2,\n",
    "                        '3-order Interaction': tmp_3}).unstack().reset_index()\n",
    "    tmp.rename(columns={'level_0':'order',\n",
    "                        'level_1': 'num',\n",
    "                        '0': 'score'}, inplace=True)\n",
    "    plt.subplot(1, 4, n+1)\n",
    "    sns.boxplot(tmp.iloc[:,0],\n",
    "                tmp.iloc[:, 2])\n",
    "    sns.despine()\n",
    "    plt.xticks(rotation=45, ha='right')\n",
    "    plt.xlabel(' ')\n",
    "    plt.ylabel(' ')\n",
    "    plt.title(i.capitalize());"
   ]
  },
  {
   "cell_type": "markdown",
   "metadata": {},
   "source": [
    "#### ¿Y cuál modelo es el mejor?\n",
    "\n",
    "* Enfoquémonos en las métricas `F1`. El gráfico sugiere que el modelo con un mejor desempeño es el con interacciones del tercer orden. Esto dado que presenta una mediana relativamente superior a las métricas de los otros modelos. También cabe destacar que si bien presenta una mayor varianza que el modelo con interacciones del segundo orden, presenta menos casos atípicos.\n",
    "* Otro aspecto favorable al modelo con interacciones del tercer orden es que tanto Precision como Recall son relativamente similares en mediana y varianza, en comparación a los otros modelos candidatos. Finalmente, el modelo también presenta mayores tasas de exactitud en la predicción general.\n",
    "\n",
    "### Expansión de n-orden\n",
    "\n",
    "* En este caso generaremos otra validación, incluyendo tanto términos de interacción como polinomiales en los modelos. De similar manera al ejemplo anterior generamos un array que contenga el orden polinómico a incluir.\n",
    "* Para este caso utilizaremos la métrica _AUC_ y la curva _ROC_ que informa sobre la relación entre falsos y verdaderos positivos. Veremos cómo se comporta en la medida que aumentamos la complejidad del modelo. \n",
    "* Para este ejemplo utilizaremos los polinomios 5, 10, 15, 20 y 25, en adición al modelo lineal simple."
   ]
  },
  {
   "cell_type": "code",
   "execution_count": 133,
   "metadata": {
    "scrolled": false
   },
   "outputs": [
    {
     "name": "stdout",
     "output_type": "stream",
     "text": [
      "Orden: 1, cantidad de atributos estimables: 4. AUC estimada: 0.642\n",
      "Orden: 5, cantidad de atributos estimables: 125. AUC estimada: 0.662\n",
      "Orden: 10, cantidad de atributos estimables: 1000. AUC estimada: 0.599\n",
      "Orden: 15, cantidad de atributos estimables: 3875. AUC estimada: 0.614\n",
      "Orden: 20, cantidad de atributos estimables: 10625. AUC estimada: 0.576\n",
      "Orden: 25, cantidad de atributos estimables: 23750. AUC estimada: 0.544\n"
     ]
    },
    {
     "data": {
      "image/png": "[encoded data removed]",
      "text/plain": [
       "<matplotlib.figure.Figure at 0x1c12ccb8d0>"
      ]
     },
     "metadata": {},
     "output_type": "display_data"
    }
   ],
   "source": [
    "# estandarizamos la matriz de datos\n",
    "std_matrix = StandardScaler().fit_transform(df.loc[:, 'dist100':'assoc'])\n",
    "#declaramos los términos\n",
    "polynomial_order = [1, 5, 10, 15, 20, 25]\n",
    "# por cada elemento del array\n",
    "for i in polynomial_order:\n",
    "    #generamos muestras segmentadas\n",
    "    X_train_tmp, X_test_tmp, y_train_tmp, y_test_tmp = train_test_split(std_matrix,\n",
    "                                               df['y'],\n",
    "                                               test_size=.33,\n",
    "                                               random_state=11238)\n",
    "    # Transformamos la muestra de entrenamiento por i polinomio\n",
    "    X_train_tmp = PolynomialFeatures(degree=i,\n",
    "                                     interaction_only=False,\n",
    "                                     include_bias=False).fit_transform(X_train_tmp)\n",
    "    # Transformamos la muestra de evaluación por i polinomio\n",
    "    X_test_tmp = PolynomialFeatures(degree=i,\n",
    "                                    interaction_only=False,\n",
    "                                    include_bias=False).fit_transform(X_test_tmp)\n",
    "    # Generamos el modelo predictivo\n",
    "    tmp_model = LogisticRegression().fit(X_train_tmp, y_train_tmp)\n",
    "    # Guardamos las predicciones de probabilidad\n",
    "    tmp_pred = tmp_model.predict_proba(X_test_tmp)[:,1]\n",
    "    # generamos los arrays con roc_curve\n",
    "    false_positive, true_positive, threshold = roc_curve(y_test_tmp,\n",
    "                                                         tmp_pred)\n",
    "    # redondeamos los valores del puntaje AUC\n",
    "    roc_auc_tmp = round(roc_auc_score(y_test_tmp, tmp_pred), 3)\n",
    "    # graficamos\n",
    "    plt.plot(false_positive,\n",
    "             true_positive,\n",
    "             label = 'Orden: {0} - AUC: {1}'.format(i, roc_auc_tmp))\n",
    "    plt.plot([0, 1], ls=\"--\")\n",
    "    plt.plot([0, 0], [1, 0] , c='limegreen', lw=3),\n",
    "    plt.plot([1, 1] , c='limegreen', lw=3)\n",
    "    plt.ylabel('True Positive Rate')\n",
    "    plt.xlabel('False Positive Rate')\n",
    "    plt.legend()\n",
    "    # solicitamos información de iteración\n",
    "    print(\"Orden: {0}, cantidad de atributos estimables: {1}. AUC estimada: {2}\".format(i, X_train_tmp.shape[1], roc_auc_tmp))    "
   ]
  },
  {
   "cell_type": "markdown",
   "metadata": {},
   "source": [
    "* El output del experimento demuestra que el aumentar la complejidad del modelo (medida en la cantidad de parámetros), esta no conlleva a un aumento monotónico del desempeño del modelo. \n",
    "* Consideremos los últimos dos modelos, donde se permitieron interacciones y polinomios del 20-orden. Estos casos tienen un desempeño magro con 4% y 7% mayores chances de clasificar correctamente una observación, en comparación a un clasificador aleatorio.\n",
    "* Guiándonos por los principios de la parsimonía, preferiremos un modelo que maximize nuestra tasa de clasificación __con la menor cantidad de variables__. Esto se cumple con el modelo del 5-orden, con un desempeño 16% superior que un clasificador aleatorio. Otro aspecto a considerar es que el modelo del 5-orden es eficiente en términos computacionales, dado que se demora menos tiempo en ejecutar.\n",
    "* Finalmente cabe señalar que el modelo sin términos polinomiales tiene un desempeño relativamente adecuado (comparado entre todos los modelos candidatos). Así, la moraleja es no colapsar de forma prematura nuestros modelos predictivos con características innecesarias.\n",
    "\n",
    "* En la próxima sesión utilizaremos algoritmos para reducir la dimensionalidad de nuestras observaciones para resolver problemas como el recientemente desarrollado, donde la cantidad de atributos en nuestra matriz X afecta en términos computacionales y asintóticos el desempeño de nuestros modelos.\n",
    "\n",
    "# Referencias\n",
    "\n",
    "* El ejemplo de la lectura proviene de _Gelman, A., & Hill, J. (2006). Data analysis using regression and multilevel/hierarchical models. Analytical Methods for Social Research. New York: Cambridge University Press._ Capítulo 5. Esta lectura se sugiere para profundizar sobre los aspectos econométricos del modelo logístico. El capítulo 6 expande el marco analítico hacia los _Modelo Lineales Generalizados_, donde nuestro vector objetivo se puede aproximar asintóticamente con distribuciones complejas.\n",
    "* La explicación más concisa respecto a la validación cruzada y métricas de desarrollo se puede encontrar en _Kuhn, M., & Johnson, K. (2013). Applied predictive modeling (Vol. 26). New York: Springer._ Capítulos 3 (Validación Cruzada) y 11 (Métricas de desempeño en clasificación).\n",
    "* Profundizaciones en los aspectos más formales sobre los modelos de clasificación se encuentran en _Murphy, K. 2012. Machine Learning: A Probabilistic Perspective. Cambridge, MA: MIT Press._ Capítulo 8 (Regresión Logística) y _Hastie, T; Tibshirani, R y Freedman, D. 2009. The Elements of Statistical Learning. Springer-Verlag Press._ Capítulo 4 (Modelos Lineales para Clasificación)."
   ]
  }
 ],
 "metadata": {
  "kernelspec": {
   "display_name": "Python 3",
   "language": "python",
   "name": "python3"
  },
  "language_info": {
   "codemirror_mode": {
    "name": "ipython",
    "version": 3
   },
   "file_extension": ".py",
   "mimetype": "text/x-python",
   "name": "python",
   "nbconvert_exporter": "python",
   "pygments_lexer": "ipython3",
   "version": "3.6.6"
  }
 },
 "nbformat": 4,
 "nbformat_minor": 2
}
