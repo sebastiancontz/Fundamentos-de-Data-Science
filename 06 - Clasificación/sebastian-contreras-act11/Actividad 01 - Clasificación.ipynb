{
 "cells": [
  {
   "cell_type": "markdown",
   "metadata": {},
   "source": [
    "## Unidad 6: Clasificación\n",
    "### Actividad 11"
   ]
  },
  {
   "cell_type": "markdown",
   "metadata": {},
   "source": [
    "## Descripción de Actividades\n",
    "\n",
    "* En esta sesión trabajaremos con un archivo `.csv` donde se registraron las características de una serie de individuos para analizar la propensidad a tener alguna enfermedad coronaria.\n",
    "\n",
    "* `sbp`: Presión Sanguínea Sistólica.\n",
    "* `tobacco`: Promedio tabaco consumido por día.\n",
    "* `ldl`: Lipoproteína de baja densidad.\n",
    "* `adiposity`: Adiposidad.\n",
    "* `famhist`: Antecedentes familiares de enfermedades cardiácas. (Binaria)\n",
    "* `types`: Personalidad tipo A\n",
    "* `obesity`: Obesidad.\n",
    "* `alcohol`: Consumo actual de alcohol.\n",
    "* `age`: edad.\n",
    "* `chd`: Enfermedad coronaria. (dummy)\n"
   ]
  },
  {
   "cell_type": "markdown",
   "metadata": {},
   "source": [
    "## Ejercicio 1: Preparar el ambiente de trabajo\n",
    "\n",
    "* Importe los módulos básicos para el análisis de datos\n",
    "* Importe `seaborn`.\n",
    "* Importe `statsmodels`\n",
    "* Importe `LogisticRegression`, `train_test_split`, `StandardScaler`, `classification_report` y `roc_curve` de `sklearn`"
   ]
  },
  {
   "cell_type": "code",
   "execution_count": 1,
   "metadata": {},
   "outputs": [],
   "source": [
    "import pandas as pd\n",
    "import numpy as np\n",
    "import seaborn\n",
    "import statsmodels.api as sm\n",
    "import statsmodels.formula.api as smf\n",
    "from sklearn.linear_model import LogisticRegression\n",
    "from sklearn.model_selection import train_test_split\n",
    "from sklearn.preprocessing import StandardScaler\n",
    "from sklearn.metrics import classification_report\n",
    "from sklearn.metrics import roc_curve"
   ]
  },
  {
   "cell_type": "code",
   "execution_count": 2,
   "metadata": {},
   "outputs": [],
   "source": [
    "df = pd.read_csv('southafricanheart.csv')\n",
    "df = df.drop(columns=\"Unnamed: 0\")"
   ]
  },
  {
   "cell_type": "code",
   "execution_count": 3,
   "metadata": {},
   "outputs": [
    {
     "data": {
      "text/html": [
       "<div>\n",
       "<style scoped>\n",
       "    .dataframe tbody tr th:only-of-type {\n",
       "        vertical-align: middle;\n",
       "    }\n",
       "\n",
       "    .dataframe tbody tr th {\n",
       "        vertical-align: top;\n",
       "    }\n",
       "\n",
       "    .dataframe thead th {\n",
       "        text-align: right;\n",
       "    }\n",
       "</style>\n",
       "<table border=\"1\" class=\"dataframe\">\n",
       "  <thead>\n",
       "    <tr style=\"text-align: right;\">\n",
       "      <th></th>\n",
       "      <th>sbp</th>\n",
       "      <th>tobacco</th>\n",
       "      <th>ldl</th>\n",
       "      <th>adiposity</th>\n",
       "      <th>typea</th>\n",
       "      <th>obesity</th>\n",
       "      <th>alcohol</th>\n",
       "      <th>age</th>\n",
       "      <th>chd</th>\n",
       "    </tr>\n",
       "  </thead>\n",
       "  <tbody>\n",
       "    <tr>\n",
       "      <th>count</th>\n",
       "      <td>462.000000</td>\n",
       "      <td>462.000000</td>\n",
       "      <td>462.000000</td>\n",
       "      <td>462.000000</td>\n",
       "      <td>462.000000</td>\n",
       "      <td>462.000000</td>\n",
       "      <td>462.000000</td>\n",
       "      <td>462.000000</td>\n",
       "      <td>462.000000</td>\n",
       "    </tr>\n",
       "    <tr>\n",
       "      <th>mean</th>\n",
       "      <td>138.326840</td>\n",
       "      <td>3.635649</td>\n",
       "      <td>4.740325</td>\n",
       "      <td>25.406732</td>\n",
       "      <td>53.103896</td>\n",
       "      <td>26.044113</td>\n",
       "      <td>17.044394</td>\n",
       "      <td>42.816017</td>\n",
       "      <td>0.346320</td>\n",
       "    </tr>\n",
       "    <tr>\n",
       "      <th>std</th>\n",
       "      <td>20.496317</td>\n",
       "      <td>4.593024</td>\n",
       "      <td>2.070909</td>\n",
       "      <td>7.780699</td>\n",
       "      <td>9.817534</td>\n",
       "      <td>4.213680</td>\n",
       "      <td>24.481059</td>\n",
       "      <td>14.608956</td>\n",
       "      <td>0.476313</td>\n",
       "    </tr>\n",
       "    <tr>\n",
       "      <th>min</th>\n",
       "      <td>101.000000</td>\n",
       "      <td>0.000000</td>\n",
       "      <td>0.980000</td>\n",
       "      <td>6.740000</td>\n",
       "      <td>13.000000</td>\n",
       "      <td>14.700000</td>\n",
       "      <td>0.000000</td>\n",
       "      <td>15.000000</td>\n",
       "      <td>0.000000</td>\n",
       "    </tr>\n",
       "    <tr>\n",
       "      <th>25%</th>\n",
       "      <td>124.000000</td>\n",
       "      <td>0.052500</td>\n",
       "      <td>3.282500</td>\n",
       "      <td>19.775000</td>\n",
       "      <td>47.000000</td>\n",
       "      <td>22.985000</td>\n",
       "      <td>0.510000</td>\n",
       "      <td>31.000000</td>\n",
       "      <td>0.000000</td>\n",
       "    </tr>\n",
       "    <tr>\n",
       "      <th>50%</th>\n",
       "      <td>134.000000</td>\n",
       "      <td>2.000000</td>\n",
       "      <td>4.340000</td>\n",
       "      <td>26.115000</td>\n",
       "      <td>53.000000</td>\n",
       "      <td>25.805000</td>\n",
       "      <td>7.510000</td>\n",
       "      <td>45.000000</td>\n",
       "      <td>0.000000</td>\n",
       "    </tr>\n",
       "    <tr>\n",
       "      <th>75%</th>\n",
       "      <td>148.000000</td>\n",
       "      <td>5.500000</td>\n",
       "      <td>5.790000</td>\n",
       "      <td>31.227500</td>\n",
       "      <td>60.000000</td>\n",
       "      <td>28.497500</td>\n",
       "      <td>23.892500</td>\n",
       "      <td>55.000000</td>\n",
       "      <td>1.000000</td>\n",
       "    </tr>\n",
       "    <tr>\n",
       "      <th>max</th>\n",
       "      <td>218.000000</td>\n",
       "      <td>31.200000</td>\n",
       "      <td>15.330000</td>\n",
       "      <td>42.490000</td>\n",
       "      <td>78.000000</td>\n",
       "      <td>46.580000</td>\n",
       "      <td>147.190000</td>\n",
       "      <td>64.000000</td>\n",
       "      <td>1.000000</td>\n",
       "    </tr>\n",
       "  </tbody>\n",
       "</table>\n",
       "</div>"
      ],
      "text/plain": [
       "              sbp     tobacco         ldl   adiposity       typea     obesity  \\\n",
       "count  462.000000  462.000000  462.000000  462.000000  462.000000  462.000000   \n",
       "mean   138.326840    3.635649    4.740325   25.406732   53.103896   26.044113   \n",
       "std     20.496317    4.593024    2.070909    7.780699    9.817534    4.213680   \n",
       "min    101.000000    0.000000    0.980000    6.740000   13.000000   14.700000   \n",
       "25%    124.000000    0.052500    3.282500   19.775000   47.000000   22.985000   \n",
       "50%    134.000000    2.000000    4.340000   26.115000   53.000000   25.805000   \n",
       "75%    148.000000    5.500000    5.790000   31.227500   60.000000   28.497500   \n",
       "max    218.000000   31.200000   15.330000   42.490000   78.000000   46.580000   \n",
       "\n",
       "          alcohol         age         chd  \n",
       "count  462.000000  462.000000  462.000000  \n",
       "mean    17.044394   42.816017    0.346320  \n",
       "std     24.481059   14.608956    0.476313  \n",
       "min      0.000000   15.000000    0.000000  \n",
       "25%      0.510000   31.000000    0.000000  \n",
       "50%      7.510000   45.000000    0.000000  \n",
       "75%     23.892500   55.000000    1.000000  \n",
       "max    147.190000   64.000000    1.000000  "
      ]
     },
     "execution_count": 3,
     "metadata": {},
     "output_type": "execute_result"
    }
   ],
   "source": [
    "df.describe()"
   ]
  },
  {
   "cell_type": "markdown",
   "metadata": {},
   "source": [
    "\n",
    "## Ejercicio 2\n",
    "\n",
    "* A continuación se presenta el siguiente modelo a estimar:\n",
    "\n",
    "![alttext](eq1.gif)\n",
    "\n",
    "* Para ello ejecute los siguientes pasos:\n",
    "    1. Recodifique `famhist` a dummy, asignando 1 a la categoría minoritaria.\n",
    "    - Utilice `smf.logit` para estimar el modelo.\n",
    "\n",
    "* Implemente una función `inverse_logit` que realize el mapeo de log-odds a probabilidad.\n",
    "\n",
    "* Con el modelo estimado, responda lo siguiente:\n",
    "    1. ¿Cuál es la probabilidad de un individuo con antecedentes familiares de tener una enfermedad coronaria?\n",
    "    - ¿Cuál es la probabilidad de un individuo sin antecedentes familiares de tener una enfermedad coronaria?\n",
    "    - ¿Cuál es la diferencia en la probabilidad entre un individuo con antecedentes y otro sin antecedentes?\n",
    "\n",
    "* Replique el modelo con `smf.ols` y comente las similitudes entre los coeficientes estimados. \n",
    " - _tip_: Utilice <img src=\"https://latex.codecogs.com/svg.latex?\\beta/4\" title=\"\\beta/4\" />\n"
   ]
  },
  {
   "cell_type": "code",
   "execution_count": 4,
   "metadata": {},
   "outputs": [
    {
     "data": {
      "text/plain": [
       "Absent     270\n",
       "Present    192\n",
       "Name: famhist, dtype: int64"
      ]
     },
     "execution_count": 4,
     "metadata": {},
     "output_type": "execute_result"
    }
   ],
   "source": [
    "df['famhist'].value_counts()"
   ]
  },
  {
   "cell_type": "code",
   "execution_count": 5,
   "metadata": {},
   "outputs": [],
   "source": [
    "df['famhist_bin'] = np.where(df['famhist'] == 'Present', 1, 0)"
   ]
  },
  {
   "cell_type": "code",
   "execution_count": 6,
   "metadata": {},
   "outputs": [
    {
     "name": "stdout",
     "output_type": "stream",
     "text": [
      "Optimization terminated successfully.\n",
      "         Current function value: 0.608111\n",
      "         Iterations 5\n"
     ]
    }
   ],
   "source": [
    "m1_logit = smf.logit('chd ~ famhist_bin',df).fit()"
   ]
  },
  {
   "cell_type": "code",
   "execution_count": 7,
   "metadata": {},
   "outputs": [
    {
     "data": {
      "text/html": [
       "<table class=\"simpletable\">\n",
       "<caption>Logit Regression Results</caption>\n",
       "<tr>\n",
       "  <th>Dep. Variable:</th>        <td>chd</td>       <th>  No. Observations:  </th>  <td>   462</td>  \n",
       "</tr>\n",
       "<tr>\n",
       "  <th>Model:</th>               <td>Logit</td>      <th>  Df Residuals:      </th>  <td>   460</td>  \n",
       "</tr>\n",
       "<tr>\n",
       "  <th>Method:</th>               <td>MLE</td>       <th>  Df Model:          </th>  <td>     1</td>  \n",
       "</tr>\n",
       "<tr>\n",
       "  <th>Date:</th>          <td>Sat, 22 Dec 2018</td> <th>  Pseudo R-squ.:     </th>  <td>0.05740</td> \n",
       "</tr>\n",
       "<tr>\n",
       "  <th>Time:</th>              <td>22:09:56</td>     <th>  Log-Likelihood:    </th> <td> -280.95</td> \n",
       "</tr>\n",
       "<tr>\n",
       "  <th>converged:</th>           <td>True</td>       <th>  LL-Null:           </th> <td> -298.05</td> \n",
       "</tr>\n",
       "<tr>\n",
       "  <th> </th>                      <td> </td>        <th>  LLR p-value:       </th> <td>4.937e-09</td>\n",
       "</tr>\n",
       "</table>\n",
       "<table class=\"simpletable\">\n",
       "<tr>\n",
       "       <td></td>          <th>coef</th>     <th>std err</th>      <th>z</th>      <th>P>|z|</th>  <th>[0.025</th>    <th>0.975]</th>  \n",
       "</tr>\n",
       "<tr>\n",
       "  <th>Intercept</th>   <td>   -1.1690</td> <td>    0.143</td> <td>   -8.169</td> <td> 0.000</td> <td>   -1.449</td> <td>   -0.889</td>\n",
       "</tr>\n",
       "<tr>\n",
       "  <th>famhist_bin</th> <td>    1.1690</td> <td>    0.203</td> <td>    5.751</td> <td> 0.000</td> <td>    0.771</td> <td>    1.567</td>\n",
       "</tr>\n",
       "</table>"
      ],
      "text/plain": [
       "<class 'statsmodels.iolib.summary.Summary'>\n",
       "\"\"\"\n",
       "                           Logit Regression Results                           \n",
       "==============================================================================\n",
       "Dep. Variable:                    chd   No. Observations:                  462\n",
       "Model:                          Logit   Df Residuals:                      460\n",
       "Method:                           MLE   Df Model:                            1\n",
       "Date:                Sat, 22 Dec 2018   Pseudo R-squ.:                 0.05740\n",
       "Time:                        22:09:56   Log-Likelihood:                -280.95\n",
       "converged:                       True   LL-Null:                       -298.05\n",
       "                                        LLR p-value:                 4.937e-09\n",
       "===============================================================================\n",
       "                  coef    std err          z      P>|z|      [0.025      0.975]\n",
       "-------------------------------------------------------------------------------\n",
       "Intercept      -1.1690      0.143     -8.169      0.000      -1.449      -0.889\n",
       "famhist_bin     1.1690      0.203      5.751      0.000       0.771       1.567\n",
       "===============================================================================\n",
       "\"\"\""
      ]
     },
     "execution_count": 7,
     "metadata": {},
     "output_type": "execute_result"
    }
   ],
   "source": [
    "m1_logit.summary()"
   ]
  },
  {
   "cell_type": "code",
   "execution_count": 8,
   "metadata": {},
   "outputs": [
    {
     "data": {
      "text/html": [
       "<table class=\"simpletable\">\n",
       "<tr>\n",
       "        <td>Model:</td>              <td>Logit</td>      <td>Pseudo R-squared:</td>    <td>0.057</td>  \n",
       "</tr>\n",
       "<tr>\n",
       "  <td>Dependent Variable:</td>        <td>chd</td>             <td>AIC:</td>         <td>565.8944</td> \n",
       "</tr>\n",
       "<tr>\n",
       "         <td>Date:</td>        <td>2018-12-22 22:09</td>       <td>BIC:</td>         <td>574.1655</td> \n",
       "</tr>\n",
       "<tr>\n",
       "   <td>No. Observations:</td>         <td>462</td>        <td>Log-Likelihood:</td>    <td>-280.95</td> \n",
       "</tr>\n",
       "<tr>\n",
       "       <td>Df Model:</td>              <td>1</td>            <td>LL-Null:</td>        <td>-298.05</td> \n",
       "</tr>\n",
       "<tr>\n",
       "     <td>Df Residuals:</td>           <td>460</td>         <td>LLR p-value:</td>    <td>4.9371e-09</td>\n",
       "</tr>\n",
       "<tr>\n",
       "      <td>Converged:</td>           <td>1.0000</td>           <td>Scale:</td>         <td>1.0000</td>  \n",
       "</tr>\n",
       "<tr>\n",
       "    <td>No. Iterations:</td>        <td>5.0000</td>              <td></td>               <td></td>     \n",
       "</tr>\n",
       "</table>\n",
       "<table class=\"simpletable\">\n",
       "<tr>\n",
       "       <td></td>        <th>Coef.</th>  <th>Std.Err.</th>    <th>z</th>     <th>P>|z|</th> <th>[0.025</th>  <th>0.975]</th> \n",
       "</tr>\n",
       "<tr>\n",
       "  <th>Intercept</th>   <td>-1.1690</td>  <td>0.1431</td>  <td>-8.1687</td> <td>0.0000</td> <td>-1.4495</td> <td>-0.8885</td>\n",
       "</tr>\n",
       "<tr>\n",
       "  <th>famhist_bin</th> <td>1.1690</td>   <td>0.2033</td>  <td>5.7514</td>  <td>0.0000</td> <td>0.7706</td>  <td>1.5674</td> \n",
       "</tr>\n",
       "</table>"
      ],
      "text/plain": [
       "<class 'statsmodels.iolib.summary2.Summary'>\n",
       "\"\"\"\n",
       "                         Results: Logit\n",
       "=================================================================\n",
       "Model:              Logit            Pseudo R-squared: 0.057     \n",
       "Dependent Variable: chd              AIC:              565.8944  \n",
       "Date:               2018-12-22 22:09 BIC:              574.1655  \n",
       "No. Observations:   462              Log-Likelihood:   -280.95   \n",
       "Df Model:           1                LL-Null:          -298.05   \n",
       "Df Residuals:       460              LLR p-value:      4.9371e-09\n",
       "Converged:          1.0000           Scale:            1.0000    \n",
       "No. Iterations:     5.0000                                       \n",
       "------------------------------------------------------------------\n",
       "               Coef.   Std.Err.     z     P>|z|    [0.025   0.975]\n",
       "------------------------------------------------------------------\n",
       "Intercept     -1.1690    0.1431  -8.1687  0.0000  -1.4495  -0.8885\n",
       "famhist_bin    1.1690    0.2033   5.7514  0.0000   0.7706   1.5674\n",
       "=================================================================\n",
       "\n",
       "\"\"\""
      ]
     },
     "execution_count": 8,
     "metadata": {},
     "output_type": "execute_result"
    }
   ],
   "source": [
    "m1_logit.summary2()"
   ]
  },
  {
   "cell_type": "code",
   "execution_count": 9,
   "metadata": {},
   "outputs": [],
   "source": [
    "def log_odds(dataframe, variable, modelo, estadobin = 1):\n",
    "    estimate_y = modelo.params['Intercept'] + (modelo.params[variable] * estadobin)\n",
    "    return estimate_y"
   ]
  },
  {
   "cell_type": "code",
   "execution_count": 10,
   "metadata": {},
   "outputs": [
    {
     "data": {
      "text/plain": [
       "-1.1689930854299095"
      ]
     },
     "execution_count": 10,
     "metadata": {},
     "output_type": "execute_result"
    }
   ],
   "source": [
    "log_odds(df,'famhist_bin',m1_logit,0)"
   ]
  },
  {
   "cell_type": "code",
   "execution_count": 11,
   "metadata": {},
   "outputs": [
    {
     "data": {
      "text/plain": [
       "-2.220446049250313e-16"
      ]
     },
     "execution_count": 11,
     "metadata": {},
     "output_type": "execute_result"
    }
   ],
   "source": [
    "log_odds(df,'famhist_bin',m1_logit,1)"
   ]
  },
  {
   "cell_type": "code",
   "execution_count": 12,
   "metadata": {},
   "outputs": [],
   "source": [
    "def inverse_logit(x):\n",
    "    return 1 / (1 + np.exp(-x))"
   ]
  },
  {
   "cell_type": "code",
   "execution_count": 13,
   "metadata": {},
   "outputs": [
    {
     "data": {
      "text/plain": [
       "0.24"
      ]
     },
     "execution_count": 13,
     "metadata": {},
     "output_type": "execute_result"
    }
   ],
   "source": [
    "round(inverse_logit(log_odds(df,'famhist_bin',m1_logit,0)),2)"
   ]
  },
  {
   "cell_type": "code",
   "execution_count": 14,
   "metadata": {},
   "outputs": [
    {
     "data": {
      "text/plain": [
       "0.5"
      ]
     },
     "execution_count": 14,
     "metadata": {},
     "output_type": "execute_result"
    }
   ],
   "source": [
    "round(inverse_logit(log_odds(df,'famhist_bin',m1_logit,1)),2)"
   ]
  },
  {
   "cell_type": "markdown",
   "metadata": {},
   "source": [
    "La probabilidad de un sujeto que tiene antecedentes familiares de enfermedades cardiacas de sufrir una Enfermedad coronaria es de un 50%"
   ]
  },
  {
   "cell_type": "markdown",
   "metadata": {},
   "source": [
    "La probabilidad de un sujeto que no tiene antecedentes familiares de enfermedades cardiacas de sufrir una Enfermedad coronaria es de un 24%"
   ]
  },
  {
   "cell_type": "code",
   "execution_count": 15,
   "metadata": {},
   "outputs": [
    {
     "data": {
      "text/plain": [
       "0.262962962962963"
      ]
     },
     "execution_count": 15,
     "metadata": {},
     "output_type": "execute_result"
    }
   ],
   "source": [
    "inverse_logit(log_odds(df,'famhist_bin',m1_logit,1))-inverse_logit(log_odds(df,'famhist_bin',m1_logit,0))"
   ]
  },
  {
   "cell_type": "code",
   "execution_count": 16,
   "metadata": {},
   "outputs": [
    {
     "data": {
      "text/plain": [
       "0.2629629629629629"
      ]
     },
     "execution_count": 16,
     "metadata": {},
     "output_type": "execute_result"
    }
   ],
   "source": [
    "model1 = smf.ols('chd ~ famhist_bin', df)\n",
    "model1 = model1.fit()\n",
    "model1.params['famhist_bin']"
   ]
  },
  {
   "cell_type": "markdown",
   "metadata": {},
   "source": [
    "<img src=\"https://latex.codecogs.com/svg.latex?\\beta/4\" title=\"\\beta/4\" />"
   ]
  },
  {
   "cell_type": "code",
   "execution_count": 17,
   "metadata": {},
   "outputs": [
    {
     "data": {
      "text/plain": [
       "0.29224827135747733"
      ]
     },
     "execution_count": 17,
     "metadata": {},
     "output_type": "execute_result"
    }
   ],
   "source": [
    "m1_logit.params['famhist_bin']/4"
   ]
  },
  {
   "cell_type": "code",
   "execution_count": 18,
   "metadata": {},
   "outputs": [
    {
     "data": {
      "text/plain": [
       "0.03"
      ]
     },
     "execution_count": 18,
     "metadata": {},
     "output_type": "execute_result"
    }
   ],
   "source": [
    "round((m1_logit.params['famhist_bin']/4-model1.params['famhist_bin']),2)"
   ]
  },
  {
   "cell_type": "markdown",
   "metadata": {},
   "source": [
    "La diferencia entre los coeficientes estimados es de aproximadamente 0.03 puntos percentuales, lo cual a priori presenta bastante similitud"
   ]
  },
  {
   "cell_type": "markdown",
   "metadata": {},
   "source": [
    "## Ejercicio 3: Estimación completa\n",
    "\n",
    "* Implemente un modelo con la siguiente forma\n",
    "\n",
    "![alttext](eq2.gif)\n",
    "\n",
    "* Depure el modelo manteniendo las variables con significancia estadística al 95%.\n",
    "* Compare los estadísticos de bondad de ajuste entre ambos.\n",
    "* Reporte de forma sucinta el efecto de las variables en el log-odds de tener una enfermedad coronaria."
   ]
  },
  {
   "cell_type": "code",
   "execution_count": 19,
   "metadata": {},
   "outputs": [],
   "source": [
    "def saturated_model(df, dependent, estimation=smf.logit,fit_model=True):\n",
    "    \"\"\"\n",
    "    saturated_model - returns a saturated model\n",
    "\n",
    "    @parameters:\n",
    "        - df: a `pandas.core.frame.DataFrame` object.\n",
    "        - dependent: String. Name of the dependent variable to be modelled.\n",
    "        - estimation: Method. A `statsmodels` class estimator\n",
    "        - fit_model: Bool. Whether the returned model should be fitter or not. Default: True\n",
    "\n",
    "    @returns:\n",
    "        - A `smf` model.\n",
    "\n",
    "    \"\"\"\n",
    "    # seleccionamos todas las variables que no sean la dependiente\n",
    "    tmp_vars = \"+\".join(df.columns.drop(dependent))\n",
    "    # generamos la estimación del modelo\n",
    "    tmp_model = estimation(dependent+ '~ '+ tmp_vars, df)\n",
    "    # si fit model es verdadero, podemos realizar el fit de forma automática\n",
    "    if fit_model is True:\n",
    "        tmp_model = tmp_model.fit()\n",
    "    # recuerden retornar el objeto :)\n",
    "    return tmp_model"
   ]
  },
  {
   "cell_type": "code",
   "execution_count": 20,
   "metadata": {},
   "outputs": [],
   "source": [
    "df = df.drop(columns=\"famhist\")"
   ]
  },
  {
   "cell_type": "code",
   "execution_count": 21,
   "metadata": {
    "scrolled": true
   },
   "outputs": [
    {
     "name": "stdout",
     "output_type": "stream",
     "text": [
      "Optimization terminated successfully.\n",
      "         Current function value: 0.510974\n",
      "         Iterations 6\n"
     ]
    }
   ],
   "source": [
    "modelo_saturado = saturated_model(df, 'chd')"
   ]
  },
  {
   "cell_type": "code",
   "execution_count": 22,
   "metadata": {},
   "outputs": [
    {
     "data": {
      "text/html": [
       "<table class=\"simpletable\">\n",
       "<tr>\n",
       "        <td>Model:</td>              <td>Logit</td>      <td>Pseudo R-squared:</td>    <td>0.208</td>  \n",
       "</tr>\n",
       "<tr>\n",
       "  <td>Dependent Variable:</td>        <td>chd</td>             <td>AIC:</td>         <td>492.1400</td> \n",
       "</tr>\n",
       "<tr>\n",
       "         <td>Date:</td>        <td>2018-12-22 22:09</td>       <td>BIC:</td>         <td>533.4957</td> \n",
       "</tr>\n",
       "<tr>\n",
       "   <td>No. Observations:</td>         <td>462</td>        <td>Log-Likelihood:</td>    <td>-236.07</td> \n",
       "</tr>\n",
       "<tr>\n",
       "       <td>Df Model:</td>              <td>9</td>            <td>LL-Null:</td>        <td>-298.05</td> \n",
       "</tr>\n",
       "<tr>\n",
       "     <td>Df Residuals:</td>           <td>452</td>         <td>LLR p-value:</td>    <td>2.0548e-22</td>\n",
       "</tr>\n",
       "<tr>\n",
       "      <td>Converged:</td>           <td>1.0000</td>           <td>Scale:</td>         <td>1.0000</td>  \n",
       "</tr>\n",
       "<tr>\n",
       "    <td>No. Iterations:</td>        <td>6.0000</td>              <td></td>               <td></td>     \n",
       "</tr>\n",
       "</table>\n",
       "<table class=\"simpletable\">\n",
       "<tr>\n",
       "       <td></td>        <th>Coef.</th>  <th>Std.Err.</th>    <th>z</th>     <th>P>|z|</th> <th>[0.025</th>  <th>0.975]</th> \n",
       "</tr>\n",
       "<tr>\n",
       "  <th>Intercept</th>   <td>-6.1507</td>  <td>1.3083</td>  <td>-4.7015</td> <td>0.0000</td> <td>-8.7149</td> <td>-3.5866</td>\n",
       "</tr>\n",
       "<tr>\n",
       "  <th>sbp</th>         <td>0.0065</td>   <td>0.0057</td>  <td>1.1350</td>  <td>0.2564</td> <td>-0.0047</td> <td>0.0177</td> \n",
       "</tr>\n",
       "<tr>\n",
       "  <th>tobacco</th>     <td>0.0794</td>   <td>0.0266</td>  <td>2.9838</td>  <td>0.0028</td> <td>0.0272</td>  <td>0.1315</td> \n",
       "</tr>\n",
       "<tr>\n",
       "  <th>ldl</th>         <td>0.1739</td>   <td>0.0597</td>  <td>2.9152</td>  <td>0.0036</td> <td>0.0570</td>  <td>0.2909</td> \n",
       "</tr>\n",
       "<tr>\n",
       "  <th>adiposity</th>   <td>0.0186</td>   <td>0.0293</td>  <td>0.6346</td>  <td>0.5257</td> <td>-0.0388</td> <td>0.0760</td> \n",
       "</tr>\n",
       "<tr>\n",
       "  <th>typea</th>       <td>0.0396</td>   <td>0.0123</td>  <td>3.2138</td>  <td>0.0013</td> <td>0.0154</td>  <td>0.0637</td> \n",
       "</tr>\n",
       "<tr>\n",
       "  <th>obesity</th>     <td>-0.0629</td>  <td>0.0442</td>  <td>-1.4218</td> <td>0.1551</td> <td>-0.1496</td> <td>0.0238</td> \n",
       "</tr>\n",
       "<tr>\n",
       "  <th>alcohol</th>     <td>0.0001</td>   <td>0.0045</td>  <td>0.0271</td>  <td>0.9784</td> <td>-0.0087</td> <td>0.0089</td> \n",
       "</tr>\n",
       "<tr>\n",
       "  <th>age</th>         <td>0.0452</td>   <td>0.0121</td>  <td>3.7285</td>  <td>0.0002</td> <td>0.0215</td>  <td>0.0690</td> \n",
       "</tr>\n",
       "<tr>\n",
       "  <th>famhist_bin</th> <td>0.9254</td>   <td>0.2279</td>  <td>4.0605</td>  <td>0.0000</td> <td>0.4787</td>  <td>1.3720</td> \n",
       "</tr>\n",
       "</table>"
      ],
      "text/plain": [
       "<class 'statsmodels.iolib.summary2.Summary'>\n",
       "\"\"\"\n",
       "                         Results: Logit\n",
       "=================================================================\n",
       "Model:              Logit            Pseudo R-squared: 0.208     \n",
       "Dependent Variable: chd              AIC:              492.1400  \n",
       "Date:               2018-12-22 22:09 BIC:              533.4957  \n",
       "No. Observations:   462              Log-Likelihood:   -236.07   \n",
       "Df Model:           9                LL-Null:          -298.05   \n",
       "Df Residuals:       452              LLR p-value:      2.0548e-22\n",
       "Converged:          1.0000           Scale:            1.0000    \n",
       "No. Iterations:     6.0000                                       \n",
       "------------------------------------------------------------------\n",
       "               Coef.   Std.Err.     z     P>|z|    [0.025   0.975]\n",
       "------------------------------------------------------------------\n",
       "Intercept     -6.1507    1.3083  -4.7015  0.0000  -8.7149  -3.5866\n",
       "sbp            0.0065    0.0057   1.1350  0.2564  -0.0047   0.0177\n",
       "tobacco        0.0794    0.0266   2.9838  0.0028   0.0272   0.1315\n",
       "ldl            0.1739    0.0597   2.9152  0.0036   0.0570   0.2909\n",
       "adiposity      0.0186    0.0293   0.6346  0.5257  -0.0388   0.0760\n",
       "typea          0.0396    0.0123   3.2138  0.0013   0.0154   0.0637\n",
       "obesity       -0.0629    0.0442  -1.4218  0.1551  -0.1496   0.0238\n",
       "alcohol        0.0001    0.0045   0.0271  0.9784  -0.0087   0.0089\n",
       "age            0.0452    0.0121   3.7285  0.0002   0.0215   0.0690\n",
       "famhist_bin    0.9254    0.2279   4.0605  0.0000   0.4787   1.3720\n",
       "=================================================================\n",
       "\n",
       "\"\"\""
      ]
     },
     "execution_count": 22,
     "metadata": {},
     "output_type": "execute_result"
    }
   ],
   "source": [
    "modelo_saturado.summary2()"
   ]
  },
  {
   "cell_type": "code",
   "execution_count": 53,
   "metadata": {
    "scrolled": true
   },
   "outputs": [
    {
     "data": {
      "text/plain": [
       "Intercept     -6.150721\n",
       "tobacco        0.079376\n",
       "ldl            0.173924\n",
       "typea          0.039595\n",
       "age            0.045225\n",
       "famhist_bin    0.925370\n",
       "dtype: float64"
      ]
     },
     "execution_count": 53,
     "metadata": {},
     "output_type": "execute_result"
    }
   ],
   "source": [
    "modelo_saturado.params[modelo_saturado.pvalues < 0.05]"
   ]
  },
  {
   "cell_type": "code",
   "execution_count": 24,
   "metadata": {},
   "outputs": [],
   "source": [
    "df_depurado = df.loc[:,['tobacco','ldl','typea','age','famhist_bin', 'chd']]"
   ]
  },
  {
   "cell_type": "code",
   "execution_count": 25,
   "metadata": {},
   "outputs": [
    {
     "name": "stdout",
     "output_type": "stream",
     "text": [
      "Optimization terminated successfully.\n",
      "         Current function value: 0.514811\n",
      "         Iterations 6\n"
     ]
    }
   ],
   "source": [
    "modelo_saturado_2 = saturated_model(df_depurado, 'chd')"
   ]
  },
  {
   "cell_type": "code",
   "execution_count": 26,
   "metadata": {},
   "outputs": [
    {
     "data": {
      "text/html": [
       "<table class=\"simpletable\">\n",
       "<tr>\n",
       "        <td>Model:</td>              <td>Logit</td>      <td>Pseudo R-squared:</td>    <td>0.202</td>  \n",
       "</tr>\n",
       "<tr>\n",
       "  <td>Dependent Variable:</td>        <td>chd</td>             <td>AIC:</td>         <td>487.6856</td> \n",
       "</tr>\n",
       "<tr>\n",
       "         <td>Date:</td>        <td>2018-12-22 22:09</td>       <td>BIC:</td>         <td>512.4990</td> \n",
       "</tr>\n",
       "<tr>\n",
       "   <td>No. Observations:</td>         <td>462</td>        <td>Log-Likelihood:</td>    <td>-237.84</td> \n",
       "</tr>\n",
       "<tr>\n",
       "       <td>Df Model:</td>              <td>5</td>            <td>LL-Null:</td>        <td>-298.05</td> \n",
       "</tr>\n",
       "<tr>\n",
       "     <td>Df Residuals:</td>           <td>456</td>         <td>LLR p-value:</td>    <td>2.5537e-24</td>\n",
       "</tr>\n",
       "<tr>\n",
       "      <td>Converged:</td>           <td>1.0000</td>           <td>Scale:</td>         <td>1.0000</td>  \n",
       "</tr>\n",
       "<tr>\n",
       "    <td>No. Iterations:</td>        <td>6.0000</td>              <td></td>               <td></td>     \n",
       "</tr>\n",
       "</table>\n",
       "<table class=\"simpletable\">\n",
       "<tr>\n",
       "       <td></td>        <th>Coef.</th>  <th>Std.Err.</th>    <th>z</th>     <th>P>|z|</th> <th>[0.025</th>  <th>0.975]</th> \n",
       "</tr>\n",
       "<tr>\n",
       "  <th>Intercept</th>   <td>-6.4464</td>  <td>0.9209</td>  <td>-7.0004</td> <td>0.0000</td> <td>-8.2513</td> <td>-4.6416</td>\n",
       "</tr>\n",
       "<tr>\n",
       "  <th>tobacco</th>     <td>0.0804</td>   <td>0.0259</td>  <td>3.1057</td>  <td>0.0019</td> <td>0.0297</td>  <td>0.1311</td> \n",
       "</tr>\n",
       "<tr>\n",
       "  <th>ldl</th>         <td>0.1620</td>   <td>0.0550</td>  <td>2.9470</td>  <td>0.0032</td> <td>0.0543</td>  <td>0.2697</td> \n",
       "</tr>\n",
       "<tr>\n",
       "  <th>typea</th>       <td>0.0371</td>   <td>0.0122</td>  <td>3.0505</td>  <td>0.0023</td> <td>0.0133</td>  <td>0.0610</td> \n",
       "</tr>\n",
       "<tr>\n",
       "  <th>age</th>         <td>0.0505</td>   <td>0.0102</td>  <td>4.9442</td>  <td>0.0000</td> <td>0.0305</td>  <td>0.0705</td> \n",
       "</tr>\n",
       "<tr>\n",
       "  <th>famhist_bin</th> <td>0.9082</td>   <td>0.2258</td>  <td>4.0228</td>  <td>0.0001</td> <td>0.4657</td>  <td>1.3507</td> \n",
       "</tr>\n",
       "</table>"
      ],
      "text/plain": [
       "<class 'statsmodels.iolib.summary2.Summary'>\n",
       "\"\"\"\n",
       "                         Results: Logit\n",
       "=================================================================\n",
       "Model:              Logit            Pseudo R-squared: 0.202     \n",
       "Dependent Variable: chd              AIC:              487.6856  \n",
       "Date:               2018-12-22 22:09 BIC:              512.4990  \n",
       "No. Observations:   462              Log-Likelihood:   -237.84   \n",
       "Df Model:           5                LL-Null:          -298.05   \n",
       "Df Residuals:       456              LLR p-value:      2.5537e-24\n",
       "Converged:          1.0000           Scale:            1.0000    \n",
       "No. Iterations:     6.0000                                       \n",
       "------------------------------------------------------------------\n",
       "               Coef.   Std.Err.     z     P>|z|    [0.025   0.975]\n",
       "------------------------------------------------------------------\n",
       "Intercept     -6.4464    0.9209  -7.0004  0.0000  -8.2513  -4.6416\n",
       "tobacco        0.0804    0.0259   3.1057  0.0019   0.0297   0.1311\n",
       "ldl            0.1620    0.0550   2.9470  0.0032   0.0543   0.2697\n",
       "typea          0.0371    0.0122   3.0505  0.0023   0.0133   0.0610\n",
       "age            0.0505    0.0102   4.9442  0.0000   0.0305   0.0705\n",
       "famhist_bin    0.9082    0.2258   4.0228  0.0001   0.4657   1.3507\n",
       "=================================================================\n",
       "\n",
       "\"\"\""
      ]
     },
     "execution_count": 26,
     "metadata": {},
     "output_type": "execute_result"
    }
   ],
   "source": [
    "modelo_saturado_2.summary2()"
   ]
  },
  {
   "cell_type": "markdown",
   "metadata": {},
   "source": [
    "### Estadísticos de bondad de ajuste entre ambos modelos\n",
    "#### Para el modelo saturado\n",
    "\n",
    "`Log-Likelihood`: -236.07\n",
    "\n",
    "`LL-Null`: -298.05\n",
    "\n",
    "`LLR p-value`: 2.0548e-22\n",
    "\n",
    "\n",
    "#### Para el modelo saturado depurado\n",
    "\n",
    "`Log-Likelihood`: -237.84\n",
    "\n",
    "`LL-Null`: -298.05\n",
    "\n",
    "`LLR p-value`: 2.5537e-24"
   ]
  },
  {
   "cell_type": "markdown",
   "metadata": {},
   "source": [
    "El estadístico de `LLR p-value` indica cuan cercano está el modelo para explicar la variable estudiada, por lo cual, el `modelo saturado depurado` explica de mejor manera el comportamiento de la variable `chd`"
   ]
  },
  {
   "cell_type": "markdown",
   "metadata": {},
   "source": [
    "Al analizar los coeficientes del `modelo_saturado_depurado` se puede apreciar que la variable más significativa para estudiar `chd` es el `famhist_bin`, la cual explica que efecto tener Antecedentes familiares de enfermedades cardiacas afecta en 0.9 veces en el log-odds de tener una enfermedad coronaria."
   ]
  },
  {
   "cell_type": "markdown",
   "metadata": {},
   "source": [
    "## Ejercicio 4: Estimación de perfiles\n",
    "\n",
    "* A partir del modelo depurado, genere las estimaciones en log-odds y posteriormente transfórmelas a probabilidades con `inverse_logit`. Los perfiles a estimar son los siguientes:\n",
    "\n",
    "1. La probabilidad de tener una enfermedad coronaria para un individuo con características similares a la muestra.\n",
    "- La probabilidad de tener una enfemerdad coronaria para un individuo con altos niveles de lipoproteína de baja densidad, __manteniendo todas las demás características constantes__.\n",
    "- La probabilidad de tener una enfemerdad coronaria para un individuo con bajos niveles de lipoproteína de baja densidad, __manteniendo todas las demás características constantes__."
   ]
  },
  {
   "cell_type": "code",
   "execution_count": 27,
   "metadata": {
    "scrolled": true
   },
   "outputs": [
    {
     "data": {
      "text/plain": [
       "tobacco        0.080375\n",
       "ldl            0.161992\n",
       "typea          0.037115\n",
       "age            0.050460\n",
       "famhist_bin    0.908175\n",
       "dtype: float64"
      ]
     },
     "execution_count": 27,
     "metadata": {},
     "output_type": "execute_result"
    }
   ],
   "source": [
    "modelo_saturado_2.params.drop('Intercept')"
   ]
  },
  {
   "cell_type": "code",
   "execution_count": 28,
   "metadata": {},
   "outputs": [],
   "source": [
    "#calcular log-odds\n",
    "estimate_y = modelo_saturado_2.params['tobacco'] * df_depurado['tobacco'].mean()\n",
    "estimate_y += modelo_saturado_2.params['ldl'] * df_depurado['ldl'].mean()\n",
    "estimate_y += modelo_saturado_2.params['typea'] * df_depurado['typea'].mean()\n",
    "estimate_y += modelo_saturado_2.params['age'] * df_depurado['age'].mean()\n",
    "estimate_y += modelo_saturado_2.params['famhist_bin'] * df_depurado['famhist_bin'].mean()\n",
    "estimate_y += modelo_saturado_2.params['Intercept']"
   ]
  },
  {
   "cell_type": "code",
   "execution_count": 29,
   "metadata": {},
   "outputs": [
    {
     "data": {
      "text/plain": [
       "0.29370927481586945"
      ]
     },
     "execution_count": 29,
     "metadata": {},
     "output_type": "execute_result"
    }
   ],
   "source": [
    "inverse_logit(estimate_y)"
   ]
  },
  {
   "cell_type": "markdown",
   "metadata": {},
   "source": [
    "Un individuo con características similares a la muestra depurada tiene aproximadamente un 29% de probabilidad de sufrir una enfermedad coronaria."
   ]
  },
  {
   "cell_type": "code",
   "execution_count": 30,
   "metadata": {},
   "outputs": [],
   "source": [
    "#calcular log-odds\n",
    "estimate_y = modelo_saturado_2.params['tobacco'] * df_depurado['tobacco'].mean()\n",
    "estimate_y += modelo_saturado_2.params['ldl'] * df_depurado['ldl'].max()\n",
    "estimate_y += modelo_saturado_2.params['typea'] * df_depurado['typea'].mean()\n",
    "estimate_y += modelo_saturado_2.params['age'] * df_depurado['age'].mean()\n",
    "estimate_y += modelo_saturado_2.params['famhist_bin'] * df_depurado['famhist_bin'].mean()\n",
    "estimate_y += modelo_saturado_2.params['Intercept']"
   ]
  },
  {
   "cell_type": "code",
   "execution_count": 31,
   "metadata": {},
   "outputs": [
    {
     "data": {
      "text/plain": [
       "0.6980443104466211"
      ]
     },
     "execution_count": 31,
     "metadata": {},
     "output_type": "execute_result"
    }
   ],
   "source": [
    "inverse_logit(estimate_y)"
   ]
  },
  {
   "cell_type": "markdown",
   "metadata": {},
   "source": [
    "Un individuo con altos niveles de lipoproteína de baja densidad de la muestra depurada tiene aproximadamente un 70% de probabilidad de sufrir una enfermedad coronaria."
   ]
  },
  {
   "cell_type": "code",
   "execution_count": 32,
   "metadata": {},
   "outputs": [],
   "source": [
    "#calcular log-odds\n",
    "estimate_y = modelo_saturado_2.params['tobacco'] * df_depurado['tobacco'].mean()\n",
    "estimate_y += modelo_saturado_2.params['ldl'] * df_depurado['ldl'].min()\n",
    "estimate_y += modelo_saturado_2.params['typea'] * df_depurado['typea'].mean()\n",
    "estimate_y += modelo_saturado_2.params['age'] * df_depurado['age'].mean()\n",
    "estimate_y += modelo_saturado_2.params['famhist_bin'] * df_depurado['famhist_bin'].mean()\n",
    "estimate_y += modelo_saturado_2.params['Intercept']"
   ]
  },
  {
   "cell_type": "code",
   "execution_count": 33,
   "metadata": {},
   "outputs": [
    {
     "data": {
      "text/plain": [
       "0.18443595575404653"
      ]
     },
     "execution_count": 33,
     "metadata": {},
     "output_type": "execute_result"
    }
   ],
   "source": [
    "inverse_logit(estimate_y)"
   ]
  },
  {
   "cell_type": "markdown",
   "metadata": {},
   "source": [
    "Un individuo con bajos niveles de lipoproteína de baja densidad de la muestra depurada tiene aproximadamente un 18% de probabilidad de sufrir una enfermedad coronaria."
   ]
  }
 ],
 "metadata": {
  "kernelspec": {
   "display_name": "Python 3",
   "language": "python",
   "name": "python3"
  },
  "language_info": {
   "codemirror_mode": {
    "name": "ipython",
    "version": 3
   },
   "file_extension": ".py",
   "mimetype": "text/x-python",
   "name": "python",
   "nbconvert_exporter": "python",
   "pygments_lexer": "ipython3",
   "version": "3.6.6"
  }
 },
 "nbformat": 4,
 "nbformat_minor": 2
}
