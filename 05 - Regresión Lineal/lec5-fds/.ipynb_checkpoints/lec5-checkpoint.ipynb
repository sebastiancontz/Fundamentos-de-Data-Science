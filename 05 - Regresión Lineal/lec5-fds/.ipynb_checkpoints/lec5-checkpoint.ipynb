{
 "cells": [
  {
   "cell_type": "markdown",
   "metadata": {},
   "source": [
    "<img src=\"logo.png\",width=200,height=200>"
   ]
  },
  {
   "cell_type": "markdown",
   "metadata": {},
   "source": [
    "# Quinta Lectura: Analizando y prediciendo valores\n",
    "\n",
    "> __Alcance de la sesión__:\n",
    ">\n",
    "> * Reconocer la terminología asociada a la modelación estadística.\n",
    "> * Conocer la regresión lineal y sus fundamentos.\n",
    "> * Interpretar los parámetros estimados en la regresión. \n",
    "> * Conocer y ser capaz de interpretar estadísticos de bondad de ajuste y coeficientes.\n",
    "> * Reconocer los supuestos en los que la regresión tiene sustento teórico.\n",
    "> * Implementar un modelo de regresión con `statsmodels`\n",
    "> * Utilizar transformaciones simples en las variables independientes.\n",
    "> * Implementar un modelo predictivo con `scikit-learn`\n",
    "\n",
    "* En esta semana aprenderemos sobre la regresión en su variante más general: la regresión lineal. Emplearemos una base de datos sobre ingresos de una empresa y buscaremos los determinantes asociados a mayores ingresos.\n",
    "* La regresión responde a la pregunta _¿Cómo el cambio de una variable afecta el valor de otra variable?_\n",
    "* La regresión es un método muy flexible asociado con las preguntas de asociación y causalidad de nuestros fenómenos por estudiar.\n",
    "* Para esta semana trabajaremos con el caso más simple: __la regresión lineal__. Por lineal hablamos del caso donde nuestra variable objetivo (o dependiente) es _contínua_ y la relación entre esta y los atributos (o variables independientes) es mediante una combinación lineal de los últimos.\n",
    "* La regresión permite generalizarse a múltiples casos, por lo que entender su caso canónico nos deja bien preparados para modelos más flexibles como los _Generalized Lineal Models, modelos no paramétricos, multinivel, efectos fijos y Generalized Additive Models_, por nombrar algunos.\n",
    "* Se dice __regresión lineal simple__ a aquella que tiene _un regresor como atributo (o variable independiente)_. Más adelante hablaremos de la __regresión lineal múltiple__, aquella que tiene _más de un regresor como atributo (o variable independiente)_.\n",
    "\n",
    "## Nuestro primer modelo de regresión\n",
    "\n",
    "* Para esta semana trabajaremos con una base de datos sobre los ingresos de una muestra, en base a una serie de atributos.\n",
    "* Partamos por incluir los módulos que utilizaremos en el análisis."
   ]
  },
  {
   "cell_type": "code",
   "execution_count": 1,
   "metadata": {},
   "outputs": [
    {
     "name": "stderr",
     "output_type": "stream",
     "text": [
      "/Users/ignaciosotoz/anaconda3/lib/python3.6/site-packages/statsmodels/compat/pandas.py:56: FutureWarning: The pandas.core.datetools module is deprecated and will be removed in a future version. Please use the pandas.tseries module instead.\n",
      "  from pandas.core import datetools\n"
     ]
    }
   ],
   "source": [
    "%matplotlib inline\n",
    "\n",
    "import pandas as pd\n",
    "import numpy as np\n",
    "import scipy.stats as stats\n",
    "import matplotlib.pyplot as plt\n",
    "import statsmodels.api as sm\n",
    "import statsmodels.formula.api as smf\n",
    "import seaborn as sns\n",
    "import warnings\n",
    "warnings.filterwarnings(\"ignore\", category=DeprecationWarning)\n",
    "\n",
    "import lec5_graphs as gfx\n",
    "\n",
    "plt.style.use('seaborn-whitegrid') # Gráficos estilo seaborn\n",
    "plt.rcParams[\"figure.figsize\"] = (6, 4) # Tamaño gráficos\n",
    "plt.rcParams[\"figure.dpi\"] = 300 # resolución gráficos"
   ]
  },
  {
   "cell_type": "markdown",
   "metadata": {},
   "source": [
    "* De forma adicional a `pandas`, `numpy` y `matplotlib`, agregaremos la librería `statsmodels`. Ésta es una librería orientada a la modelación econométrica siguiendo una sintáxis similar a `R`.\n",
    "* Si no encuentran `statsmodels` en su ambiente de trabajo, pueden agregarlo con:\n",
    "\n",
    "```bash\n",
    "conda install statsmodels\n",
    "```\n",
    "\n",
    "* La documentación de `statsmodels` es muy completa y afable a los usuarios. Para más detalles, pueden dirigirse a [https://www.statsmodels.org/stable/index.html](https://www.statsmodels.org/stable/index.html)\n",
    "\n",
    "* Dentro de nuestro directorio de trabajo tenemos la base de datos `earnings.csv`, la cual importaremos con pandas"
   ]
  },
  {
   "cell_type": "code",
   "execution_count": 2,
   "metadata": {},
   "outputs": [
    {
     "data": {
      "text/html": [
       "<div>\n",
       "<style scoped>\n",
       "    .dataframe tbody tr th:only-of-type {\n",
       "        vertical-align: middle;\n",
       "    }\n",
       "\n",
       "    .dataframe tbody tr th {\n",
       "        vertical-align: top;\n",
       "    }\n",
       "\n",
       "    .dataframe thead th {\n",
       "        text-align: right;\n",
       "    }\n",
       "</style>\n",
       "<table border=\"1\" class=\"dataframe\">\n",
       "  <thead>\n",
       "    <tr style=\"text-align: right;\">\n",
       "      <th></th>\n",
       "      <th>Unnamed: 0</th>\n",
       "      <th>earn</th>\n",
       "      <th>height1</th>\n",
       "      <th>height2</th>\n",
       "      <th>sex</th>\n",
       "      <th>race</th>\n",
       "      <th>hisp</th>\n",
       "      <th>ed</th>\n",
       "      <th>yearbn</th>\n",
       "      <th>height</th>\n",
       "      <th>age</th>\n",
       "      <th>age_category</th>\n",
       "      <th>eth</th>\n",
       "      <th>male</th>\n",
       "    </tr>\n",
       "  </thead>\n",
       "  <tbody>\n",
       "    <tr>\n",
       "      <th>0</th>\n",
       "      <td>3</td>\n",
       "      <td>50000.0</td>\n",
       "      <td>6</td>\n",
       "      <td>2</td>\n",
       "      <td>1</td>\n",
       "      <td>1</td>\n",
       "      <td>2</td>\n",
       "      <td>16</td>\n",
       "      <td>45</td>\n",
       "      <td>74</td>\n",
       "      <td>45</td>\n",
       "      <td>2</td>\n",
       "      <td>3</td>\n",
       "      <td>1</td>\n",
       "    </tr>\n",
       "    <tr>\n",
       "      <th>1</th>\n",
       "      <td>4</td>\n",
       "      <td>60000.0</td>\n",
       "      <td>5</td>\n",
       "      <td>6</td>\n",
       "      <td>2</td>\n",
       "      <td>1</td>\n",
       "      <td>2</td>\n",
       "      <td>16</td>\n",
       "      <td>32</td>\n",
       "      <td>66</td>\n",
       "      <td>58</td>\n",
       "      <td>3</td>\n",
       "      <td>3</td>\n",
       "      <td>0</td>\n",
       "    </tr>\n",
       "    <tr>\n",
       "      <th>2</th>\n",
       "      <td>5</td>\n",
       "      <td>30000.0</td>\n",
       "      <td>5</td>\n",
       "      <td>4</td>\n",
       "      <td>2</td>\n",
       "      <td>1</td>\n",
       "      <td>2</td>\n",
       "      <td>16</td>\n",
       "      <td>61</td>\n",
       "      <td>64</td>\n",
       "      <td>29</td>\n",
       "      <td>1</td>\n",
       "      <td>3</td>\n",
       "      <td>0</td>\n",
       "    </tr>\n",
       "    <tr>\n",
       "      <th>3</th>\n",
       "      <td>9</td>\n",
       "      <td>51000.0</td>\n",
       "      <td>5</td>\n",
       "      <td>3</td>\n",
       "      <td>2</td>\n",
       "      <td>1</td>\n",
       "      <td>2</td>\n",
       "      <td>17</td>\n",
       "      <td>51</td>\n",
       "      <td>63</td>\n",
       "      <td>39</td>\n",
       "      <td>2</td>\n",
       "      <td>3</td>\n",
       "      <td>0</td>\n",
       "    </tr>\n",
       "    <tr>\n",
       "      <th>4</th>\n",
       "      <td>10</td>\n",
       "      <td>9000.0</td>\n",
       "      <td>5</td>\n",
       "      <td>4</td>\n",
       "      <td>2</td>\n",
       "      <td>1</td>\n",
       "      <td>2</td>\n",
       "      <td>15</td>\n",
       "      <td>64</td>\n",
       "      <td>64</td>\n",
       "      <td>26</td>\n",
       "      <td>1</td>\n",
       "      <td>3</td>\n",
       "      <td>0</td>\n",
       "    </tr>\n",
       "  </tbody>\n",
       "</table>\n",
       "</div>"
      ],
      "text/plain": [
       "   Unnamed: 0     earn  height1  height2  sex  race  hisp  ed  yearbn  height  \\\n",
       "0           3  50000.0        6        2    1     1     2  16      45      74   \n",
       "1           4  60000.0        5        6    2     1     2  16      32      66   \n",
       "2           5  30000.0        5        4    2     1     2  16      61      64   \n",
       "3           9  51000.0        5        3    2     1     2  17      51      63   \n",
       "4          10   9000.0        5        4    2     1     2  15      64      64   \n",
       "\n",
       "   age  age_category  eth  male  \n",
       "0   45             2    3     1  \n",
       "1   58             3    3     0  \n",
       "2   29             1    3     0  \n",
       "3   39             2    3     0  \n",
       "4   26             1    3     0  "
      ]
     },
     "execution_count": 2,
     "metadata": {},
     "output_type": "execute_result"
    }
   ],
   "source": [
    "df = pd.read_csv('earnings.csv')\n",
    "df.head()"
   ]
  },
  {
   "cell_type": "markdown",
   "metadata": {},
   "source": [
    "* Solicitemos las principales estadísticas descriptivas para cada variable con `describe()`. El método nos entrega información sobre:\n",
    "    - __count__: La cantidad de observaciones en la muestra.\n",
    "    - __mean__: La media aritmética de cada variable.\n",
    "    - __std__: La desviación estandar de cada variable.\n",
    "    - __min__: El valor mínimo observado de la variable en la muestra.\n",
    "    - __25%__: El rango intercuartil inferior de la variable en la muestra.\n",
    "    - __50%__: La mediana de la variable en la muestra.\n",
    "    - __75%__: El rango intercuartil superior de la variable en la muestra.\n",
    "    - __max__: El valor máximo observado de la variable en la muestra."
   ]
  },
  {
   "cell_type": "code",
   "execution_count": 3,
   "metadata": {},
   "outputs": [
    {
     "data": {
      "text/html": [
       "<div>\n",
       "<style scoped>\n",
       "    .dataframe tbody tr th:only-of-type {\n",
       "        vertical-align: middle;\n",
       "    }\n",
       "\n",
       "    .dataframe tbody tr th {\n",
       "        vertical-align: top;\n",
       "    }\n",
       "\n",
       "    .dataframe thead th {\n",
       "        text-align: right;\n",
       "    }\n",
       "</style>\n",
       "<table border=\"1\" class=\"dataframe\">\n",
       "  <thead>\n",
       "    <tr style=\"text-align: right;\">\n",
       "      <th></th>\n",
       "      <th>Unnamed: 0</th>\n",
       "      <th>earn</th>\n",
       "      <th>height1</th>\n",
       "      <th>height2</th>\n",
       "      <th>sex</th>\n",
       "      <th>race</th>\n",
       "      <th>hisp</th>\n",
       "      <th>ed</th>\n",
       "      <th>yearbn</th>\n",
       "      <th>height</th>\n",
       "      <th>age</th>\n",
       "      <th>age_category</th>\n",
       "      <th>eth</th>\n",
       "      <th>male</th>\n",
       "    </tr>\n",
       "  </thead>\n",
       "  <tbody>\n",
       "    <tr>\n",
       "      <th>count</th>\n",
       "      <td>1374.000000</td>\n",
       "      <td>1374.000000</td>\n",
       "      <td>1374.000000</td>\n",
       "      <td>1374.000000</td>\n",
       "      <td>1374.000000</td>\n",
       "      <td>1374.000000</td>\n",
       "      <td>1374.000000</td>\n",
       "      <td>1374.000000</td>\n",
       "      <td>1374.000000</td>\n",
       "      <td>1374.000000</td>\n",
       "      <td>1374.000000</td>\n",
       "      <td>1374.000000</td>\n",
       "      <td>1374.000000</td>\n",
       "      <td>1374.000000</td>\n",
       "    </tr>\n",
       "    <tr>\n",
       "      <th>mean</th>\n",
       "      <td>1029.446143</td>\n",
       "      <td>19981.433770</td>\n",
       "      <td>5.128821</td>\n",
       "      <td>5.050218</td>\n",
       "      <td>1.622999</td>\n",
       "      <td>1.167394</td>\n",
       "      <td>1.941776</td>\n",
       "      <td>13.353712</td>\n",
       "      <td>48.848617</td>\n",
       "      <td>66.596070</td>\n",
       "      <td>41.151383</td>\n",
       "      <td>1.861718</td>\n",
       "      <td>2.780204</td>\n",
       "      <td>0.377001</td>\n",
       "    </tr>\n",
       "    <tr>\n",
       "      <th>std</th>\n",
       "      <td>587.765286</td>\n",
       "      <td>19781.488482</td>\n",
       "      <td>0.360261</td>\n",
       "      <td>3.173719</td>\n",
       "      <td>0.484812</td>\n",
       "      <td>0.641772</td>\n",
       "      <td>0.234252</td>\n",
       "      <td>2.440269</td>\n",
       "      <td>15.542169</td>\n",
       "      <td>3.803324</td>\n",
       "      <td>15.542169</td>\n",
       "      <td>0.814886</td>\n",
       "      <td>0.628077</td>\n",
       "      <td>0.484812</td>\n",
       "    </tr>\n",
       "    <tr>\n",
       "      <th>min</th>\n",
       "      <td>3.000000</td>\n",
       "      <td>0.000000</td>\n",
       "      <td>4.000000</td>\n",
       "      <td>0.000000</td>\n",
       "      <td>1.000000</td>\n",
       "      <td>1.000000</td>\n",
       "      <td>1.000000</td>\n",
       "      <td>3.000000</td>\n",
       "      <td>3.000000</td>\n",
       "      <td>58.000000</td>\n",
       "      <td>18.000000</td>\n",
       "      <td>1.000000</td>\n",
       "      <td>1.000000</td>\n",
       "      <td>0.000000</td>\n",
       "    </tr>\n",
       "    <tr>\n",
       "      <th>25%</th>\n",
       "      <td>520.250000</td>\n",
       "      <td>6000.000000</td>\n",
       "      <td>5.000000</td>\n",
       "      <td>3.000000</td>\n",
       "      <td>1.000000</td>\n",
       "      <td>1.000000</td>\n",
       "      <td>2.000000</td>\n",
       "      <td>12.000000</td>\n",
       "      <td>39.000000</td>\n",
       "      <td>64.000000</td>\n",
       "      <td>29.000000</td>\n",
       "      <td>1.000000</td>\n",
       "      <td>3.000000</td>\n",
       "      <td>0.000000</td>\n",
       "    </tr>\n",
       "    <tr>\n",
       "      <th>50%</th>\n",
       "      <td>1027.500000</td>\n",
       "      <td>16000.000000</td>\n",
       "      <td>5.000000</td>\n",
       "      <td>5.000000</td>\n",
       "      <td>2.000000</td>\n",
       "      <td>1.000000</td>\n",
       "      <td>2.000000</td>\n",
       "      <td>13.000000</td>\n",
       "      <td>52.000000</td>\n",
       "      <td>66.000000</td>\n",
       "      <td>38.000000</td>\n",
       "      <td>2.000000</td>\n",
       "      <td>3.000000</td>\n",
       "      <td>0.000000</td>\n",
       "    </tr>\n",
       "    <tr>\n",
       "      <th>75%</th>\n",
       "      <td>1536.750000</td>\n",
       "      <td>28000.000000</td>\n",
       "      <td>5.000000</td>\n",
       "      <td>8.000000</td>\n",
       "      <td>2.000000</td>\n",
       "      <td>1.000000</td>\n",
       "      <td>2.000000</td>\n",
       "      <td>15.000000</td>\n",
       "      <td>61.000000</td>\n",
       "      <td>69.000000</td>\n",
       "      <td>51.000000</td>\n",
       "      <td>3.000000</td>\n",
       "      <td>3.000000</td>\n",
       "      <td>1.000000</td>\n",
       "    </tr>\n",
       "    <tr>\n",
       "      <th>max</th>\n",
       "      <td>2029.000000</td>\n",
       "      <td>200000.000000</td>\n",
       "      <td>6.000000</td>\n",
       "      <td>11.000000</td>\n",
       "      <td>2.000000</td>\n",
       "      <td>9.000000</td>\n",
       "      <td>2.000000</td>\n",
       "      <td>18.000000</td>\n",
       "      <td>72.000000</td>\n",
       "      <td>77.000000</td>\n",
       "      <td>87.000000</td>\n",
       "      <td>3.000000</td>\n",
       "      <td>4.000000</td>\n",
       "      <td>1.000000</td>\n",
       "    </tr>\n",
       "  </tbody>\n",
       "</table>\n",
       "</div>"
      ],
      "text/plain": [
       "        Unnamed: 0           earn      height1      height2          sex  \\\n",
       "count  1374.000000    1374.000000  1374.000000  1374.000000  1374.000000   \n",
       "mean   1029.446143   19981.433770     5.128821     5.050218     1.622999   \n",
       "std     587.765286   19781.488482     0.360261     3.173719     0.484812   \n",
       "min       3.000000       0.000000     4.000000     0.000000     1.000000   \n",
       "25%     520.250000    6000.000000     5.000000     3.000000     1.000000   \n",
       "50%    1027.500000   16000.000000     5.000000     5.000000     2.000000   \n",
       "75%    1536.750000   28000.000000     5.000000     8.000000     2.000000   \n",
       "max    2029.000000  200000.000000     6.000000    11.000000     2.000000   \n",
       "\n",
       "              race         hisp           ed       yearbn       height  \\\n",
       "count  1374.000000  1374.000000  1374.000000  1374.000000  1374.000000   \n",
       "mean      1.167394     1.941776    13.353712    48.848617    66.596070   \n",
       "std       0.641772     0.234252     2.440269    15.542169     3.803324   \n",
       "min       1.000000     1.000000     3.000000     3.000000    58.000000   \n",
       "25%       1.000000     2.000000    12.000000    39.000000    64.000000   \n",
       "50%       1.000000     2.000000    13.000000    52.000000    66.000000   \n",
       "75%       1.000000     2.000000    15.000000    61.000000    69.000000   \n",
       "max       9.000000     2.000000    18.000000    72.000000    77.000000   \n",
       "\n",
       "               age  age_category          eth         male  \n",
       "count  1374.000000   1374.000000  1374.000000  1374.000000  \n",
       "mean     41.151383      1.861718     2.780204     0.377001  \n",
       "std      15.542169      0.814886     0.628077     0.484812  \n",
       "min      18.000000      1.000000     1.000000     0.000000  \n",
       "25%      29.000000      1.000000     3.000000     0.000000  \n",
       "50%      38.000000      2.000000     3.000000     0.000000  \n",
       "75%      51.000000      3.000000     3.000000     1.000000  \n",
       "max      87.000000      3.000000     4.000000     1.000000  "
      ]
     },
     "execution_count": 3,
     "metadata": {},
     "output_type": "execute_result"
    }
   ],
   "source": [
    "df.describe()"
   ]
  },
  {
   "cell_type": "markdown",
   "metadata": {},
   "source": [
    "* `describe()` es útil, pero para las variables categóricas es mejor ver sus frecuencias. Para ello, utilizaremos `.value_counts()` en cada variable."
   ]
  },
  {
   "cell_type": "code",
   "execution_count": 4,
   "metadata": {},
   "outputs": [
    {
     "name": "stdout",
     "output_type": "stream",
     "text": [
      "\n",
      " sex\n",
      "2    856\n",
      "1    518\n",
      "Name: sex, dtype: int64\n",
      "2    0.622999\n",
      "1    0.377001\n",
      "Name: sex, dtype: float64\n",
      "\n",
      " race\n",
      "1    1216\n",
      "2     126\n",
      "3      17\n",
      "4      10\n",
      "9       5\n",
      "Name: race, dtype: int64\n",
      "1    0.885007\n",
      "2    0.091703\n",
      "3    0.012373\n",
      "4    0.007278\n",
      "9    0.003639\n",
      "Name: race, dtype: float64\n",
      "\n",
      " hisp\n",
      "2    1294\n",
      "1      80\n",
      "Name: hisp, dtype: int64\n",
      "2    0.941776\n",
      "1    0.058224\n",
      "Name: hisp, dtype: float64\n",
      "\n",
      " age_category\n",
      "1    564\n",
      "2    436\n",
      "3    374\n",
      "Name: age_category, dtype: int64\n",
      "1    0.410480\n",
      "2    0.317322\n",
      "3    0.272198\n",
      "Name: age_category, dtype: float64\n",
      "\n",
      " eth\n",
      "3    1144\n",
      "1     126\n",
      "2      77\n",
      "4      27\n",
      "Name: eth, dtype: int64\n",
      "3    0.832606\n",
      "1    0.091703\n",
      "2    0.056041\n",
      "4    0.019651\n",
      "Name: eth, dtype: float64\n",
      "\n",
      " male\n",
      "0    856\n",
      "1    518\n",
      "Name: male, dtype: int64\n",
      "0    0.622999\n",
      "1    0.377001\n",
      "Name: male, dtype: float64\n"
     ]
    }
   ],
   "source": [
    "# separemos todas las variables que son categóricas\n",
    "categorical_columns = ['sex', 'race', 'hisp', 'age_category', 'eth', 'male']\n",
    "\n",
    "# iniciamos un loop para cada variable categórica donde:\n",
    "for cat in categorical_columns:\n",
    "    # imprimimos el nombre\n",
    "    print(\"\\n\",cat)\n",
    "    # solicitamos la frecuencia relativa de cada categoría dentro de la variable\n",
    "    print(df[cat].value_counts())\n",
    "    # solicitamos el porcentaje de la frecuencia relativa\n",
    "    print((df[cat].value_counts()/len(df[cat])))"
   ]
  },
  {
   "cell_type": "markdown",
   "metadata": {},
   "source": [
    "* Nuestro objetivo es ver la asociación entre los ingresos generados y la altura de cada individuo.\n",
    "* Primero generemos un diagrama de dispersión con `sns.jointplot()`. El gráfico entregará información sobre la distribución de cada unoa de las variables, así como un diagrama de dispersión entre ambas.\n",
    "* La sintáxis de la función es: `sns.jointplot(<var. independiente>, <var. dependiente>)`"
   ]
  },
  {
   "cell_type": "code",
   "execution_count": 5,
   "metadata": {},
   "outputs": [
    {
     "data": {
      "image/png": "[encoded data removed]",
      "text/plain": [
       "<matplotlib.figure.Figure at 0x10bdfb6a0>"
      ]
     },
     "metadata": {},
     "output_type": "display_data"
    }
   ],
   "source": [
    "sns.jointplot(df['height'], df['earn'], kind='reg');"
   ]
  },
  {
   "cell_type": "markdown",
   "metadata": {},
   "source": [
    "* El diagrama ejecutado entrega la siguiente información:\n",
    "    1. El diagrama nos informa de una __asociación positiva entre ambas variables__. Una salvedad a rescatar es que la asociación entre ambas es relativamente débil (su _r de Pearson_ es de .30).\n",
    "    2. La baja correlación puede ser explicada por la distribución de las variables. Mientras que `height` persenta una distribución relativamente normal, `earn` está fuertemente sesgada hacia valores bajos.\n",
    "    3. Otro motivo que pueda estar influyendo levemente es que, si nos fijamos en los valores que toma la variable `height` de la tabla entregada por el método describe, los valores al parecer fueron redondeados (min, max y los cuartiles son numeros enteros), esta es la razón también de que se vean 'franjas' en el gráfico de dispersión.\n",
    "    \n",
    "* Para examinar la normalidad de nuestras variables, `statsmodels` presenta un gráfico de normalidad Q-Q (_Quantile - Quantile_)."
   ]
  },
  {
   "cell_type": "code",
   "execution_count": 6,
   "metadata": {},
   "outputs": [
    {
     "data": {
      "image/png": "[encoded data removed]",
      "text/plain": [
       "<matplotlib.figure.Figure at 0x10f24a278>"
      ]
     },
     "metadata": {},
     "output_type": "display_data"
    }
   ],
   "source": [
    "sm.qqplot(df['earn'],line='q');"
   ]
  },
  {
   "cell_type": "markdown",
   "metadata": {},
   "source": [
    "* En el gráfico podemos observar que la variable escapa de los valores esperados en los extremos de la distribución. Ésto es un punto a considerar en la modelación que veremos más adelante.\n",
    "* El gráfico Q-Q compara la distribución empírica de nuestra variable en el eje Y (con la etiqueta 'Sample Quantities') contra la distribución _esperada_ de la variable (bajo la etiqueta 'Theoretical Quantities').\n",
    "* La opción `line='q'` permite trazar una línea entre cantidades observadas y esperadas en los cuantiles de nuestra variable. Una distribución normal tendrá la mayoría de sus datos cercanos a la línea.\n",
    "* Si ejecutamos el mismo diagnóstico para `height`, el resultado es distinto."
   ]
  },
  {
   "cell_type": "code",
   "execution_count": 7,
   "metadata": {},
   "outputs": [
    {
     "data": {
      "image/png": "[encoded data removed]",
      "text/plain": [
       "<matplotlib.figure.Figure at 0x1053297f0>"
      ]
     },
     "metadata": {},
     "output_type": "display_data"
    }
   ],
   "source": [
    "sm.qqplot(df['height'], line='q');"
   ]
  },
  {
   "cell_type": "markdown",
   "metadata": {},
   "source": [
    "## Inspeccionando contribuciones en nuestra variable dependiente: Regresión Lineal\n",
    "\n",
    "* Una vez realizado las principales exploraciones, nuestro objetivo es generar una explicación plausible de cómo la altura de los individuos afecta los niveles de ingreso en promedio. Para ello utilizaremos la regresión lineal, un método que permite extraer información sobre cómo una variable _independiente_ contribuye en una variable _dependiente_.\n",
    "\n",
    "* La regresión lineal es un método que resume cómo los valores de una variable objetivo de característica numérica varían en _subpoblaciones_ definidas por una función lineal de atributos. Esta definición proviene de Gelman & Hill (2007) y pone énfasis en la característica descriptiva de la regresión por sobre la idea causal.\n",
    "* Si bien la regresión puede utilizarse para representar asociaciones causales, preferimos enfatizar la capacidad de presentar comparaciones de promedios entre dos subpoblaciones. Así somos explícitos sobre las limitantes de la regresión al no considerar los supuestos de inferencia causal.\n",
    "\n",
    "### Nuestra primera regresión\n",
    "\n",
    "* Nuestro primer modelo  a ejecutar tendrá la siguiente especificación:\n",
    "\n",
    "$$\n",
    "\\texttt{earn}_i = \\beta_{0} + \\beta_{1}\\texttt{height}_i + \\varepsilon_{i},\n",
    "$$\n",
    "\n",
    "\n",
    "donde buscamos generar un modelo que explique la varianza de `earn` en función a `height`. En la ecuación agregamos un $\\varepsilon_{i}$ para tomar en cuenta la incertidumbre de nuestro modelo. Volveremos a este punto cuando discutamos los supuestos que le dan validez al modelo (Teorema de Gauss-Markov).\n",
    "\n",
    "* El objetivo del algoritmo es generar estimaciones respecto al intercepto (expresado como $\\beta_{0}$, que representa el punto de partida de la función lineal) y de la pendiente (expresada como $\\beta_{1}$, que representa la contribución de X en Y cuando X cambia en 1 unidad).\n",
    "\n",
    "* Para implementar nuestra primera regresión generamos un objeto a partir de `smf.ols`, el cual genera un modelo de regresión mediante el __Método de Mínimos Cuadrados (Ordinary Least Squares)__. La función de `statsmodels` toma como mínimo dos parámetros:\n",
    "    1. La declaración de la ecuación, que se realiza mediante sintáxis Patsy[*](https://patsy.readthedocs.io/en/latest/) con la siguiente forma canónica:\n",
    "    ```python\n",
    "    '<objetivo> ~ <atributos>'\n",
    "    ```\n",
    "    2. un objeto `data`, que en este caso responde a nuestro `pd.DataFrame` generado con pandas.\n",
    "* La forma canónica permite separar entre nuestro fenómeno a estudiar y los atributos a agregar, separándolos por el operador `~`, el cual define que el objetivo se puede explicar a partir de una función que contiene los atributos.\n",
    "* Mediante `smf.ols()` pasamos la función y una tabla de datos para generar un objeto con clase `statsmodels.regression.linear_model.OLS`.\n"
   ]
  },
  {
   "cell_type": "code",
   "execution_count": 8,
   "metadata": {},
   "outputs": [],
   "source": [
    "# generamos un objeto que contenga nuestra ecuación descrita\n",
    "model1 = smf.ols('earn ~ height', data = df)"
   ]
  },
  {
   "cell_type": "code",
   "execution_count": 9,
   "metadata": {},
   "outputs": [
    {
     "data": {
      "text/plain": [
       "statsmodels.regression.linear_model.OLS"
      ]
     },
     "execution_count": 9,
     "metadata": {},
     "output_type": "execute_result"
    }
   ],
   "source": [
    "# pidamos la extensión de la clase en nuestro objeto.\n",
    "model1.__class__"
   ]
  },
  {
   "cell_type": "markdown",
   "metadata": {},
   "source": [
    "* Hasta el momento sólo hemos generado un objeto con la clase detallada. Para generar las estimaciones de nuestro modelo, debemos ejecutar el método `.fit()`, que instruye al objeto para estimar los parámetros. "
   ]
  },
  {
   "cell_type": "code",
   "execution_count": 10,
   "metadata": {},
   "outputs": [],
   "source": [
    "model1 = model1.fit()"
   ]
  },
  {
   "cell_type": "markdown",
   "metadata": {},
   "source": [
    "* Una vez que el modelo ya está estimado, podemos solicitar sus resultados mediante `.summary()`"
   ]
  },
  {
   "cell_type": "code",
   "execution_count": 11,
   "metadata": {},
   "outputs": [
    {
     "data": {
      "text/html": [
       "<table class=\"simpletable\">\n",
       "<caption>OLS Regression Results</caption>\n",
       "<tr>\n",
       "  <th>Dep. Variable:</th>          <td>earn</td>       <th>  R-squared:         </th> <td>   0.092</td> \n",
       "</tr>\n",
       "<tr>\n",
       "  <th>Model:</th>                   <td>OLS</td>       <th>  Adj. R-squared:    </th> <td>   0.091</td> \n",
       "</tr>\n",
       "<tr>\n",
       "  <th>Method:</th>             <td>Least Squares</td>  <th>  F-statistic:       </th> <td>   138.4</td> \n",
       "</tr>\n",
       "<tr>\n",
       "  <th>Date:</th>             <td>Sun, 08 Jul 2018</td> <th>  Prob (F-statistic):</th> <td>1.65e-30</td> \n",
       "</tr>\n",
       "<tr>\n",
       "  <th>Time:</th>                 <td>22:17:30</td>     <th>  Log-Likelihood:    </th> <td> -15475.</td> \n",
       "</tr>\n",
       "<tr>\n",
       "  <th>No. Observations:</th>      <td>  1374</td>      <th>  AIC:               </th> <td>3.095e+04</td>\n",
       "</tr>\n",
       "<tr>\n",
       "  <th>Df Residuals:</th>          <td>  1372</td>      <th>  BIC:               </th> <td>3.097e+04</td>\n",
       "</tr>\n",
       "<tr>\n",
       "  <th>Df Model:</th>              <td>     1</td>      <th>                     </th>     <td> </td>    \n",
       "</tr>\n",
       "<tr>\n",
       "  <th>Covariance Type:</th>      <td>nonrobust</td>    <th>                     </th>     <td> </td>    \n",
       "</tr>\n",
       "</table>\n",
       "<table class=\"simpletable\">\n",
       "<tr>\n",
       "      <td></td>         <th>coef</th>     <th>std err</th>      <th>t</th>      <th>P>|t|</th>  <th>[0.025</th>    <th>0.975]</th>  \n",
       "</tr>\n",
       "<tr>\n",
       "  <th>Intercept</th> <td>-8.487e+04</td> <td> 8926.986</td> <td>   -9.507</td> <td> 0.000</td> <td>-1.02e+05</td> <td>-6.74e+04</td>\n",
       "</tr>\n",
       "<tr>\n",
       "  <th>height</th>    <td> 1574.4103</td> <td>  133.829</td> <td>   11.764</td> <td> 0.000</td> <td> 1311.879</td> <td> 1836.942</td>\n",
       "</tr>\n",
       "</table>\n",
       "<table class=\"simpletable\">\n",
       "<tr>\n",
       "  <th>Omnibus:</th>       <td>868.584</td> <th>  Durbin-Watson:     </th> <td>   1.903</td> \n",
       "</tr>\n",
       "<tr>\n",
       "  <th>Prob(Omnibus):</th> <td> 0.000</td>  <th>  Jarque-Bera (JB):  </th> <td>13733.247</td>\n",
       "</tr>\n",
       "<tr>\n",
       "  <th>Skew:</th>          <td> 2.677</td>  <th>  Prob(JB):          </th> <td>    0.00</td> \n",
       "</tr>\n",
       "<tr>\n",
       "  <th>Kurtosis:</th>      <td>17.533</td>  <th>  Cond. No.          </th> <td>1.17e+03</td> \n",
       "</tr>\n",
       "</table>"
      ],
      "text/plain": [
       "<class 'statsmodels.iolib.summary.Summary'>\n",
       "\"\"\"\n",
       "                            OLS Regression Results                            \n",
       "==============================================================================\n",
       "Dep. Variable:                   earn   R-squared:                       0.092\n",
       "Model:                            OLS   Adj. R-squared:                  0.091\n",
       "Method:                 Least Squares   F-statistic:                     138.4\n",
       "Date:                Sun, 08 Jul 2018   Prob (F-statistic):           1.65e-30\n",
       "Time:                        22:17:30   Log-Likelihood:                -15475.\n",
       "No. Observations:                1374   AIC:                         3.095e+04\n",
       "Df Residuals:                    1372   BIC:                         3.097e+04\n",
       "Df Model:                           1                                         \n",
       "Covariance Type:            nonrobust                                         \n",
       "==============================================================================\n",
       "                 coef    std err          t      P>|t|      [0.025      0.975]\n",
       "------------------------------------------------------------------------------\n",
       "Intercept  -8.487e+04   8926.986     -9.507      0.000   -1.02e+05   -6.74e+04\n",
       "height      1574.4103    133.829     11.764      0.000    1311.879    1836.942\n",
       "==============================================================================\n",
       "Omnibus:                      868.584   Durbin-Watson:                   1.903\n",
       "Prob(Omnibus):                  0.000   Jarque-Bera (JB):            13733.247\n",
       "Skew:                           2.677   Prob(JB):                         0.00\n",
       "Kurtosis:                      17.533   Cond. No.                     1.17e+03\n",
       "==============================================================================\n",
       "\n",
       "Warnings:\n",
       "[1] Standard Errors assume that the covariance matrix of the errors is correctly specified.\n",
       "[2] The condition number is large, 1.17e+03. This might indicate that there are\n",
       "strong multicollinearity or other numerical problems.\n",
       "\"\"\""
      ]
     },
     "execution_count": 11,
     "metadata": {},
     "output_type": "execute_result"
    }
   ],
   "source": [
    "model1.summary()"
   ]
  },
  {
   "cell_type": "markdown",
   "metadata": {},
   "source": [
    "## Interpretación de un modelo de regresión\n",
    "\n",
    "* `statsmodel` por defecto entrega variada información respecto a la ejecución, estadísticos de bondad de ajuste y los parámetros estimados. \n",
    "* __Estadísticos de Bondad de Ajuste:__ (_R-squared, Adj. R-squared, F-statistic, Prob(F-statistic), No.Observations, etc..._): Informan aspectos generales sobre nuestro modelo tales como su capacidad explicativa.\n",
    "    1. __R-squared y Adj R-squared:__ $R^{2}$ busca resumir en una cifra _cuál es la capacidad explicativa de nuestros regresores (variables independientes) en la variabilidad de nuestro objetivo (variable dependiente)_. Para nuestro modelo ejecutado, la variabilidad de los ingresos en la muestra se explica en un 9.2%  por la altura de los individuos en la muestra. También se entrega un __Adj. R-squared__ que entrega un estadístico similar al __R-squared__, pero penalizado por la cantidad de parámetros a estimar. Dado que no hay más parámetros a estimar, las diferencias entre ambos no son substanciales.\n",
    "    2. __F-statistic y Prob(F-statistic):__ La prueba $F$ surge de la distribución $F$, que describe el rango de variabilidad entre partes explicadas y no explicadas. El valor de $F$ se contrasta a un puntaje de corte. En esta prueba se genera una hipótesis nula donde __el modelo no es estadísticamente válido__, y una hipótesis alternativa donde __el modelo es estadísticamente válido__. Estas reglas se simplifican en `Prob(F-statistic)`, donde evaluarmos que si $\\texttt{Prob(F-statistic)} \\leq 0.05$, tenemos evidencia en contra de la hipótesis nula y hay más evidencia a favor de la significancia estadística general del modelo.\n",
    "* __Parámetros Estimados:__ La parte substancial del modelo se encuentra en su estimación paramétrica. Se estiman $p+1$ parámetros, donde $p$ es la cantidad de atributos a incluir en la fórmula. El $+1$ surge de la estimación del intercepto ($\\beta_{0}$), el punto de partida de nuestra recta. Por cada atributo agregado, se genera un $\\beta$.\n",
    "* Los parámetros se reportan con una serie de estadísticos asociados:\n",
    "    - `coef`: El parámetro estimado en sí.\n",
    "    - `std err`: El error estandar asociado al parámetro.\n",
    "    - `t`: El valor crítico del coeficiente.\n",
    "    - `P>|t|`: El valor p que pone a prueba la significancia estadística del coeficiente.\n",
    "    - `[0.025 0.975]`: El intervalo de confianza al 95% del parámetro.\n",
    "* El __intercepto__ informa sobre el punto de partida de nuestra recta. En nuestro primer modelo, nos sugiere que _un individuo en la muestra con 0 pulgadas de altura_ tendrá en promedio un salario de 8847 dólares. La estimación de este coeficiente es significativa al 95% (nuestro valor p es menor a 0.05).\n",
    "* El problema de ésta interpretación del intercepto es que no tiene mucho sentido. No existen personas con 0 pulgadas. Para esto, hay que considerar el hecho que nuestro intercepto tiene sentido __sólo en el contexto de nuestro modelo__. Para tener una visión general, debemos considerar la pendiente de nuestra variable independiente.\n",
    "* El coeficiente de __height__ informa en cuánto cambia nuestro $Y$ cuando $x$ aumenta en 1 unidad. Con un valor estimado de 1574 estadísticamente significativo al 95%, esperamos que la diferencia entre dos individuos de similares características que difieren sólo en una pulgada, sea de 1574 dólares.\n",
    "* Podemos tentarnos de interpretar este coeficiente desde la causaldad: _en la medida que un individuo crezca una pulgada, esperaremos un incremento en su salario de 1574 dólares_. Esta interpretación presenta una serie de problemas asociados a la causalidad:\n",
    "    - La interpretación es menos flexible, puesto que forzamos un determinado flujo causal. $\\texttt{height}\\rightarrow\\texttt{earn}$ implica que de forma irrestricta el salario subirá en la medida que la altura aumenta. Esto obliga al investigador a generar contrafactuales sin observaciones empíricas (_¿Qué pasa con un individuo que por X motivo disminuye su altura?_).\n",
    "    - La interpretación causal también asume diseños estadísticos sofisticados, como series de panel, donde se realizan seguimientos a una muestra de individuos de forma temporal.\n",
    "    - La interpretación causal impone una serie de supuestos difíciles de comprobar fuera de la estadística, asociados al diseño.\n",
    "\n",
    "\n",
    "## Validez de las estimaciones\n",
    "\n",
    "* Para entender la validez de nuestras estimaciones mediante Mínimos Cuadrados Ordinarios, es necesario estudiar someramente cómo se generan.\n",
    "* La obtención paramétrica de los $\\beta$ descansa en el método de mínimos cuadrados (MCO).\n",
    "* El objetivo del MCO es __encontrar un estimador que reduzca la distancia residual entre los valores predichos y sus correlatos observados__.\n",
    "* Bajo este enfoque, se asume que los parámetros verdaderos (o poblacionales) son desconocidos y buscamos generar aproximaciones.\n",
    "* Si tenemos un modelo con la siguiente forma:\n",
    "\n",
    "$$\n",
    "Y_{i} = \\beta_{0} + \\beta_{1}X_{i}  + \\varepsilon_{i}\n",
    "$$\n",
    "\n",
    "buscamos un estimador que minimice la suma de errores cuadráticos:\n",
    "\n",
    "$$\n",
    "\\begin{eqnarray}\n",
    "\\boldsymbol\\beta & = \\text{arg}\\min_{\\beta \\in \\mathbb{R}^{d}}\\mathbb{E}\\left[(y_{i} - X^{T}_{i}\\beta)^{2}\\right] \\\\\n",
    "   & =\\sum_{i=0}^{N}(Y_{i} - (\\beta_{0}+\\beta_{1}X))^{2}\n",
    "\\end{eqnarray}\n",
    "$$\n",
    "* **Observación:** MCO es un método intuitivo y fácil de entender y programar, sin embargo, está lejos de ser perfecto, una de las más grandes debilidades de MCO es que es extremadamente sensible a valores extremos (outliers), ya sea porque los puntos $(x_i,y_i)$ son muy pequeños o demasiado grandes en comparación con el resto de la muestra, en estos casos el cuadrado de la distancia es una cantidad que puede llevar a desequilibrar por completo la recta de la regresión, los casos en que estos outliers son producto del error humano o de instrumentación pueden ser fatales para el modelo.\n",
    "* En la figura generada con `gfx.gauss_markov()` se presenta tres posibles estimadores candidatos para encontrar nuestro parámetro verdadero ($\\boldsymbol\\beta$). Éstos difieren en sus componentes paramétricos, asumiendo que se comportan de forma asintóticamente normal $\\hat{\\beta_{j}}\\sim\\mathcal{N}(\\cdot)$.\n",
    "* Nuestra primera estimación $\\hat{\\beta_{1}}$ tiene una media similar a nuestro parámetro verdadero, pero su varianza es grande.\n",
    "* Nuestra segunda estimación $\\hat{\\beta_{2}}$ tiene una media superior al parámetro verdadero y una varianza similar a la primera estimación.\n",
    "* Nuestra tercera y última estimación $\\hat{\\beta_{3}}$ tiene una media idéntica a la primera estimación, pero una menor varianza.\n",
    "* En este caso, la estimación $\\hat{\\beta_{2}}$ falla en capturar el parámetro poblacional, por lo que es descartada.\n",
    "* Entre la estimación $\\hat{\\beta_{1}}$ y $\\hat{\\beta_{3}}$, ésta última satisface las condiciones de Gauss-Markov, dado que su varianza es menor y asegura que error tendrá una media menor.\n",
    "* El cumplimiento de las condiciones de Gauss Markov nos asegurará que el estimador será el estimador lineal insesgado y óptimo, obteniendo el estimador eficiente dentro de la clase de estimadores lineales insesgados.\n"
   ]
  },
  {
   "cell_type": "code",
   "execution_count": 12,
   "metadata": {},
   "outputs": [
    {
     "data": {
      "image/png": "[encoded data removed]",
      "text/plain": [
       "<matplotlib.figure.Figure at 0x1052e4710>"
      ]
     },
     "metadata": {},
     "output_type": "display_data"
    }
   ],
   "source": [
    "gfx.gauss_markov()"
   ]
  },
  {
   "cell_type": "markdown",
   "metadata": {},
   "source": [
    "## ¿Cuáles son las condiciones de Gauss-Markov? \n",
    "\n",
    "* El teorema de Gauss-Markov descansa en cinco supuestos:\n",
    "\n",
    "1. __La media del error es 0__ ($\\mathbb{E}[\\varepsilon_{i}] = 0$): No hay sesgo sistemático de forma positiva o negativa respeto a los errores muestrales. Su media será 0 para estos casos. Surge de éste supuesto que cuando $X$ es igual a su media, $Y$ también lo será.\n",
    "2. __Independencia del error y las variables explicativas__ ($\\mathbb{E}[\\varepsilon_{i} \\vert X_{i}] = 0$): Los residuos no están determinados por la variable explicativa.\n",
    "3. __Ausencia de correlación entre los residuos__ ($\\mathbb{E}[\\varepsilon_{i} \\vert \\varepsilon_{j}] = 0 ( i \\neq j)$): Los residuos de las observaciones distitnas deben ser estadísticamente independientes. La información del residuo para uno caso no debe afectar el signo o valor de los residuos para otros casos. Ante los casos de correlación existente entre los residuos, hablamos de _correlación serial_ o _correlación espacial_.\n",
    "4. __Ausencia de correlación entre la varianza y las variables__ ($\\mathbb{E}[\\varepsilon^{2}_{i}] = \\text{constante}$): La varianza de los errores en cualquier valor de $X$ debe ser independiente a $X$ e $Y$. \n",
    "5. __Distribución normal de los errores__ ($\\varepsilon_{i}\\sim\\mathcal{N}(0, \\sigma^{2})$): Se asume que los errores deben tener una distribución empírica cercana a la normal para todo el rango de $X$.\n",
    "\n",
    "\n",
    "> __Digresión:__ ¿Qué supuestos son los más relevantes?\n",
    "> Gelman y Hill (2007) sugieren que los supuestos se pueden ordernar de más importantes a menos importantes. \n",
    "> 1. _Validez:_ Los datos que analizamos deben estar relacionados a la pregunta de investigación que se busca responder. Suena obvio, pero muchas veces se obvía.\n",
    "> 2. _Aditividad y Linealidad:_ El supuesto más importante desde la matemática es que el componente determinístico (la ecuación) es una función lineal de los predictores.\n",
    "> 3. _Independencia de los errores:_ Los errores deben estar libres de correlaciones entre sí mismos y no deben afectar a las demás mediciones.\n",
    "> 4. _Normalidad de los errores:_ Generalmente no es problemático el tener distribuciones no-normales, puesto que se pueden aplicar transformaciones como $log(x)$, $\\sqrt{x}$, $1/x$.\n",
    "> \n",
    "> _Gelman, A; Hill, J. 2007. Data Analysis Using Regression and Multilevel/Hierarchcal Models. Cambridge University Press. Ch3_\n",
    "\n",
    "\n"
   ]
  },
  {
   "cell_type": "markdown",
   "metadata": {},
   "source": [
    "## Diagnósticos de nuestro modelo\n",
    "\n",
    "\n",
    "* Para comprobar los supuestos Gauss-Markov mencionados arriba, la inspección más intuitiva es mediante gráficos.\n",
    "\n",
    "* `statsmodels` presenta `plot_regress_exog`, que entrega cuatro gráficos respecto a nuestro modelo de regresión:\n",
    "    1. _Y and Fitted vs. X:_ Grafica los valores predichos ($\\hat{y}$) y valores empíricos a lo largo de X. Sirve para visualizar en qué valores de X se genera una mejor predicción de los valores empíricos. Observamos que hay valores que se escapan substancialmente de lo predicho cuando la altura es cercana a las 70 pulgadas.\n",
    "    2. _Residuals versus X:_ Permite visualizar la heterocedasticidad del modelo al graficar el error residual ($\\varepsilon_{i}$) a lo largo de nuestra variable exógena. Si encontramos una tendencia lineal en la nube de datos. En base al gráfico observamos un patrón de embudo, donde en la medida que aumenta la altura los errores tienden a variar más. Podemos decir que el predictor es heterocedástico en el modelo y necesitamos corregir.\n",
    "    3. _Partial regression plot_: Grafica la evolución de la expectativa de la variable dependiente condicional a los valores de la variable independiente estandarizada.\n",
    "    4. _CCPR Plot (Component and Component Plus Residual)_: Generan un gráfico entre el componente (X) y los residuales de predicción. Permiten diagnosticar espeficicaciones a la variable.\n",
    "    \n",
    "\n"
   ]
  },
  {
   "cell_type": "code",
   "execution_count": 13,
   "metadata": {},
   "outputs": [
    {
     "data": {
      "image/png": "[encoded data removed]",
      "text/plain": [
       "<matplotlib.figure.Figure at 0x1c16d080f0>"
      ]
     },
     "metadata": {},
     "output_type": "display_data"
    }
   ],
   "source": [
    "sm.graphics.plot_regress_exog(model1, 'height');"
   ]
  },
  {
   "cell_type": "markdown",
   "metadata": {},
   "source": [
    "## Variables independientes binarias y sus amigas\n",
    "\n",
    "* Los supuestos de Gauss Markov de la regresión hacen referencia a los errores y estamos limitados por la naturaleza contínua de la variable dependiente a analizar. Podemos flexibilizar nuestro modelo al incluir distintas operacionalizaciones de las variables independientes.\n",
    "\n",
    "### Regresión con una variable binaria\n",
    "\n",
    "* Ahora ejecutaremos una regresión donde nuestra variable independiente toma dos valores: 1 para hombres y 0 para mujeres. Ésta variable se conoce como _binaria_ y permite identificar atributos simples en una muestra. \n",
    "\n",
    "* Deseamos ver el efecto que tiene el ser hombre en el salario. Nuestro modelo queda de la siguiente forma:\n",
    "\n",
    "$$\n",
    "\\texttt{earn}_{i} = \\beta_{0} +  \\gamma_{1}\\times\\texttt{male} + \\varepsilon_{i}\n",
    "$$\n",
    "\n",
    "donde $\\beta_{0}$ es nuestro parámetro estimado para el intercepto y $\\gamma_{1}$ es el parámetro estimado para la diferencia entre hombres y mujeres en ingreso.\n",
    "\n",
    "* Cabe destacar que éste modelo es el equivalente a una prueba de hipótesis entre 2 muestras independientes.\n",
    "* Si solicitamos un gráfico de cajas entre ambas variables, observamos que el rango del salario para los hombres es mucho mayor que el de las mujeres y la mediana se sitúa en salarios más altos."
   ]
  },
  {
   "cell_type": "code",
   "execution_count": 14,
   "metadata": {},
   "outputs": [
    {
     "data": {
      "text/plain": [
       "19125.0"
      ]
     },
     "execution_count": 14,
     "metadata": {},
     "output_type": "execute_result"
    }
   ],
   "source": [
    "df.loc[df['male'] == 0 ]['earn'].quantile(.75)-df.loc[df['male'] == 0]['earn'].quantile(.25)"
   ]
  },
  {
   "cell_type": "code",
   "execution_count": 15,
   "metadata": {},
   "outputs": [
    {
     "data": {
      "text/plain": [
       "<matplotlib.axes._subplots.AxesSubplot at 0x1c17ed42e8>"
      ]
     },
     "execution_count": 15,
     "metadata": {},
     "output_type": "execute_result"
    },
    {
     "data": {
      "image/png": "[encoded data removed]",
      "text/plain": [
       "<matplotlib.figure.Figure at 0x1c17eb7940>"
      ]
     },
     "metadata": {},
     "output_type": "display_data"
    }
   ],
   "source": [
    "sns.boxplot(x=df['male'], y=df['earn'])"
   ]
  },
  {
   "cell_type": "markdown",
   "metadata": {},
   "source": [
    "> __Digresión:__ Sobre las variables binarias.\n",
    ">\n",
    "> En muchas ocasiones nuestro interés es estimar el efecto de un atributo binario (donde 1 indica la presencia de éste y 0 la ausencia) en nuestra variable objetivo. La convención es siempre como 0 aquella característica más común, dado que podemos capturar el comportamiento más común mediante el intercepto.\n",
    "\n",
    "* Si ejecutamos el modelo con una variable binaria de forma `'earn ~ male'`, observamos que el sexo del individuo explica en un 12.4% la variabilidad en el salario de la muestra (esto al ver el R-squared reportado). El intercepto sugiere que para las mujeres el salario promedio es de 14,560 dólares, mientras que los hombres presentan una diferencia de 14,380 dólares más en promedio. Ambos coeficientes son significativos al 99%."
   ]
  },
  {
   "cell_type": "code",
   "execution_count": 16,
   "metadata": {},
   "outputs": [
    {
     "data": {
      "text/html": [
       "<table class=\"simpletable\">\n",
       "<caption>OLS Regression Results</caption>\n",
       "<tr>\n",
       "  <th>Dep. Variable:</th>          <td>earn</td>       <th>  R-squared:         </th> <td>   0.124</td> \n",
       "</tr>\n",
       "<tr>\n",
       "  <th>Model:</th>                   <td>OLS</td>       <th>  Adj. R-squared:    </th> <td>   0.124</td> \n",
       "</tr>\n",
       "<tr>\n",
       "  <th>Method:</th>             <td>Least Squares</td>  <th>  F-statistic:       </th> <td>   194.5</td> \n",
       "</tr>\n",
       "<tr>\n",
       "  <th>Date:</th>             <td>Sun, 08 Jul 2018</td> <th>  Prob (F-statistic):</th> <td>1.95e-41</td> \n",
       "</tr>\n",
       "<tr>\n",
       "  <th>Time:</th>                 <td>22:17:31</td>     <th>  Log-Likelihood:    </th> <td> -15450.</td> \n",
       "</tr>\n",
       "<tr>\n",
       "  <th>No. Observations:</th>      <td>  1374</td>      <th>  AIC:               </th> <td>3.090e+04</td>\n",
       "</tr>\n",
       "<tr>\n",
       "  <th>Df Residuals:</th>          <td>  1372</td>      <th>  BIC:               </th> <td>3.092e+04</td>\n",
       "</tr>\n",
       "<tr>\n",
       "  <th>Df Model:</th>              <td>     1</td>      <th>                     </th>     <td> </td>    \n",
       "</tr>\n",
       "<tr>\n",
       "  <th>Covariance Type:</th>      <td>nonrobust</td>    <th>                     </th>     <td> </td>    \n",
       "</tr>\n",
       "</table>\n",
       "<table class=\"simpletable\">\n",
       "<tr>\n",
       "      <td></td>         <th>coef</th>     <th>std err</th>      <th>t</th>      <th>P>|t|</th>  <th>[0.025</th>    <th>0.975]</th>  \n",
       "</tr>\n",
       "<tr>\n",
       "  <th>Intercept</th> <td> 1.456e+04</td> <td>  632.986</td> <td>   23.004</td> <td> 0.000</td> <td> 1.33e+04</td> <td> 1.58e+04</td>\n",
       "</tr>\n",
       "<tr>\n",
       "  <th>male</th>      <td> 1.438e+04</td> <td> 1030.915</td> <td>   13.946</td> <td> 0.000</td> <td> 1.24e+04</td> <td> 1.64e+04</td>\n",
       "</tr>\n",
       "</table>\n",
       "<table class=\"simpletable\">\n",
       "<tr>\n",
       "  <th>Omnibus:</th>       <td>864.521</td> <th>  Durbin-Watson:     </th> <td>   1.912</td> \n",
       "</tr>\n",
       "<tr>\n",
       "  <th>Prob(Omnibus):</th> <td> 0.000</td>  <th>  Jarque-Bera (JB):  </th> <td>13531.216</td>\n",
       "</tr>\n",
       "<tr>\n",
       "  <th>Skew:</th>          <td> 2.664</td>  <th>  Prob(JB):          </th> <td>    0.00</td> \n",
       "</tr>\n",
       "<tr>\n",
       "  <th>Kurtosis:</th>      <td>17.421</td>  <th>  Cond. No.          </th> <td>    2.43</td> \n",
       "</tr>\n",
       "</table>"
      ],
      "text/plain": [
       "<class 'statsmodels.iolib.summary.Summary'>\n",
       "\"\"\"\n",
       "                            OLS Regression Results                            \n",
       "==============================================================================\n",
       "Dep. Variable:                   earn   R-squared:                       0.124\n",
       "Model:                            OLS   Adj. R-squared:                  0.124\n",
       "Method:                 Least Squares   F-statistic:                     194.5\n",
       "Date:                Sun, 08 Jul 2018   Prob (F-statistic):           1.95e-41\n",
       "Time:                        22:17:31   Log-Likelihood:                -15450.\n",
       "No. Observations:                1374   AIC:                         3.090e+04\n",
       "Df Residuals:                    1372   BIC:                         3.092e+04\n",
       "Df Model:                           1                                         \n",
       "Covariance Type:            nonrobust                                         \n",
       "==============================================================================\n",
       "                 coef    std err          t      P>|t|      [0.025      0.975]\n",
       "------------------------------------------------------------------------------\n",
       "Intercept   1.456e+04    632.986     23.004      0.000    1.33e+04    1.58e+04\n",
       "male        1.438e+04   1030.915     13.946      0.000    1.24e+04    1.64e+04\n",
       "==============================================================================\n",
       "Omnibus:                      864.521   Durbin-Watson:                   1.912\n",
       "Prob(Omnibus):                  0.000   Jarque-Bera (JB):            13531.216\n",
       "Skew:                           2.664   Prob(JB):                         0.00\n",
       "Kurtosis:                      17.421   Cond. No.                         2.43\n",
       "==============================================================================\n",
       "\n",
       "Warnings:\n",
       "[1] Standard Errors assume that the covariance matrix of the errors is correctly specified.\n",
       "\"\"\""
      ]
     },
     "execution_count": 16,
     "metadata": {},
     "output_type": "execute_result"
    }
   ],
   "source": [
    "model_dummy = smf.ols('earn ~male', data = df).fit()\n",
    "model_dummy.summary()"
   ]
  },
  {
   "cell_type": "markdown",
   "metadata": {},
   "source": [
    "### Regresión con una variable polinomial\n",
    "\n",
    "* Otro aspecto que podemos mejorar cuando incluímos variables es considerar __no linealidades en las variables independientes__. Consideremos el caso donde incluímos la edad del individuo al modelo, que quedaría de la siguiente manera:\n",
    "\n",
    "$$\n",
    "\\texttt{earn}_{i} = \\beta_{0} + \\beta_{1}\\times\\texttt{age} + \\varepsilon_{i}\n",
    "$$\n",
    "\n",
    "* Resulta que podemos pensar que los individuos con mayor edad tienden a percibir menores niveles de ingreso, dado que tienen menor poder de negociación y están más cerca de la jubilación. Para ello podemos incluír un término cuadrático para considerar el hecho que el salario puede bajar en la función de la edad. Nuestro modelo quedaría así:\n",
    "\n",
    "$$\n",
    "\\texttt{earn}_{i} = \\beta_{0} + \\beta_{1}\\times\\texttt{age} + \\beta_{2}\\times\\texttt{age}^{2} + \\varepsilon_{i}\n",
    "$$\n",
    "\n",
    "* Primero visualicemos la recta con `sns.regplot`:"
   ]
  },
  {
   "cell_type": "code",
   "execution_count": 17,
   "metadata": {},
   "outputs": [
    {
     "data": {
      "image/png": "[encoded data removed]",
      "text/plain": [
       "<matplotlib.figure.Figure at 0x1c17fc0208>"
      ]
     },
     "metadata": {},
     "output_type": "display_data"
    }
   ],
   "source": [
    "#  generamos un scatterplot entre age y earn\n",
    "sns.regplot(df['age'], df['earn'],\n",
    "            # donde definimos que estimaremos una recta con dos grados polinomiales\n",
    "            order=2,\n",
    "            # y declaramos el color de la recta para diferenciar.\n",
    "            line_kws={'color':'tomato'});"
   ]
  },
  {
   "cell_type": "markdown",
   "metadata": {},
   "source": [
    "* Se aprecia que la recta indica una parábola negativa: esperamos un peak en el salario percibido cuando los individuos están cerca a los 50 años de edad, declinando después de esa edad.\n",
    "* Ahora generemos el modelo: "
   ]
  },
  {
   "cell_type": "code",
   "execution_count": 18,
   "metadata": {},
   "outputs": [
    {
     "data": {
      "text/html": [
       "<table class=\"simpletable\">\n",
       "<caption>OLS Regression Results</caption>\n",
       "<tr>\n",
       "  <th>Dep. Variable:</th>          <td>earn</td>       <th>  R-squared:         </th> <td>   0.057</td> \n",
       "</tr>\n",
       "<tr>\n",
       "  <th>Model:</th>                   <td>OLS</td>       <th>  Adj. R-squared:    </th> <td>   0.055</td> \n",
       "</tr>\n",
       "<tr>\n",
       "  <th>Method:</th>             <td>Least Squares</td>  <th>  F-statistic:       </th> <td>   41.06</td> \n",
       "</tr>\n",
       "<tr>\n",
       "  <th>Date:</th>             <td>Sun, 08 Jul 2018</td> <th>  Prob (F-statistic):</th> <td>4.80e-18</td> \n",
       "</tr>\n",
       "<tr>\n",
       "  <th>Time:</th>                 <td>22:17:31</td>     <th>  Log-Likelihood:    </th> <td> -15501.</td> \n",
       "</tr>\n",
       "<tr>\n",
       "  <th>No. Observations:</th>      <td>  1374</td>      <th>  AIC:               </th> <td>3.101e+04</td>\n",
       "</tr>\n",
       "<tr>\n",
       "  <th>Df Residuals:</th>          <td>  1371</td>      <th>  BIC:               </th> <td>3.102e+04</td>\n",
       "</tr>\n",
       "<tr>\n",
       "  <th>Df Model:</th>              <td>     2</td>      <th>                     </th>     <td> </td>    \n",
       "</tr>\n",
       "<tr>\n",
       "  <th>Covariance Type:</th>      <td>nonrobust</td>    <th>                     </th>     <td> </td>    \n",
       "</tr>\n",
       "</table>\n",
       "<table class=\"simpletable\">\n",
       "<tr>\n",
       "      <td></td>         <th>coef</th>     <th>std err</th>      <th>t</th>      <th>P>|t|</th>  <th>[0.025</th>    <th>0.975]</th>  \n",
       "</tr>\n",
       "<tr>\n",
       "  <th>Intercept</th> <td>-1.566e+04</td> <td> 3975.144</td> <td>   -3.940</td> <td> 0.000</td> <td>-2.35e+04</td> <td>-7863.055</td>\n",
       "</tr>\n",
       "<tr>\n",
       "  <th>age</th>       <td> 1664.1728</td> <td>  184.765</td> <td>    9.007</td> <td> 0.000</td> <td> 1301.719</td> <td> 2026.626</td>\n",
       "</tr>\n",
       "<tr>\n",
       "  <th>age_sq</th>    <td>  -16.9734</td> <td>    1.956</td> <td>   -8.678</td> <td> 0.000</td> <td>  -20.810</td> <td>  -13.137</td>\n",
       "</tr>\n",
       "</table>\n",
       "<table class=\"simpletable\">\n",
       "<tr>\n",
       "  <th>Omnibus:</th>       <td>843.307</td> <th>  Durbin-Watson:     </th> <td>   1.956</td> \n",
       "</tr>\n",
       "<tr>\n",
       "  <th>Prob(Omnibus):</th> <td> 0.000</td>  <th>  Jarque-Bera (JB):  </th> <td>12732.413</td>\n",
       "</tr>\n",
       "<tr>\n",
       "  <th>Skew:</th>          <td> 2.585</td>  <th>  Prob(JB):          </th> <td>    0.00</td> \n",
       "</tr>\n",
       "<tr>\n",
       "  <th>Kurtosis:</th>      <td>16.988</td>  <th>  Cond. No.          </th> <td>1.86e+04</td> \n",
       "</tr>\n",
       "</table>"
      ],
      "text/plain": [
       "<class 'statsmodels.iolib.summary.Summary'>\n",
       "\"\"\"\n",
       "                            OLS Regression Results                            \n",
       "==============================================================================\n",
       "Dep. Variable:                   earn   R-squared:                       0.057\n",
       "Model:                            OLS   Adj. R-squared:                  0.055\n",
       "Method:                 Least Squares   F-statistic:                     41.06\n",
       "Date:                Sun, 08 Jul 2018   Prob (F-statistic):           4.80e-18\n",
       "Time:                        22:17:31   Log-Likelihood:                -15501.\n",
       "No. Observations:                1374   AIC:                         3.101e+04\n",
       "Df Residuals:                    1371   BIC:                         3.102e+04\n",
       "Df Model:                           2                                         \n",
       "Covariance Type:            nonrobust                                         \n",
       "==============================================================================\n",
       "                 coef    std err          t      P>|t|      [0.025      0.975]\n",
       "------------------------------------------------------------------------------\n",
       "Intercept  -1.566e+04   3975.144     -3.940      0.000   -2.35e+04   -7863.055\n",
       "age         1664.1728    184.765      9.007      0.000    1301.719    2026.626\n",
       "age_sq       -16.9734      1.956     -8.678      0.000     -20.810     -13.137\n",
       "==============================================================================\n",
       "Omnibus:                      843.307   Durbin-Watson:                   1.956\n",
       "Prob(Omnibus):                  0.000   Jarque-Bera (JB):            12732.413\n",
       "Skew:                           2.585   Prob(JB):                         0.00\n",
       "Kurtosis:                      16.988   Cond. No.                     1.86e+04\n",
       "==============================================================================\n",
       "\n",
       "Warnings:\n",
       "[1] Standard Errors assume that the covariance matrix of the errors is correctly specified.\n",
       "[2] The condition number is large, 1.86e+04. This might indicate that there are\n",
       "strong multicollinearity or other numerical problems.\n",
       "\"\"\""
      ]
     },
     "execution_count": 18,
     "metadata": {},
     "output_type": "execute_result"
    }
   ],
   "source": [
    "# generamos una nueva columna que guarde los resultados de elevar al cuadrado la edad\n",
    "df['age_sq'] = df['age'] ** 2\n",
    "# iniciamos el modelo incluyendo ambos términos\n",
    "model3= smf.ols('earn ~ age + age_sq', data=df).fit()\n",
    "# pedimos los resultados\n",
    "model3.summary()"
   ]
  },
  {
   "cell_type": "markdown",
   "metadata": {},
   "source": [
    "* El modelo presenta observaciones similares a las del gráfico, mientras que el primer término indica que hay una diferencia de 1.664 dólares entre dos individuos que difieren en 1 año; el segundo término indica una penalización de 16 dólares entre dos individuos que difieren en un año de edad cuando superan la cúspide de ingresos.\n",
    "\n",
    "## Regresión con más de una variable independiente\n",
    "\n",
    "* El modelo de regresión se puede expandir en la cantidad de variables independientes a incluír en la ecuación, dando pie a una _regresión lineal múltiple_. Agregar variables responde a variados objetivos:\n",
    "    - Para mejorar nuestra capacidad descriptiva de un modelo y mejorar nuestro entendimiento de las relaciones presentes entre los datos.\n",
    "    - Para mejorar nuestra capacidad predictiva en la medida que incluímos más información.\n",
    "    - Para considerar de forma explícita problemas causales como las variables intervinientes y controlar por mecanismos alternativas.\n",
    "    \n",
    "* Vamos a generar una regresión con la siguiente forma:\n",
    "\n",
    "$$\n",
    "\\texttt{earn}_{i} = \\beta_{0} + \\beta_{1}\\times\\texttt{ed} + \\gamma_{2}\\times\\texttt{male=1}+\\varepsilon_{i}\n",
    "$$\n",
    "\n",
    "donde modelamos el efecto que tiene la educación y el sexo del individuo en cuánto salario percibe. Para incluír más de un regresor en nuestra sintáxis de `statsmodels`, procedemos de la siguiente manera: `'variabledependiente ~ varindp1 + varindp2'`."
   ]
  },
  {
   "cell_type": "code",
   "execution_count": 19,
   "metadata": {},
   "outputs": [
    {
     "data": {
      "text/html": [
       "<table class=\"simpletable\">\n",
       "<caption>OLS Regression Results</caption>\n",
       "<tr>\n",
       "  <th>Dep. Variable:</th>          <td>earn</td>       <th>  R-squared:         </th> <td>   0.231</td> \n",
       "</tr>\n",
       "<tr>\n",
       "  <th>Model:</th>                   <td>OLS</td>       <th>  Adj. R-squared:    </th> <td>   0.230</td> \n",
       "</tr>\n",
       "<tr>\n",
       "  <th>Method:</th>             <td>Least Squares</td>  <th>  F-statistic:       </th> <td>   206.4</td> \n",
       "</tr>\n",
       "<tr>\n",
       "  <th>Date:</th>             <td>Sun, 08 Jul 2018</td> <th>  Prob (F-statistic):</th> <td>4.42e-79</td> \n",
       "</tr>\n",
       "<tr>\n",
       "  <th>Time:</th>                 <td>22:17:31</td>     <th>  Log-Likelihood:    </th> <td> -15361.</td> \n",
       "</tr>\n",
       "<tr>\n",
       "  <th>No. Observations:</th>      <td>  1374</td>      <th>  AIC:               </th> <td>3.073e+04</td>\n",
       "</tr>\n",
       "<tr>\n",
       "  <th>Df Residuals:</th>          <td>  1371</td>      <th>  BIC:               </th> <td>3.074e+04</td>\n",
       "</tr>\n",
       "<tr>\n",
       "  <th>Df Model:</th>              <td>     2</td>      <th>                     </th>     <td> </td>    \n",
       "</tr>\n",
       "<tr>\n",
       "  <th>Covariance Type:</th>      <td>nonrobust</td>    <th>                     </th>     <td> </td>    \n",
       "</tr>\n",
       "</table>\n",
       "<table class=\"simpletable\">\n",
       "<tr>\n",
       "      <td></td>         <th>coef</th>     <th>std err</th>      <th>t</th>      <th>P>|t|</th>  <th>[0.025</th>    <th>0.975]</th>  \n",
       "</tr>\n",
       "<tr>\n",
       "  <th>Intercept</th> <td>-2.064e+04</td> <td> 2613.174</td> <td>   -7.898</td> <td> 0.000</td> <td>-2.58e+04</td> <td>-1.55e+04</td>\n",
       "</tr>\n",
       "<tr>\n",
       "  <th>ed</th>        <td> 2660.1759</td> <td>  192.327</td> <td>   13.832</td> <td> 0.000</td> <td> 2282.889</td> <td> 3037.462</td>\n",
       "</tr>\n",
       "<tr>\n",
       "  <th>male</th>      <td> 1.352e+04</td> <td>  968.064</td> <td>   13.968</td> <td> 0.000</td> <td> 1.16e+04</td> <td> 1.54e+04</td>\n",
       "</tr>\n",
       "</table>\n",
       "<table class=\"simpletable\">\n",
       "<tr>\n",
       "  <th>Omnibus:</th>       <td>829.868</td> <th>  Durbin-Watson:     </th> <td>   1.943</td> \n",
       "</tr>\n",
       "<tr>\n",
       "  <th>Prob(Omnibus):</th> <td> 0.000</td>  <th>  Jarque-Bera (JB):  </th> <td>12917.525</td>\n",
       "</tr>\n",
       "<tr>\n",
       "  <th>Skew:</th>          <td> 2.515</td>  <th>  Prob(JB):          </th> <td>    0.00</td> \n",
       "</tr>\n",
       "<tr>\n",
       "  <th>Kurtosis:</th>      <td>17.154</td>  <th>  Cond. No.          </th> <td>    76.2</td> \n",
       "</tr>\n",
       "</table>"
      ],
      "text/plain": [
       "<class 'statsmodels.iolib.summary.Summary'>\n",
       "\"\"\"\n",
       "                            OLS Regression Results                            \n",
       "==============================================================================\n",
       "Dep. Variable:                   earn   R-squared:                       0.231\n",
       "Model:                            OLS   Adj. R-squared:                  0.230\n",
       "Method:                 Least Squares   F-statistic:                     206.4\n",
       "Date:                Sun, 08 Jul 2018   Prob (F-statistic):           4.42e-79\n",
       "Time:                        22:17:31   Log-Likelihood:                -15361.\n",
       "No. Observations:                1374   AIC:                         3.073e+04\n",
       "Df Residuals:                    1371   BIC:                         3.074e+04\n",
       "Df Model:                           2                                         \n",
       "Covariance Type:            nonrobust                                         \n",
       "==============================================================================\n",
       "                 coef    std err          t      P>|t|      [0.025      0.975]\n",
       "------------------------------------------------------------------------------\n",
       "Intercept  -2.064e+04   2613.174     -7.898      0.000   -2.58e+04   -1.55e+04\n",
       "ed          2660.1759    192.327     13.832      0.000    2282.889    3037.462\n",
       "male        1.352e+04    968.064     13.968      0.000    1.16e+04    1.54e+04\n",
       "==============================================================================\n",
       "Omnibus:                      829.868   Durbin-Watson:                   1.943\n",
       "Prob(Omnibus):                  0.000   Jarque-Bera (JB):            12917.525\n",
       "Skew:                           2.515   Prob(JB):                         0.00\n",
       "Kurtosis:                      17.154   Cond. No.                         76.2\n",
       "==============================================================================\n",
       "\n",
       "Warnings:\n",
       "[1] Standard Errors assume that the covariance matrix of the errors is correctly specified.\n",
       "\"\"\""
      ]
     },
     "execution_count": 19,
     "metadata": {},
     "output_type": "execute_result"
    }
   ],
   "source": [
    "model2 = smf.ols('earn ~ ed + male', data=df)\n",
    "model2 = model2.fit()\n",
    "model2.summary()"
   ]
  },
  {
   "cell_type": "markdown",
   "metadata": {},
   "source": [
    "* Para facilitar nuestro entendimiento respecto al modelo, debemos tener las siguientes consideraciones:\n",
    "    - Cada parámetro se interpreta de forma _individual_ siguiendo el principio __ceteris paribus__: todas las demás variables consideradas en el modelo pero no interpretadas se _asumen_ que se mantienen constantes en la media.\n",
    "    - La predicción de valores en nuestra variable dependiente se asume como _la suma de todos los coeficientes estimados del modelo_. Esto se conoce como la propiedad aditiva de la regresión lineal.\n",
    "\n",
    "* En este caso nuestra regresión considera una variable contínua y una variable binaria. Para este caso es útil separar nuestra ecuación detallada en dos posibles estimaciones:\n",
    "\n",
    "* Una __Ecuación para Hombres__ donde se considera el parámetro estimado `male`:\n",
    "\n",
    "$$\n",
    "\\texttt{earn}_{i} = \\beta_{0} + \\beta_{1}\\times\\texttt{ed} + \\gamma_{2}\\times\\texttt{male=1}+\\varepsilon_{i}\n",
    "$$\n",
    "\n",
    "* Una __Ecuación para Mujeres__ donde la ausencia de atributo `male` implica que el parámetro estimado no se incluye en esa estimación:\n",
    "\n",
    "$$\n",
    "\\texttt{earn}_{i} = \\beta_{0} + \\beta_{1}\\times\\texttt{ed} + \\gamma_{2}\\times\\texttt{male=0}+\\varepsilon_{i} \\Rightarrow  \\texttt{earn}_{i} = \\beta_{0} + \\beta_{1}\\times\\texttt{ed} + \\varepsilon_{i}\n",
    "$$\n",
    "\n",
    "* Siguiendo nuestro modelo, se aprecia que si bien la diferencia en los salarios entre dos personas con similares características pero que difieren en un año de educación es de 2660 dólares. De manera similar a nuestro modelo binario, la diferencia entre hombres y mujeres en los salarios es de 13520 dólares en promedio.\n",
    "* Para entender de una manera más clara el impacto de `male`, generaremos un gráfico de líneas paralelas."
   ]
  },
  {
   "cell_type": "code",
   "execution_count": 20,
   "metadata": {},
   "outputs": [
    {
     "data": {
      "text/html": [
       "<div>\n",
       "<style scoped>\n",
       "    .dataframe tbody tr th:only-of-type {\n",
       "        vertical-align: middle;\n",
       "    }\n",
       "\n",
       "    .dataframe tbody tr th {\n",
       "        vertical-align: top;\n",
       "    }\n",
       "\n",
       "    .dataframe thead th {\n",
       "        text-align: right;\n",
       "    }\n",
       "</style>\n",
       "<table border=\"1\" class=\"dataframe\">\n",
       "  <thead>\n",
       "    <tr style=\"text-align: right;\">\n",
       "      <th></th>\n",
       "      <th>Unnamed: 0</th>\n",
       "      <th>earn</th>\n",
       "      <th>height1</th>\n",
       "      <th>height2</th>\n",
       "      <th>sex</th>\n",
       "      <th>race</th>\n",
       "      <th>hisp</th>\n",
       "      <th>ed</th>\n",
       "      <th>yearbn</th>\n",
       "      <th>height</th>\n",
       "      <th>age</th>\n",
       "      <th>age_category</th>\n",
       "      <th>eth</th>\n",
       "      <th>male</th>\n",
       "      <th>age_sq</th>\n",
       "      <th>yhat</th>\n",
       "    </tr>\n",
       "  </thead>\n",
       "  <tbody>\n",
       "    <tr>\n",
       "      <th>0</th>\n",
       "      <td>3</td>\n",
       "      <td>50000.0</td>\n",
       "      <td>6</td>\n",
       "      <td>2</td>\n",
       "      <td>1</td>\n",
       "      <td>1</td>\n",
       "      <td>2</td>\n",
       "      <td>16</td>\n",
       "      <td>45</td>\n",
       "      <td>74</td>\n",
       "      <td>45</td>\n",
       "      <td>2</td>\n",
       "      <td>3</td>\n",
       "      <td>1</td>\n",
       "      <td>2025</td>\n",
       "      <td>35444.862717</td>\n",
       "    </tr>\n",
       "    <tr>\n",
       "      <th>1</th>\n",
       "      <td>4</td>\n",
       "      <td>60000.0</td>\n",
       "      <td>5</td>\n",
       "      <td>6</td>\n",
       "      <td>2</td>\n",
       "      <td>1</td>\n",
       "      <td>2</td>\n",
       "      <td>16</td>\n",
       "      <td>32</td>\n",
       "      <td>66</td>\n",
       "      <td>58</td>\n",
       "      <td>3</td>\n",
       "      <td>3</td>\n",
       "      <td>0</td>\n",
       "      <td>3364</td>\n",
       "      <td>21923.423771</td>\n",
       "    </tr>\n",
       "    <tr>\n",
       "      <th>2</th>\n",
       "      <td>5</td>\n",
       "      <td>30000.0</td>\n",
       "      <td>5</td>\n",
       "      <td>4</td>\n",
       "      <td>2</td>\n",
       "      <td>1</td>\n",
       "      <td>2</td>\n",
       "      <td>16</td>\n",
       "      <td>61</td>\n",
       "      <td>64</td>\n",
       "      <td>29</td>\n",
       "      <td>1</td>\n",
       "      <td>3</td>\n",
       "      <td>0</td>\n",
       "      <td>841</td>\n",
       "      <td>21923.423771</td>\n",
       "    </tr>\n",
       "    <tr>\n",
       "      <th>3</th>\n",
       "      <td>9</td>\n",
       "      <td>51000.0</td>\n",
       "      <td>5</td>\n",
       "      <td>3</td>\n",
       "      <td>2</td>\n",
       "      <td>1</td>\n",
       "      <td>2</td>\n",
       "      <td>17</td>\n",
       "      <td>51</td>\n",
       "      <td>63</td>\n",
       "      <td>39</td>\n",
       "      <td>2</td>\n",
       "      <td>3</td>\n",
       "      <td>0</td>\n",
       "      <td>1521</td>\n",
       "      <td>24583.599688</td>\n",
       "    </tr>\n",
       "    <tr>\n",
       "      <th>4</th>\n",
       "      <td>10</td>\n",
       "      <td>9000.0</td>\n",
       "      <td>5</td>\n",
       "      <td>4</td>\n",
       "      <td>2</td>\n",
       "      <td>1</td>\n",
       "      <td>2</td>\n",
       "      <td>15</td>\n",
       "      <td>64</td>\n",
       "      <td>64</td>\n",
       "      <td>26</td>\n",
       "      <td>1</td>\n",
       "      <td>3</td>\n",
       "      <td>0</td>\n",
       "      <td>676</td>\n",
       "      <td>19263.247854</td>\n",
       "    </tr>\n",
       "  </tbody>\n",
       "</table>\n",
       "</div>"
      ],
      "text/plain": [
       "   Unnamed: 0     earn  height1  height2  sex  race  hisp  ed  yearbn  height  \\\n",
       "0           3  50000.0        6        2    1     1     2  16      45      74   \n",
       "1           4  60000.0        5        6    2     1     2  16      32      66   \n",
       "2           5  30000.0        5        4    2     1     2  16      61      64   \n",
       "3           9  51000.0        5        3    2     1     2  17      51      63   \n",
       "4          10   9000.0        5        4    2     1     2  15      64      64   \n",
       "\n",
       "   age  age_category  eth  male  age_sq          yhat  \n",
       "0   45             2    3     1    2025  35444.862717  \n",
       "1   58             3    3     0    3364  21923.423771  \n",
       "2   29             1    3     0     841  21923.423771  \n",
       "3   39             2    3     0    1521  24583.599688  \n",
       "4   26             1    3     0     676  19263.247854  "
      ]
     },
     "execution_count": 20,
     "metadata": {},
     "output_type": "execute_result"
    }
   ],
   "source": [
    "# una buena práctica es generar copias de nuestro objeto para evitar modificación.\n",
    "df_dummy = df.copy()\n",
    "\n",
    "model_3 = smf.ols('earn ~ ed + male', df).fit()\n",
    "# ahora guardemos los valores predichos de nuestro modelo en nuestra base.\n",
    "\n",
    "df_dummy['yhat'] = model_3.predict()\n",
    "df_dummy.head()"
   ]
  },
  {
   "cell_type": "code",
   "execution_count": 21,
   "metadata": {},
   "outputs": [
    {
     "data": {
      "text/plain": [
       "<matplotlib.legend.Legend at 0x1c1816dc50>"
      ]
     },
     "execution_count": 21,
     "metadata": {},
     "output_type": "execute_result"
    },
    {
     "data": {
      "image/png": "[encoded data removed]",
      "text/plain": [
       "<matplotlib.figure.Figure at 0x1c18136630>"
      ]
     },
     "metadata": {},
     "output_type": "display_data"
    }
   ],
   "source": [
    "# partamos por graficar todos los puntos en la relación\n",
    "plt.scatter(df_dummy['ed'], df_dummy['earn'], color='grey', \n",
    "           label = 'Observaciones')\n",
    "# grafiquemos la proyección para hombres\n",
    "plt.plot(df_dummy.query('male == 1').ed,\n",
    "        df_dummy.query('male == 1').yhat,\n",
    "        color = 'dodgerblue', label = 'Predicción Hombres')\n",
    "# grafiquemos la proyección para mujeres\n",
    "plt.plot(df_dummy.query('male == 0').ed,\n",
    "        df_dummy.query('male == 0').yhat,\n",
    "        color = 'tomato', label  = 'Predicción Mujeres')\n",
    "plt.legend()"
   ]
  },
  {
   "cell_type": "markdown",
   "metadata": {},
   "source": [
    "* El efecto estimado de ser hombre en el salario se mantiene de forma __constante__ en la medida que cambiamos el valor del educación."
   ]
  },
  {
   "cell_type": "markdown",
   "metadata": {},
   "source": [
    "# Machine Learning\n",
    "\n",
    "* Una de las principales diferencias entre la estadística, machine learning e inteligencia artificial es cómo se refieren a las variables, Mientras que en la estadística (y la tradición más académica) se habla de variables _dependientes_ (el fenómeno a estudiar) e _independientes_ (atributos que pueden explicar la variable dependiente), en machine learning se habla de _atributos_ y _objetivos_."
   ]
  },
  {
   "cell_type": "code",
   "execution_count": 22,
   "metadata": {},
   "outputs": [
    {
     "data": {
      "image/png": "[encoded data removed]",
      "text/plain": [
       "<matplotlib.figure.Figure at 0x1c1804d9e8>"
      ]
     },
     "metadata": {},
     "output_type": "display_data"
    }
   ],
   "source": [
    "gfx.feature_target()"
   ]
  },
  {
   "cell_type": "markdown",
   "metadata": {},
   "source": [
    "* En machine learning se suele considerar la matriz de atributos ($X$) y el vector objetivo ($y$) como entidades separadas. El por qué hace referencia a la finalidad de generar buenas predicciones a partir de la matriz de atributos, no el discriminar entre distintas variables pertenencientes a $X$.\n",
    "\n",
    "\n",
    "## El flujo de trabajo desde Machine Learning\n",
    "\n",
    "### Primer elemento: Conocer los datos\n",
    "\n",
    "* Los datos son observaciones de fenómenos empíricos. Cada uno de ellos provee información (limitada) sobre un aspecto de nuestro fenómeno a estudiar. La colección de todos los datos nos permite dar una panorámica (aún incompleta) sobre el fenómeno.\n",
    "* Es sano asumir que todos los datos vienen con información faltante y ruido de medición.\n",
    "\n",
    "### Segundo elemento: Determinar los objetivos de Trabajo\n",
    "\n",
    "* El tipo de datos a disposición limita el tipo de objetivos de trabajo.\n",
    "* Más que un fin en sí, los objetivos permiten fijar las preguntas de investigación.\n",
    "* Los objetivos de trabajo también permiten definir la arquitectura y modelos que se utilizarán.\n",
    "\n",
    "### Tercer elemento: Diseñar e implementar los Modelos\n",
    "\n",
    "* La elección del modelo viene determinada parcialmente por los objetivos de trabajo y los datos disponibles. \n",
    "* Algunos elementos a considerar:\n",
    "    - ¿Qué esperamos como resultado?\n",
    "    - ¿Qué parámetros estimaremos?\n",
    "    - ¿Qué hiperparámetros consideraremos?\n",
    "* Los _parámetros_ son aquellos elementos que se generan mediante los algoritmos o métodos de estimación. Éstos no son gobernados directamente por el investigador.\n",
    "* Los _hiperparámetros_ son los elementos que se determinan por el investigador e influyen en los parámetros a estimar. Ejemplos de hiperparámetros son el porcentaje de datos que se distribuyen en los subconjuntos _train_ y _test_, la inclusión de un parámetro basal como $\\beta_{0}$, la normalización de la matriz de datos, etc...\n",
    "\n",
    "# Nuestro primer modelo desde Machine Learning con `scikit-learn`\n",
    "\n",
    "* Para nuestro primer modelo utilizaremos la misma base de datos `earnings.csv`, donde buscaremos predecir los ingresos de individuos a partir de una serie de características registradas.\n",
    "* Utilizaremos `scikit-learn`[1](Se pronuncia `saikit lern`.) , una librería diseñada para implementar modelos de minería de datos y machine learning de manera simple y efectiva. Opera con componentes de `numpy`, `scipy` y `matplotlib` para facilitar la labor del investigador. \n",
    "* En énfasis en la facilidad de uso, rigurosidad en el código, amplia comunidad de apoyo y buena documentación la han transformado en la principal librería de análisis enfocado a la predicción. Para más información sobre `scikit-learn`, vea la página oficial [https://http://scikit-learn.org/](https://http://scikit-learn.org/).\n",
    "\n",
    "### Paso 1: Importación de módulos\n",
    "\n",
    "* Dado la vasta cantidad de funciones en la librería, se sugiere importar los módulos específicos que utilizaremos. Esto conlleva un trabajo de identificar todos los argumentos requeridos en las funciones.\n",
    "* Para generar un modelo lineal necesitamos el módulo `linear_model`, que importaremos mediante `from <...> import <...>`.\n",
    "* Posteriormente importamos las métricas de evaluación alojadas en `sklearn.metrics`.\n"
   ]
  },
  {
   "cell_type": "code",
   "execution_count": 23,
   "metadata": {},
   "outputs": [],
   "source": [
    "from sklearn import linear_model\n",
    "from sklearn.metrics import mean_squared_error, r2_score"
   ]
  },
  {
   "cell_type": "markdown",
   "metadata": {},
   "source": [
    "### Paso 2: Dividiendo la muestra\n",
    "\n",
    "* Otra de las características del machine learning es la divisón de las muestras entre dos grupos:\n",
    "    1. __Training Set__: Donde implementamos el modelo.\n",
    "    2. __Test Set__: Donde probamos el modelo.\n",
    "   \n",
    "* El siguiente paso es poder dividir la muestra en cuatro partes. La división se puede ejemplificar en la figutra `gfx.train_testing()`. En ella generamos una división de nuestra matriz ingresada al ambiente de trabajo, teniendo en cuenta los siguientes aspectos:\n",
    "    1. La división debe realizarse entre una muestra que utilizaremos para generar una representación fidedigna del fenómeno.\n",
    "    - Una muestra donde vamos a poner a prueba nuestra estimaciones y contrastaremos lo predecido con las observaciones reales."
   ]
  },
  {
   "cell_type": "code",
   "execution_count": 24,
   "metadata": {},
   "outputs": [
    {
     "data": {
      "image/png": "[encoded data removed]",
      "text/plain": [
       "<matplotlib.figure.Figure at 0x1c17e68e80>"
      ]
     },
     "metadata": {},
     "output_type": "display_data"
    }
   ],
   "source": [
    "gfx.train_testing()"
   ]
  },
  {
   "cell_type": "markdown",
   "metadata": {},
   "source": [
    "* Necesitamos generar las muestras mediante el operador slice de pandas. Los cuatro grupos que debemos crear son:\n",
    "    1. Matriz de Atributos en Training Set: `X_mat_train`\n",
    "    2. Vector Objetivo en Training Set: `y_train`\n",
    "    3. Matriz de Atributos en Testing Set: `X_mat_test`\n",
    "    4. Vector Objetivo en Testing Set: `y_vec`\n",
    "* Para generar nuestra matriz de atributos, es necesario excluir el vector objetivo."
   ]
  },
  {
   "cell_type": "code",
   "execution_count": 25,
   "metadata": {},
   "outputs": [],
   "source": [
    "# Generemos un nuevo objeto llamado attr_mat que excluya Unnamed: 0 y earn\n",
    "attr_mat = df.drop(['Unnamed: 0', 'earn'], axis =1)"
   ]
  },
  {
   "cell_type": "markdown",
   "metadata": {},
   "source": [
    "* Ahora generamos la división entre muestra de entrenamiento del modelo y muestra de prueba del modelo. Por ahora nuestra aproximación es excluir las últimas 30 filas en nuestra muestra de entrenamiento, y agregarlas a nuestra muestra de prueba. Repetimos exactamente el mismo proceso para el vector objetivo."
   ]
  },
  {
   "cell_type": "code",
   "execution_count": 26,
   "metadata": {},
   "outputs": [],
   "source": [
    "# dividir matriz de atributos\n",
    "X_mat_train = attr_mat[:-30]\n",
    "X_mat_test = attr_mat[-30:]\n",
    "\n",
    "# dividir vector objetivo\n",
    "y_train = df['earn'][:-30]\n",
    "y_test = df['earn'][-30:]"
   ]
  },
  {
   "cell_type": "markdown",
   "metadata": {},
   "source": [
    "* El método que acabamos de utilizar para separar nuestros conjuntos de entrenamiento y prueba se le conoce comúnmente como '*máscara estática*', la razón de esto es porque podemos ejecutar el bloque de código anterior las veces que queramos y siempre obtendremos los mismos valores en cada conjunto, en nuestro caso el conjunto de entrenamiento se compone de todas las filas excepto las últimas 30, mientras que el de pruebas se compone solo de esas 30 últimas.\n",
    "* En rigor, no deberíamos utilizar una máscara estática para seleccionar nuestro conjunto de entrenamiento/pruebas, deberíamos seleccionar los registros que estarán en cada conjunto de forma aleatoria, la razón de esto es porque los datos pueden estar ordenados bajo algún criterio que desconocemos (ya sea por la forma en la que se ingresaron al momento de registrarlos o, por ejemplo, producto de algún mecanismo de índice en la base de datos en la que fueron almacenados) y al entrenar nuestro modelo lo estaremos sesgando hacia esos valores. Más adelante en este mismo módulo introduciremos un método que nos provee la librería `scikit-learn` para obtener esta partición aleatoria. En esta ocasión utilizaremos la máscara estática para hacer el ejemplo menos aparatoso."
   ]
  },
  {
   "cell_type": "markdown",
   "metadata": {},
   "source": [
    "### Paso 3: Generar objeto y modelo\n",
    "\n",
    "* El siguiente paso es la construcción de un objeto que contenga las instrucciones a ejecutar en el modelo. Para el caso de la regresión lineal, esto se genera con la clase `LinearRegression()` del módulo `linear_model`.\n",
    "* A diferencia de `statsmodels`, donde definíamos la fórmula y los datos para crear el objeto, en `scikit-learn` se defininen los hiperparámetros definidos por el usuario. Por hiperparámetros entendemos todas las instrucciones hacia el modelo que permiten definir la tolerancia, método de optimización o criterios de estimación. Esto a diferencia de los parámetros estimables que dependen exclusivamente del método de estimación.\n",
    "* Lo más comunes son:\n",
    "    - `fit_intercept`: Incluimos la estimación del intercepto ($\\beta_{0}$) en el modelo.\n",
    "    - `normalize`: Reescalar cada uno de los atributos en la muestra de prueba mediante la norma euclídea."
   ]
  },
  {
   "cell_type": "code",
   "execution_count": 27,
   "metadata": {},
   "outputs": [],
   "source": [
    "modelo = linear_model.LinearRegression(fit_intercept=True, normalize=False)"
   ]
  },
  {
   "cell_type": "markdown",
   "metadata": {},
   "source": [
    "* Al generar el objeto con el método `LinearRegression()`, podemos inicializar la clase de similar manera a como lo hicimos con `statsmodels`. Para ello, ingresamos el training set `X_mat_train` e `y_train` en el método `.fit()` del objeto `modelo`.\n",
    "* Cuando pasamos los datos por la función `.fit()` no es necesario asignar de nuevo el objeto, dado que estamos generando una instancia específica de éste."
   ]
  },
  {
   "cell_type": "code",
   "execution_count": 28,
   "metadata": {},
   "outputs": [
    {
     "data": {
      "text/plain": [
       "LinearRegression(copy_X=True, fit_intercept=True, n_jobs=1, normalize=False)"
      ]
     },
     "execution_count": 28,
     "metadata": {},
     "output_type": "execute_result"
    }
   ],
   "source": [
    "modelo.fit(X_mat_train, y_train)"
   ]
  },
  {
   "cell_type": "markdown",
   "metadata": {},
   "source": [
    "* Ahora `modelo` contiene información sobre los parámetros estimados como el intercepto y las pendientes para cada atributo en la matriz."
   ]
  },
  {
   "cell_type": "code",
   "execution_count": 29,
   "metadata": {},
   "outputs": [
    {
     "name": "stdout",
     "output_type": "stream",
     "text": [
      "La lista de pendientes: : [   14.92703623   132.30589935 -6360.94719277  -661.37164603\n",
      "  1688.11542562  2428.20840913  -886.76446618   311.43033413\n",
      "   886.76446618 -3038.69811608   185.21329516  6360.94719277\n",
      "   -15.73447966]\n",
      "El intercepto del modelo es : 13833.688816521604\n"
     ]
    }
   ],
   "source": [
    "# imprimamos la lista de coeficientes \n",
    "print(\"La lista de pendientes: :\", modelo.coef_)\n",
    "# imprimamos el intercepto del modelo\n",
    "print(\"El intercepto del modelo es :\", modelo.intercept_)"
   ]
  },
  {
   "cell_type": "markdown",
   "metadata": {},
   "source": [
    "* Cuando solicitamos las pendientes estimadas con `modelo.coef_`, Python nos devuelve un array con cada una de ellas. Con `modelo.intercept_` obtenemos información sobre el punto de partida en las estimaciones cuando __todas nuestras variables están situadas en 0__.\n",
    "\n",
    "#### Paso 3.1: Generar predicciones\n",
    "\n",
    "* Nuestro objetivo con Machine Learning es el poder utilizar nuestras explicaciones sobre un fenómeno en datos donde no tenemos la información completa, o en datos donde no tenemos la información completa y deseamos predecir cuál sería su comportamiento, asumiendo que nuestro modelo está correcto.\n",
    "* El primer paso para medir el desempeño predictivo del modelo es generar nuevas predicciones en nuestra muestra de prueba. Para ello nos valemos de la función `.predict()` del modelo.\n",
    "* La función `.predict()` del modelo resulta crucial de entender. La función necesita como argumento una matriz para generar predicciones. Acá es donde ingresamos la matriz de atributos del testing set."
   ]
  },
  {
   "cell_type": "code",
   "execution_count": 30,
   "metadata": {},
   "outputs": [
    {
     "name": "stdout",
     "output_type": "stream",
     "text": [
      "La cantidad de predicciones realizadas en X_mat_test son:  30\n",
      "las predicciones son  [25598.08771501 22456.39927869 25859.43110455  6927.53079027\n",
      " 19541.84095374 23007.85181165 15953.0359177  20722.82694069\n",
      " 30815.51755312 42107.27749179 17374.42556013 27321.46818842\n",
      " 16039.6979205  42630.94412833 18053.08347602 25336.99601278\n",
      " 21507.10037955  6230.39947764 20825.36789164 -4891.86653372\n",
      " 20939.55454343 31366.3369532  41244.16654204 44883.74058834\n",
      " 24000.40337208 24107.37666572 18000.07128118 12600.30094273\n",
      " 29170.58626159 22120.37934468]\n"
     ]
    }
   ],
   "source": [
    "earn_yhat = modelo.predict(X_mat_test)\n",
    "print(\"La cantidad de predicciones realizadas en X_mat_test son: \", len(earn_yhat))\n",
    "print(\"las predicciones son \", earn_yhat)"
   ]
  },
  {
   "cell_type": "markdown",
   "metadata": {},
   "source": [
    "* Las predicciones de `X_mat_test` realizadas con nuestra función las guardamos en un nuevo objeto llamado `earn_yhat` (_yhat_ hace referencia a la estimación de $\\hat{y}$). Si solicitamos las nuevas observaciones, nos devolverá un array con cada uno de los puntos estimados en base a los datos de `X_mat_test`."
   ]
  },
  {
   "cell_type": "markdown",
   "metadata": {},
   "source": [
    "### Paso 4: Generar métricas\n",
    "\n",
    "* Finalmente, es necesario juzgar qué tan bien se comportó nuestro modelo al predecir los valores del vector objetivo de nuestro testing set. `sklearn` ofrece una serie de funciones para comparar las diferencias entre el vector objetivo de la prueba y las estimaciones del vector objetivo en base a nuestro modelo.\n",
    "* Utilizaremos medidas que buscan resumir qué tan grande es la diferencia entre la predicción y los datos empíricos, y el $R^{2}$, una medida convencional proveniente de la econometría:\n",
    "    - __Promedio del Error Cuadrático__ (Mean Squared Error): Representa la expectativa del error cuadrático. Es un indicador de calidad con valores no negativos, donde menores valores indican mejores niveles de ajuste. Una medida similar que se presenta en algunos trabajos es el _Root Mean Squared Error_ que representa la raíz cuadrada del MSE.\n",
    "    - __R-cuadrado__: Representa la capacidad explicativa de nuestro conjunto de atributos en la variabilidad de nuestro vector objetivo. Tiene la misma interpretación que la enseñada desde la econometría.\n",
    "* Guardaremos los resultados en objetos nuevos (`m1_mse` y `m1_r2`) para su posterior uso."
   ]
  },
  {
   "cell_type": "code",
   "execution_count": 31,
   "metadata": {},
   "outputs": [
    {
     "name": "stdout",
     "output_type": "stream",
     "text": [
      "Mean Squared Error:  393102326.6\n",
      "R-cuadrado:  0.31\n"
     ]
    }
   ],
   "source": [
    "m1_mse = mean_squared_error(y_test, earn_yhat).round(1)\n",
    "m1_r2 = r2_score(y_test, earn_yhat).round(2)\n",
    "print(\"Mean Squared Error: \", m1_mse)\n",
    "print(\"R-cuadrado: \", m1_r2)"
   ]
  },
  {
   "cell_type": "markdown",
   "metadata": {},
   "source": [
    "* La interpretación del R cuadrado es relativamente simple y similar a la econometría, donde esperamos que nuestra función explique en un 31% la variabilidad de nuestra variable objetivo.\n",
    "* El problema con el Promedio del Error Cuadrático es que necesitamos compararlo con otro modelo para ver cuál reduce más el error cuadrático. Este es un punto que volveremos a visitar al final de la lectura.\n",
    "\n",
    "## ¿Qué fue lo que hicimos?\n",
    "\n",
    "* La regresión es un problema de **_aprendizaje supervisado_**, dado que buscamos solucionar problemas donde existen _inputs_ y _outputs_ que son manejados _a priori_ por el investigador. El vector objetivo en los problemas de regresión es un vector _numérico_. Se dice que es un problema supervisado cuando el investigador tiene suficiente información como para calibrar el modelo (en detrimento de los modelos no supervisados donde gran parte de la responsabilidad recae en el algoritmo y en el computador). Visto de otra forma, antes de entrenar el modelo ya se conocen los valores de la variable objetivo que el modelo tiene que ser capaz de predecir (en nuestro ejemplo desde un comienzo conocíamos los valores de los salarios que queriamos que el modelo predijiese), en el aprendizaje no supervisado no tenemos la posibilidad de comparar lo que predice el modelo con la realidad y esperamos que el modelo sea capaz de encontrar estos valores/clases (por ejemplo, en problemas de clustering).\n",
    "\n",
    "* En el problema de regresión buscamos controlar la __complejidad__ del modelo, que viene dada por la cantidad de _inputs_ que asignamos a nuestra función. De esta manera, los contratiempos asociados a éste problema son el __exceso de ajuste__ (presentado cuando tenemos muchos inputs que impiden la generalización predictiva) también llamado _overfitting_, y la __falta de ajuste__ (presentada cuando los inputs ingresados a la función no son suficientes como para caracterizar las predicciones _dentro de la muestra_) también llamado _underfitting_.\n",
    "\n",
    "* Dividir los datos en conjuntos de prueba y muestra, y el comparar las predicciones responde a la necesidad de probar la _capacidad de generalización_ del modelo.\n",
    "\n",
    "\n",
    "### Trueque entre sesgo y varianza\n",
    "\n",
    "* Uno de los principales criterios para analizar la capacidad de generalización del modelo es ver cómo se comportan el sesgo, la varianza y la complejidad del modelo implementado. En la figura generada con `gfx.bias_variance()`, se grafica la recta de ajuste cuando establecemos una regresión con polinomios de 1, 7 y 15 grados respectivamente. Esto genera tres situaciones:"
   ]
  },
  {
   "cell_type": "code",
   "execution_count": 32,
   "metadata": {},
   "outputs": [
    {
     "data": {
      "image/png": "[encoded data removed]",
      "text/plain": [
       "<matplotlib.figure.Figure at 0x1c18086898>"
      ]
     },
     "metadata": {},
     "output_type": "display_data"
    }
   ],
   "source": [
    "gfx.bias_variance()"
   ]
  },
  {
   "cell_type": "markdown",
   "metadata": {},
   "source": [
    "* En la figura de la izquierda encontrarmos la situación donde se presenta un sesgo alto. Por __Sesgo__ entendemos la tendencia de un estimador de elegir un modelo incorrecto dado que utiliza supuestos incorrectos sobre el proceso generativo de los datos. Un ejemplo es si utilizamos un modelo lineal en una función cúbica. El modelo __subrrepresentará__ los valores verdaderos en la muestra, independiente del tamaño de ésta.\n",
    "\n",
    "* En la figura de la derecha encontramos un estimador muy flexible, caracterizado por una varianza alta. Por __Varianza__ se entiende la sensibilidad del estimador a fluctuaciones en el training set. Altos niveles de varianza en la muestra pueden generar mucho ruido en el estimador, generando predicciones fuera del rango empírico de los datos. En este caso el modelo __sobrerrepresentará__ los valores verdaderos de la muestra.\n",
    "\n",
    "* El objetivo del aprendizaje supervisado es especificar los parámetros de forma tal de encontrar un modelo que sea lo suficientemente flexible con el caso estudiado, pero que también pueda ser extrapolado a nuevos datos y tener un buen desempeño."
   ]
  },
  {
   "cell_type": "markdown",
   "metadata": {},
   "source": [
    "### Métricas de ajuste de modelo\n",
    "\n",
    "* Para juzgar cuándo un modelo de machine learning permite generalizar predicciones, nos valemos de _métricas_ y _pruebas_ para su validación.\n",
    "* Si desde la econometría nos valemos de medidas de variabilidad explicada como el $R^{2}$, desde machine learning nos guíamos por el principio rector de la _minimización de pérdidas_.\n",
    "* La mayoría de las métricas de un modelo de regresión buscan estimar el error promedio. Una de las más utilizadas es la _mean-square error_ (MSE), que se define de forma:\n",
    "\n",
    "$$\n",
    "\\text{MSE}(\\hat{f}, \\text{datos}) = \\frac{1}{n}\\displaystyle\\sum_{i = 1}^{n}\\left(y_i - \\hat{f}(\\bf{x}_i)\\right)^2\n",
    "$$\n",
    "\n",
    "* De forma alternativa también está el _root-mean-square error_ (RMSE), que es la raíz de nuestra métrica MSE. Las diferencias entre ambas son arbitrarias, puesto que RMSE reescala MSE.\n",
    "\n",
    "### Train-Test Split\n",
    "\n",
    "* Un problema de estimar un modelo con la muestra completa es que el cálculo del MSE depende de la cantidad de atributos ingresados en el modelo. De esta manera, el error tenderá a bajar o en el peor de los casos a mantenerse invariante.\n",
    "* Si desde la __econometría__ el problema era estimar la relación entre $Y$ e $X$ mediante la función lineal $Y=f(x)+\\varepsilon$, para __machine learning__ el problema es estimar la función $f(\\cdot)$ con un estimado de nuestra función $\\hat{f}$.\n",
    "* Otro tema con la validación del modelo y su capacidad de generalizar predicciones, es la necesidad de ver cómo se comportan las estimaciones con nuevos datos. Este es una característica crucial de los modelos de machine learning más complejos: __realizar predicciones en tiempo real de nuevos datos ingresados__.\n",
    "* La limitación de esto es que rara vez tenemos acceso a más datos sobre nuestro fenómeno. Las buenas prácticas indican que para tener una aproximación sobre la generalización, podemos dividir la muestra en dos submuestras:\n",
    "\n",
    "* Para estimar nuestra función candidata $\\hat{f}$, debemos seguir lo siguiente:\n",
    "    1. Recolectamos una serie de datos que tengan $p\\geq 1$ atributos (o variables independientes) y un vector objetivo $y$. Esta serie de datos conocida la denominamos __Training Set__ y provee un campo empírico para implementar nuestros modelos. En la figura, éste campo se representa en los cuadrantes __X__ e __y__.\n",
    "    - Con los datos a mano, elegimos un método (o múltiples métodos) para generar una estimación $\\hat{f}$.\n",
    "    - Utilizamos nuestro training set para _entrenar_ o _ajustar_ nuestra función predictiva $\\hat{f}$. Por entrenar se entiende que el algoritmo/método capture __información existente__ sobre el fenómeno.\n",
    "    - Con nuestra función entrenada con los datos, buscamos generar predicciones $\\hat{y}=\\hat{f}(x)$ en un conjunto de datos que no fueron considerados en el conjunto de entrenamiento. En la figura, esto se representa con $\\tilde{X}$. En este último conjunto de datos se conoce como __Testing Set__. Es necesario que éste contenga los mismos atributos que en el training set:\n",
    "        - Si los datos del testing set son una submuestra proveniente de la misma fuente que el training set, se consideran como datos de validación _dentro de la muestra_. Éstos datos permiten comparar las predicciones de nuestro método en contraste al vector objetivo.\n",
    "        - Si los datos del testing set son nuevos datos, se considera como datos de validación _fuera de la muestra_ y permite medir el desempeño de nuestras estimaciones."
   ]
  },
  {
   "cell_type": "markdown",
   "metadata": {},
   "source": [
    "> __Digresión__: No free lunch theorem.\n",
    "\n",
    "> Del punto 2 se desprende una máxima a considerar: __no existe un método o algoritmo que provea de una solución óptima fuera de la empíricamente probada__. Por ello es que siempre debemos establecer múltiples modelos para obtener un criterio informado. Éstos métodos no implican nuevos algoritmos de forma obligatoria, pero probar con distintas espeficiaciones de los parámetros e hiperparámetros.\n",
    "> Se puede encontrar más información y detalles formales de éste teorema en [http://www.no-free-lunch.org/](http://www.no-free-lunch.org/).\n",
    "\n",
    "\n",
    "* Con nuestros __train__ y __test__ definidos, podemos medir la capacidad de reducir el error mediante _MSE_. Así calcularemos un $MSE_{train}$ y un $MSE_{test}$.\n",
    "\n",
    "$$\n",
    "\\text{MSE}_{Train} = \\text{MSE}(\\hat{f}, Train) = \\frac{1}{n_{Tr}}\\displaystyle\\sum_{i \\in Train}^{}\\left(y_i - \\hat{f}(\\bf{x}_i)\\right)^2\n",
    "$$\n",
    "\n",
    "donde $n_{Tr}$ es la cantidad de observaciones en el subconjunto $train$. $MSE_{train}$ siempre tenderá a bajar (o a estancarse en un valor) en la medida que la complejidad aumenta. Esto implica que no será tan útil para comparar modelos.\n",
    "\n",
    "$$\n",
    "\\text{MSE}_{Test} = \\text{MSE}(\\hat{f}, Test) = \\frac{1}{n_{Te}}\\displaystyle\\sum_{i \\in Test}^{}\\left(y_i - \\hat{f}(\\bf{x}_i)\\right)^2\n",
    "$$\n",
    "\n",
    "En este caso $n_{Te}$ es el número de observaciones en el subconjunto $test$. $MSE_{test}$ servirá para medir _¿Qué tan bien predice nuestro modelo en datos previamiente desconocidos?_.\n",
    "\n",
    "### Algunos comportamientos de la complejidad y el tamaño de los modelos\n",
    "\n",
    "* En la figura generada con `gfx.validate_curve()` se presenta la visualización entre un puntaje (llámese bondad de ajuste, verosimilitud, etc..) y la complejidad del modelo. Mediante este gráfico buscamos evaluar cómo se comporta nuestra métrica de evaluación respecto a la complejidad del modelo. Por complejidad del modelo se entiende de la cantidad de parámetros que se agregan al modelo para estimar.\n",
    "* Encontramos tres escenarios:\n",
    "    1. Un escenario caracterizado por una baja complejidad del modelo, que resulta en sesgos altos. Esto implica que el modelo falla en capturar de forma clara los parámetros verdaderos y la caracterización es insuficiente dado la baja cantidad de parámetros.\n",
    "    2. Otro escenario por una excesiva complejidad del modelo, lo que resulta en alta varianza del modelo. Bajo esta situación, el modelo genera una muy buena representación de los datos de la muestra entrenada, pero falla en replicar la generalización de las predicciones en la muestra de testing.\n",
    "    3. Otro escenario donde encontramos la mejor estimación del puntaje para la muestra de validación. Bajo este escenario la complejidad del modelo es óptima. Este es el objetivo del aprendizaje supervisado\n",
    "* Cabe destacar que mientras que en la muestra de entrenamiento el puntaje siempre incrementará en la medida que agregemos más atributos, esto será ineficiente en la medida que generaremos una función no parsimoniosa que no podremos aplicar a otro conjunto de datos."
   ]
  },
  {
   "cell_type": "code",
   "execution_count": 33,
   "metadata": {},
   "outputs": [
    {
     "data": {
      "image/png": "[encoded data removed]",
      "text/plain": [
       "<matplotlib.figure.Figure at 0x10f2396d8>"
      ]
     },
     "metadata": {},
     "output_type": "display_data"
    }
   ],
   "source": [
    "gfx.validate_curve()"
   ]
  },
  {
   "cell_type": "markdown",
   "metadata": {},
   "source": [
    "* Ya entendiendo que la cantidad de atributos agregados puede dañar la capacidad de generalizar un modelo en nuevos datos, es meritorio mencionar el efecto del tamaño muestral en el aprendizaje del modelo.\n",
    "* Por aprendizaje del modelo hacemos referencia a la capacidad de obtener información sobre los parámetros verdaderos a estimar. \n",
    "* La figura generada con `gfx.learning_curve()` muestra la relación entre el tamaño de las muestras de entrenamiento y prueba, y el puntaje a optimizar. Se aprecia que en situaciones donde el tamaño muestral del modelo entrenado es bajo, los puntajes serán sobrestimados en relación a los puntajes de la muestra validada. \n",
    "* Esperamos que ambos modelos tiendan a converger en la medida que el tamaño muestral aumenta.\n",
    "* Esto está asociado a lo que vimos en sesiones pasadas con los aspectos asintóticos de las variables aleatorias, donde una mayor cantidad de observaciones de una muestra permite asimilar de mejor manera las características poblacionales."
   ]
  },
  {
   "cell_type": "code",
   "execution_count": 34,
   "metadata": {},
   "outputs": [
    {
     "data": {
      "image/png": "[encoded data removed]",
      "text/plain": [
       "<matplotlib.figure.Figure at 0x1c16c5aac8>"
      ]
     },
     "metadata": {},
     "output_type": "display_data"
    }
   ],
   "source": [
    "gfx.learning_curve()"
   ]
  },
  {
   "cell_type": "markdown",
   "metadata": {},
   "source": [
    "* Existen métodos más sofisticados para generar subconjuntos como la validación cruzada (_crossvalidation_) y la estimación 'deja-uno-afuera' (_Leave-one-out_) que veremos la próxima semana."
   ]
  },
  {
   "cell_type": "markdown",
   "metadata": {},
   "source": [
    "# Refactorización de nuestro modelo\n",
    "\n",
    "## _Feature engineering_\n",
    "\n",
    "* Resulta que el modelo que generamos con `sklearn` incluye todas las variables dentro de la matriz de datos. Un inconveniente relacionado es el hecho que nuestro modelo puede que no sea el óptimo, dado que incluimos regresores que no aportan poder predictivo y utilizan grados de libertad de forma ineficiente. Nuestro objetivo es encontrar un número adecuado de regresores a incluír en nuestro modelo predictivo.\n",
    "* Una manera simple de determinar cuáles van a ser los principales atributos a incluir en el modelo es mediante la generación de correlaciones parciales entre cada atributo y el vector objetivo. \n",
    "* Este procedimiento es un ejemplo de _feature engineering_, el seleccionar y/o preprocesar atributos correspondiente a los datos que permiten resumir de manera precisa un modelo. Está asociado al concepto de _parsimonía_ proveniente de la academia, donde la explicación más adecuada es aquella que no agregue información irrelevante (el principio de la navaja de Occam). \n",
    "* El código de abajo es una versión extremadamente simplificada de una búsqueda de correlaciones. Para tener un algoritmo más depurado, es necesario diferenciar entre la naturaleza de las variables ingresadas y el tipo de correlación que se genera. Para ello se pueden ocupar correlaciones poliseriales para la asociación categórica-contínua y punto biserial para ordinales-contínuas."
   ]
  },
  {
   "cell_type": "code",
   "execution_count": 35,
   "metadata": {},
   "outputs": [
    {
     "data": {
      "text/html": [
       "<div>\n",
       "<style scoped>\n",
       "    .dataframe tbody tr th:only-of-type {\n",
       "        vertical-align: middle;\n",
       "    }\n",
       "\n",
       "    .dataframe tbody tr th {\n",
       "        vertical-align: top;\n",
       "    }\n",
       "\n",
       "    .dataframe thead th {\n",
       "        text-align: right;\n",
       "    }\n",
       "</style>\n",
       "<table border=\"1\" class=\"dataframe\">\n",
       "  <thead>\n",
       "    <tr style=\"text-align: right;\">\n",
       "      <th></th>\n",
       "      <th>abs_corr</th>\n",
       "      <th>corr</th>\n",
       "    </tr>\n",
       "    <tr>\n",
       "      <th>attribute</th>\n",
       "      <th></th>\n",
       "      <th></th>\n",
       "    </tr>\n",
       "  </thead>\n",
       "  <tbody>\n",
       "    <tr>\n",
       "      <th>sex</th>\n",
       "      <td>0.352354</td>\n",
       "      <td>-0.352354</td>\n",
       "    </tr>\n",
       "    <tr>\n",
       "      <th>male</th>\n",
       "      <td>0.352354</td>\n",
       "      <td>0.352354</td>\n",
       "    </tr>\n",
       "    <tr>\n",
       "      <th>ed</th>\n",
       "      <td>0.349334</td>\n",
       "      <td>0.349334</td>\n",
       "    </tr>\n",
       "    <tr>\n",
       "      <th>height</th>\n",
       "      <td>0.302707</td>\n",
       "      <td>0.302707</td>\n",
       "    </tr>\n",
       "    <tr>\n",
       "      <th>height1</th>\n",
       "      <td>0.188762</td>\n",
       "      <td>0.188762</td>\n",
       "    </tr>\n",
       "    <tr>\n",
       "      <th>height2</th>\n",
       "      <td>0.105633</td>\n",
       "      <td>0.105633</td>\n",
       "    </tr>\n",
       "    <tr>\n",
       "      <th>age_category</th>\n",
       "      <td>0.075321</td>\n",
       "      <td>0.075321</td>\n",
       "    </tr>\n",
       "    <tr>\n",
       "      <th>yearbn</th>\n",
       "      <td>0.068475</td>\n",
       "      <td>-0.068475</td>\n",
       "    </tr>\n",
       "    <tr>\n",
       "      <th>age</th>\n",
       "      <td>0.068475</td>\n",
       "      <td>0.068475</td>\n",
       "    </tr>\n",
       "    <tr>\n",
       "      <th>hisp</th>\n",
       "      <td>0.055187</td>\n",
       "      <td>0.055187</td>\n",
       "    </tr>\n",
       "    <tr>\n",
       "      <th>eth</th>\n",
       "      <td>0.055139</td>\n",
       "      <td>0.055139</td>\n",
       "    </tr>\n",
       "    <tr>\n",
       "      <th>race</th>\n",
       "      <td>0.031410</td>\n",
       "      <td>-0.031410</td>\n",
       "    </tr>\n",
       "    <tr>\n",
       "      <th>age_sq</th>\n",
       "      <td>0.026209</td>\n",
       "      <td>0.026209</td>\n",
       "    </tr>\n",
       "    <tr>\n",
       "      <th>Unnamed: 0</th>\n",
       "      <td>0.024675</td>\n",
       "      <td>-0.024675</td>\n",
       "    </tr>\n",
       "  </tbody>\n",
       "</table>\n",
       "</div>"
      ],
      "text/plain": [
       "              abs_corr      corr\n",
       "attribute                       \n",
       "sex           0.352354 -0.352354\n",
       "male          0.352354  0.352354\n",
       "ed            0.349334  0.349334\n",
       "height        0.302707  0.302707\n",
       "height1       0.188762  0.188762\n",
       "height2       0.105633  0.105633\n",
       "age_category  0.075321  0.075321\n",
       "yearbn        0.068475 -0.068475\n",
       "age           0.068475  0.068475\n",
       "hisp          0.055187  0.055187\n",
       "eth           0.055139  0.055139\n",
       "race          0.031410 -0.031410\n",
       "age_sq        0.026209  0.026209\n",
       "Unnamed: 0    0.024675 -0.024675"
      ]
     },
     "execution_count": 35,
     "metadata": {},
     "output_type": "execute_result"
    }
   ],
   "source": [
    "# extraemos los nombres de las columnas en la base de datos\n",
    "columns = df.columns\n",
    "\n",
    "# generamos 3 arrays vacíos para guardar los valores\n",
    "# nombre de la variable\n",
    "attr_name = []\n",
    "# correlación de pearson\n",
    "pearson_r = []\n",
    "# valor absoluto de la correlación\n",
    "abs_pearson_r = []\n",
    "\n",
    "# para cada columna en el array de columnas\n",
    "for col in columns:\n",
    "    # si la columna no es la dependiente\n",
    "    if col != \"earn\":\n",
    "        # adjuntar el nombre de la variable en attr_name\n",
    "        attr_name.append(col)\n",
    "        # adjuntar la correlación de pearson\n",
    "        pearson_r.append(df[col].corr(df['earn']))\n",
    "        # adjuntar el absoluto de la correlación de pearson\n",
    "        abs_pearson_r.append(abs(df[col].corr(df['earn'])))\n",
    "        \n",
    "# transformamos los arrays en un DataFrame\n",
    "features = pd.DataFrame({\n",
    "    'attribute': attr_name,\n",
    "    'corr':pearson_r,\n",
    "    'abs_corr':abs_pearson_r\n",
    "})\n",
    "\n",
    "# generamos el index con los nombres de las variables\n",
    "features = features.set_index('attribute')\n",
    "# ordenamos los valores de forma descendiente\n",
    "features.sort_values(by=['abs_corr'], ascending=False)"
   ]
  },
  {
   "cell_type": "markdown",
   "metadata": {},
   "source": [
    "## Implementando un modelo con menos regresores\n",
    "\n",
    "* En base a la información obtenida con nuestra tabla de correlaciones parciales, podemos refinar nuestro primer modelo para reducir el error cuadrático.\n",
    "* Para ello seleccionaremos aquellas correlaciones que sean superior al .30. \n",
    "* Resulta que nuestra versión más parsimoniosa incluye sólo a Male, Ed y Height."
   ]
  },
  {
   "cell_type": "code",
   "execution_count": 36,
   "metadata": {},
   "outputs": [],
   "source": [
    "# separemos los vectores a trabajar\n",
    "y_vec= df.loc[:, 'earn']\n",
    "X_mat = df.loc[:, ['male', 'ed', 'height']]"
   ]
  },
  {
   "cell_type": "markdown",
   "metadata": {},
   "source": [
    "* Ahora procedemos a dividir la muestra en conjuntos de entrenamiento y prueba. A diferencia del ejemplo anterior, donde nuestra división se realizó mediante la separación de las últimas 30 observaciones, en este caso utilizaremos `train_test_split`, un método que permite realizar separaciones de muestras aleatorizadas. Cabe destacar que éste método es el preferido, dado que mediante la aleatorización podemos cancelar el efecto de sesgo por variables intervinientes en la muestra.\n",
    "* El método toma como argumentos la matriz de atributos (`X_mat`) y el vector objetivo a dividir (`y_vec`), el porcentaje de datos que serán asignados al conjunto de muestra (`test_size`), y una semilla pseudoaleatoria para asegurar replicación de resultados (`random_state`).\n",
    "* `train_test_split` devuelve como objetos la matriz de atributos para entrenar (`X_train`), la matriz de atributos para validar (`X_test`), el vector objetivo para entrenar (`y_train`) y el vector objetivo para contrastar las predicciones (`y_test`). Cabe destacar que el método las devuelve en ese orden, así que es mejor seguirlo para evitar confusiones entre objetos."
   ]
  },
  {
   "cell_type": "code",
   "execution_count": 37,
   "metadata": {},
   "outputs": [],
   "source": [
    "from sklearn.model_selection import train_test_split\n",
    "X_train, X_test, y_train, y_test = train_test_split(X_mat, y_vec, test_size=.30, random_state=11238)"
   ]
  },
  {
   "cell_type": "markdown",
   "metadata": {},
   "source": [
    "* Con la muestra ya dividida, podemos implementar el modelo de regresión con los mismos hiperparámetros anteriores."
   ]
  },
  {
   "cell_type": "code",
   "execution_count": 38,
   "metadata": {},
   "outputs": [],
   "source": [
    "purge_model = linear_model.LinearRegression(fit_intercept=True, normalize=True)\n",
    "purge_model.fit(X_train, y_train)\n",
    "purge_model_yhat = purge_model.predict(X_test)"
   ]
  },
  {
   "cell_type": "markdown",
   "metadata": {},
   "source": [
    "* Ahora podemos comparar el poder predictivo entre los dos modelos mediante el promedio del error cuadrático y el r cuadrado. Por motivos prácticos, se sugiere presentar toda esta información de manera visual."
   ]
  },
  {
   "cell_type": "code",
   "execution_count": 39,
   "metadata": {},
   "outputs": [
    {
     "data": {
      "image/png": "[encoded data removed]",
      "text/plain": [
       "<matplotlib.figure.Figure at 0x1c16d0d828>"
      ]
     },
     "metadata": {},
     "output_type": "display_data"
    }
   ],
   "source": [
    "m2_mse = mean_squared_error(y_test, purge_model_yhat).round(0)\n",
    "m2_r2 = r2_score(y_test, purge_model_yhat).round(2)\n",
    "plt.subplot(2,1,1)\n",
    "plt.barh(['Modelo 1\\nTodos los Atributos', 'Modelo 2\\nEd + Male + Height'], [m1_mse, m2_mse])\n",
    "plt.title(\"Promedio Error Cuadrático\")\n",
    "plt.subplot(2,1, 2)\n",
    "plt.barh(['Modelo 1\\nTodos los Atributos', 'Modelo 2\\nEd + Male + Height'], [m1_r2, m2_r2])\n",
    "plt.title(\"R cuadrado\");\n",
    "plt.tight_layout()"
   ]
  },
  {
   "cell_type": "markdown",
   "metadata": {},
   "source": [
    "* Si comparamos el promedio del error cuadrático para ambos modelos, existe evidencia para preferir el segundo modelo, dado que presenta una reducción significativa del error cuadrático.\n",
    "* Resulta contraintuitivo el hecho que el R cuadrado indica evidencia favorable para el primer modelo. ¿Por qué sucede esto?\n",
    "* Resulta que la forma en que se calcula el R cuadrado no penaliza por la inclusión de variables. En la medida que nosotros agregamos más variables al modelo, el R cuadrado sólo puede aumentar en su \"poder explicativo\" o mantenerse constante. Este comportamiento engaña el criterio de selección de modelos.\n",
    "* El promedio del error cuadrático hace más sentido para justificar el poder predictivo de un modelo de regresión lineal en el sentido que es una medida directa del método de optimización (mínimos cuadrados ordinarios)."
   ]
  },
  {
   "cell_type": "code",
   "execution_count": null,
   "metadata": {},
   "outputs": [],
   "source": []
  }
 ],
 "metadata": {
  "kernelspec": {
   "display_name": "Python 3",
   "language": "python",
   "name": "python3"
  },
  "language_info": {
   "codemirror_mode": {
    "name": "ipython",
    "version": 3
   },
   "file_extension": ".py",
   "mimetype": "text/x-python",
   "name": "python",
   "nbconvert_exporter": "python",
   "pygments_lexer": "ipython3",
   "version": "3.6.6"
  }
 },
 "nbformat": 4,
 "nbformat_minor": 2
}
